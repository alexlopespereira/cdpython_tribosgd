{
 "cells": [
  {
   "cell_type": "markdown",
   "metadata": {
    "id": "1uijLu8_iCNF"
   },
   "source": [
    "# Aula 7 - Teoria - Esteganografia"
   ]
  },
  {
   "cell_type": "code",
   "execution_count": null,
   "metadata": {
    "id": "kHxB3l16VwM9"
   },
   "outputs": [],
   "source": [
    "# Instalação de pacotes python\n",
    "!pip install bitarray"
   ]
  },
  {
   "cell_type": "code",
   "execution_count": null,
   "metadata": {
    "id": "1EWM5RVsKKAv"
   },
   "outputs": [],
   "source": [
    "import urllib.request\n",
    "from matplotlib.pyplot import imshow\n",
    "import matplotlib.pyplot as plt\n",
    "import numpy as np\n",
    "from PIL import Image\n",
    "from bitarray import bitarray \n",
    "%matplotlib inline"
   ]
  },
  {
   "cell_type": "code",
   "execution_count": null,
   "metadata": {
    "colab": {
     "base_uri": "https://localhost:8080/"
    },
    "id": "7jBcnhAVeJhG",
    "outputId": "2d928f75-31a0-4392-d21d-77c82694f09c"
   },
   "outputs": [],
   "source": [
    "# https://calculareconverter.com.br/binario-para-decimal/\n",
    "print(0b11111110)\n",
    "print(0b11111111)"
   ]
  },
  {
   "cell_type": "code",
   "execution_count": null,
   "metadata": {
    "colab": {
     "base_uri": "https://localhost:8080/",
     "height": 405
    },
    "id": "4_GEXlqgI77a",
    "outputId": "cd5557c4-037d-4a5b-dbc8-034bcbf45af6"
   },
   "outputs": [],
   "source": [
    "# Tente pequenas variações no bit menos significativo, e tente visualizar alterações na imagem\n",
    "# Por isso a técnica se chama Least Significant Bit (LSB) Steganography\n",
    "b = 255 # 255 254 0b11111111 0b11111110 0b01111111\n",
    "p = 0 # 0 1\n",
    "tile = np.array([[p,p,p,b,b,b],\n",
    "                 [p,p,p,b,b,b],\n",
    "                 [p,p,p,b,b,b],\n",
    "                 [b,b,b,p,p,p], \n",
    "                 [b,b,b,p,p,p],\n",
    "                 [b,b,b,p,p,p]\n",
    "                 ], dtype=np.uint8)\n",
    "print(tile)\n",
    "# Criar um objeto imagem\n",
    "img = Image.fromarray(tile).convert('L')\n",
    "# Renderizar (exibir) a imagem\n",
    "imshow(np.asarray(img), cmap='gray', vmin=0, vmax=255)"
   ]
  },
  {
   "cell_type": "code",
   "execution_count": null,
   "metadata": {
    "colab": {
     "base_uri": "https://localhost:8080/"
    },
    "id": "mJ2ZKUGHTnkK",
    "outputId": "c8fc6759-9f9a-483a-e7b3-fa835fa21079"
   },
   "outputs": [],
   "source": [
    "# Tabela https://upload.wikimedia.org/wikipedia/commons/d/dd/ASCII-Table.svg\n",
    "# Imprimir o código ascii da letra A\n",
    "print(ord('A'))\n",
    "txt_bytes = bitarray(endian='big')\n",
    "# Transoformar a representação binária do código ASCII de A num bitarray\n",
    "txt_bytes.frombytes(b'A') \n",
    "# imprimir o bit array\n",
    "print(txt_bytes)\n",
    "# imprimir os bytes do bitarray\n",
    "print(txt_bytes.tobytes())"
   ]
  },
  {
   "cell_type": "code",
   "execution_count": null,
   "metadata": {
    "colab": {
     "base_uri": "https://localhost:8080/",
     "height": 385
    },
    "id": "F0_OLd2dZ8Ui",
    "outputId": "3c24d127-ca55-43c5-f2e5-a3781567bde1"
   },
   "outputs": [],
   "source": [
    "tiles = np.array([[0,1,0,254,254,254],\n",
    "                 [0,1,0,255,255,255],\n",
    "                 [0,0,0,255,255,255],\n",
    "                 [255,255,255,0,0,0], \n",
    "                 [255,255,255,0,0,0],\n",
    "                 [255,255,255,0,0,0]\n",
    "                 ], dtype=np.uint8)\n",
    "# Transforma um array bi-dimensional em uni-dimensional\n",
    "flat_array = tile.flatten()\n",
    "print(flat_array)\n",
    "# Cria um array de zeros do mesmo tamanho do array unidimensional da imagem\n",
    "txt_array = np.zeros(6*6, dtype=np.uint8)\n",
    "# Preenche o array com os valores da string 'A'\n",
    "txt_array[0:len(txt_bytes)] = txt_bytes.tolist() \n",
    "# Zera o bit menos significativo do flat_array\n",
    "flat_array = flat_array & 0b11111110\n",
    "# Preenche o bit menos significativo do flat_array com os bits da string 'A'\n",
    "flat_array = flat_array | txt_array\n",
    "print(txt_array)\n",
    "print(flat_array)\n",
    "tiles = \n",
    "imgs = Image.fromarray(tiles).convert('L')\n",
    "imshow(np.asarray(imgs), cmap='gray', vmin=0, vmax=255)"
   ]
  },
  {
   "cell_type": "code",
   "execution_count": null,
   "metadata": {
    "colab": {
     "base_uri": "https://localhost:8080/"
    },
    "id": "ghJPQGqmckHt",
    "outputId": "ad5389bf-3dd4-47a5-9649-bd8ce2adb35e"
   },
   "outputs": [],
   "source": [
    "# Transformar um objeto bi-dimensional num array un-idimensional.\n",
    "array_encoded = np.asarray(imgs).flatten()\n",
    "print(array_encoded)\n",
    "print(array_encoded[0:8])"
   ]
  },
  {
   "cell_type": "code",
   "execution_count": null,
   "metadata": {
    "colab": {
     "base_uri": "https://localhost:8080/"
    },
    "id": "6G4gHUyDbELm",
    "outputId": "a67236e9-cc63-43fb-9337-e9cb62c213d1"
   },
   "outputs": [],
   "source": [
    "txt_bytes = bitarray(\"\", endian='big')\n",
    "print(txt_bytes)\n",
    "txt_bytes.tobytes()"
   ]
  },
  {
   "cell_type": "code",
   "execution_count": null,
   "metadata": {
    "colab": {
     "base_uri": "https://localhost:8080/"
    },
    "id": "8JLUVbnlj84u",
    "outputId": "c8b0ca73-ea66-4d51-d1ef-62e1a24becc5"
   },
   "outputs": [],
   "source": [
    "print(array_encoded[0] & 0b00000001)\n",
    "print(array_encoded[1] & 0b00000001)"
   ]
  },
  {
   "cell_type": "code",
   "execution_count": null,
   "metadata": {
    "colab": {
     "base_uri": "https://localhost:8080/"
    },
    "id": "GVwrRJAocIb_",
    "outputId": "396220cd-43ab-457b-c27f-cb7f72f5e664"
   },
   "outputs": [],
   "source": [
    "lista_bits = []\n",
    "for b in array_encoded[0:8]:\n",
    "  print(b, b & 0b00000001)\n",
    "  lista_bits.append(str(b & 0b00000001))\n",
    "print(\"\".join(lista_bits))"
   ]
  },
  {
   "cell_type": "code",
   "execution_count": null,
   "metadata": {
    "colab": {
     "base_uri": "https://localhost:8080/"
    },
    "id": "yGX31LYXknOW",
    "outputId": "3cffffa1-3d3e-4fea-9103-361dd141c6fa"
   },
   "outputs": [],
   "source": [
    "bits_str = \"\".join(lista_bits)\n",
    "txt_bytes = bitarray(bits_str, endian='big')\n",
    "print(txt_bytes)\n",
    "txt_bytes.tobytes()\n"
   ]
  },
  {
   "cell_type": "code",
   "execution_count": null,
   "metadata": {
    "colab": {
     "base_uri": "https://localhost:8080/",
     "height": 285
    },
    "id": "rgMZCektRyIg",
    "outputId": "4ec2fc1f-4452-4734-ced1-b65d443eceff"
   },
   "outputs": [],
   "source": [
    "arr_tiles = np.tile(tile, (4,4))\n",
    "img_tiles = Image.fromarray(arr_tiles).convert('L')\n",
    "imshow(np.asarray(img_tiles), cmap='gray', vmin=0, vmax=255)"
   ]
  },
  {
   "cell_type": "code",
   "execution_count": null,
   "metadata": {
    "colab": {
     "base_uri": "https://localhost:8080/"
    },
    "id": "9K2Oom6ktlhF",
    "outputId": "40e198db-fddc-4a11-aab3-a46798a2ce8c"
   },
   "outputs": [],
   "source": [
    "# Inspiração\n",
    "# https://blog.4dcu.be/programming/2020/11/02/Steganography.html\n",
    "# https://medium.com/swlh/lsb-image-steganography-using-python-2bbbee2c69a2\n",
    "# https://towardsdatascience.com/hiding-data-in-an-image-image-steganography-using-python-e491b68b1372\n",
    "# https://realpython.com/python-bitwise-operators/\n"
   ]
  },
  {
   "cell_type": "code",
   "execution_count": null,
   "metadata": {
    "colab": {
     "base_uri": "https://localhost:8080/",
     "height": 289
    },
    "id": "K9HrFAq1hz8b",
    "outputId": "43b31cfa-63fc-4edd-97f0-4b3427782f2d"
   },
   "outputs": [],
   "source": [
    "urllib.request.urlretrieve(\n",
    "  'https://upload.wikimedia.org/wikipedia/en/7/7d/Lenna_%28test_image%29.png',\n",
    "   \"gfg.png\")\n",
    "  \n",
    "img = Image.open(\"gfg.png\")\n",
    "imshow(np.asarray(img))"
   ]
  },
  {
   "cell_type": "code",
   "execution_count": null,
   "metadata": {
    "colab": {
     "base_uri": "https://localhost:8080/",
     "height": 428
    },
    "id": "RjEcwljnmY6s",
    "outputId": "3fe10ad7-23c9-4f34-c8a0-a01ecb8aadef"
   },
   "outputs": [],
   "source": [
    "input_im = img\n",
    "text = \"ab\"\n",
    "txt_bytes = bitarray(endian='big')\n",
    "txt_bytes.frombytes(text.encode(encoding='utf-8'))  \n",
    "for i in text.encode():\n",
    "  print(i, bin(i))\n",
    "\n",
    "print(len(txt_bytes))\n",
    "flat_array = np.asarray(input_im).flatten()\n",
    "image_shape = np.asarray(input_im).shape\n",
    "image_len = flat_array.size\n",
    "print(image_shape, image_len)\n",
    "txt_array = np.zeros(image_len, dtype=np.uint8)\n",
    "txt_array[0:len(txt_bytes)] = txt_bytes.tolist() \n",
    "print(flat_array[0:16])\n",
    "flat_array = flat_array & 0b11111110\n",
    "flat_array = flat_array | txt_array\n",
    "print(txt_array[0:16])\n",
    "print(flat_array[0:16])\n",
    "encoded_im = np.array(flat_array).reshape(image_shape)    \n",
    "img_encoded = Image.fromarray(encoded_im).convert('RGB')\n",
    "imshow(np.asarray(encoded_im))"
   ]
  },
  {
   "cell_type": "code",
   "execution_count": null,
   "metadata": {
    "colab": {
     "base_uri": "https://localhost:8080/",
     "height": 289
    },
    "id": "XojUROnkii3h",
    "outputId": "ce5d77db-49a7-445e-d876-4d2c060ed761"
   },
   "outputs": [],
   "source": [
    "from bitarray import bitarray \n",
    "\n",
    "def encode_img(imgurl, text):\n",
    "  urllib.request.urlretrieve(imgurl, \"tmp.png\")\n",
    "  input_im = Image.open(\"tmp.png\")\n",
    "  txt_bytes = bitarray(endian='big')\n",
    "  txt_bytes.frombytes((text+\"<STOP>\").encode(encoding='utf-8'))  \n",
    "  flat_array = np.asarray(input_im).flatten()\n",
    "  image_shape = np.asarray(input_im).shape\n",
    "  image_len = flat_array.size\n",
    "  txt_array = np.zeros(image_len, dtype=np.uint8)\n",
    "  txt_array[0:len(txt_bytes)] = txt_bytes.tolist() \n",
    "  flat_array = flat_array & 0b11111110\n",
    "  flat_array = flat_array | txt_array\n",
    "  encoded_array = np.array(flat_array).reshape(image_shape)    \n",
    "  img_encoded = Image.fromarray(encoded_array).convert('RGB')\n",
    "  return img_encoded\n",
    "\n",
    "img_encoded = encode_img('https://upload.wikimedia.org/wikipedia/en/7/7d/Lenna_%28test_image%29.png', \"hello world!\")\n",
    "imshow(np.asarray(img_encoded))"
   ]
  },
  {
   "cell_type": "code",
   "execution_count": null,
   "metadata": {
    "colab": {
     "base_uri": "https://localhost:8080/",
     "height": 137
    },
    "id": "HKHkO372Yxt8",
    "outputId": "1031872b-6b84-4bdf-b06d-d3c867b93b89"
   },
   "outputs": [],
   "source": [
    "arr = np.asarray(img_encoded).flatten()\n",
    "extracted_bits = [str(0b00000001 & value) for value in arr]\n",
    "extracted_bits = ''.join(extracted_bits)\n",
    "# bt_text = bitarray(extracted_bits, endian='big').tobytes().decode()\n",
    "n = int(extracted_bits, 2)\n",
    "n.to_bytes((n.bit_length() + 7) // 8, 'big').decode()"
   ]
  },
  {
   "cell_type": "code",
   "execution_count": null,
   "metadata": {
    "colab": {
     "base_uri": "https://localhost:8080/",
     "height": 37
    },
    "deletable": false,
    "id": "9dEQo8DeiCNT",
    "nbgrader": {
     "cell_type": "code",
     "checksum": "a0a999b400f1a2b2d27e05c96b520021",
     "grade": false,
     "grade_id": "cell-a2f686fdd79e4f51",
     "locked": false,
     "schema_version": 3,
     "solution": true,
     "task": false
    },
    "outputId": "131f9fd9-8793-4180-d4b9-b57f0d7ca3c0"
   },
   "outputs": [],
   "source": [
    "def decode_img(imgarray):\n",
    "    arr = np.asarray(imgarray).flatten()\n",
    "    extracted_bits = [str(0b00000001 & value) for value in arr]\n",
    "    extracted_bits = ''.join(extracted_bits)\n",
    "    # bt_text = bitarray(extracted_bits, endian='big').tobytes().decode()\n",
    "    n = int(extracted_bits, 2)\n",
    "    bt_text = n.to_bytes((n.bit_length() + 7) // 8, 'big').decode()\n",
    "    return bt_text.split('<STOP>')[0]\n",
    "\n"
   ]
  },
  {
   "cell_type": "code",
   "execution_count": null,
   "metadata": {
    "id": "YskJQ2WHjHHB"
   },
   "outputs": [],
   "source": [
    "decode_img(img_encoded)"
   ]
  },
  {
   "cell_type": "code",
   "execution_count": null,
   "metadata": {
    "deletable": false,
    "editable": false,
    "id": "GraAohWHiCNW",
    "nbgrader": {
     "cell_type": "code",
     "checksum": "3cfab85a1531115ee642891a30d7bf16",
     "grade": true,
     "grade_id": "cell-5412543179b17057",
     "locked": true,
     "points": 1,
     "schema_version": 3,
     "solution": false,
     "task": false
    }
   },
   "outputs": [],
   "source": []
  }
 ],
 "metadata": {
  "colab": {
   "name": "Aula6_Teoria_Esteganografia.ipynb",
   "provenance": []
  },
  "kernelspec": {
   "display_name": "Python 3",
   "language": "python",
   "name": "python3"
  },
  "language_info": {
   "codemirror_mode": {
    "name": "ipython",
    "version": 3
   },
   "file_extension": ".py",
   "mimetype": "text/x-python",
   "name": "python",
   "nbconvert_exporter": "python",
   "pygments_lexer": "ipython3",
   "version": "3.8.3"
  },
  "varInspector": {
   "cols": {
    "lenName": 16,
    "lenType": 16,
    "lenVar": 40
   },
   "kernels_config": {
    "python": {
     "delete_cmd_postfix": "",
     "delete_cmd_prefix": "del ",
     "library": "var_list.py",
     "varRefreshCmd": "print(var_dic_list())"
    },
    "r": {
     "delete_cmd_postfix": ") ",
     "delete_cmd_prefix": "rm(",
     "library": "var_list.r",
     "varRefreshCmd": "cat(var_dic_list()) "
    }
   },
   "types_to_exclude": [
    "module",
    "function",
    "builtin_function_or_method",
    "instance",
    "_Feature"
   ],
   "window_display": false
  }
 },
 "nbformat": 4,
 "nbformat_minor": 1
}

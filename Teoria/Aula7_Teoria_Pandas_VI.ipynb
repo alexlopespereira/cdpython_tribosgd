{
 "cells": [
  {
   "cell_type": "markdown",
   "metadata": {},
   "source": [
    "## Aula 7 - Teoria - Agregação com Pandas"
   ]
  },
  {
   "cell_type": "markdown",
   "metadata": {},
   "source": [
    "### Agregação com Pandas"
   ]
  },
  {
   "cell_type": "code",
   "execution_count": null,
   "metadata": {},
   "outputs": [],
   "source": [
    "import pandas as pd\n",
    "import numpy as np"
   ]
  },
  {
   "cell_type": "markdown",
   "metadata": {},
   "source": [
    "#### Exemplo de Group By com Pandas"
   ]
  },
  {
   "cell_type": "code",
   "execution_count": null,
   "metadata": {},
   "outputs": [],
   "source": [
    "# Criando um dataframe\n",
    "df = pd.DataFrame({'key1' : ['a', 'a', 'b', 'b', 'a'], \n",
    "                   'key2' : ['one', 'two', 'one', 'two', 'one'],\n",
    "                   'data1' : np.random.randn(5), 'data2' : np.random.randn(5)})\n",
    "df"
   ]
  },
  {
   "cell_type": "code",
   "execution_count": null,
   "metadata": {},
   "outputs": [],
   "source": [
    "# Criar um objeto de agrupamento da coluna data1 agrupando por key1\n",
    "grouped = df['data1'].groupby(df['key1'])\n",
    "# Veja que o resultado retornado é um objeto Pyhton SeriesGroupBy \n",
    "grouped"
   ]
  },
  {
   "cell_type": "code",
   "execution_count": null,
   "metadata": {},
   "outputs": [],
   "source": [
    "# Aplicando a métrica Média (mean) sobre esse objeto de agrupamento\n",
    "# Perceba que a média sobre o objeto SeriesGroupBy vai retornar uma Series como resultado,\n",
    "#   e o índice será a coluna de agrupamento key1\n",
    "grouped.mean()"
   ]
  },
  {
   "cell_type": "markdown",
   "metadata": {},
   "source": [
    "#### Agregação com duas colunas"
   ]
  },
  {
   "cell_type": "code",
   "execution_count": null,
   "metadata": {},
   "outputs": [],
   "source": [
    "# Criar um objeto de agrupamento da coluna data1 agrupando por key1 e key2\n",
    "means = df['data1'].groupby([df['key1'], df['key2']]).mean()\n",
    "# Veja que means é uma Series com índices key1 e key2\n",
    "means"
   ]
  },
  {
   "cell_type": "code",
   "execution_count": null,
   "metadata": {},
   "outputs": [],
   "source": [
    "# Curiosidade: você pode pivotar essa série com o médoto unstack()\n",
    "means.unstack()"
   ]
  },
  {
   "cell_type": "markdown",
   "metadata": {},
   "source": [
    "#### Aplicando a métrica em todas as colunas de dados"
   ]
  },
  {
   "cell_type": "code",
   "execution_count": null,
   "metadata": {},
   "outputs": [],
   "source": [
    "# Agrupe o dataframe df por key1 e extraia a média de todas as colunas\n",
    "df.groupby('key1').mean()"
   ]
  },
  {
   "cell_type": "code",
   "execution_count": null,
   "metadata": {},
   "outputs": [],
   "source": [
    "# perceba que o objeto retornado pelo agrupamento do dataframe inteiro é \n",
    "#   um DataFrameGroupBy \n",
    "df.groupby('key1')"
   ]
  },
  {
   "cell_type": "code",
   "execution_count": null,
   "metadata": {},
   "outputs": [],
   "source": [
    "# Agrupe o dataframe inteiro pelas colunas key1 e key2 calculando o valor da média\n",
    "#    para as outras colunas.\n",
    "df.groupby(['key1', 'key2']).mean()"
   ]
  },
  {
   "cell_type": "markdown",
   "metadata": {},
   "source": [
    "#### Mostrando o tamanho dos grupos"
   ]
  },
  {
   "cell_type": "code",
   "execution_count": null,
   "metadata": {},
   "outputs": [],
   "source": [
    "# Mostre o tamanho dos grupos de um agrupamento do dataframe df pelas colunas key1 e key2\n",
    "df.groupby(['key1', 'key2']).size()"
   ]
  },
  {
   "cell_type": "markdown",
   "metadata": {},
   "source": [
    "#### Agrupando com uma função"
   ]
  },
  {
   "cell_type": "code",
   "execution_count": null,
   "metadata": {},
   "outputs": [],
   "source": [
    "# Considere o seguinte dataframe\n",
    "people = pd.DataFrame(np.random.randn(5, 5),columns=['a', 'b', 'c', 'd', 'e'], \n",
    "                      index=['Joe', 'Steve', 'Wes', 'Jim', 'Travis'])\n",
    "people.iloc[2:3, [1, 2]] = np.nan # Adicionando alguns valores NA\n",
    "people"
   ]
  },
  {
   "cell_type": "code",
   "execution_count": null,
   "metadata": {},
   "outputs": [],
   "source": [
    "# Agrupe o dataframe people pelo tamanho das strings do indice retornando a soma de cada\n",
    "#    grupo.\n",
    "people.groupby(len).sum()"
   ]
  },
  {
   "cell_type": "markdown",
   "metadata": {},
   "source": [
    "#### Aplicando várias métricas ao mesmo tempo"
   ]
  },
  {
   "cell_type": "code",
   "execution_count": null,
   "metadata": {},
   "outputs": [],
   "source": [
    "# Considere o seguinte dataset de gorgetas (tips)\n",
    "import pandas as pd\n",
    "import io # Biblioteca com funções de IO (dentre elas de Strings)\n",
    "import requests #Biblioteca para fazer requisições HTTP\n",
    "url=\"https://raw.githubusercontent.com/wesm/pydata-book/2nd-edition/examples/tips.csv\"\n",
    "s=requests.get(url).content\n",
    "tips=pd.read_csv(io.StringIO(s.decode('utf-8')))\n",
    "tips.head()"
   ]
  },
  {
   "cell_type": "code",
   "execution_count": null,
   "metadata": {},
   "outputs": [],
   "source": [
    "# Adiciona uma coluna para calcular a porcentage da gorjeta em relação ao valor da conta\n",
    "tips['tip_pct'] = tips['tip'] / tips['total_bill']\n",
    "tips[:6]"
   ]
  },
  {
   "cell_type": "code",
   "execution_count": null,
   "metadata": {},
   "outputs": [],
   "source": [
    "# Agrupar por dia da semana (day) e fumante (smoker)\n",
    "grouped = tips.groupby(['day', 'smoker'])\n",
    "grouped"
   ]
  },
  {
   "cell_type": "code",
   "execution_count": null,
   "metadata": {},
   "outputs": [],
   "source": [
    "# Pegar um slice (uma fatia) do objeto de agrupamento com apenas a coluna tip_pct\n",
    "grouped_pct = grouped[['tip_pct', 'total_bill']]\n",
    "grouped_pct"
   ]
  },
  {
   "cell_type": "code",
   "execution_count": null,
   "metadata": {},
   "outputs": [],
   "source": [
    "# Calcular a média deste agrupamento\n",
    "grouped_pct.agg('mean')"
   ]
  },
  {
   "cell_type": "code",
   "execution_count": null,
   "metadata": {},
   "outputs": [],
   "source": [
    "# Considere a função para retornar o intervalo de variação de um array\n",
    "def peak_to_peak(arr):\n",
    "    return arr.max() - arr.min()"
   ]
  },
  {
   "cell_type": "code",
   "execution_count": null,
   "metadata": {},
   "outputs": [],
   "source": [
    "# Escreva numa só sentença a aplicação das métricas média, desvio padrão (std) \n",
    "#   e peak_to_peak ao slice do agrupamento criado acima\n",
    "pk = lambda x: x.max() - x.min()\n",
    "grouped_pct.agg({'total_bill': ['mean', pk]})"
   ]
  },
  {
   "cell_type": "markdown",
   "metadata": {},
   "source": [
    "#### Várias métricas em diferentes colunas"
   ]
  },
  {
   "cell_type": "code",
   "execution_count": null,
   "metadata": {},
   "outputs": [],
   "source": [
    "# Usando um dicionário para mapear as colunas e suas respectivas métricas, aplique\n",
    "#     à coluna tip_pct as métricas 'min', 'max', 'mean', 'std' e \n",
    "dfr = grouped.agg({'tip_pct' : ['min', 'max', 'mean', 'std'], 'size' : 'sum'})\n",
    "dfr.reset_index()"
   ]
  },
  {
   "cell_type": "markdown",
   "metadata": {},
   "source": [
    "### Variáveis Categóricas (Categorical)"
   ]
  },
  {
   "cell_type": "code",
   "execution_count": null,
   "metadata": {},
   "outputs": [],
   "source": [
    "# Criando dados categóricos ordenados\n",
    "from pandas.api.types import CategoricalDtype\n",
    "cat_type = CategoricalDtype(categories=[\"Seg\", \"Ter\", \"Qua\", \n",
    "                        \"Qui\", \"Sex\", \"Sab\", \"Dom\"], ordered=True)\n",
    "\n",
    "df = pd.DataFrame({'Bairro1': ['Dom', 'Sab', 'Dom', 'Qui', 'Dom', 'Sab'], \n",
    "                  'Bairro2': ['Sex', 'Sex', 'Sex', 'Seg', 'Ter', 'Qui']},\n",
    "                  dtype=cat_type)\n",
    "df"
   ]
  },
  {
   "cell_type": "code",
   "execution_count": null,
   "metadata": {},
   "outputs": [],
   "source": [
    "df[df['Bairro1'] > 'Sab'].head()"
   ]
  },
  {
   "cell_type": "markdown",
   "metadata": {},
   "source": [
    "### Resolvendo Problemas com o Pandas"
   ]
  },
  {
   "cell_type": "markdown",
   "metadata": {},
   "source": [
    "#### Correlação entre a variação percentual de dois ativos financeiros. Exemplo: Ação do Walmart e da Amazon\n"
   ]
  },
  {
   "cell_type": "code",
   "execution_count": null,
   "metadata": {},
   "outputs": [],
   "source": [
    "###### Instalação de bibliotecas #####\n",
    "# Use o seguinte comando: !pip install <nome_biblioteca>\n",
    "# Exemplo: !pip install yahooquery\n",
    "!pip install yahooquery"
   ]
  },
  {
   "cell_type": "code",
   "execution_count": null,
   "metadata": {},
   "outputs": [],
   "source": [
    "import datetime\n",
    "import matplotlib.pyplot as plt\n",
    "import seaborn as sns\n",
    "from yahooquery import Ticker"
   ]
  },
  {
   "cell_type": "code",
   "execution_count": null,
   "metadata": {},
   "outputs": [],
   "source": [
    "# Definir uma lista de simbolos (ações) de interesse\n",
    "symbols_list = ['AMZN', 'WMT']\n",
    "# Criar um objeto Ticker (para fazer o download de dados de cotação de ações)\n",
    "tc = Ticker(symbols_list)\n",
    "# Fazer o download de dados de um período de 60 dias, com intervalor de 1d entre cada medição\n",
    "# Lista de períodos e intervalos possíveis: https://yahooquery.dpguthrie.com/guide/ticker/historical/\n",
    "df = tc.history(period='5d', interval=\"1d\")\n",
    "# Mostrar os primeiros 5 registros do dataframe df\n",
    "# df = df['close']\n",
    "df.head()"
   ]
  },
  {
   "cell_type": "code",
   "execution_count": null,
   "metadata": {},
   "outputs": [],
   "source": [
    "df_reset = df.reset_index()\n",
    "df_reset['ontem'] = df_reset['date'].apply(lambda x: x + datetime.timedelta(days=1))\n",
    "df_merge = df_reset.merge(right=df_reset, left_on=['symbol','date'], \n",
    "                          right_on=['symbol','ontem'], suffixes=[\"\", \"_desloc\"])\n",
    "df_merge['change_pct'] = (df_merge['close'] - df_merge['close_desloc']) / df_merge['close_desloc']\n",
    "df_pivot = df_merge.pivot('date', 'symbol', 'change_pct')\n"
   ]
  },
  {
   "cell_type": "code",
   "execution_count": null,
   "metadata": {},
   "outputs": [],
   "source": [
    "df_pivot"
   ]
  },
  {
   "cell_type": "code",
   "execution_count": null,
   "metadata": {},
   "outputs": [],
   "source": [
    "df_pivot.corr()"
   ]
  },
  {
   "cell_type": "code",
   "execution_count": null,
   "metadata": {},
   "outputs": [],
   "source": [
    "df_result = df[['close']].unstack(level=0).pct_change()\n",
    "df_result"
   ]
  },
  {
   "cell_type": "code",
   "execution_count": null,
   "metadata": {},
   "outputs": [],
   "source": [
    "df_result.corr()"
   ]
  },
  {
   "cell_type": "markdown",
   "metadata": {},
   "source": [
    "#### Concatenar verticalmente vários arquivos da mesma fonte de dados"
   ]
  },
  {
   "cell_type": "code",
   "execution_count": null,
   "metadata": {},
   "outputs": [],
   "source": [
    "!git clone \"https://github.com/alexlopespereira/enapespcd2021.git\""
   ]
  },
  {
   "cell_type": "code",
   "execution_count": null,
   "metadata": {},
   "outputs": [],
   "source": [
    "!ls ./enapespcd2021/data/originais/morbidade/desagregado/2020/   "
   ]
  },
  {
   "cell_type": "code",
   "execution_count": null,
   "metadata": {},
   "outputs": [],
   "source": [
    "!head ./enapespcd2021/data/originais/morbidade/desagregado/2020/A102927189_28_143_208.csv"
   ]
  },
  {
   "cell_type": "code",
   "execution_count": null,
   "metadata": {},
   "outputs": [],
   "source": [
    "import glob\n",
    "filepaths = glob.glob(\"./enapespcd2021/data/originais/morbidade/desagregado/2020/*.csv\")\n",
    "df_lista = [pd.read_csv(f, encoding='iso8859-1', skiprows=3, sep=';', skipfooter=7, engine='python') for f in filepaths]\n",
    "df_concat = pd.concat(df_lista, ignore_index=True)"
   ]
  },
  {
   "cell_type": "code",
   "execution_count": null,
   "metadata": {},
   "outputs": [],
   "source": [
    "df_concat.head()"
   ]
  },
  {
   "cell_type": "markdown",
   "metadata": {},
   "source": [
    "#### Criar multiplos registros de atributos multi-valorados"
   ]
  },
  {
   "cell_type": "code",
   "execution_count": null,
   "metadata": {},
   "outputs": [],
   "source": [
    "data = {'actors': {0: 'Blanche Bayliss, William Courtenay, Chauncey Depew',\n",
    "  1: 'Elizabeth Tait, John Tait, Norman Campbell, Bella Cola, Will Coyne, Sam Crewes, Jack Ennis, John Forde, Vera Linden, Mr. Marshall, Mr. McKenzie, Frank Mills, Ollie Wilson',\n",
    "  2: 'Asta Nielsen, Valdemar Psilander, Gunnar Helsengreen, Emil Albes, Hugo Flink, Mary Hagen'},\n",
    " 'director': {0: 'Alexander Black', 1: 'Charles Tait', 2: 'Urban Gad'},\n",
    " 'imdb_title_id': {0: 'tt0000009', 1: 'tt0000574', 2: 'tt0001892'},\n",
    " 'title': {0: 'Miss Jerry',\n",
    "  1: 'The Story of the Kelly Gang',\n",
    "  2: 'Den sorte drøm'}}\n",
    "df = pd.DataFrame(data)\n",
    "df"
   ]
  },
  {
   "cell_type": "code",
   "execution_count": null,
   "metadata": {},
   "outputs": [],
   "source": [
    "col = 'actors'\n",
    "merge_on='imdb_title_id'\n",
    "df[col] = df[col].str.split(\",\") \n",
    "df"
   ]
  },
  {
   "cell_type": "code",
   "execution_count": null,
   "metadata": {},
   "outputs": [],
   "source": [
    "def explode_and_merge(df, col, split_on=\";\"):\n",
    "    \"\"\"Transforma um atributo multivalorado em várias linhas de conteúdo atômico,\n",
    "       uma linha pra cada um dos atributos separados por ponto e vírgula\n",
    "    \"\"\"\n",
    "    # Cria um novo dataframe\n",
    "    # assign cria uma coluna no dataframe. ** separa um dicionário {k, v} nos argumentos k, v\n",
    "    return df.assign(**{col: df[col].str.split(split_on)}).explode(col)"
   ]
  },
  {
   "cell_type": "code",
   "execution_count": null,
   "metadata": {},
   "outputs": [],
   "source": [
    "dfe = explode_and_merge(df, col='actors', merge_on='imdb_title_id', split_on=\",\")\n",
    "dfe.head()"
   ]
  },
  {
   "cell_type": "code",
   "execution_count": null,
   "metadata": {},
   "outputs": [],
   "source": []
  },
  {
   "cell_type": "code",
   "execution_count": null,
   "metadata": {},
   "outputs": [],
   "source": []
  },
  {
   "cell_type": "code",
   "execution_count": null,
   "metadata": {},
   "outputs": [],
   "source": [
    "data_google = {'keyword': {0: 'receita federal', 1: 'receita federal', 2: 'carteira de trabalho digital', 3: 'carteira de trabalho digital', 4: 'carteira de trabalho digital', 5: 'policia federal', 6: 'policia federal', 7: 'policia federal', 8: 'auxilio emergencial', 9: 'auxilio emergencial' },\n",
    " 'paginas': {0: 'declarar-meu-imposto-de-renda', 1: 'obter-copia-de-declaracao-enviada-a-receita-federal',\n",
    "  2: 'obter-a-carteira-de-trabalho', 3: 'solicitar-o-seguro-desemprego', 4: 'obter-carteira-digital-de-transito',\n",
    "  5: 'obter-passaporte-comum-para-brasileiro', 6:'emitir-certidao-de-antecedentes-criminais', 7: 'adquirir-arma-de-fogo', \n",
    "  8: 'devolver-o-auxilio-emergencial-coronavirus-covid-19', 9:'contestar-o-resultado-do-auxilio-emergencial-coronavirus-covid-19'}}\n",
    "df = pd.DataFrame(data_google)\n",
    "posicao_grupo = df.groupby('keyword').cumcount()\n",
    "df_google = pd.concat([df, posicao_grupo.rename('rank')], axis=1)"
   ]
  },
  {
   "cell_type": "code",
   "execution_count": null,
   "metadata": {},
   "outputs": [],
   "source": [
    "df_google"
   ]
  },
  {
   "cell_type": "code",
   "execution_count": null,
   "metadata": {},
   "outputs": [],
   "source": [
    "data_govbr = {'keyword': {0: 'receita federal', 1: 'receita federal', 2: 'carteira de trabalho digital', 3: 'carteira de trabalho digital', 4: 'carteira de trabalho digital', 5: 'policia federal', 6: 'policia federal', 7: 'policia federal', 8: 'auxilio emergencial', 9: 'auxilio emergencial' },\n",
    " 'paginas': {\n",
    "  0: 'consultar-comunicacoes-e-intimacoes-eletronicas-da-receita-federal', 1: 'consultar-cobrancas-da-receita-federal',\n",
    "  2: 'obter-carteira-digital-de-transito', 3: 'obter-a-carteira-de-trabalho', 4: 'solicitar-o-seguro-desemprego', \n",
    "  5: 'emitir-certidao-de-antecedentes-criminais', 6:'adquirir-arma-de-fogo', 7: 'obter-passaporte-comum-para-brasileiro', \n",
    "  8: 'devolver-o-auxilio-emergencial-coronavirus-covid-19', 9: 'receber-auxilio-medico-emergencial'}}\n",
    "\n",
    "df2 = pd.DataFrame(data_govbr)\n",
    "posicao_grupo2 = df2.groupby('keyword').cumcount()\n",
    "df_govbr = pd.concat([df2, posicao_grupo2.rename('rank')], axis=1)\n",
    "df_govbr"
   ]
  },
  {
   "cell_type": "code",
   "execution_count": null,
   "metadata": {},
   "outputs": [],
   "source": [
    "df_merge = df_govbr.merge(df_google, on=['keyword', 'values'], \n",
    "                          suffixes=['_govbr', '_google'])\n",
    "df_merge['dif'] = (df_merge['rank_govbr'] - df_merge['rank_google']).abs()\n",
    "print(df_merge['dif'].sum())"
   ]
  },
  {
   "cell_type": "code",
   "execution_count": null,
   "metadata": {},
   "outputs": [],
   "source": [
    "df_merge"
   ]
  },
  {
   "cell_type": "code",
   "execution_count": null,
   "metadata": {},
   "outputs": [],
   "source": [
    "data_govbr = {'keyword': {0: 'receita federal', 1: 'receita federal', 2: 'carteira de trabalho digital', 3: 'carteira de trabalho digital', 4: 'carteira de trabalho digital', 5: 'policia federal', 6: 'policia federal', 7: 'policia federal', 8: 'auxilio emergencial', 9: 'auxilio emergencial' },\n",
    " 'values': {\n",
    "  0: 'declarar-meu-imposto-de-renda', 1: 'obter-copia-de-declaracao-enviada-a-receita-federal',\n",
    "  2: 'obter-a-carteira-de-trabalho', 3: 'solicitar-o-seguro-desemprego', 4: 'obter-carteira-digital-de-transito',\n",
    "  5: 'obter-passaporte-comum-para-brasileiro', 6:'emitir-certidao-de-antecedentes-criminais', 7: 'adquirir-arma-de-fogo', \n",
    "  8: 'devolver-o-auxilio-emergencial-coronavirus-covid-19', 9:'contestar-o-resultado-do-auxilio-emergencial-coronavirus-covid-19'}}\n",
    "\n",
    "df2 = pd.DataFrame(data_govbr)\n",
    "df2"
   ]
  },
  {
   "cell_type": "code",
   "execution_count": null,
   "metadata": {},
   "outputs": [],
   "source": [
    "data_govbr = {'keyword': {0: 'receita federal', 1: 'receita federal', 2: 'carteira de trabalho digital', 3: 'carteira de trabalho digital', 4: 'carteira de trabalho digital', 5: 'policia federal', 6: 'policia federal', 7: 'policia federal', 8: 'auxilio emergencial', 9: 'auxilio emergencial' },\n",
    " 'values': {\n",
    "  0: 'consultar-comunicacoes-e-intimacoes-eletronicas-da-receita-federal', 1: 'consultar-cobrancas-da-receita-federal',\n",
    "  2: 'obter-carteira-digital-de-transito', 3: 'obter-a-carteira-de-trabalho', 4: 'solicitar-o-seguro-desemprego', \n",
    "  5: 'emitir-certidao-de-antecedentes-criminais', 6:'adquirir-arma-de-fogo', 7: 'obter-passaporte-comum-para-brasileiro', \n",
    "  8: 'devolver-o-auxilio-emergencial-coronavirus-covid-19', 9: 'receber-auxilio-medico-emergencial'}}\n",
    "\n",
    "df3 = pd.DataFrame(data_govbr)\n",
    "df3"
   ]
  },
  {
   "cell_type": "code",
   "execution_count": null,
   "metadata": {},
   "outputs": [],
   "source": []
  }
 ],
 "metadata": {
  "kernelspec": {
   "display_name": "Python 3",
   "language": "python",
   "name": "python3"
  },
  "language_info": {
   "codemirror_mode": {
    "name": "ipython",
    "version": 3
   },
   "file_extension": ".py",
   "mimetype": "text/x-python",
   "name": "python",
   "nbconvert_exporter": "python",
   "pygments_lexer": "ipython3",
   "version": "3.8.3"
  },
  "varInspector": {
   "cols": {
    "lenName": 16,
    "lenType": 16,
    "lenVar": 40
   },
   "kernels_config": {
    "python": {
     "delete_cmd_postfix": "",
     "delete_cmd_prefix": "del ",
     "library": "var_list.py",
     "varRefreshCmd": "print(var_dic_list())"
    },
    "r": {
     "delete_cmd_postfix": ") ",
     "delete_cmd_prefix": "rm(",
     "library": "var_list.r",
     "varRefreshCmd": "cat(var_dic_list()) "
    }
   },
   "types_to_exclude": [
    "module",
    "function",
    "builtin_function_or_method",
    "instance",
    "_Feature"
   ],
   "window_display": false
  }
 },
 "nbformat": 4,
 "nbformat_minor": 4
}

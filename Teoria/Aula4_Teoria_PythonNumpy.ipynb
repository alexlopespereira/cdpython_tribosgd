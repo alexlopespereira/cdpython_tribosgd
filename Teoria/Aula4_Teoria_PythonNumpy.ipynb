{
 "cells": [
  {
   "cell_type": "markdown",
   "metadata": {},
   "source": [
    "# Aula 4 - Python e Numpy"
   ]
  },
  {
   "attachments": {},
   "cell_type": "markdown",
   "metadata": {},
   "source": [
    "### Funções Lambda (Anônima)"
   ]
  },
  {
   "cell_type": "code",
   "execution_count": null,
   "metadata": {},
   "outputs": [],
   "source": [
    "def exemplo(x):\n",
    "    return x * 2\n",
    "\n",
    "def apply_to_list(some_list, f):\n",
    "    return [f(x) for x in some_list]\n",
    "\n",
    "ints = [4, 0, 1, 5, 6]\n",
    "r1 = apply_to_list(ints, lambda x: x * 2)\n",
    "r2 = apply_to_list(ints, exemplo)\n",
    "print(r1,r2)"
   ]
  },
  {
   "cell_type": "markdown",
   "metadata": {},
   "source": [
    "### Função Lambda para ordenar uma lista"
   ]
  },
  {
   "cell_type": "code",
   "execution_count": null,
   "metadata": {},
   "outputs": [],
   "source": [
    "strings = ['fo', 'card', 'bar', 'aaa2222a', 'abasb']\n",
    "strings.sort(key=lambda x: len(x))\n",
    "print(strings)"
   ]
  },
  {
   "cell_type": "markdown",
   "metadata": {},
   "source": [
    "## NumPy Arrays\n"
   ]
  },
  {
   "cell_type": "code",
   "execution_count": null,
   "metadata": {},
   "outputs": [],
   "source": [
    "import numpy as np"
   ]
  },
  {
   "cell_type": "markdown",
   "metadata": {},
   "source": [
    "### Criando ndarrays"
   ]
  },
  {
   "cell_type": "code",
   "execution_count": null,
   "metadata": {},
   "outputs": [],
   "source": [
    "# 1) Crie um array unidimensional a partir da lista [6, 7.5, 8, 0, 1]\n",
    "data1 = [6, 7.5, 8, 0, 1]\n",
    "arr1 = np.array(data1)\n",
    "print(arr1)\n",
    "# 2) Crie um array bidimensional a partir da lista [[1, 2, 3, 4], [5, 6, 7, 8]]\n",
    "data2 = [[1, 2, 3, 4], [5, 6, 7, 8]]\n",
    "arr2 = np.array(data2)\n",
    "print(arr2)\n",
    "# 3) Crie um array unidimensional de zeros\n",
    "print(np.zeros(5)) # Função que cria um array de zeros"
   ]
  },
  {
   "cell_type": "code",
   "execution_count": null,
   "metadata": {},
   "outputs": [],
   "source": [
    "# 1) Crie o seguinte array arr1 = np.array([6, 7.5, 8, 0, 1])\n",
    "arr1 = np.array([6, 7.5, 8, 0, 1]) # O tipo do dado é inferido. Mas também pode ser especificado\n",
    "\n",
    "# 2) Imprima o tipo do dado do array arr1\n",
    "print(arr1.dtype) # tipo do dado\n",
    "\n",
    "# 3) Crie o seguinte array arr2 = np.array([[1, 2, 3, 4], [5, 6, 7, 8]], dtype=np.int32)\n",
    "arr2 = np.array([[1, 2, 3, 4], [5, 6, 7, 8]], dtype=np.int32)\n",
    "\n",
    "# 4) Imprima o shape e o número de dimensões do array arr2\n",
    "print(arr2.shape) # Forma/dimensões do array\n",
    "print(arr2.ndim) # Quantidade de dimensões"
   ]
  },
  {
   "cell_type": "markdown",
   "metadata": {},
   "source": [
    "### Conversão de tipos (cast)"
   ]
  },
  {
   "cell_type": "code",
   "execution_count": null,
   "metadata": {},
   "outputs": [],
   "source": [
    "# 1) Crie o seguinte array num_str = np.array(['1.25', '-9.6', '42'], dtype=np.string_)\n",
    "num_str = np.array(['1.25', '-9.6', '42'], dtype=np.string_)\n",
    "\n",
    "# 2) Converta-o para o tipo float\n",
    "arr_float = num_str.astype(float) # Converte para float\n",
    "print(arr_float)\n",
    "\n",
    "# 3) Crie o seguinte array arr1 = np.array([3.7, -1.2, -2.6, 0.5, 12.9, 10.1])\n",
    "arr1 = np.array([3.7, -1.2, -2.6, 0.5, 12.9, 10.1])\n",
    "\n",
    "# 4) Converta-o para o tipo int32\n",
    "arr1_int = arr1.astype(np.int32) # Converte para int32\n",
    "print(arr1_int)"
   ]
  },
  {
   "cell_type": "markdown",
   "metadata": {},
   "source": [
    "### Operações vetorizadas em ndarrays\n",
    "#### Mais eficientes (preferíveis)"
   ]
  },
  {
   "cell_type": "markdown",
   "metadata": {},
   "source": [
    "#### Array bi-dimensional"
   ]
  },
  {
   "cell_type": "code",
   "execution_count": null,
   "metadata": {},
   "outputs": [],
   "source": [
    "data = np.array([[ 0.78, 1.87, 0.82], [-1.60, -0.01, -0.02]])\n",
    "print(data)\n",
    "print(data.shape) # Forma/dimensões do array\n",
    "print(data.ndim) # Quantidade de dimensões"
   ]
  },
  {
   "cell_type": "code",
   "execution_count": null,
   "metadata": {},
   "outputs": [],
   "source": []
  },
  {
   "cell_type": "code",
   "execution_count": null,
   "metadata": {},
   "outputs": [],
   "source": [
    "# 1) Crie um array (data) bidimensional de 2 linhas e 3 colunas \n",
    "data = np.array([[ 3, 4, 8], [10, -4, -2]])\n",
    "print(data)\n",
    "# 2) Multiplique todos os elementos do vetor por 10\n",
    "print(data * 10)\n",
    "\n",
    "# 3) Some os elementos do array data a ele mesmo\n",
    "print(data + data)"
   ]
  },
  {
   "cell_type": "markdown",
   "metadata": {},
   "source": [
    "### Aritmética com NumPy Arrays"
   ]
  },
  {
   "cell_type": "code",
   "execution_count": null,
   "metadata": {},
   "outputs": [],
   "source": [
    "# 1) Crie os seguintes arrays arr = np.array([1, 2, 3]) e arr2 = np.array([4, 5, 6])\n",
    "arr = np.array([1, 2, 3])\n",
    "arr2 = np.array([4, 5, 6])\n",
    "\n",
    "# 2) Calcule arr * arr\n",
    "print(arr * arr2)\n",
    "\n",
    "# 3) Calcule arr - arr2\n",
    "print(arr - arr2)\n",
    "\n",
    "# 4) Calcule 1 / arr\n",
    "print(1 / arr)\n",
    "\n",
    "# 5) Calcule a raiz quadrada dos elementos de arr\n",
    "print(arr ** 0.5)\n",
    "\n",
    "# 6) Compare os elementos do array arr com os elementos do arr2\n",
    "print(arr2 > arr)"
   ]
  },
  {
   "cell_type": "markdown",
   "metadata": {},
   "source": [
    "### Outros métodos de criação de array"
   ]
  },
  {
   "cell_type": "code",
   "execution_count": null,
   "metadata": {},
   "outputs": [],
   "source": [
    "# 1) Crie um array sequencial de 10 numeros começando em zero\n",
    "print(np.arange(10)) #cria array de números sequenciais\n",
    "\n",
    "# 2) Crie um array sequencial de 2 a 9 (10 com intervalo aberto) de tipo float\n",
    "print(np.arange(2, 10, dtype=float))\n",
    "\n",
    "# 3) Crie um array unidimensional de 5 zeros\n",
    "print(np.zeros(5))\n",
    "\n",
    "# 4) Crie um array bi-dimensional de 1s de duas linhas e 3 colunas\n",
    "print(np.ones((2,3)))"
   ]
  },
  {
   "cell_type": "markdown",
   "metadata": {},
   "source": [
    "### Comparação de Desempenho: Numpy array vs list"
   ]
  },
  {
   "cell_type": "code",
   "execution_count": null,
   "metadata": {},
   "outputs": [],
   "source": [
    "# 1) Crie um numpy array com 10 milhoes de numeros sequenciais\n",
    "my_arr = np.arange(10000000) # Função que cria um array de números sequenciais\n",
    "\n",
    "# 2) Crie uma lista 10 milhoes de numeros sequenciais\n",
    "my_list = list(range(10000000))\n",
    "\n",
    "# %time mede o tempo tomado pela execução da linha\n",
    "# %time mede o tempo tomado pela execução da linha\n",
    "# 3) Meça o tempo de multiplicar todos os elementos do array por 2\n",
    "%time my_arr2 = my_arr * 2\n",
    "# 4) Meça o tempo de multiplicar todos os elementos da lista por 2\n",
    "%time my_list2 = [x * 2 for x in my_list]\n",
    "\n",
    "# 5) Imprima os primeiros 5 elementos do array e da lista\n",
    "print(my_arr2[0:5])\n",
    "print(my_list2[0:5])"
   ]
  },
  {
   "cell_type": "markdown",
   "metadata": {},
   "source": [
    "### Slicing (fatiar) NumPy Arrays\n",
    "#### Nas listas os slices são cópias\n",
    "#### Nos arrays numpy os slices são views (visualizações)"
   ]
  },
  {
   "cell_type": "code",
   "execution_count": null,
   "metadata": {},
   "outputs": [],
   "source": [
    "# 1) Crie o seguinte array: arr = np.arange(10)\n",
    "# 2) Guarde na variavel arr_slice os elementos de índice 5 até 8 deste array\n",
    "# 3) Atribua o valor 12345 ao elemento de índice 1 do array arr_slice\n",
    "# 4) Visualize o arr e perceba que o elemento de índice 6 alterou de valor\n",
    "# 5) Crie a seguinte lista: li2 = list(range(10))\n",
    "# 6) Guarde na variavel list_slice os elementos de índice 5 até 8 da lista li2\n",
    "# 7) Atribua o valor 12345 ao elemento de índice 1 da lista list_slice\n",
    "# 8) Visualize a lista li2 e perceba que o elemento de índice 6 alterou de valor\n",
    "\n",
    "arr = np.arange(10)\n",
    "print(arr)\n",
    "arr_slice = arr[5:8]\n",
    "arr_slice[1] = 12345\n",
    "print(arr)\n",
    "li2 = list(range(10)) # Repetindo a operação equivalente com uma lista\n",
    "list_slice = li2[5:8]\n",
    "list_slice[1] = 12345\n",
    "print(li2)"
   ]
  },
  {
   "cell_type": "markdown",
   "metadata": {},
   "source": [
    "### Slicing (fatiar) de arrays bidimensionais"
   ]
  },
  {
   "cell_type": "code",
   "execution_count": null,
   "metadata": {},
   "outputs": [],
   "source": [
    "# 1) Crie o seguinte array bidimensional: arr2d = np.array([[1, 2, 3], [4, 5, 6], [7, 8, 9]])\n",
    "arr2d = np.array([[1, 2, 3], [4, 5, 6], [7, 8, 9]])\n",
    "# 2) Imprima o array\n",
    "print(arr2d)\n",
    "# 3) Imprima a linha de índice 2 desse array\n",
    "print(arr2d[2])\n",
    "# 4) Imprima o elemento de posição 0,2 desse array, usando as sintaxes com e sem vírgula\n",
    "print(arr2d[0][2]) # Tanto faz\n",
    "print(arr2d[0, 2]) # Tanto faz\n",
    "# 5) Imprima os elementos de todas as linhas da coluna 1\n",
    "print(arr2d[:, 1])"
   ]
  },
  {
   "cell_type": "markdown",
   "metadata": {},
   "source": [
    "### Outras funções numpy"
   ]
  },
  {
   "cell_type": "markdown",
   "metadata": {},
   "source": [
    "### Função Soma (np.sum)"
   ]
  },
  {
   "cell_type": "code",
   "execution_count": null,
   "metadata": {},
   "outputs": [],
   "source": [
    "ar = np.array([[0, 1], [0, 5]])\n",
    "print(ar)\n",
    "print(np.sum(ar))\n",
    "print(np.sum(ar, axis=0))\n",
    "print(np.sum(ar, axis=1))"
   ]
  },
  {
   "cell_type": "markdown",
   "metadata": {},
   "source": [
    "### Função média (np.mean)"
   ]
  },
  {
   "cell_type": "code",
   "execution_count": null,
   "metadata": {},
   "outputs": [],
   "source": [
    "ar = np.array([[2, 1], [0, 5]])\n",
    "print(ar)\n",
    "print(np.mean(ar))\n",
    "print(np.mean(ar, axis=0))\n",
    "print(np.mean(ar, axis=1))"
   ]
  },
  {
   "cell_type": "markdown",
   "metadata": {},
   "source": [
    "### Função desvio padrão (np.std)"
   ]
  },
  {
   "cell_type": "code",
   "execution_count": null,
   "metadata": {},
   "outputs": [],
   "source": [
    "ar = np.array([[2, 1], [0, 5]])\n",
    "print(ar)\n",
    "print(np.std(ar))\n",
    "print(np.std(ar, axis=0))\n",
    "print(np.std(ar, axis=1))"
   ]
  },
  {
   "cell_type": "markdown",
   "metadata": {},
   "source": [
    "### Função algum (np.any)"
   ]
  },
  {
   "cell_type": "code",
   "execution_count": null,
   "metadata": {},
   "outputs": [],
   "source": [
    "arr2 = np.array([[True, False], [True, True]])\n",
    "print(arr2)\n",
    "print(np.any(arr2))\n",
    "print(np.any(arr2, axis=0))"
   ]
  },
  {
   "cell_type": "markdown",
   "metadata": {},
   "source": [
    "### Função np.argmax"
   ]
  },
  {
   "cell_type": "code",
   "execution_count": null,
   "metadata": {},
   "outputs": [],
   "source": [
    "a = np.array([[10, 11, 12],\n",
    "          [13, 14, 15]])\n",
    "print(a)\n",
    "print(np.argmax(a))\n",
    "print(np.argmax(a, axis=0))\n",
    "print(np.argmax(a, axis=1))"
   ]
  },
  {
   "cell_type": "markdown",
   "metadata": {},
   "source": [
    "### Filtrar um Array baseado numa condição"
   ]
  },
  {
   "cell_type": "code",
   "execution_count": null,
   "metadata": {},
   "outputs": [],
   "source": [
    "arr = np.array([0, 1, 2, 3, 4, 5, 6, 7, 8])\n",
    "print(arr)\n",
    "print(arr < 4)\n",
    "print(arr[arr < 4])"
   ]
  },
  {
   "cell_type": "markdown",
   "metadata": {},
   "source": [
    "### Operações lógicas com Array Numpy"
   ]
  },
  {
   "cell_type": "code",
   "execution_count": null,
   "metadata": {},
   "outputs": [],
   "source": [
    "arr1 = np.array([0, 1, 2, 3, 4, 5, 6, 7, 8])\n",
    "selecao = (arr1 > 2) & (arr1 <5)\n",
    "print(selecao)\n",
    "print(arr1[selecao])"
   ]
  },
  {
   "cell_type": "code",
   "execution_count": null,
   "metadata": {},
   "outputs": [],
   "source": [
    "selecao2 = (arr1 < 2) | (arr1 > 5)\n",
    "print(selecao2)\n",
    "print(arr1[selecao2])"
   ]
  }
 ],
 "metadata": {
  "kernelspec": {
   "display_name": "Python 3",
   "language": "python",
   "name": "python3"
  },
  "language_info": {
   "codemirror_mode": {
    "name": "ipython",
    "version": 3
   },
   "file_extension": ".py",
   "mimetype": "text/x-python",
   "name": "python",
   "nbconvert_exporter": "python",
   "pygments_lexer": "ipython3",
   "version": "3.8.3"
  },
  "varInspector": {
   "cols": {
    "lenName": 16,
    "lenType": 16,
    "lenVar": 40
   },
   "kernels_config": {
    "python": {
     "delete_cmd_postfix": "",
     "delete_cmd_prefix": "del ",
     "library": "var_list.py",
     "varRefreshCmd": "print(var_dic_list())"
    },
    "r": {
     "delete_cmd_postfix": ") ",
     "delete_cmd_prefix": "rm(",
     "library": "var_list.r",
     "varRefreshCmd": "cat(var_dic_list()) "
    }
   },
   "types_to_exclude": [
    "module",
    "function",
    "builtin_function_or_method",
    "instance",
    "_Feature"
   ],
   "window_display": false
  }
 },
 "nbformat": 4,
 "nbformat_minor": 4
}

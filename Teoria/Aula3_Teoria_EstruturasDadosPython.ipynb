{
 "cells": [
  {
   "cell_type": "markdown",
   "metadata": {},
   "source": [
    "# Aula 3 - Estruturas de Dados Nativas do Python"
   ]
  },
  {
   "cell_type": "markdown",
   "metadata": {},
   "source": [
    "### Ordenando uma lista"
   ]
  },
  {
   "cell_type": "code",
   "execution_count": null,
   "metadata": {},
   "outputs": [],
   "source": [
    "sorted([4,1,5,6,9])"
   ]
  },
  {
   "cell_type": "code",
   "execution_count": null,
   "metadata": {},
   "outputs": [],
   "source": [
    "al = [2, 4, 0, 3, 7, 10, 4, 5]\n",
    "al.sort()\n",
    "print(al)"
   ]
  },
  {
   "cell_type": "markdown",
   "metadata": {},
   "source": [
    "### Erro comum!!!"
   ]
  },
  {
   "cell_type": "code",
   "execution_count": null,
   "metadata": {},
   "outputs": [],
   "source": [
    "al = [2, 4, 0, 3, 7, 10, 4, 5]\n",
    "outra_lista = al.sort()\n",
    "print(outra_lista[0])"
   ]
  },
  {
   "cell_type": "markdown",
   "metadata": {},
   "source": [
    "### Erros de Sintaxe"
   ]
  },
  {
   "cell_type": "markdown",
   "metadata": {},
   "source": [
    "#### Sintaxe é um conjunto de regras que definem o que são ou não sentenças válidas.\n",
    "#### Erro de sintaxe ocorre quando executamos uma sentença inválida. Veja o exemplo abaixo."
   ]
  },
  {
   "cell_type": "code",
   "execution_count": null,
   "metadata": {},
   "outputs": [],
   "source": [
    "if 3 > 1\n",
    "    print(\"True\")\n",
    "else\n",
    "    print(\"False\")"
   ]
  },
  {
   "cell_type": "markdown",
   "metadata": {},
   "source": [
    "### Erros de Lógica (Logical Errors)"
   ]
  },
  {
   "cell_type": "code",
   "execution_count": null,
   "metadata": {},
   "outputs": [],
   "source": [
    "a = \"10\"\n",
    "if a == 10:\n",
    "    print(\"True\")\n",
    "else:\n",
    "    print(\"False\")\n"
   ]
  },
  {
   "cell_type": "markdown",
   "metadata": {},
   "source": [
    "### Dicionário (dict)\n",
    "### É uma coleção pares de key-value (chave-valor) de tamanho flexível\n",
    "#### O key e o value podem ser qualquer objeto python"
   ]
  },
  {
   "cell_type": "code",
   "execution_count": null,
   "metadata": {},
   "outputs": [],
   "source": [
    "# 1) Criar um dicionário com as seguintes informações de um veículo: \n",
    "#      tipo=carro, ano=2020, ocupacao= 1 e 2\n",
    "# 2) Adicionar um atributo cor=1\n",
    "# 3) Adicionar um atributo fabricante=3\n",
    "# 4) Criar um índice vazio\n",
    "# 5) Imprimir o valor da chave ocupacao\n",
    "\n",
    "empty_dict = {} # Cria um dicionário vazio\n",
    "d1 = {'tipo' : 'carro', 'ano':2020, 'ocup' : [1, 2]} # Cria um dicionário\n",
    "d1['cor'] = 1 # Cria um novo par chave-valor\n",
    "d1['fabric'] = 3 # Cria um novo par chave-valor\n",
    "print(d1)\n",
    "print(d1['ocup'])"
   ]
  },
  {
   "cell_type": "markdown",
   "metadata": {},
   "source": [
    "### Outros métodos relacionados a dicionários"
   ]
  },
  {
   "cell_type": "code",
   "execution_count": null,
   "metadata": {},
   "outputs": [],
   "source": [
    "# 1) Crie o seguinte dicionário: d1 = {'tipo' : 'carro', 'ano':2020, 'ocup' : [1, 2]} \n",
    "# 2) Teste se 'tipo' está dentre as chaves de d1 \n",
    "# 3) Remova o par identificado por 'ano'\n",
    "# 4) Remova o par identificado por 'ocup' e retorne o seu valor\n",
    "# 5) Imprima a lista de keys\n",
    "# 6) Adicione esses pares {'motor' : '18c', 'dono' : 12} ao dicionário\n",
    "\n",
    "d1 = {'tipo' : 'carro', 'ano':2020, 'ocup' : [1, 2]} \n",
    "print('tipo' in d1) # Testa: 'tipo' está em d1.keys()?\n",
    "del d1['ano'] # Remove o par identificado por 'ano'\n",
    "ret = d1.pop('ocup') # Remove do dict e retorna o valor\n",
    "print(list(d1.keys()))\n",
    "d1.update({'motor' : '18c', 'dono' : 12}) #atualiza\n",
    "print(d1)"
   ]
  },
  {
   "cell_type": "code",
   "execution_count": null,
   "metadata": {},
   "outputs": [],
   "source": [
    "#O método items retorna um iterator para uma sequência de tuplas (chave, valor)\n",
    "d1 = {'tipo' : 'carro', 'ano':2020, 'ocup' : [1, 2]} \n",
    "for k, v in d1.items():\n",
    "    print(k, v)"
   ]
  },
  {
   "cell_type": "markdown",
   "metadata": {},
   "source": [
    "### Criando uma lista de dicionários"
   ]
  },
  {
   "cell_type": "code",
   "execution_count": null,
   "metadata": {},
   "outputs": [],
   "source": [
    "s = [['yellow',1],['blue', 2],['yellow', 3],['blue', 4],['red', 1]]\n",
    "d = dict()\n",
    "for k, v in s:\n",
    "    if k in d.keys(): # Testar se já existe esta chave no dicionário\n",
    "        d[k].append(v) # Se existir, adiciona um elemento\n",
    "    else:\n",
    "        d[k] = [v] # Se não existir, cria uma lista e o adiciona\n",
    "    print(d, k, v)\n",
    "print(d)"
   ]
  },
  {
   "cell_type": "markdown",
   "metadata": {},
   "source": [
    "### Criando uma lista de dicionários com o defaultdict"
   ]
  },
  {
   "cell_type": "markdown",
   "metadata": {},
   "source": [
    "#### No defaultdict, cada elemento do dicionário é inicializado com um valor padrão."
   ]
  },
  {
   "cell_type": "code",
   "execution_count": null,
   "metadata": {},
   "outputs": [],
   "source": [
    "# Importar a classe defaultdict do modulo collections\n",
    "from collections import defaultdict\n",
    "s = [['yellow',1],['blue', 2],['yellow', 3],['blue', 4],['red', 1]]\n",
    "d = defaultdict(list)\n",
    "for k, v in s:\n",
    "    d[k].append(v)\n",
    "    print(d, k, v)\n",
    "print(d)"
   ]
  },
  {
   "cell_type": "markdown",
   "metadata": {},
   "source": [
    "### Tupla\n",
    "#### Uma sequência de elementos ordenada e imutável"
   ]
  },
  {
   "cell_type": "code",
   "execution_count": null,
   "metadata": {},
   "outputs": [],
   "source": [
    "# Uma tupla é iterável\n",
    "tup = (True, \"banana\", 2, None)\n",
    "for x in tup:\n",
    "    print(x)"
   ]
  },
  {
   "cell_type": "code",
   "execution_count": null,
   "metadata": {},
   "outputs": [],
   "source": [
    "# Uma tupla é imutável\n",
    "tup[0] = \"a\""
   ]
  },
  {
   "cell_type": "markdown",
   "metadata": {},
   "source": [
    "### Set\n",
    "#### É uma coleção não ordenada de objetos distintos útil para testar pertinência a grupos, e fazer operações como intersecção e união"
   ]
  },
  {
   "cell_type": "code",
   "execution_count": null,
   "metadata": {},
   "outputs": [],
   "source": [
    "c1 = {1, 2, 3, 4}\n",
    "c2 = {3, 4, 5, 6}"
   ]
  },
  {
   "cell_type": "markdown",
   "metadata": {},
   "source": [
    "#### Verificação de pertinência de elemento a grupo"
   ]
  },
  {
   "cell_type": "code",
   "execution_count": null,
   "metadata": {},
   "outputs": [],
   "source": [
    "print(1 in c1)\n",
    "print(9 in c2)"
   ]
  },
  {
   "cell_type": "markdown",
   "metadata": {},
   "source": [
    "#### União de conjuntos"
   ]
  },
  {
   "cell_type": "code",
   "execution_count": null,
   "metadata": {},
   "outputs": [],
   "source": [
    "print(c1 | c2)"
   ]
  },
  {
   "cell_type": "markdown",
   "metadata": {},
   "source": [
    "#### Intersecção entre conjuntos"
   ]
  },
  {
   "cell_type": "code",
   "execution_count": null,
   "metadata": {},
   "outputs": [],
   "source": [
    "print(c1 & c2)"
   ]
  },
  {
   "cell_type": "markdown",
   "metadata": {},
   "source": [
    "### Função zip"
   ]
  },
  {
   "cell_type": "code",
   "execution_count": null,
   "metadata": {},
   "outputs": [],
   "source": [
    "# Junta os elementos de duas sequências, na forma de pares (tuplas)\n",
    "\n",
    "letras = [\"a\", \"b\", \"c\"]\n",
    "numeros = [1, 2, 3]\n",
    "\n",
    "for l, n in zip(letras, numeros):\n",
    "    print(f'{l}, {n}')"
   ]
  },
  {
   "cell_type": "markdown",
   "metadata": {},
   "source": [
    "### Instruções inline e List Comprehension"
   ]
  },
  {
   "cell_type": "code",
   "execution_count": null,
   "metadata": {},
   "outputs": [],
   "source": [
    "# 1) Escreva uma instrução if else na forma inline\n",
    "# Dica - Sintaxe: valor_se_verdadeiro if condicao else valor_se_falso\n",
    "# 2) Escreva uma instrução de loop (for) na forma inline calculando [1, 4, 9 ... 100]\n",
    "# Dica - Sintaxe: [ OPERACAO_VAL for VAL in SEQUENCIA ]\n",
    "\n",
    "a = 2\n",
    "# Sintaxe: valor_se_verdadeiro if condicao else valor_se_falso\n",
    "b = 0 if a > 10 else 1  #Sintaxe: vv if cond else vf\n",
    "print(b)\n",
    "# [ OPERACAO_VAL for VAL in SEQUENCIA ]\n",
    "resultado1 = [x for x in range(10)] # list comprehension\n",
    "resultado2 = [x * x for x in range(10)]\n",
    "print(resultado1)\n",
    "print(resultado2)"
   ]
  },
  {
   "cell_type": "markdown",
   "metadata": {},
   "source": [
    "### Requisições HTTP"
   ]
  },
  {
   "cell_type": "code",
   "execution_count": null,
   "metadata": {},
   "outputs": [],
   "source": [
    "# Requisição HTTP para a página Home do Google\n",
    "!curl http://www.google.com"
   ]
  },
  {
   "cell_type": "code",
   "execution_count": null,
   "metadata": {},
   "outputs": [],
   "source": [
    "# Requisição HTTP para retornar um JSON com cotações do Dolar\n",
    "!curl https://api.exchangerate-api.com/v4/latest/USD"
   ]
  },
  {
   "cell_type": "markdown",
   "metadata": {},
   "source": [
    "### Requisições HTTP em Python"
   ]
  },
  {
   "cell_type": "code",
   "execution_count": null,
   "metadata": {},
   "outputs": [],
   "source": [
    "# Importar a biblioteca que faz requisições HTTP\n",
    "import requests\n",
    "# Fazer uma requisição HTTP\n",
    "r = requests.get(\"https://api.exchangerate-api.com/v4/latest/USD\")\n",
    "# Transformar a resposta em JSON\n",
    "resp_json = r.json()\n",
    "print(resp_json)"
   ]
  },
  {
   "cell_type": "code",
   "execution_count": null,
   "metadata": {},
   "outputs": [],
   "source": [
    "# Imprimir o valor do dicionário correspondente a chave 'provider'\n",
    "print(resp_json['provider'])"
   ]
  },
  {
   "cell_type": "code",
   "execution_count": null,
   "metadata": {},
   "outputs": [],
   "source": [
    "# Imprimir o valor do dicionário correspondente a chave 'date'\n",
    "print(resp_json['date'])"
   ]
  },
  {
   "cell_type": "code",
   "execution_count": null,
   "metadata": {},
   "outputs": [],
   "source": [
    "# Imprimir o valor do dicionário correspondente a chave 'rates'\n",
    "print(resp_json['rates'])"
   ]
  },
  {
   "cell_type": "code",
   "execution_count": null,
   "metadata": {},
   "outputs": [],
   "source": [
    "# Imprimir o valor da cotação do dolar em reais\n",
    "print(resp_json['rates']['BRL'])"
   ]
  },
  {
   "cell_type": "code",
   "execution_count": null,
   "metadata": {},
   "outputs": [],
   "source": [
    "print(resp_json['provider'])\n",
    "print(resp_json['date'])\n",
    "print(resp_json['rates'])\n",
    "print(resp_json['rates']['BRL'])"
   ]
  }
 ],
 "metadata": {
  "kernelspec": {
   "display_name": "Python 3",
   "language": "python",
   "name": "python3"
  },
  "language_info": {
   "codemirror_mode": {
    "name": "ipython",
    "version": 3
   },
   "file_extension": ".py",
   "mimetype": "text/x-python",
   "name": "python",
   "nbconvert_exporter": "python",
   "pygments_lexer": "ipython3",
   "version": "3.8.3"
  },
  "varInspector": {
   "cols": {
    "lenName": 16,
    "lenType": 16,
    "lenVar": 40
   },
   "kernels_config": {
    "python": {
     "delete_cmd_postfix": "",
     "delete_cmd_prefix": "del ",
     "library": "var_list.py",
     "varRefreshCmd": "print(var_dic_list())"
    },
    "r": {
     "delete_cmd_postfix": ") ",
     "delete_cmd_prefix": "rm(",
     "library": "var_list.r",
     "varRefreshCmd": "cat(var_dic_list()) "
    }
   },
   "types_to_exclude": [
    "module",
    "function",
    "builtin_function_or_method",
    "instance",
    "_Feature"
   ],
   "window_display": false
  }
 },
 "nbformat": 4,
 "nbformat_minor": 4
}

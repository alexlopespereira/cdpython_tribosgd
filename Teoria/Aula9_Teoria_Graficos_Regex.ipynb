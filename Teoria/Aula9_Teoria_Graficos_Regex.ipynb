{
 "cells": [
  {
   "cell_type": "markdown",
   "metadata": {},
   "source": [
    "## Aula 9 - Teoria - Gráficos e Regex"
   ]
  },
  {
   "cell_type": "code",
   "execution_count": null,
   "metadata": {},
   "outputs": [],
   "source": [
    "import pandas as pd\n",
    "import numpy as np"
   ]
  },
  {
   "cell_type": "markdown",
   "metadata": {},
   "source": [
    "### Regex"
   ]
  },
  {
   "cell_type": "code",
   "execution_count": null,
   "metadata": {},
   "outputs": [],
   "source": [
    "import re"
   ]
  },
  {
   "cell_type": "code",
   "execution_count": null,
   "metadata": {},
   "outputs": [],
   "source": [
    "# Encontrar todos os termos de uma string que são compostos por letras\n",
    "# ou números\n",
    "g = re.findall('[a-zA-Z0-9]+',  'ABCDE2 2Fab.(cdef1 23 450 345#aaa')\n",
    "g"
   ]
  },
  {
   "cell_type": "code",
   "execution_count": null,
   "metadata": {},
   "outputs": [],
   "source": [
    "result1 = re.search('^\\w+',  'teste 1')\n",
    "print(result1)"
   ]
  },
  {
   "cell_type": "code",
   "execution_count": null,
   "metadata": {},
   "outputs": [],
   "source": [
    "result2 = re.search('^\\w+',  '#teste 2')\n",
    "print(result2)"
   ]
  },
  {
   "cell_type": "code",
   "execution_count": null,
   "metadata": {},
   "outputs": [],
   "source": [
    "# Criar uma função pra testar se uma string atende a uma regex\n",
    "def test_regex(s):\n",
    "    pat = '^\\w+'\n",
    "    if re.search(pat, s):\n",
    "        return True\n",
    "    else:\n",
    "        return False\n",
    "\n",
    "test_regex('#teste 2')"
   ]
  },
  {
   "cell_type": "code",
   "execution_count": null,
   "metadata": {},
   "outputs": [],
   "source": [
    "# Construa uma série com o conteúdo ['foo', 'fuz', np.nan] e faça um replace com regex\n",
    "# usando a expressão regular 'f.' substituindo por 'ba'. Use o parâmetro regex=True\n",
    "pd.Series(['foo', 'fuz', np.nan]).str.replace('f.', 'ba', regex=True)"
   ]
  },
  {
   "cell_type": "code",
   "execution_count": null,
   "metadata": {},
   "outputs": [],
   "source": [
    "# Construa uma série com o conteúdo ['f.o', 'fuz', np.nan] e faça um replace sem regex\n",
    "# da string 'f.' substituindo por 'ba'. Use o parâmetro regex=False.\n",
    "pd.Series(['f.o', 'fuz', np.nan]).str.replace('f.', 'ba', regex=False)"
   ]
  },
  {
   "cell_type": "code",
   "execution_count": null,
   "metadata": {},
   "outputs": [],
   "source": [
    "# Considere a seguinte função lambda\n",
    "repl = lambda m: m.group(0)[::-1]\n",
    "# Construa uma série com o conteúdo ['foo 123', 'bar baz', np.nan] e faça um replace com\n",
    "# regex usando a expressão regular '[a-z]+' substituindo pela função lambda definida acima. \n",
    "# Use o parâmetro regex=True.\n",
    "pd.Series(['foo 123', 'bar baz', np.nan]).str.replace('[a-z]+', repl)"
   ]
  },
  {
   "cell_type": "code",
   "execution_count": null,
   "metadata": {},
   "outputs": [],
   "source": [
    "path_gini = 'https://github.com/alexlopespereira/curso_ciencia_dados2020/raw/master/data/originais/gini/ginibr.csv'\n",
    "df_gini = pd.read_csv(path_gini, sep=';', skiprows=2, skipfooter=2, encoding='utf8', engine='python', decimal=',', dtype={\"1991\": \"str\"})"
   ]
  },
  {
   "cell_type": "code",
   "execution_count": null,
   "metadata": {},
   "outputs": [],
   "source": [
    "df_gini.head()"
   ]
  },
  {
   "cell_type": "code",
   "execution_count": null,
   "metadata": {},
   "outputs": [],
   "source": [
    "# Perceba que as colunas 1991 e 2000 não tem o formato float\n",
    "df_gini.info()"
   ]
  },
  {
   "cell_type": "code",
   "execution_count": null,
   "metadata": {},
   "outputs": [],
   "source": [
    "result = df_gini['1991'].apply(lambda x: x if not re.search('-?[0-9]+(.|,)?[0-9]*', x) else np.nan)"
   ]
  },
  {
   "cell_type": "code",
   "execution_count": null,
   "metadata": {},
   "outputs": [],
   "source": [
    "result.unique()"
   ]
  },
  {
   "cell_type": "markdown",
   "metadata": {},
   "source": [
    "### Tratamento de Exceções em Python"
   ]
  },
  {
   "cell_type": "code",
   "execution_count": null,
   "metadata": {},
   "outputs": [],
   "source": [
    "a = 0 / 0\n",
    "print(\"Passou aqui\")"
   ]
  },
  {
   "cell_type": "code",
   "execution_count": null,
   "metadata": {},
   "outputs": [],
   "source": [
    "for i in range(0, 5):\n",
    "    try:\n",
    "        a = 1000/i\n",
    "        print(\"resultado: {0}\".format(i))\n",
    "    except ZeroDivisionError as e:\n",
    "        print(e)\n",
    "        print(\"deu erro. i={0}\".format(i))\n",
    "        pass\n",
    "    except Exeption as e2:\n",
    "        print(\"faz outra coisa\")\n",
    "        pass\n",
    "\n"
   ]
  },
  {
   "cell_type": "markdown",
   "metadata": {
    "id": "ISXNgKjqVn6N"
   },
   "source": [
    "### Gráficos com Seaborn"
   ]
  },
  {
   "cell_type": "code",
   "execution_count": null,
   "metadata": {
    "id": "isSSUYFHVn6P"
   },
   "outputs": [],
   "source": [
    "import pandas as pd\n",
    "import numpy as np\n",
    "import matplotlib.pyplot as plt # Biblioteca para plotar gráficos\n",
    "import seaborn as sns # Biblioteca para plotar gráficos baseada no matplotlib"
   ]
  },
  {
   "cell_type": "markdown",
   "metadata": {
    "id": "VSOWINoFVn6Q"
   },
   "source": [
    "#### Dataset tips"
   ]
  },
  {
   "cell_type": "code",
   "execution_count": null,
   "metadata": {
    "colab": {
     "base_uri": "https://localhost:8080/",
     "height": 206
    },
    "id": "y2tBw6_JVn6Q",
    "outputId": "542e594c-2940-4c6a-9d91-2518677c61c4"
   },
   "outputs": [],
   "source": [
    "sns.set() # Ajusta valor padrão de tema, escala e paleta de cor\n",
    "# Considere dataset de gorgetas a seguir\n",
    "tips = sns.load_dataset(\"tips\") \n",
    "# Mostre as primeiras linhas do dataframe tips\n",
    "tips.head()"
   ]
  },
  {
   "cell_type": "code",
   "execution_count": null,
   "metadata": {
    "id": "MzD-qzx4Vn6T",
    "outputId": "ae9d26c1-f68c-44c4-f71e-3471de64747b"
   },
   "outputs": [],
   "source": [
    "# Criar um scatter plot com o dado da gorgeta (tip) no eixo y, o total da conta (total_bill) no eixo x\n",
    "#    e o dia da semana (day) representado em cores diferentes no gráfico. Para definir as cores use o parâmetro\n",
    "#    hue.\n",
    "sns.relplot(x=\"total_bill\", y=\"tip\", hue=\"day\", data=tips)\n"
   ]
  },
  {
   "cell_type": "markdown",
   "metadata": {
    "id": "Mf-P2ukHVn6c"
   },
   "source": [
    "#### Dataset frmi"
   ]
  },
  {
   "cell_type": "code",
   "execution_count": null,
   "metadata": {
    "id": "ZMf292UPVn6c",
    "outputId": "502041d7-7258-4992-bf6a-894142616ac1"
   },
   "outputs": [],
   "source": [
    "# Considere o seguinte dataframe\n",
    "fmri = sns.load_dataset(\"fmri\")\n",
    "fmri.head()"
   ]
  },
  {
   "cell_type": "code",
   "execution_count": null,
   "metadata": {
    "id": "t9mJm21XVn6d",
    "outputId": "1b9435e2-8f3f-46c4-f767-d258d0d9286f"
   },
   "outputs": [],
   "source": [
    "# Crie um gráfico de linhas especificando no eixo x a variável timepoint, no eixo y a variável signal,\n",
    "#   na separação em gráficos distintos (argumento col) utilize a variável region, nas cores e estilo utilize a \n",
    "#   variável event.\n",
    "sns.relplot(x=\"timepoint\", y=\"signal\", col=\"region\",\n",
    "            hue=\"event\", style=\"event\",\n",
    "            kind=\"line\", data=fmri);"
   ]
  },
  {
   "cell_type": "markdown",
   "metadata": {
    "id": "RVj2jcrqVn6l"
   },
   "source": [
    "#### Gráfico de Violino (Violin plot)"
   ]
  },
  {
   "cell_type": "code",
   "execution_count": null,
   "metadata": {
    "id": "lH_GmzGoVn6p",
    "outputId": "adbd55d8-39f8-4072-fe51-63bdf432f20a"
   },
   "outputs": [],
   "source": [
    "# Considere o seguinte método que traça 3 gráfciso: um histograma, um boxplot e um gráfico de violino\n",
    "# Fonte: https://towardsdatascience.com/violin-plots-explained-fb1d115e023d\n",
    "def plot_comparison(x, title):\n",
    "    fig, ax = plt.subplots(3, 1, sharex=True)\n",
    "    sns.distplot(x, ax=ax[0])\n",
    "    ax[0].set_title('Histogram + KDE')\n",
    "    sns.boxplot(x, ax=ax[1])\n",
    "    ax[1].set_title('Boxplot')\n",
    "    sns.violinplot(x, ax=ax[2])\n",
    "    ax[2].set_title('Violin plot')\n",
    "    fig.suptitle(title, fontsize=16)\n",
    "    plt.show()\n",
    "\n",
    "sample_gaussian = np.random.normal(size=1000)\n",
    "plot_comparison(sample_gaussian, 'Standard Normal Distribution')"
   ]
  },
  {
   "cell_type": "code",
   "execution_count": null,
   "metadata": {
    "colab": {
     "base_uri": "https://localhost:8080/",
     "height": 382
    },
    "id": "DTSMqc0jVn6r",
    "outputId": "a9ae2998-853f-48f3-cadb-28ac3699d6be"
   },
   "outputs": [],
   "source": [
    "# Crie um gráfico de violino do dataset de gorjetas (tips) colocando na viariável x o dia da semana (day),\n",
    "#     no eixo y o total da conta (total_bill), desagregue por fumante (smoker) representando a desagregação por\n",
    "#     cores distintas. Use o argumento split=True para colocar num mesmo violino os dados referentes às duas\n",
    "#     categorias de smoker (Yes e No).\n",
    "sns.catplot(x=\"day\", y=\"total_bill\", hue=\"smoker\",\n",
    "            kind=\"violin\", split=True, data=tips);"
   ]
  },
  {
   "cell_type": "markdown",
   "metadata": {
    "id": "HpkWTktgVn6t"
   },
   "source": [
    "#### Gráfico de Barras"
   ]
  },
  {
   "cell_type": "code",
   "execution_count": null,
   "metadata": {
    "id": "mNJBX-GOVn6t",
    "outputId": "0a47643b-2e3c-4720-9cb3-4a0b9d280c63"
   },
   "outputs": [],
   "source": [
    "# Crie um gráfico categórico colocando no eixo x o dia da semana (day), no eixo y a média de total_bill,\n",
    "#      e a desagregação por cor da variável smoker.\n",
    "sns.catplot(x=\"day\", y=\"total_bill\", hue=\"smoker\",\n",
    "            kind=\"bar\", data=tips);"
   ]
  },
  {
   "cell_type": "markdown",
   "metadata": {
    "id": "1wGERfEsVn6u"
   },
   "source": [
    "#### pairplot (pares de gráficos)"
   ]
  },
  {
   "cell_type": "code",
   "execution_count": null,
   "metadata": {
    "id": "1qFmV2f1Vn6u",
    "outputId": "39b86d5e-0194-4cde-8eba-9efbb453369e"
   },
   "outputs": [],
   "source": [
    "# Considere o dataframe a seguir carregado a partir do dataset iris\n",
    "iris = sns.load_dataset(\"iris\")\n",
    "# Plote um conjunto de gráficos de scatter plot de todas as combinações de todas as variáveis do dataframe,\n",
    "#     desagregando em cores as diferentes espécies. Esse tipo de gráfico no Seaborn é conhecido por pairplot.\n",
    "sns.pairplot(data=iris, hue=\"species\");"
   ]
  },
  {
   "cell_type": "code",
   "execution_count": null,
   "metadata": {
    "colab": {
     "base_uri": "https://localhost:8080/",
     "height": 306
    },
    "id": "EyLQXcLWVn6v",
    "outputId": "b473f93f-3868-46fb-d547-d7487278bf64"
   },
   "outputs": [],
   "source": [
    "# Altere a escala da fonte para 1.2 usando o método sns.set()\n",
    "sns.set(font_scale=1.2)\n",
    "# Crie um gráfico de caixas (boxplot) retornando para uma variável g. Use no eixo x o total_bill, em y o dia da\n",
    "#      semana, desagregue pelo tipo de refeição (time) com cores diferentes. Ajuste a autura para 4, \n",
    "#      o aspect para 2.\n",
    "g = sns.catplot(x=\"total_bill\", y=\"day\", hue=\"time\",\n",
    "                height=4, aspect=2,\n",
    "                kind=\"box\", data=tips);\n",
    "\n",
    "# Altere a legenda do gráfico para Meal\n",
    "g.add_legend(title=\"Meal\")\n",
    "# Altere o label do eixo x para \"Total bill ($)\"\n",
    "g.set_axis_labels(\"Total bill ($)\", \"\")\n",
    "# Altere os valores dos ticks no eixo y para [\"Thu\", \"Fri\", \"Sat\", \"Sun\"]. E ajuste os limites inferior e \n",
    "#      superior do eixo x para o seguinte intervalo xlim=(0, 60)\n",
    "g.set(xlim=(0, 60), yticklabels=[\"Thu\", \"Fri\", \"Sat\", \"Sun\"])\n",
    "# Ajuste os ticks no eixo x para [5, 15, 25, 35, 45, 55]\n",
    "g.ax.set_xticks([5, 15, 25, 35, 45, 55]);\n",
    "# Rotacione em 30 graus a orientação das legendas do eixo y.\n",
    "plt.setp(g.ax.get_yticklabels(), rotation=30);"
   ]
  },
  {
   "cell_type": "code",
   "execution_count": null,
   "metadata": {
    "id": "NBWdIs_KVn6w"
   },
   "outputs": [],
   "source": []
  }
 ],
 "metadata": {
  "kernelspec": {
   "display_name": "Python 3",
   "language": "python",
   "name": "python3"
  },
  "language_info": {
   "codemirror_mode": {
    "name": "ipython",
    "version": 3
   },
   "file_extension": ".py",
   "mimetype": "text/x-python",
   "name": "python",
   "nbconvert_exporter": "python",
   "pygments_lexer": "ipython3",
   "version": "3.8.3"
  },
  "varInspector": {
   "cols": {
    "lenName": 16,
    "lenType": 16,
    "lenVar": 40
   },
   "kernels_config": {
    "python": {
     "delete_cmd_postfix": "",
     "delete_cmd_prefix": "del ",
     "library": "var_list.py",
     "varRefreshCmd": "print(var_dic_list())"
    },
    "r": {
     "delete_cmd_postfix": ") ",
     "delete_cmd_prefix": "rm(",
     "library": "var_list.r",
     "varRefreshCmd": "cat(var_dic_list()) "
    }
   },
   "types_to_exclude": [
    "module",
    "function",
    "builtin_function_or_method",
    "instance",
    "_Feature"
   ],
   "window_display": false
  }
 },
 "nbformat": 4,
 "nbformat_minor": 4
}

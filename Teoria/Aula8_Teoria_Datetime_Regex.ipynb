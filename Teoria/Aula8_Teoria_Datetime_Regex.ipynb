{
 "cells": [
  {
   "cell_type": "markdown",
   "metadata": {},
   "source": [
    "## Aula 8 - Teoria - Datetime e Regex"
   ]
  },
  {
   "cell_type": "code",
   "execution_count": null,
   "metadata": {},
   "outputs": [],
   "source": [
    "import pandas as pd\n",
    "import numpy as np"
   ]
  },
  {
   "cell_type": "markdown",
   "metadata": {},
   "source": [
    "### Datetime em Python"
   ]
  },
  {
   "cell_type": "code",
   "execution_count": null,
   "metadata": {},
   "outputs": [],
   "source": [
    "from datetime import datetime # Esta biblioteca python realiza diversas operações com datas"
   ]
  },
  {
   "cell_type": "code",
   "execution_count": null,
   "metadata": {},
   "outputs": [],
   "source": [
    "# Criar data a partir dos números do ano, dia e mês\n",
    "datetime(2020, 5, 17)"
   ]
  },
  {
   "cell_type": "code",
   "execution_count": null,
   "metadata": {},
   "outputs": [],
   "source": [
    "# Crie um objeto datetime a partir da data '18/09/19 01:55:19' usando o método strptime\n",
    "datetime.strptime('18/09/19 01:55:19', '%d/%m/%y %H:%M:%S')"
   ]
  },
  {
   "cell_type": "code",
   "execution_count": null,
   "metadata": {},
   "outputs": [],
   "source": [
    "# Crie novamente o mesmo objeto datetime criado acima, desta vez guardando-o numa variavel d\n",
    "d = datetime.strptime('18/09/19 01:55:19', '%d/%m/%y %H:%M:%S')\n",
    "# Converta o datetime guardado em d para um string ANO-MÊS-DIA\n",
    "d.strftime('%Y-%m-%d')"
   ]
  },
  {
   "cell_type": "code",
   "execution_count": null,
   "metadata": {},
   "outputs": [],
   "source": [
    "#Datetime de agora\n",
    "datetime.now()"
   ]
  },
  {
   "cell_type": "code",
   "execution_count": null,
   "metadata": {},
   "outputs": [],
   "source": [
    "# Imprima o ano armazenado na variável datetime d\n",
    "print(d.day, d.month, d.year, d.hour, d.minute)"
   ]
  },
  {
   "cell_type": "code",
   "execution_count": null,
   "metadata": {},
   "outputs": [],
   "source": [
    "# Dia da semana\n",
    "d.weekday()  \n"
   ]
  },
  {
   "cell_type": "code",
   "execution_count": null,
   "metadata": {},
   "outputs": [],
   "source": [
    "#timedelta  (intervalo de tempo)\n",
    "from datetime import timedelta\n",
    "d = timedelta(weeks=2)\n",
    "d"
   ]
  },
  {
   "cell_type": "code",
   "execution_count": null,
   "metadata": {},
   "outputs": [],
   "source": [
    "#Aritmética de datas\n",
    "datetime.now() + timedelta(days=15)\n"
   ]
  },
  {
   "cell_type": "code",
   "execution_count": null,
   "metadata": {},
   "outputs": [],
   "source": [
    "#Subtração\n",
    "date1 = datetime(2021, 5, 21, 18, 25, 30)\n",
    "date2 = datetime(2021, 5, 16, 8, 21, 10)\n",
    "date1 - date2"
   ]
  },
  {
   "cell_type": "code",
   "execution_count": null,
   "metadata": {},
   "outputs": [],
   "source": [
    "long_month_name = \"February, 10, 2021\"\n",
    "datetime_object = datetime.strptime(long_month_name, \"%B, %d, %Y\")\n",
    "datetime_object"
   ]
  },
  {
   "cell_type": "code",
   "execution_count": null,
   "metadata": {},
   "outputs": [],
   "source": [
    "import locale\n",
    "# Mostra o locale corrente (atual)\n",
    "locale.getlocale()"
   ]
  },
  {
   "cell_type": "markdown",
   "metadata": {},
   "source": [
    "### Manipulação de Datas com Pandas"
   ]
  },
  {
   "cell_type": "markdown",
   "metadata": {},
   "source": [
    "#### Amostras de datas em Intervalos fixos"
   ]
  },
  {
   "cell_type": "code",
   "execution_count": null,
   "metadata": {},
   "outputs": [],
   "source": [
    "pd.date_range(\"2018-01-01\", periods=3, freq=\"H\")"
   ]
  },
  {
   "cell_type": "code",
   "execution_count": null,
   "metadata": {},
   "outputs": [],
   "source": [
    "# Criar uma série que contenha numeros sequenciais \n",
    "# e um índice com datas datas\n",
    "idx = pd.date_range(\"2018-01-01\", periods=5, freq=\"H\")\n",
    "ts = pd.Series(range(len(idx)), index=idx)\n",
    "ts"
   ]
  },
  {
   "cell_type": "markdown",
   "metadata": {},
   "source": [
    "#### Reamostrar uma Série temporal "
   ]
  },
  {
   "cell_type": "code",
   "execution_count": null,
   "metadata": {},
   "outputs": [],
   "source": [
    "# Reamostrar os valores num intervalo de 2h, \n",
    "# aplicando a média como métrica da reamostragem\n",
    "ts.resample(\"2H\").mean()"
   ]
  },
  {
   "cell_type": "markdown",
   "metadata": {},
   "source": [
    "#### String para Datetime com Pandas"
   ]
  },
  {
   "cell_type": "code",
   "execution_count": null,
   "metadata": {},
   "outputs": [],
   "source": [
    "#Converter uma string\n",
    "pd.to_datetime(\"2010/11/12\", format=\"%Y/%m/%d\")"
   ]
  },
  {
   "cell_type": "code",
   "execution_count": null,
   "metadata": {},
   "outputs": [],
   "source": [
    "# Converter os valores de uma serie\n",
    "s = pd.Series(['3/11/2000', '3/12/2000', '3/13/2000'])\n",
    "pd.to_datetime(s, infer_datetime_format=True)"
   ]
  },
  {
   "cell_type": "code",
   "execution_count": null,
   "metadata": {},
   "outputs": [],
   "source": []
  },
  {
   "cell_type": "markdown",
   "metadata": {},
   "source": [
    "### Regex"
   ]
  },
  {
   "cell_type": "code",
   "execution_count": null,
   "metadata": {},
   "outputs": [],
   "source": [
    "import re"
   ]
  },
  {
   "cell_type": "code",
   "execution_count": null,
   "metadata": {},
   "outputs": [],
   "source": [
    "# Encontrar todos os termos de uma string que são compostos por letras\n",
    "# ou números\n",
    "g = re.findall('[a-zA-Z0-9]+',  'ABCDE2 2Fab.(cdef1 23 450 345#aaa')\n",
    "g"
   ]
  },
  {
   "cell_type": "code",
   "execution_count": null,
   "metadata": {},
   "outputs": [],
   "source": [
    "result1 = re.search('^\\w+',  'teste 1')\n",
    "print(result1)"
   ]
  },
  {
   "cell_type": "code",
   "execution_count": null,
   "metadata": {},
   "outputs": [],
   "source": [
    "result2 = re.search('^\\w+',  '#teste 2')\n",
    "print(result2)"
   ]
  },
  {
   "cell_type": "code",
   "execution_count": null,
   "metadata": {},
   "outputs": [],
   "source": [
    "# Criar uma função pra testar se uma string atende a uma regex\n",
    "def test_regex(s):\n",
    "    pat = '^\\w+'\n",
    "    if re.search(pat, s):\n",
    "        return True\n",
    "    else:\n",
    "        return False\n",
    "\n",
    "test_regex('#teste 2')"
   ]
  },
  {
   "cell_type": "code",
   "execution_count": null,
   "metadata": {},
   "outputs": [],
   "source": [
    "# Construa uma série com o conteúdo ['foo', 'fuz', np.nan] e faça um replace com regex\n",
    "# usando a expressão regular 'f.' substituindo por 'ba'. Use o parâmetro regex=True\n",
    "pd.Series(['foo', 'fuz', np.nan]).str.replace('f.', 'ba', regex=True)"
   ]
  },
  {
   "cell_type": "code",
   "execution_count": null,
   "metadata": {},
   "outputs": [],
   "source": [
    "# Construa uma série com o conteúdo ['f.o', 'fuz', np.nan] e faça um replace sem regex\n",
    "# da string 'f.' substituindo por 'ba'. Use o parâmetro regex=False.\n",
    "pd.Series(['f.o', 'fuz', np.nan]).str.replace('f.', 'ba', regex=False)"
   ]
  },
  {
   "cell_type": "code",
   "execution_count": null,
   "metadata": {},
   "outputs": [],
   "source": [
    "# Considere a seguinte função lambda\n",
    "repl = lambda m: m.group(0)[::-1]\n",
    "# Construa uma série com o conteúdo ['foo 123', 'bar baz', np.nan] e faça um replace com\n",
    "# regex usando a expressão regular '[a-z]+' substituindo pela função lambda definida acima. \n",
    "# Use o parâmetro regex=True.\n",
    "pd.Series(['foo 123', 'bar baz', np.nan]).str.replace('[a-z]+', repl)"
   ]
  },
  {
   "cell_type": "code",
   "execution_count": null,
   "metadata": {},
   "outputs": [],
   "source": [
    "path_gini = 'https://github.com/alexlopespereira/curso_ciencia_dados2020/raw/master/data/originais/gini/ginibr.csv'\n",
    "df_gini = pd.read_csv(path_gini, sep=';', skiprows=2, skipfooter=2, encoding='utf8', engine='python', decimal=',', dtype={\"1991\": \"str\"})"
   ]
  },
  {
   "cell_type": "code",
   "execution_count": null,
   "metadata": {},
   "outputs": [],
   "source": [
    "df_gini.head()"
   ]
  },
  {
   "cell_type": "code",
   "execution_count": null,
   "metadata": {},
   "outputs": [],
   "source": [
    "# Perceba que as colunas 1991 e 2000 não tem o formato float\n",
    "df_gini.info()"
   ]
  },
  {
   "cell_type": "code",
   "execution_count": null,
   "metadata": {},
   "outputs": [],
   "source": [
    "result = df_gini['1991'].apply(lambda x: x if not re.search('-?[0-9]+(.|,)?[0-9]*', x) else np.nan)"
   ]
  },
  {
   "cell_type": "code",
   "execution_count": null,
   "metadata": {},
   "outputs": [],
   "source": [
    "result.unique()"
   ]
  },
  {
   "cell_type": "markdown",
   "metadata": {},
   "source": [
    "### Tratamento de Exceções em Python"
   ]
  },
  {
   "cell_type": "code",
   "execution_count": null,
   "metadata": {},
   "outputs": [],
   "source": [
    "a = 0 / 0\n",
    "print(\"Passou aqui\")"
   ]
  },
  {
   "cell_type": "code",
   "execution_count": null,
   "metadata": {},
   "outputs": [],
   "source": [
    "for i in range(0, 5):\n",
    "    try:\n",
    "        a = 1000/i\n",
    "        print(\"resultado: {0}\".format(i))\n",
    "    except ZeroDivisionError as e:\n",
    "        print(e)\n",
    "        print(\"deu erro. i={0}\".format(i))\n",
    "        pass\n",
    "    except Exeption as e2:\n",
    "        print(\"faz outra coisa\")\n",
    "        pass\n",
    "\n"
   ]
  }
 ],
 "metadata": {
  "kernelspec": {
   "display_name": "Python 3",
   "language": "python",
   "name": "python3"
  },
  "language_info": {
   "codemirror_mode": {
    "name": "ipython",
    "version": 3
   },
   "file_extension": ".py",
   "mimetype": "text/x-python",
   "name": "python",
   "nbconvert_exporter": "python",
   "pygments_lexer": "ipython3",
   "version": "3.8.3"
  },
  "varInspector": {
   "cols": {
    "lenName": 16,
    "lenType": 16,
    "lenVar": 40
   },
   "kernels_config": {
    "python": {
     "delete_cmd_postfix": "",
     "delete_cmd_prefix": "del ",
     "library": "var_list.py",
     "varRefreshCmd": "print(var_dic_list())"
    },
    "r": {
     "delete_cmd_postfix": ") ",
     "delete_cmd_prefix": "rm(",
     "library": "var_list.r",
     "varRefreshCmd": "cat(var_dic_list()) "
    }
   },
   "types_to_exclude": [
    "module",
    "function",
    "builtin_function_or_method",
    "instance",
    "_Feature"
   ],
   "window_display": false
  }
 },
 "nbformat": 4,
 "nbformat_minor": 4
}

{
 "cells": [
  {
   "cell_type": "markdown",
   "metadata": {
    "id": "TG2V6VOniKEE"
   },
   "source": [
    "## Aula 6 - Pandas Parte III (Merge e Join)"
   ]
  },
  {
   "cell_type": "code",
   "execution_count": null,
   "metadata": {
    "id": "0peMk7gaiKEJ"
   },
   "outputs": [],
   "source": [
    "import pandas as pd\n",
    "import numpy as np\n",
    "import matplotlib.pyplot as plt \n",
    "import seaborn as sns\n",
    "import re"
   ]
  },
  {
   "cell_type": "markdown",
   "metadata": {
    "id": "U22DWJv5iKEL"
   },
   "source": [
    "### merge (fundir/juntar)\n",
    "#### A chave de junção (identificador único) foi inferida a partir do contexto (procurando nas colunas)\n",
    "#### Também pode ser especificada com o argumento on (Ex.: on='key')"
   ]
  },
  {
   "cell_type": "code",
   "execution_count": null,
   "metadata": {
    "id": "yxqpf6tdiKEM"
   },
   "outputs": [],
   "source": [
    "# Considere os seguintes DataFrames\n",
    "df1 = pd.DataFrame({'key': ['b', 'b', 'a', 'c', 'a', 'a', 'b'], 'data1': range(7)})\n",
    "df2 = pd.DataFrame({'key': ['a', 'b', 'd'], 'data2': range(3)})"
   ]
  },
  {
   "cell_type": "code",
   "execution_count": null,
   "metadata": {
    "id": "QQH8OIMviKEN"
   },
   "outputs": [],
   "source": [
    "# Mostre o dataframe df1\n",
    "df1"
   ]
  },
  {
   "cell_type": "code",
   "execution_count": null,
   "metadata": {
    "id": "8ehrfpG2iKEN"
   },
   "outputs": [],
   "source": [
    "# Mostre o dataframe df2\n",
    "df2"
   ]
  },
  {
   "cell_type": "code",
   "execution_count": null,
   "metadata": {
    "id": "UIs11C6wiKEO"
   },
   "outputs": [],
   "source": [
    "# Faça o merge dos dois dataframes usando como chave de junção a coluna 'key'\n",
    "# O parametro on neste caso é redundante. Funcionaria sem ele.\n",
    "pd.merge(df1, df2, on='key')\n",
    "\n",
    "# Por que chamamos esse tipo de merge/join de inner ? R.: Porque ele considera apenas a \n",
    "#     intersecção dos dois conjuntos de chaves.\n",
    "# O argumento how='inner' é o padrão."
   ]
  },
  {
   "cell_type": "code",
   "execution_count": null,
   "metadata": {
    "id": "OuVlM5_NiKEP"
   },
   "outputs": [],
   "source": [
    "# Faça também o merge com o argumento how='outer'\n",
    "pd.merge(df1, df2, how='outer')"
   ]
  },
  {
   "cell_type": "code",
   "execution_count": null,
   "metadata": {
    "id": "LDnvdJc-iKEQ"
   },
   "outputs": [],
   "source": [
    "left = pd.DataFrame({\"A\": [1, 2], \"B\": [1, 2]})\n",
    "right = pd.DataFrame({\"A\": [4, 5, 6], \"B\": [2, 2, 2]})\n",
    "print(right)\n",
    "print(left)\n",
    "pd.merge(left, right, on=\"B\", how=\"outer\", validate=\"one_to_one\")"
   ]
  },
  {
   "cell_type": "markdown",
   "metadata": {
    "id": "Rleh3UmbiKEQ"
   },
   "source": [
    "### join (fundir/juntar)\n",
    "#### Semelhante ao merge, mas a chave de junção é o índice do DataFrame"
   ]
  },
  {
   "cell_type": "code",
   "execution_count": null,
   "metadata": {
    "id": "wf_5ZKTQiKER"
   },
   "outputs": [],
   "source": [
    "# Considere os seguintes DataFrames\n",
    "left2 = pd.DataFrame([[1., 2.], [3., 4.], [5., 6.]], index=['a', 'c', 'e'], \n",
    "                     columns=['Ohio', 'Nevada'])\n",
    "right2 = pd.DataFrame([[7., 8.], [9., 10.], [11., 12.], [13, 14]],index=['b', 'c', 'd', 'e'],\n",
    "                     columns=['Missouri', 'Alabama'])\n"
   ]
  },
  {
   "cell_type": "code",
   "execution_count": null,
   "metadata": {
    "id": "5uHpgx-KiKER"
   },
   "outputs": [],
   "source": [
    "# Mostre o dataframe left2\n",
    "left2"
   ]
  },
  {
   "cell_type": "code",
   "execution_count": null,
   "metadata": {
    "id": "VYZ5UopGiKES"
   },
   "outputs": [],
   "source": [
    "# Mostre o dataframe right2\n",
    "right2"
   ]
  },
  {
   "cell_type": "code",
   "execution_count": null,
   "metadata": {
    "id": "ci5kxEiAiKES"
   },
   "outputs": [],
   "source": [
    "# Faça o join entre os dois DataFrames sem descartar registros que não estejam \n",
    "#      nos dois DataFrames\n",
    "left2.join(right2, how='outer')"
   ]
  },
  {
   "cell_type": "code",
   "execution_count": null,
   "metadata": {
    "id": "lscfFdJniKES"
   },
   "outputs": [],
   "source": [
    "# Considerando os dataframes left2 e right2 definidos acima\n",
    "# Faça o join entre os dois DataFrames sem descartar registros que estejam \n",
    "# apenas no dataframe left2, e descartando registros que estejam apenas no right2\n",
    "left2.join(right2, how='left')"
   ]
  },
  {
   "cell_type": "markdown",
   "metadata": {
    "id": "uKKx0UYRiKET"
   },
   "source": [
    "### Reshaping / Pivoting (Pivotar)"
   ]
  },
  {
   "cell_type": "code",
   "execution_count": null,
   "metadata": {
    "id": "aG_WJRwxiKET"
   },
   "outputs": [],
   "source": [
    "# Considere o seguinte DataFrame\n",
    "table = {\n",
    "    'Aluno': ['AlunoA', 'AlunoA', 'AlunoA', 'AlunoA', 'AlunoB', 'AlunoB', 'AlunoB', 'AlunoB'],\n",
    "    'Disciplina': ['Portugues', 'Matematica', 'Geografia', 'História', 'Portugues', 'Matematica', 'Geografia', 'História'],\n",
    "    'Objetiva': [8.5, 7.5, 9, 10, 8.5, 7.5, 9, 10],\n",
    "    'Discursiva': [6, 6.5, 7.5, 7, 8.5, 7.5, 9, 10]}\n",
    "df_provas = pd.DataFrame(table)\n",
    "df_provas"
   ]
  },
  {
   "cell_type": "code",
   "execution_count": null,
   "metadata": {
    "id": "ft3Vn-2viKEU"
   },
   "outputs": [],
   "source": [
    "# Pivote o dataframe df_provas colocando a coluna Aluno como índice, \n",
    "# os valores da coluna Disciplina como colunas, e os valores da coluna Objetiva\n",
    "# como conteúdo do novo dataframe\n",
    "df_pivoted = df_provas.pivot(index='Aluno', columns='Disciplina', values=['Objetiva', 'Discursiva'])\n",
    "df_pivoted"
   ]
  },
  {
   "cell_type": "code",
   "execution_count": null,
   "metadata": {
    "id": "H4PFjkn_iKEU"
   },
   "outputs": [],
   "source": [
    "df_pivoted['Objetiva'].loc['AlunoA',['Geografia', 'História']]"
   ]
  },
  {
   "cell_type": "markdown",
   "metadata": {
    "id": "JThTvyQdiKEV"
   },
   "source": [
    "### E quando houver valores repetidos ?\n",
    "#### Pivotar com o mesmo método pivot() gera exceção. Neste caso, use o método pivot_table \n",
    "#### mean é a métrica padrão de cálculo sobre a de agregação"
   ]
  },
  {
   "cell_type": "code",
   "execution_count": null,
   "metadata": {
    "id": "tw7AwNjniKEV"
   },
   "outputs": [],
   "source": [
    "# Considere o seguinte DataFrame\n",
    "table2 = {\n",
    "    'Aluno': ['AlunoA', 'AlunoA', 'AlunoA', 'AlunoA', 'AlunoA', 'AlunoB', 'AlunoB', 'AlunoB', 'AlunoB'],\n",
    "    'Disciplina': ['Portugues', 'Matematica', 'Geografia', 'Geografia', 'História', 'Portugues', 'Matematica', 'Geografia', 'História'],\n",
    "    'Objetiva': [8.5, 7.5, 9, 10, 9, 8.5, 7.5, 9, 10],\n",
    "    'Discursiva': [6, 6.5, 7.5, 7, 8, 8.5, 7.5, 9, 10]}\n",
    "df_provas2 = pd.DataFrame(table2)\n",
    "df_provas2"
   ]
  },
  {
   "cell_type": "code",
   "execution_count": null,
   "metadata": {
    "id": "QtPycnDmiKEW"
   },
   "outputs": [],
   "source": [
    "# Pivotar com o mesmo comando gera uma exceção\n",
    "# df_pivoted2 = df_provas2.pivot(index='Aluno', columns='Disciplina', values='Objetiva')\n",
    "# Use a funcao pivot_table. O valor padrão do argumento aggfunc é 'mean'\n",
    "df_pivoted2 = df_provas2.pivot_table(index='Aluno', columns='Disciplina', values='Objetiva',\n",
    "                                    aggfunc='max')\n",
    "df_pivoted2\n"
   ]
  },
  {
   "cell_type": "markdown",
   "metadata": {
    "id": "E07APRvxiKEW"
   },
   "source": [
    "### Reshaping / Pivoting com Índice Hierárquico\n",
    "#### Método stack/unstack (Pivotar com índice hierárquico)"
   ]
  },
  {
   "cell_type": "code",
   "execution_count": null,
   "metadata": {
    "colab": {
     "base_uri": "https://localhost:8080/",
     "height": 142
    },
    "executionInfo": {
     "elapsed": 1119,
     "status": "ok",
     "timestamp": 1620738376462,
     "user": {
      "displayName": "Rodrigo Dias Botelho",
      "photoUrl": "https://lh3.googleusercontent.com/a-/AOh14GjgTCvHxMnMBu2B5-g2VAM3j8PQUhXgqpsy81hnkA=s64",
      "userId": "15723687865298183300"
     },
     "user_tz": 180
    },
    "id": "-PErJqfTiKEX",
    "outputId": "02d7ca7d-1806-4daf-ebf4-4ce1e09b7752"
   },
   "outputs": [],
   "source": [
    "# Considere o seguinte dataframe\n",
    "data = pd.DataFrame(np.arange(6).reshape((2, 3)),\n",
    "                    index=pd.Index(['Ohio', 'Colorado'], name='state'),\n",
    "                    columns=pd.Index(['one', 'two', 'three'],\n",
    "                    name='number'))\n",
    "data"
   ]
  },
  {
   "cell_type": "code",
   "execution_count": null,
   "metadata": {
    "colab": {
     "base_uri": "https://localhost:8080/",
     "height": 173
    },
    "executionInfo": {
     "elapsed": 631,
     "status": "ok",
     "timestamp": 1620738540360,
     "user": {
      "displayName": "Rodrigo Dias Botelho",
      "photoUrl": "https://lh3.googleusercontent.com/a-/AOh14GjgTCvHxMnMBu2B5-g2VAM3j8PQUhXgqpsy81hnkA=s64",
      "userId": "15723687865298183300"
     },
     "user_tz": 180
    },
    "id": "PlJUt7-JiSBz",
    "outputId": "0c95e085-9ef2-4ed9-f592-a10d15ea0f66"
   },
   "outputs": [],
   "source": [
    "data.T"
   ]
  },
  {
   "cell_type": "code",
   "execution_count": null,
   "metadata": {
    "id": "9NIuAjb4iKEY"
   },
   "outputs": [],
   "source": [
    "# Faça uma operação de unpivoting (stack) com o dataframe data e guarde na variavel result\n",
    "result = data.stack()\n",
    "result"
   ]
  },
  {
   "cell_type": "code",
   "execution_count": null,
   "metadata": {
    "id": "R2XNV6BmiKEY"
   },
   "outputs": [],
   "source": [
    "# Faça uma operação de pivoting (unstack) com o dataframe result\n",
    "result.unstack()"
   ]
  },
  {
   "cell_type": "markdown",
   "metadata": {
    "id": "bf63vg3KwTLv"
   },
   "source": [
    "### Datetime em Python"
   ]
  },
  {
   "cell_type": "code",
   "execution_count": null,
   "metadata": {
    "id": "CIuHK9X7wTLv"
   },
   "outputs": [],
   "source": [
    "from datetime import datetime # Esta biblioteca python realiza diversas operações com datas"
   ]
  },
  {
   "cell_type": "code",
   "execution_count": null,
   "metadata": {
    "id": "tJD9Ezi2wTLw"
   },
   "outputs": [],
   "source": [
    "# Criar data a partir dos números do ano, dia e mês\n",
    "datetime(2020, 5, 17)"
   ]
  },
  {
   "cell_type": "code",
   "execution_count": null,
   "metadata": {
    "id": "V-CETT-RwTLw"
   },
   "outputs": [],
   "source": [
    "# Crie um objeto datetime a partir da data '18/09/19 01:55:19' usando o método strptime\n",
    "datetime.strptime('18/09/19 01:55:19', '%d/%m/%y %H:%M:%S')"
   ]
  },
  {
   "cell_type": "code",
   "execution_count": null,
   "metadata": {
    "id": "ssr4NWX7wTLw"
   },
   "outputs": [],
   "source": [
    "# Crie novamente o mesmo objeto datetime criado acima, desta vez guardando-o numa variavel d\n",
    "d = datetime.strptime('18/09/19 01:55:19', '%d/%m/%y %H:%M:%S')\n",
    "# Converta o datetime guardado em d para um string ANO-MÊS-DIA\n",
    "d.strftime('%Y-%m-%d')"
   ]
  },
  {
   "cell_type": "code",
   "execution_count": null,
   "metadata": {
    "id": "1WqOxS1bwTLw"
   },
   "outputs": [],
   "source": [
    "#Datetime de agora\n",
    "datetime.now()"
   ]
  },
  {
   "cell_type": "code",
   "execution_count": null,
   "metadata": {
    "id": "WY5e4wsrwTLx"
   },
   "outputs": [],
   "source": [
    "# Imprima o ano armazenado na variável datetime d\n",
    "print(d.day, d.month, d.year, d.hour, d.minute)"
   ]
  },
  {
   "cell_type": "code",
   "execution_count": null,
   "metadata": {
    "id": "_A4bK8jewTLy"
   },
   "outputs": [],
   "source": [
    "# Dia da semana\n",
    "d.weekday()  \n"
   ]
  },
  {
   "cell_type": "code",
   "execution_count": null,
   "metadata": {
    "id": "mFIfzHMrwTLy"
   },
   "outputs": [],
   "source": [
    "#timedelta  (intervalo de tempo)\n",
    "from datetime import timedelta\n",
    "d = timedelta(weeks=2)\n",
    "d"
   ]
  },
  {
   "cell_type": "code",
   "execution_count": null,
   "metadata": {
    "id": "eMByZA3LwTLy"
   },
   "outputs": [],
   "source": [
    "#Aritmética de datas\n",
    "datetime.now() + timedelta(days=15)\n"
   ]
  },
  {
   "cell_type": "code",
   "execution_count": null,
   "metadata": {
    "id": "6QFEX_p5wTLz"
   },
   "outputs": [],
   "source": [
    "#Subtração\n",
    "date1 = datetime(2021, 5, 21, 18, 25, 30)\n",
    "date2 = datetime(2021, 5, 16, 8, 21, 10)\n",
    "date1 - date2"
   ]
  },
  {
   "cell_type": "code",
   "execution_count": null,
   "metadata": {
    "id": "a3hthACjwTLz"
   },
   "outputs": [],
   "source": [
    "long_month_name = \"February, 10, 2021\"\n",
    "datetime_object = datetime.strptime(long_month_name, \"%B, %d, %Y\")\n",
    "datetime_object"
   ]
  },
  {
   "cell_type": "code",
   "execution_count": null,
   "metadata": {
    "id": "aS_0oOK3wTL0",
    "outputId": "5f31f9a5-c973-4d0f-9ffd-3c008d686da7"
   },
   "outputs": [],
   "source": [
    "import locale\n",
    "# Mostra o locale corrente (atual)\n",
    "\n",
    "locale.setlocale(locale.LC_ALL, 'pt_BR.UTF-8')\n",
    "locale.getlocale()"
   ]
  },
  {
   "cell_type": "markdown",
   "metadata": {
    "id": "VT8as2i1wTL0"
   },
   "source": [
    "### Manipulação de Datas com Pandas"
   ]
  },
  {
   "cell_type": "markdown",
   "metadata": {
    "id": "6qz3y_64wTL1"
   },
   "source": [
    "#### Amostras de datas em Intervalos fixos"
   ]
  },
  {
   "cell_type": "code",
   "execution_count": null,
   "metadata": {
    "id": "PpjJcOp9wTL1"
   },
   "outputs": [],
   "source": [
    "pd.date_range(\"2018-01-01\", periods=3, freq=\"H\")"
   ]
  },
  {
   "cell_type": "code",
   "execution_count": null,
   "metadata": {
    "id": "SdhF0LsLwTL2",
    "outputId": "4db0207a-03d8-48c3-f6ef-c192b780750f"
   },
   "outputs": [],
   "source": [
    "# Criar uma série que contenha numeros sequenciais \n",
    "# e um índice com datas datas\n",
    "idx = pd.date_range(\"2018-01-01\", periods=10, freq=\"H\")\n",
    "ts = pd.DataFrame(range(len(idx)), index=idx)\n",
    "ts.reset_index()"
   ]
  },
  {
   "cell_type": "markdown",
   "metadata": {
    "id": "79QqImBrwTL3"
   },
   "source": [
    "#### Reamostrar uma Série temporal "
   ]
  },
  {
   "cell_type": "code",
   "execution_count": null,
   "metadata": {
    "id": "k77km41QwTL3"
   },
   "outputs": [],
   "source": [
    "# Reamostrar os valores num intervalo de 2h, \n",
    "# aplicando a média como métrica da reamostragem\n",
    "ts.resample(\"2H\").mean()"
   ]
  },
  {
   "cell_type": "markdown",
   "metadata": {
    "id": "Mesi4xznwTL4"
   },
   "source": [
    "#### String para Datetime com Pandas"
   ]
  },
  {
   "cell_type": "code",
   "execution_count": null,
   "metadata": {
    "id": "EtMwX9HkwTL4"
   },
   "outputs": [],
   "source": [
    "#Converter uma string\n",
    "pd.to_datetime(\"2010/11/12\", format=\"%Y/%m/%d\")"
   ]
  },
  {
   "cell_type": "code",
   "execution_count": null,
   "metadata": {
    "id": "XGc4LkjMwTL5"
   },
   "outputs": [],
   "source": [
    "# Converter os valores de uma serie\n",
    "s = pd.Series(['3/11/2000', '3/12/2000', '3/13/2000'])\n",
    "pd.to_datetime(s, infer_datetime_format=True)"
   ]
  },
  {
   "cell_type": "code",
   "execution_count": null,
   "metadata": {
    "id": "e_vgWTxzwTL5"
   },
   "outputs": [],
   "source": []
  }
 ],
 "metadata": {
  "colab": {
   "collapsed_sections": [
    "uKKx0UYRiKET",
    "JThTvyQdiKEV",
    "E07APRvxiKEW",
    "bf63vg3KwTLv",
    "VT8as2i1wTL0",
    "6qz3y_64wTL1",
    "79QqImBrwTL3",
    "Mesi4xznwTL4"
   ],
   "name": "Aula6_Teoria_Pandas_III.ipynb",
   "provenance": []
  },
  "kernelspec": {
   "display_name": "Python 3",
   "language": "python",
   "name": "python3"
  },
  "language_info": {
   "codemirror_mode": {
    "name": "ipython",
    "version": 3
   },
   "file_extension": ".py",
   "mimetype": "text/x-python",
   "name": "python",
   "nbconvert_exporter": "python",
   "pygments_lexer": "ipython3",
   "version": "3.8.3"
  },
  "varInspector": {
   "cols": {
    "lenName": 16,
    "lenType": 16,
    "lenVar": 40
   },
   "kernels_config": {
    "python": {
     "delete_cmd_postfix": "",
     "delete_cmd_prefix": "del ",
     "library": "var_list.py",
     "varRefreshCmd": "print(var_dic_list())"
    },
    "r": {
     "delete_cmd_postfix": ") ",
     "delete_cmd_prefix": "rm(",
     "library": "var_list.r",
     "varRefreshCmd": "cat(var_dic_list()) "
    }
   },
   "types_to_exclude": [
    "module",
    "function",
    "builtin_function_or_method",
    "instance",
    "_Feature"
   ],
   "window_display": false
  }
 },
 "nbformat": 4,
 "nbformat_minor": 0
}

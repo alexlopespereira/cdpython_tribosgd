{
 "cells": [
  {
   "cell_type": "markdown",
   "metadata": {},
   "source": [
    "# Aula 2 - Warmup de Estruturas de Dados Nativas do Python"
   ]
  },
  {
   "cell_type": "markdown",
   "metadata": {},
   "source": [
    "### Treinando ordenamento de listas (Slide 3)"
   ]
  },
  {
   "cell_type": "markdown",
   "metadata": {},
   "source": [
    "#### W2.1 Crie uma lista de numeros inteiros e ordene-a usando um método built-in que altera a propria lista."
   ]
  },
  {
   "cell_type": "code",
   "execution_count": null,
   "metadata": {
    "nbgrader": {
     "grade": false,
     "grade_id": "cell-ecd7845804c3fdd0",
     "locked": false,
     "schema_version": 3,
     "solution": true,
     "task": false
    }
   },
   "outputs": [],
   "source": [
    "### BEGIN SOLUTION\n",
    "lista = [5, 6, 1, 100, -2]\n",
    "lista.sort()\n",
    "print(lista)\n",
    "### END SOLUTION"
   ]
  },
  {
   "cell_type": "markdown",
   "metadata": {},
   "source": [
    "#### W2.2 Crie uma lista de strings e ordene-a usando um método que retorna uma cópia alterada da lista. "
   ]
  },
  {
   "cell_type": "code",
   "execution_count": null,
   "metadata": {
    "nbgrader": {
     "grade": false,
     "grade_id": "cell-3abf91a12065db21",
     "locked": false,
     "schema_version": 3,
     "solution": true,
     "task": false
    }
   },
   "outputs": [],
   "source": [
    "### BEGIN SOLUTION\n",
    "lista = [\"5\", \"a\", \"0\", \"\", \"asdf\"]\n",
    "print(sorted(lista))\n",
    "### END SOLUTION"
   ]
  },
  {
   "cell_type": "markdown",
   "metadata": {},
   "source": [
    "### Corrigindo Erros de Sintaxe  (Slide 5)"
   ]
  },
  {
   "cell_type": "markdown",
   "metadata": {},
   "source": [
    "#### W2.3 Corrija os erros de sintaxe das células abaixo"
   ]
  },
  {
   "cell_type": "code",
   "execution_count": null,
   "metadata": {},
   "outputs": [],
   "source": [
    "if 3 > 1\n",
    "    print(\"True\")\n",
    "else\n",
    "    print(\"False\")"
   ]
  },
  {
   "cell_type": "code",
   "execution_count": null,
   "metadata": {
    "nbgrader": {
     "grade": false,
     "grade_id": "cell-4d00fbe2ffe9eca5",
     "locked": false,
     "schema_version": 3,
     "solution": true,
     "task": false
    }
   },
   "outputs": [],
   "source": [
    "# Faça aqui\n",
    "### BEGIN SOLUTION\n",
    "if 3 > 1:\n",
    "    print(\"True\")\n",
    "else:\n",
    "    print(\"False\")\n",
    "### END SOLUTION"
   ]
  },
  {
   "cell_type": "code",
   "execution_count": null,
   "metadata": {},
   "outputs": [],
   "source": [
    "a = (3+b)*2)\n",
    "b = 4"
   ]
  },
  {
   "cell_type": "code",
   "execution_count": null,
   "metadata": {
    "nbgrader": {
     "grade": false,
     "grade_id": "cell-26f1077053ea05b9",
     "locked": false,
     "schema_version": 3,
     "solution": true,
     "task": false
    }
   },
   "outputs": [],
   "source": [
    "# Faça aqui\n",
    "### BEGIN SOLUTION\n",
    "b = 4\n",
    "a = (3+b)*2\n",
    "### END SOLUTION"
   ]
  },
  {
   "cell_type": "code",
   "execution_count": null,
   "metadata": {},
   "outputs": [],
   "source": [
    "print('where is jonh's car')"
   ]
  },
  {
   "cell_type": "code",
   "execution_count": null,
   "metadata": {
    "nbgrader": {
     "grade": false,
     "grade_id": "cell-9a557668cec18b15",
     "locked": false,
     "schema_version": 3,
     "solution": true,
     "task": false
    }
   },
   "outputs": [],
   "source": [
    "# Dica: o caracter \\ pode ser utilizado para escapar (ignorar) \n",
    "#       caracteres especiais dentro de strings.\n",
    "# Faça aqui\n",
    "### BEGIN SOLUTION\n",
    "print('where is jonh\\'s car')\n",
    "\n",
    "# Solução alternativa\n",
    "print(\"where is jonh's car\")\n",
    "### END SOLUTION"
   ]
  },
  {
   "cell_type": "code",
   "execution_count": null,
   "metadata": {},
   "outputs": [],
   "source": [
    "if True:\n",
    "print(\"Isso sempre é impresso.\")"
   ]
  },
  {
   "cell_type": "code",
   "execution_count": null,
   "metadata": {
    "nbgrader": {
     "grade": false,
     "grade_id": "cell-88092cbb0676f69e",
     "locked": false,
     "schema_version": 3,
     "solution": true,
     "task": false
    }
   },
   "outputs": [],
   "source": [
    "# Faça aqui\n",
    "### BEGIN SOLUTION\n",
    "if True:\n",
    "    print(\"Isso sempre é impresso.\")\n",
    "### END SOLUTION"
   ]
  },
  {
   "cell_type": "markdown",
   "metadata": {},
   "source": [
    "### Corrigindo Erros de Runtime (Slide 7)"
   ]
  },
  {
   "cell_type": "markdown",
   "metadata": {},
   "source": [
    "#### W2.4 Corrija os erros do tipo Runtime abaixo"
   ]
  },
  {
   "cell_type": "code",
   "execution_count": null,
   "metadata": {},
   "outputs": [],
   "source": [
    "# Efetuar a divisão a seguir\n",
    "10/\"5\" "
   ]
  },
  {
   "cell_type": "code",
   "execution_count": null,
   "metadata": {
    "nbgrader": {
     "grade": false,
     "grade_id": "cell-7b1cb642471c5ea0",
     "locked": false,
     "schema_version": 3,
     "solution": true,
     "task": false
    }
   },
   "outputs": [],
   "source": [
    "# Faça aqui\n",
    "### BEGIN SOLUTION\n",
    "10/5\n",
    "### END SOLUTION"
   ]
  },
  {
   "cell_type": "code",
   "execution_count": null,
   "metadata": {},
   "outputs": [],
   "source": [
    "c = [1, 2, 3]\n",
    "# Imprimir o ultimo elemento da lista c\n",
    "print(c[3]) "
   ]
  },
  {
   "cell_type": "code",
   "execution_count": null,
   "metadata": {
    "nbgrader": {
     "grade": false,
     "grade_id": "cell-2433ce65164a726d",
     "locked": false,
     "schema_version": 3,
     "solution": true,
     "task": false
    }
   },
   "outputs": [],
   "source": [
    "# Faça aqui\n",
    "### BEGIN SOLUTION\n",
    "print(c[2]) \n",
    "### END SOLUTION"
   ]
  },
  {
   "cell_type": "code",
   "execution_count": null,
   "metadata": {},
   "outputs": [],
   "source": [
    "l = [{\"nome\": \"Joao\", \"telefone\": 9917363}, {\"nome\": \"Ana\", \"telefone\": 9023633},\n",
    "    {\"nome\": \"Roberto\", \"telefone\": 9937321}, {\"none\": \"Maria\", \"telefome\": 92736213}]\n",
    "# imprimir o valor do telefone e do nome do ultimo elemento da lista de dicionários\n",
    "print(l[-1]['telefone'], l[-1]['nome'])"
   ]
  },
  {
   "cell_type": "code",
   "execution_count": null,
   "metadata": {
    "nbgrader": {
     "grade": false,
     "grade_id": "cell-42271734f1d33400",
     "locked": false,
     "schema_version": 3,
     "solution": true,
     "task": false
    }
   },
   "outputs": [],
   "source": [
    "# Faça aqui\n",
    "### BEGIN SOLUTION\n",
    "l = [{\"nome\": \"Joao\", \"telefone\": 9917363}, {\"nome\": \"Ana\", \"telefone\": 9023633},\n",
    "    {\"nome\": \"Roberto\", \"telefone\": 9937321}, {\"nome\": \"Maria\", \"telefone\": 92736213}]\n",
    "# imprimir o valor do telefone e do nome do ultimo elemento da lista de dicionários\n",
    "print(l[-1]['telefone'], l[-1]['nome'])\n",
    "### END SOLUTION"
   ]
  },
  {
   "cell_type": "markdown",
   "metadata": {},
   "source": [
    "### Corrigindo Erros de Lógica  (Slide 8)"
   ]
  },
  {
   "cell_type": "markdown",
   "metadata": {},
   "source": [
    "#### W2.5 Corrija os erros de lógica das células abaixo"
   ]
  },
  {
   "cell_type": "code",
   "execution_count": null,
   "metadata": {},
   "outputs": [],
   "source": [
    "# Encontre o erro e faça o código correto na célula abaixo desta\n",
    "a = \"10\"\n",
    "if a == 10:\n",
    "    print(f\"{a} é igual a 10\")\n",
    "else:\n",
    "    print(f\"{a} é diferente de 10\")"
   ]
  },
  {
   "cell_type": "code",
   "execution_count": null,
   "metadata": {
    "nbgrader": {
     "grade": false,
     "grade_id": "cell-876f98a752c76df7",
     "locked": false,
     "schema_version": 3,
     "solution": true,
     "task": false
    }
   },
   "outputs": [],
   "source": [
    "# Faça aqui\n",
    "### BEGIN SOLUTION\n",
    "# Uma das possíveis soluções é esta apresentada a seguir:\n",
    "a = 10\n",
    "if a == 10:\n",
    "    print(f\"{a} é igual a 10\")\n",
    "else:\n",
    "    print(f\"{a} é diferente de 10\")\n",
    "### END SOLUTION"
   ]
  },
  {
   "cell_type": "code",
   "execution_count": null,
   "metadata": {},
   "outputs": [],
   "source": [
    "# Encontre o erro e faça o código correto na célula abaixo desta\n",
    "l = [\"awerr\", \"aab\", \"sssaere\", \"aabb\", \"qwerttt\", \"12345\"]\n",
    "# Código para imprimir os elementos da lista l cujo tamanho seja maior que 3\n",
    "for x in l[1:]:\n",
    "    if len(x) > 3:\n",
    "        print(x)"
   ]
  },
  {
   "cell_type": "code",
   "execution_count": null,
   "metadata": {
    "nbgrader": {
     "grade": false,
     "grade_id": "cell-1b3832f5df58f03c",
     "locked": false,
     "schema_version": 3,
     "solution": true,
     "task": false
    }
   },
   "outputs": [],
   "source": [
    "# Faça aqui\n",
    "### BEGIN SOLUTION\n",
    "l = [\"awerr\", \"aab\", \"sssaere\", \"aabb\", \"qwerttt\", \"12345\"]\n",
    "# Código para imprimir os elementos da lista l cujo tamanho seja maior que 3\n",
    "for x in l[:]:\n",
    "    if len(x) > 3:\n",
    "        print(x)\n",
    "### END SOLUTION"
   ]
  },
  {
   "cell_type": "markdown",
   "metadata": {},
   "source": [
    "### Treinando conceitos de dicionário (dict) em python (Slide 11)"
   ]
  },
  {
   "cell_type": "markdown",
   "metadata": {},
   "source": [
    "#### W2.6 Criar um dicionário que represente o conteúdo da tabela abaixo"
   ]
  },
  {
   "cell_type": "markdown",
   "metadata": {},
   "source": [
    "| Nome       | Endereço     | Telefone     |\n",
    "| :------------- | :----------: | -----------: |\n",
    "|  Jose da Silva | Rua 2, n. 39   | 119865563    |"
   ]
  },
  {
   "cell_type": "code",
   "execution_count": null,
   "metadata": {
    "nbgrader": {
     "grade": false,
     "grade_id": "cell-e82fa194744b4f22",
     "locked": false,
     "schema_version": 3,
     "solution": true,
     "task": false
    }
   },
   "outputs": [],
   "source": [
    "# Faça aqui\n",
    "### BEGIN SOLUTION\n",
    "d = {'nome': 'Jose da Silva', 'Endereço': \"Rua 2, n. 39\", \"Telefone\": \"119865563\"}\n",
    "# Ou\n",
    "d = {'nome': 'Jose da Silva', 'Endereço': \"Rua 2, n. 39\", \"Telefone\": 119865563}\n",
    "### END SOLUTION"
   ]
  },
  {
   "cell_type": "markdown",
   "metadata": {},
   "source": [
    "#### W2.7 Jose da Silva mudou seu número de telefone para 1187662330. Altere este valor no dicionário que você acabou de criar"
   ]
  },
  {
   "cell_type": "code",
   "execution_count": null,
   "metadata": {
    "nbgrader": {
     "grade": false,
     "grade_id": "cell-72ead8714d876ceb",
     "locked": false,
     "schema_version": 3,
     "solution": true,
     "task": false
    }
   },
   "outputs": [],
   "source": [
    "# Faça aqui\n",
    "### BEGIN SOLUTION\n",
    "d[\"Telefone\"] = 119865563\n",
    "### END SOLUTION"
   ]
  },
  {
   "cell_type": "markdown",
   "metadata": {},
   "source": [
    "#### W2.8 Crie um atributo CPF no dicionário da célula acima e adicione o CPF do Jose da Silva: 495.152.344-90"
   ]
  },
  {
   "cell_type": "code",
   "execution_count": null,
   "metadata": {
    "nbgrader": {
     "grade": false,
     "grade_id": "cell-184aace577272028",
     "locked": false,
     "schema_version": 3,
     "solution": true,
     "task": false
    }
   },
   "outputs": [],
   "source": [
    "# Faça aqui\n",
    "### BEGIN SOLUTION\n",
    "d[\"CPF\"] = \"495.152.344-90\"\n",
    "### END SOLUTION"
   ]
  },
  {
   "cell_type": "markdown",
   "metadata": {},
   "source": [
    "#### W2.9 Remova o atributo Endereço desse dicionário"
   ]
  },
  {
   "cell_type": "code",
   "execution_count": null,
   "metadata": {
    "nbgrader": {
     "grade": false,
     "grade_id": "cell-54f5c035193faadd",
     "locked": false,
     "schema_version": 3,
     "solution": true,
     "task": false
    }
   },
   "outputs": [],
   "source": [
    "# Faça aqui\n",
    "### BEGIN SOLUTION\n",
    "del d[\"Endereço\"]\n",
    "### END SOLUTION"
   ]
  },
  {
   "cell_type": "markdown",
   "metadata": {},
   "source": [
    "### Treinando conceitos de Tupla (Slide 15)"
   ]
  },
  {
   "cell_type": "markdown",
   "metadata": {},
   "source": [
    "#### W2.10 Crie uma tupla com os números inteiros ímpares entre 0 e 10. Simplesmente crie a tupla, sem nenhum laço(loop)."
   ]
  },
  {
   "cell_type": "code",
   "execution_count": null,
   "metadata": {
    "nbgrader": {
     "grade": false,
     "grade_id": "cell-5976368b2d2ae647",
     "locked": false,
     "schema_version": 3,
     "solution": true,
     "task": false
    },
    "scrolled": true
   },
   "outputs": [],
   "source": [
    "# Faça aqui\n",
    "### BEGIN SOLUTION\n",
    "t1 = (0,1,2,3,4,5,6,7,8,9,10)\n",
    "# solucao alternativa\n",
    "t2 = tuple(range(0,11))\n",
    "### END SOLUTION"
   ]
  },
  {
   "cell_type": "code",
   "execution_count": null,
   "metadata": {
    "nbgrader": {
     "grade": false,
     "grade_id": "cell-a0db510e1a41af40",
     "locked": false,
     "schema_version": 3,
     "solution": true,
     "task": false
    }
   },
   "outputs": [],
   "source": [
    "# Faça uma iteração sobre a tupla da célula anterior e \n",
    "# imprima o valor de cada elemento elevado ao quadrado.\n",
    "# Faça aqui\n",
    "### BEGIN SOLUTION\n",
    "for i in t1:\n",
    "    print(i**2)\n",
    "### END SOLUTION"
   ]
  },
  {
   "cell_type": "markdown",
   "metadata": {},
   "source": [
    "### Treinando conceitos de Set (Slide 17)"
   ]
  },
  {
   "cell_type": "code",
   "execution_count": null,
   "metadata": {
    "scrolled": true
   },
   "outputs": [],
   "source": [
    "# Considere os seguintes conjuntos\n",
    "c1 = {1, 2, 3, 4, \"a\", \"b\", \"c\"}\n",
    "c2 = {3, 4, 5, 6, \"a\", \"e\"}"
   ]
  },
  {
   "cell_type": "markdown",
   "metadata": {},
   "source": [
    "#### W2.11 Escreva um código que cria a união dos conjuntos c1 e c2"
   ]
  },
  {
   "cell_type": "code",
   "execution_count": null,
   "metadata": {
    "nbgrader": {
     "grade": false,
     "grade_id": "cell-e9e83852422d7e19",
     "locked": false,
     "schema_version": 3,
     "solution": true,
     "task": false
    }
   },
   "outputs": [],
   "source": [
    "# Faça aqui\n",
    "### BEGIN SOLUTION\n",
    "c1.union(c2)\n",
    "### END SOLUTION"
   ]
  },
  {
   "cell_type": "markdown",
   "metadata": {},
   "source": [
    "#### W2.12 Escreva um código que cria a intersecção dos conjuntos c1 e c2"
   ]
  },
  {
   "cell_type": "code",
   "execution_count": null,
   "metadata": {
    "nbgrader": {
     "grade": false,
     "grade_id": "cell-40c3a36f8e6a169a",
     "locked": false,
     "schema_version": 3,
     "solution": true,
     "task": false
    }
   },
   "outputs": [],
   "source": [
    "# Faça aqui\n",
    "### BEGIN SOLUTION\n",
    "c1.intersection(c2)\n",
    "### END SOLUTION"
   ]
  },
  {
   "cell_type": "markdown",
   "metadata": {},
   "source": [
    "#### W2.13 Criar uma lista de dicionários que represente o conteúdo da tabela abaixo"
   ]
  },
  {
   "cell_type": "markdown",
   "metadata": {},
   "source": [
    "| Nome       | Endereço     | Telefone     | CPF |\n",
    "| :------------- | :----------: | -----------: | -----------: |\n",
    "|  Jose da Silva | Rua 2, n. 39   | 119865563    | 495.152.344-90\n",
    "|  Roberto da Araujo | Av 2, n. 2010   | 389912353    | 755.223.432-10\n",
    "|  Maria Almeida | Rua Jau, n. 309   | 139845162    | 131.223.415-12\n",
    "|  Joaquim Pereira | Av Sete de Setembro, n. 5240   | 329912633    | 456.214.616-67"
   ]
  },
  {
   "cell_type": "code",
   "execution_count": null,
   "metadata": {
    "nbgrader": {
     "grade": false,
     "grade_id": "cell-4de29ff675d23ff0",
     "locked": false,
     "schema_version": 3,
     "solution": true,
     "task": false
    }
   },
   "outputs": [],
   "source": [
    "# Faça aqui\n",
    "### BEGIN SOLUTION\n",
    "l = [\n",
    "    {\"nome\": \"Jose da Silva\", \"Endereço\": \"Rua 2, n. 39\", \"Telefone\": \"119865563\", \"CPF\": \"495.152.344-90\"},\n",
    "    {\"nome\": \"Roberto da Araujo\", \"Endereço\": \"Av 2, n. 2010\", \"Telefone\": \"389912353\", \"CPF\": \"755.223.432-10\"},\n",
    "    {\"nome\": \"Maria Almeida\", \"Endereço\": \"Rua Jau, n. 309\", \"Telefone\": \"139845162\", \"CPF\": \"131.223.415-12\"},\n",
    "    {\"nome\": \"Joaquim Pereira\", \"Endereço\": \"Av Sete de Setembro, n. 5240\" , \"Telefone\": \"329912633\", \"CPF\": \"456.214.616-67\"}\n",
    "  ]\n",
    "### END SOLUTION"
   ]
  },
  {
   "cell_type": "markdown",
   "metadata": {},
   "source": [
    "#### W2.14 Considerando a lista de dicionários do exercício anterior, remova o dicionário do José da Silva desta lista."
   ]
  },
  {
   "cell_type": "code",
   "execution_count": null,
   "metadata": {
    "nbgrader": {
     "grade": false,
     "grade_id": "cell-288cf6ca354e8001",
     "locked": false,
     "schema_version": 3,
     "solution": true,
     "task": false
    }
   },
   "outputs": [],
   "source": [
    "# Faça aqui\n",
    "### BEGIN SOLUTION\n",
    "l.pop(0)\n",
    "print(l)\n",
    "### END SOLUTION"
   ]
  },
  {
   "cell_type": "markdown",
   "metadata": {},
   "source": [
    "#### W2.15 Considerando a lista de dicionarios do exercicio anterior, usando um loop, remova todos os telefones desta lista de dicionários"
   ]
  },
  {
   "cell_type": "code",
   "execution_count": null,
   "metadata": {
    "nbgrader": {
     "grade": false,
     "grade_id": "cell-f9b29d0f9343f404",
     "locked": false,
     "schema_version": 3,
     "solution": true,
     "task": false
    }
   },
   "outputs": [],
   "source": [
    "# Faça aqui\n",
    "### BEGIN SOLUTION\n",
    "for e in l:\n",
    "    del e['Telefone']\n",
    "\n",
    "print(l)\n",
    "### END SOLUTION"
   ]
  },
  {
   "cell_type": "markdown",
   "metadata": {},
   "source": [
    "### Treinando a função zip  (Slide 21)"
   ]
  },
  {
   "cell_type": "markdown",
   "metadata": {},
   "source": [
    "#### W2.16 Crie um código que execute as instruções solicitadas abaixo"
   ]
  },
  {
   "cell_type": "code",
   "execution_count": null,
   "metadata": {
    "nbgrader": {
     "grade": false,
     "grade_id": "cell-617a50b1b9a4ef1b",
     "locked": false,
     "schema_version": 3,
     "solution": true,
     "task": false
    }
   },
   "outputs": [],
   "source": [
    "# Considere as seguintes listas\n",
    "letras = [\"Jan\", \"Fev\", \"Mar\"]\n",
    "numeros = [1000, 2000, 3000]\n",
    "\n",
    "# Usando a função zip e um loop do tipo for, crie um dicionário cuja chave sejam \n",
    "# os elementos da lista letras e o valor os elementos da lista numeros\n",
    "# Resultado esperado: {\"Jan\": 1000, \"Fev\": 2000, \"Mar\": 3000}\n",
    "# Faça aqui\n",
    "### BEGIN SOLUTION\n",
    "result = {}\n",
    "for l, n in zip(letras, numeros):\n",
    "    result[l] = n\n",
    "print(result)\n",
    "### END SOLUTION"
   ]
  },
  {
   "cell_type": "markdown",
   "metadata": {},
   "source": [
    "### Treinando instruções inline e list comprehension  (Slide 22)"
   ]
  },
  {
   "cell_type": "markdown",
   "metadata": {},
   "source": [
    "#### W2.17 Escreva uma instrução ```if else``` na forma inline que teste o tamanho de uma string e retorne True caso o seu tamanho seja maior que 5, e Falso caso contrário.\n",
    "#### Dica - Sintaxe: valor_se_verdadeiro if condicao else valor_se_falso"
   ]
  },
  {
   "cell_type": "code",
   "execution_count": null,
   "metadata": {
    "nbgrader": {
     "grade": false,
     "grade_id": "cell-0876947d747cd681",
     "locked": false,
     "schema_version": 3,
     "solution": true,
     "task": false
    }
   },
   "outputs": [],
   "source": [
    "# Faça aqui\n",
    "### BEGIN SOLUTION\n",
    "s = \"asdfasd\"\n",
    "r = True if len(s) > 5 else False\n",
    "print(r)\n",
    "### END SOLUTION\n"
   ]
  },
  {
   "cell_type": "markdown",
   "metadata": {},
   "source": [
    "#### W2.18 Escreva um list comprehension, ou seja, uma instrução de loop (for) na forma inline que gere a lista [1, 4, 9, 16, 25, 36, 49, 64,  81, 100]\n",
    "#### Dica - Sintaxe: [ OPERACAO_COM_X for X in SEQUENCIA ]"
   ]
  },
  {
   "cell_type": "code",
   "execution_count": null,
   "metadata": {
    "nbgrader": {
     "grade": false,
     "grade_id": "cell-87754dbd0467c717",
     "locked": false,
     "schema_version": 3,
     "solution": true,
     "task": false
    }
   },
   "outputs": [],
   "source": [
    "# Faça aqui\n",
    "### BEGIN SOLUTION\n",
    "[x**2 for x in range(1, 11)]\n",
    "### END SOLUTION"
   ]
  },
  {
   "cell_type": "markdown",
   "metadata": {},
   "source": [
    "#### W2.19 Escreva um list comprehension, ou seja, uma instrução de loop (for) na forma inline que gere a lista [1, 3, 5, 7, 9, 11, 13, 15, 17, 19]\n",
    "#### Dica - Sintaxe: [ OPERACAO_COM_X for X in SEQUENCIA ]"
   ]
  },
  {
   "cell_type": "code",
   "execution_count": null,
   "metadata": {
    "nbgrader": {
     "grade": false,
     "grade_id": "cell-ffec87ae8bbda598",
     "locked": false,
     "schema_version": 3,
     "solution": true,
     "task": false
    }
   },
   "outputs": [],
   "source": [
    "# Faça aqui\n",
    "### BEGIN SOLUTION\n",
    "[x for x in range(1, 20, 2)]\n",
    "### END SOLUTION"
   ]
  },
  {
   "cell_type": "markdown",
   "metadata": {},
   "source": [
    "#### W2.20 Escreva um dict comprehension, ou seja, uma instrução de loop (for) na forma inline que gere um dicionário. O dicionário deve conter palavras nas suas chaves e nos valores, os respectivos tamanhos (quantidade de letras) das suas chaves.\n",
    "#### Exemplo: {\"carro\": 5, \"moto\": 4, \"trem\": 4, \"aviao\": 5, \"bicicleta\": 9} "
   ]
  },
  {
   "cell_type": "code",
   "execution_count": null,
   "metadata": {
    "nbgrader": {
     "grade": false,
     "grade_id": "cell-2a696a59d288e6a3",
     "locked": false,
     "schema_version": 3,
     "solution": true,
     "task": false
    }
   },
   "outputs": [],
   "source": [
    "palavras = [\"carro\", \"moto\", \"trem\", \"aviao\", \"bicicleta\"]\n",
    "# Faça aqui\n",
    "### BEGIN SOLUTION\n",
    "{k:len(k) for k in palavras}\n",
    "### END SOLUTION"
   ]
  },
  {
   "cell_type": "markdown",
   "metadata": {},
   "source": [
    "### Treinando requisições HTTP em Python (Slide 26)"
   ]
  },
  {
   "cell_type": "markdown",
   "metadata": {},
   "source": [
    "#### W2.21 Escreva um código python para fazer uma requisição http à URL ```https://api.exchangerate-api.com/v4/latest/USD``` e imprimir a cotação do Dolar em EURO.\n",
    "#### Dica: o código do Euro no JSON retornado por esta requisição é EUR."
   ]
  },
  {
   "cell_type": "code",
   "execution_count": null,
   "metadata": {
    "nbgrader": {
     "grade": false,
     "grade_id": "cell-33866a4348a06f4f",
     "locked": false,
     "schema_version": 3,
     "solution": true,
     "task": false
    }
   },
   "outputs": [],
   "source": [
    "# Faça aqui\n",
    "### BEGIN SOLUTION\n",
    "# Importar a biblioteca que faz requisições HTTP\n",
    "import requests\n",
    "# Fazer uma requisição HTTP\n",
    "r = requests.get(\"https://api.exchangerate-api.com/v4/latest/USD\")\n",
    "# Transformar a resposta em JSON\n",
    "resp_json = r.json()\n",
    "print(resp_json['rates']['EUR'])\n",
    "### END SOLUTION"
   ]
  },
  {
   "cell_type": "markdown",
   "metadata": {},
   "source": [
    "#### W2.22 Escreva um código python para fazer uma requisição HTTP à URL ```http://hotline.whalemuseum.org/api.json?species=orca``` e imprimir o primeiro elemento da lista retornada.\n",
    "\n",
    "#### Curiosidade: A documentação desta API encontra-se em ```http://hotline.whalemuseum.org/api```"
   ]
  },
  {
   "cell_type": "code",
   "execution_count": null,
   "metadata": {
    "nbgrader": {
     "grade": false,
     "grade_id": "cell-df3830794c032b47",
     "locked": false,
     "schema_version": 3,
     "solution": true,
     "task": false
    }
   },
   "outputs": [],
   "source": [
    "# Faça aqui\n",
    "### BEGIN SOLUTION\n",
    "# Importar a biblioteca que faz requisições HTTP\n",
    "import requests\n",
    "# Fazer uma requisição HTTP\n",
    "r = requests.get(\"http://hotline.whalemuseum.org/api.json?species=orca\")\n",
    "# Transformar a resposta em JSON\n",
    "resp_json = r.json()\n",
    "print(resp_json[0])\n",
    "### END SOLUTION"
   ]
  }
 ],
 "metadata": {
  "celltoolbar": "Create Assignment",
  "kernelspec": {
   "display_name": "Python 3",
   "language": "python",
   "name": "python3"
  },
  "language_info": {
   "codemirror_mode": {
    "name": "ipython",
    "version": 3
   },
   "file_extension": ".py",
   "mimetype": "text/x-python",
   "name": "python",
   "nbconvert_exporter": "python",
   "pygments_lexer": "ipython3",
   "version": "3.8.3"
  },
  "varInspector": {
   "cols": {
    "lenName": 16,
    "lenType": 16,
    "lenVar": 40
   },
   "kernels_config": {
    "python": {
     "delete_cmd_postfix": "",
     "delete_cmd_prefix": "del ",
     "library": "var_list.py",
     "varRefreshCmd": "print(var_dic_list())"
    },
    "r": {
     "delete_cmd_postfix": ") ",
     "delete_cmd_prefix": "rm(",
     "library": "var_list.r",
     "varRefreshCmd": "cat(var_dic_list()) "
    }
   },
   "types_to_exclude": [
    "module",
    "function",
    "builtin_function_or_method",
    "instance",
    "_Feature"
   ],
   "window_display": false
  }
 },
 "nbformat": 4,
 "nbformat_minor": 4
}

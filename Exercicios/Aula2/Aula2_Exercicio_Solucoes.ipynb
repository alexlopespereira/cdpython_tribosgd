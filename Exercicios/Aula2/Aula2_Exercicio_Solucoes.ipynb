{
 "cells": [
  {
   "cell_type": "markdown",
   "metadata": {
    "id": "s5my3x6EkJzz"
   },
   "source": [
    "# Aula 2 - Exercícios - Estruturas de Dados Nativas do Python"
   ]
  },
  {
   "cell_type": "code",
   "execution_count": 18,
   "metadata": {
    "colab": {
     "base_uri": "https://localhost:8080/"
    },
    "executionInfo": {
     "elapsed": 1621,
     "status": "ok",
     "timestamp": 1625707768731,
     "user": {
      "displayName": "Alex Lopes",
      "photoUrl": "https://lh3.googleusercontent.com/a-/AOh14GiIodCIc3QmEkRc07ZdX1uDEU_3XpwbFfljE8IyIg=s64",
      "userId": "01606300887134833077"
     },
     "user_tz": 180
    },
    "id": "RkNwKAd8kJz5",
    "outputId": "7635bad7-873b-4f79-c3a3-2f8557486a33"
   },
   "outputs": [
    {
     "name": "stdout",
     "output_type": "stream",
     "text": [
      "env: COURSE=python_tribosgd\n"
     ]
    }
   ],
   "source": [
    "#@title Init Cell - Execute-me!!!\n",
    "pkg = !pip list | grep 'ipynb-autograde'\n",
    "if not pkg or pkg[0].replace('  ','').split(' ')[1]!='0.0.35':\n",
    "  !pip install ipynb_autograde==0.0.35\n",
    "%env  COURSE python_tribosgd\n",
    "from ipynb_autograde.main import init_log, validate\n",
    "init_log()\n",
    "email_result=!gcloud config get-value account\n",
    "if not email_result or 'unset' in email_result[0]:\n",
    "  !gcloud auth login"
   ]
  },
  {
   "cell_type": "markdown",
   "metadata": {
    "id": "UKkJOceRkJz8"
   },
   "source": [
    "### 2.1 Escreva uma função Python para gerar um dicionário que contenha pares (chave e valor) de números. A chave deve variar de 1 a n, e os valores sejam o valor da chave elevado ao quadrado. \n",
    "#### Exemplo:  Para ```n = 5```\n",
    "#### Resultado Esperado: ```{1: 1, 2: 4, 3: 9, 4: 16, 5: 25}```\n",
    "#### Dica: use a função ```range``` para criar a sequencia de numeros desejados\n"
   ]
  },
  {
   "cell_type": "code",
   "execution_count": null,
   "metadata": {
    "id": "EMBEHTTVkJz-"
   },
   "outputs": [],
   "source": [
    "# Faca aqui seus testes do Exercício 2.1\n",
    "\n"
   ]
  },
  {
   "cell_type": "code",
   "execution_count": 15,
   "metadata": {
    "executionInfo": {
     "elapsed": 307,
     "status": "ok",
     "timestamp": 1625707722597,
     "user": {
      "displayName": "Alex Lopes",
      "photoUrl": "https://lh3.googleusercontent.com/a-/AOh14GiIodCIc3QmEkRc07ZdX1uDEU_3XpwbFfljE8IyIg=s64",
      "userId": "01606300887134833077"
     },
     "user_tz": 180
    },
    "id": "xtta7f4skJz9",
    "nbgrader": {
     "grade": false,
     "grade_id": "cell-e161117ff990a01e",
     "locked": false,
     "schema_version": 3,
     "solution": true,
     "task": false
    }
   },
   "outputs": [],
   "source": [
    "# Faca aqui sua função do Exercício 2.1\n",
    "def create_dict(n):\n",
    "    \"\"\"retorne um dicionário com pares (x, x*x)\n",
    "    \"\"\"\n",
    "    ### BEGIN SOLUTION\n",
    "    d = {}\n",
    "\n",
    "    for x in range(1,n+1):\n",
    "        d[x]=x*x\n",
    "    return d\n",
    "    ### END SOLUTION"
   ]
  },
  {
   "cell_type": "code",
   "execution_count": 19,
   "metadata": {
    "colab": {
     "base_uri": "https://localhost:8080/"
    },
    "executionInfo": {
     "elapsed": 1771,
     "status": "ok",
     "timestamp": 1625707781864,
     "user": {
      "displayName": "Alex Lopes",
      "photoUrl": "https://lh3.googleusercontent.com/a-/AOh14GiIodCIc3QmEkRc07ZdX1uDEU_3XpwbFfljE8IyIg=s64",
      "userId": "01606300887134833077"
     },
     "user_tz": 180
    },
    "id": "ZHrPCFbqkJz_",
    "outputId": "e2eaa52e-d00e-4cae-8b49-3174bca445cd"
   },
   "outputs": [
    {
     "data": {
      "text/plain": [
       "(True, 'Parabéns!')"
      ]
     },
     "execution_count": 19,
     "metadata": {
      "tags": []
     },
     "output_type": "execute_result"
    }
   ],
   "source": [
    "# Faca aqui a validacao do Exercicio 2.1\n",
    "entradas = [[5]]\n",
    "saidas = [{1: 1, 2: 4, 3: 9, 4: 16, 5: 25}]\n",
    "validate(create_dict, entradas, lambda x: x, saidas, \"2.1\")"
   ]
  },
  {
   "cell_type": "markdown",
   "metadata": {
    "id": "j1cGVLHNkJ0A"
   },
   "source": [
    "### 2.2 Escreva uma função Python para remover itens duplicados de um dicionário, ou seja, cujos valores estejam duplicados.\n",
    "#### Exemplo:  ```d = {1: 1, 2: 1, 3: 9, 4: 1, 5: 25}```\n",
    "#### Resultado Esperado: ```{1: 1, 3: 9, 5: 25}```"
   ]
  },
  {
   "cell_type": "code",
   "execution_count": null,
   "metadata": {
    "id": "j9PwPeAlkJ0D"
   },
   "outputs": [],
   "source": [
    "# Faca aqui seus testes do Exercício 2.2\n",
    "\n"
   ]
  },
  {
   "cell_type": "code",
   "execution_count": 21,
   "metadata": {
    "executionInfo": {
     "elapsed": 297,
     "status": "ok",
     "timestamp": 1625708707180,
     "user": {
      "displayName": "Alex Lopes",
      "photoUrl": "https://lh3.googleusercontent.com/a-/AOh14GiIodCIc3QmEkRc07ZdX1uDEU_3XpwbFfljE8IyIg=s64",
      "userId": "01606300887134833077"
     },
     "user_tz": 180
    },
    "id": "nkCLlm-DkJ0C",
    "nbgrader": {
     "grade": false,
     "grade_id": "cell-732445412e4cafc4",
     "locked": false,
     "schema_version": 3,
     "solution": true,
     "task": false
    }
   },
   "outputs": [],
   "source": [
    "# Faca aqui sua função do Exercício 2.2\n",
    "def remove_duplicates(data):\n",
    "    \"\"\"retorne um dicionário sem duplicatas\n",
    "    \"\"\"\n",
    "    ### BEGIN SOLUTION\n",
    "    result = {}\n",
    "\n",
    "    for key, value in data.items():\n",
    "        if value not in result.values():\n",
    "            result[key] = value\n",
    "    return result\n",
    "    ### END SOLUTION"
   ]
  },
  {
   "cell_type": "code",
   "execution_count": 22,
   "metadata": {
    "colab": {
     "base_uri": "https://localhost:8080/"
    },
    "executionInfo": {
     "elapsed": 1457,
     "status": "ok",
     "timestamp": 1625708709026,
     "user": {
      "displayName": "Alex Lopes",
      "photoUrl": "https://lh3.googleusercontent.com/a-/AOh14GiIodCIc3QmEkRc07ZdX1uDEU_3XpwbFfljE8IyIg=s64",
      "userId": "01606300887134833077"
     },
     "user_tz": 180
    },
    "id": "RxCfYwWhkJ0F",
    "outputId": "dd714897-d412-4615-a3a4-ea6afbca0e10"
   },
   "outputs": [
    {
     "data": {
      "text/plain": [
       "(True, 'Parabéns!')"
      ]
     },
     "execution_count": 22,
     "metadata": {
      "tags": []
     },
     "output_type": "execute_result"
    }
   ],
   "source": [
    "# Faca aqui a validacao do Exercicio 2.2\n",
    "data = {'id1': {'nome': ['Sara'], 'classe': ['A'], 'disciplina': ['portugues, historia, ciencia']},\n",
    "        'id2': {'nome': ['Joao'], 'classe': ['A'], 'disciplina': ['portugues, historia, ciencia']},\n",
    "        'id3': {'nome': ['Sara'], 'classe': ['A'], 'disciplina': ['portugues, historia, ciencia']},\n",
    "        'id4': {'nome': ['Maria'], 'classe': ['A'], 'disciplina': ['portugues, historia, ciencia']}\n",
    "}\n",
    "no_duplicates = {'id1': {'nome': ['Sara'], 'classe': ['A'], 'disciplina': ['portugues, historia, ciencia']}, \n",
    "                 'id2': {'nome': ['Joao'], 'classe': ['A'], 'disciplina': ['portugues, historia, ciencia']}, \n",
    "                 'id4': {'nome': ['Maria'], 'classe': ['A'], 'disciplina': ['portugues, historia, ciencia']}}\n",
    "entradas = [[data]]\n",
    "saidas = [no_duplicates]\n",
    "validate(remove_duplicates, entradas, lambda x: x, saidas, \"2.2\")"
   ]
  },
  {
   "cell_type": "markdown",
   "metadata": {
    "id": "WFHotwB9kJ0G"
   },
   "source": [
    "### 2.3 Escreva uma função Python para combinar os itens de mesma chave de uma lista de  dicionários, somando os valores correspondentes.\n",
    "#### Exemplo:  para ```[{'item': 'carro', 'quantidade': 400}, {'item': 'moto', 'quantidade': 300}, {'item': 'carro', 'quantidade': 750}]```\n",
    "#### Resultado esperado: ```{'carro': 1150, 'moto': 300}```"
   ]
  },
  {
   "cell_type": "code",
   "execution_count": null,
   "metadata": {
    "id": "LdrFnuofkJ0I"
   },
   "outputs": [],
   "source": [
    "# Faca aqui seus testes do Exercício 2.3\n",
    "ent = [{'item': 'carro', 'quantidade': 400}, \n",
    "              {'item': 'moto', 'quantidade': 300}, \n",
    "              {'item': 'carro', 'quantidade': 750}]\n",
    "\n",
    "\n"
   ]
  },
  {
   "cell_type": "code",
   "execution_count": 23,
   "metadata": {
    "executionInfo": {
     "elapsed": 234,
     "status": "ok",
     "timestamp": 1625708713093,
     "user": {
      "displayName": "Alex Lopes",
      "photoUrl": "https://lh3.googleusercontent.com/a-/AOh14GiIodCIc3QmEkRc07ZdX1uDEU_3XpwbFfljE8IyIg=s64",
      "userId": "01606300887134833077"
     },
     "user_tz": 180
    },
    "id": "My0hROlMkJ0H",
    "nbgrader": {
     "grade": false,
     "grade_id": "cell-c217b20987cadf3f",
     "locked": false,
     "schema_version": 3,
     "solution": true,
     "task": false
    }
   },
   "outputs": [],
   "source": [
    "# Faca aqui sua função do Exercício 2.3\n",
    "def combine_items(item_list):\n",
    "    \"\"\"retorne um dicionário combinando (somando) as quantidades do mesmo item\n",
    "    \"\"\"\n",
    "    ### BEGIN SOLUTION\n",
    "    result = {}\n",
    "    for i in item_list:\n",
    "        if i['item'] in result:\n",
    "            result[i['item']] += i['quantidade']\n",
    "        else:\n",
    "            result[i['item']] = i['quantidade']\n",
    "    return result\n",
    "    ### END SOLUTION"
   ]
  },
  {
   "cell_type": "code",
   "execution_count": 25,
   "metadata": {
    "colab": {
     "base_uri": "https://localhost:8080/"
    },
    "executionInfo": {
     "elapsed": 1792,
     "status": "ok",
     "timestamp": 1625708721877,
     "user": {
      "displayName": "Alex Lopes",
      "photoUrl": "https://lh3.googleusercontent.com/a-/AOh14GiIodCIc3QmEkRc07ZdX1uDEU_3XpwbFfljE8IyIg=s64",
      "userId": "01606300887134833077"
     },
     "user_tz": 180
    },
    "id": "zaor04IfkJ0I",
    "outputId": "11b7e177-93e9-4610-eb5c-faf414185706"
   },
   "outputs": [
    {
     "data": {
      "text/plain": [
       "(True, 'Parabéns!')"
      ]
     },
     "execution_count": 25,
     "metadata": {
      "tags": []
     },
     "output_type": "execute_result"
    }
   ],
   "source": [
    "# Faca aqui a validacao do Exercicio 2.3\n",
    "entradas = [[[{'item': 'carro', 'quantidade': 400}, \n",
    "              {'item': 'moto', 'quantidade': 300}, \n",
    "              {'item': 'carro', 'quantidade': 750}]]]\n",
    "saidas = [{'carro': 1150, 'moto': 300}]\n",
    "validate(combine_items, entradas, lambda x: x, saidas, \"2.3\")"
   ]
  },
  {
   "cell_type": "markdown",
   "metadata": {
    "id": "bnzgrNXhkJ0J"
   },
   "source": [
    "### 2.4 Usando um defaultdict, escreva uma função Python para transformar uma lista de listas num dicionário. Os valores repetidos de uma lista devem ser associados a mesma chave do dicionário, como no exemplo abaixo.\n",
    "#### Exemplo:  ```[ [\"carro\", 10], [\"moto\", 20], [\"trem\", 5], [\"carro\", 30], [\"caminhao\", 20] ]```\n",
    "#### Resultado esperado: ```{\"carro\": [10, 30], \"moto\": [20], \"trem\": [5], \"caminhao\": [20] }```"
   ]
  },
  {
   "cell_type": "code",
   "execution_count": null,
   "metadata": {
    "id": "e3zJhrrqkJ0K"
   },
   "outputs": [],
   "source": [
    "# Faca aqui seus testes do Exercício 2.4\n",
    "lista = [ [\"carro\", 10], [\"moto\", 20], [\"trem\", 5], [\"carro\", 30], [\"caminhao\", 20] ]\n",
    "\n",
    "\n"
   ]
  },
  {
   "cell_type": "code",
   "execution_count": 26,
   "metadata": {
    "executionInfo": {
     "elapsed": 235,
     "status": "ok",
     "timestamp": 1625708773877,
     "user": {
      "displayName": "Alex Lopes",
      "photoUrl": "https://lh3.googleusercontent.com/a-/AOh14GiIodCIc3QmEkRc07ZdX1uDEU_3XpwbFfljE8IyIg=s64",
      "userId": "01606300887134833077"
     },
     "user_tz": 180
    },
    "id": "eHnyusIrkJ0J",
    "nbgrader": {
     "grade": false,
     "grade_id": "cell-dd1e790b1d88b739",
     "locked": false,
     "schema_version": 3,
     "solution": true,
     "task": false
    }
   },
   "outputs": [],
   "source": [
    "# Faca aqui sua função do Exercício 2.4\n",
    "def dict_from_list(lista):\n",
    "    ### BEGIN SOLUTION\n",
    "    from collections import defaultdict\n",
    "    d = defaultdict(list)\n",
    "    for k, v in lista:\n",
    "        d[k].append(v)\n",
    "\n",
    "    return d\n",
    "    ### END SOLUTION"
   ]
  },
  {
   "cell_type": "code",
   "execution_count": 27,
   "metadata": {
    "colab": {
     "base_uri": "https://localhost:8080/"
    },
    "executionInfo": {
     "elapsed": 1738,
     "status": "ok",
     "timestamp": 1625708775998,
     "user": {
      "displayName": "Alex Lopes",
      "photoUrl": "https://lh3.googleusercontent.com/a-/AOh14GiIodCIc3QmEkRc07ZdX1uDEU_3XpwbFfljE8IyIg=s64",
      "userId": "01606300887134833077"
     },
     "user_tz": 180
    },
    "id": "sbDi8-H-kJ0L",
    "outputId": "b312fc4e-1aaf-43e2-cf01-73847ff8e261"
   },
   "outputs": [
    {
     "data": {
      "text/plain": [
       "(True, 'Parabéns!')"
      ]
     },
     "execution_count": 27,
     "metadata": {
      "tags": []
     },
     "output_type": "execute_result"
    }
   ],
   "source": [
    "# Faca aqui a validacao do Exercicio 2.4\n",
    "entradas = [[[ [\"carro\", 10], [\"moto\", 20], [\"trem\", 5], [\"carro\", 30], [\"caminhao\", 20] ]]]\n",
    "saidas = [{'carro': [10, 30], 'moto': [20], 'trem': [5], 'caminhao': [20]}]\n",
    "validate(dict_from_list, entradas, lambda x: x, saidas, \"2.4\")"
   ]
  },
  {
   "cell_type": "markdown",
   "metadata": {
    "id": "W38cfG6gCZ4V"
   },
   "source": [
    "### 2.5 Usando um defaultdict, escreva uma função Python para transformar uma lista de listas num dicionário. Os valores repetidos de uma lista devem ser associados a mesma chave do dicionário, como no exemplo abaixo.\n",
    "#### Exemplo:  ```[ [\"carro\", 10], [\"moto\", 20], [\"trem\", 5], [\"carro\", 30], [\"caminhao\", 20] ]```\n",
    "#### Resultado esperado: ```{\"carro\": [10, 30], \"moto\": [20], \"trem\": [5], \"caminhao\": [20] }```"
   ]
  },
  {
   "cell_type": "code",
   "execution_count": null,
   "metadata": {
    "id": "1c5QU-F8CZ4W"
   },
   "outputs": [],
   "source": [
    "# Faca aqui seus testes do Exercício 2.5\n",
    "lista = [ [\"carro\", 10], [\"moto\", 20], [\"trem\", 5], [\"carro\", 30], [\"caminhao\", 20] ]\n",
    "\n",
    "\n"
   ]
  },
  {
   "cell_type": "code",
   "execution_count": 28,
   "metadata": {
    "executionInfo": {
     "elapsed": 235,
     "status": "ok",
     "timestamp": 1625708778796,
     "user": {
      "displayName": "Alex Lopes",
      "photoUrl": "https://lh3.googleusercontent.com/a-/AOh14GiIodCIc3QmEkRc07ZdX1uDEU_3XpwbFfljE8IyIg=s64",
      "userId": "01606300887134833077"
     },
     "user_tz": 180
    },
    "id": "XLdjPZyuCZ4W",
    "nbgrader": {
     "grade": false,
     "grade_id": "cell-9959d8353ef5e348",
     "locked": false,
     "schema_version": 3,
     "solution": true,
     "task": false
    }
   },
   "outputs": [],
   "source": [
    "# Faca aqui sua função do Exercício 2.5\n",
    "def dict_from_list(lista):\n",
    "    ### BEGIN SOLUTION\n",
    "    from collections import defaultdict\n",
    "    d = defaultdict(list)\n",
    "    for k, v in lista:\n",
    "        d[k].append(v)\n",
    "\n",
    "    return d\n",
    "    ### END SOLUTION"
   ]
  },
  {
   "cell_type": "code",
   "execution_count": 29,
   "metadata": {
    "colab": {
     "base_uri": "https://localhost:8080/"
    },
    "executionInfo": {
     "elapsed": 1432,
     "status": "ok",
     "timestamp": 1625708780631,
     "user": {
      "displayName": "Alex Lopes",
      "photoUrl": "https://lh3.googleusercontent.com/a-/AOh14GiIodCIc3QmEkRc07ZdX1uDEU_3XpwbFfljE8IyIg=s64",
      "userId": "01606300887134833077"
     },
     "user_tz": 180
    },
    "id": "fVO1DDY2CZ4W",
    "outputId": "38315c41-d1af-4aab-b9ca-e391127f9955"
   },
   "outputs": [
    {
     "data": {
      "text/plain": [
       "(True, 'Parabéns!')"
      ]
     },
     "execution_count": 29,
     "metadata": {
      "tags": []
     },
     "output_type": "execute_result"
    }
   ],
   "source": [
    "# Faca aqui a validacao do Exercicio 2.5\n",
    "entradas = [[[ [\"carro\", 10], [\"moto\", 20], [\"trem\", 5], [\"carro\", 30], [\"caminhao\", 20] ]]]\n",
    "saidas = [{'carro': [10, 30], 'moto': [20], 'trem': [5], 'caminhao': [20]}]\n",
    "validate(dict_from_list, entradas, lambda x: x, saidas, \"2.5\")"
   ]
  },
  {
   "cell_type": "markdown",
   "metadata": {
    "id": "UzmU2tykCZ4X"
   },
   "source": [
    "### 2.6 Escreva uma função Python para computar o valor total de uma compra de supermercado e dar baixa no estoque (deduzir a quantidade comprada da quantidade em estoque). Retorne o valor total da compra e altere o dicionário de estoque sem retorná-lo.\n",
    "#### Se a quantidade do item em estoque for menor do que a quantidade da lista de compra, o estoque restante deve ser vendido.\n",
    "\n",
    "#### Exemplo:  \n",
    "####                   ```lista_compras = {\"arroz\":1, \"feijao\":2, \"macarrao\":3}```\n",
    "####                   ```estoque = {\"arroz\": 60, \"feijao\": 30, \"macarrao\": 1, \"farinha\": 15}```\n",
    "####                   ```precos = {\"arroz\": 4, \"feijao\": 2, \"macarrao\": 1.5, \"farinha\": 3}```\n",
    "#### Resultado esperado: ```total = 9.5```"
   ]
  },
  {
   "cell_type": "code",
   "execution_count": null,
   "metadata": {
    "id": "njCekVCCCZ4Y"
   },
   "outputs": [],
   "source": [
    "# Faca aqui seus testes do Exercício 2.6\n",
    "lista_compras = {\"arroz\":1, \"feijao\":2, \"macarrao\":3}\n",
    "estoque = {\"arroz\": 60, \"feijao\": 30, \"macarrao\": 1, \"farinha\": 15}\n",
    "precos = {\"arroz\": 4, \"feijao\": 2, \"macarrao\": 1.5, \"farinha\": 3}\n",
    "\n",
    "\n"
   ]
  },
  {
   "cell_type": "code",
   "execution_count": 30,
   "metadata": {
    "executionInfo": {
     "elapsed": 275,
     "status": "ok",
     "timestamp": 1625708784243,
     "user": {
      "displayName": "Alex Lopes",
      "photoUrl": "https://lh3.googleusercontent.com/a-/AOh14GiIodCIc3QmEkRc07ZdX1uDEU_3XpwbFfljE8IyIg=s64",
      "userId": "01606300887134833077"
     },
     "user_tz": 180
    },
    "id": "QOMpFRERCZ4X",
    "nbgrader": {
     "grade": false,
     "grade_id": "cell-fb745f3563064d90",
     "locked": false,
     "schema_version": 3,
     "solution": true,
     "task": false
    }
   },
   "outputs": [],
   "source": [
    "# Faca aqui sua função do Exercício 2.6\n",
    "def compra(estoque, precos, lista):\n",
    "    ### BEGIN SOLUTION\n",
    "    total = 0\n",
    "    for x in lista:\n",
    "        if estoque[x] > lista[x]:\n",
    "           total = total + precos[x]*lista[x]\n",
    "           estoque[x] = estoque[x] - lista[x]\n",
    "        else:\n",
    "           total = total + precos[x]*estoque[x]\n",
    "           estoque[x] = 0\n",
    "    return total\n",
    "    ### END SOLUTION"
   ]
  },
  {
   "cell_type": "code",
   "execution_count": 31,
   "metadata": {
    "colab": {
     "base_uri": "https://localhost:8080/"
    },
    "executionInfo": {
     "elapsed": 1543,
     "status": "ok",
     "timestamp": 1625708786199,
     "user": {
      "displayName": "Alex Lopes",
      "photoUrl": "https://lh3.googleusercontent.com/a-/AOh14GiIodCIc3QmEkRc07ZdX1uDEU_3XpwbFfljE8IyIg=s64",
      "userId": "01606300887134833077"
     },
     "user_tz": 180
    },
    "id": "WrhGg-PiCZ4Y",
    "outputId": "643f68b3-e46c-41de-e178-492bcef62057"
   },
   "outputs": [
    {
     "data": {
      "text/plain": [
       "(True, 'Parabéns!')"
      ]
     },
     "execution_count": 31,
     "metadata": {
      "tags": []
     },
     "output_type": "execute_result"
    }
   ],
   "source": [
    "# Faca aqui a validacao do Exercicio 2.6\n",
    "lista_compras = {\"arroz\":1, \"feijao\":2, \"macarrao\":3}\n",
    "estoque = {\"arroz\": 60, \"feijao\": 30, \"macarrao\": 1, \"farinha\": 15}\n",
    "precos = {\"arroz\": 4, \"feijao\": 2, \"macarrao\": 1.5, \"farinha\": 3}\n",
    "entradas = [[estoque, precos, lista_compras]]\n",
    "saidas = [9.5]\n",
    "validate(compra, entradas, lambda x: x, saidas, \"2.6\")"
   ]
  },
  {
   "cell_type": "markdown",
   "metadata": {
    "id": "2e6i-WlCCZ4Y"
   },
   "source": [
    "### 2.7 Usando o tipo de dados set (conjuntos) do python, crie uma função python que  retorne os elementos que não estão na intersecção das duas listas passadas como argumento. O retorno deve ser uma lista.\n",
    "#### Exemplo:\n",
    "```\n",
    "lista1 = [\"awerr\", \"aa\", \"awyt\", \"g\", \"sssaere\"]\n",
    "lista2 = [\"awerr\", \"aa\", \"sssaere\", \"aabb\", \"qwerttt\", \"12345\"]```\n",
    "#### Retorno esperado:\n",
    "```\n",
    "['awyt', 'g', 'aabb', 'qwerttt', '12345']```\n",
    "#### dica 1: Converta as listas para set. Exemplo: ```c1=set(lista1)```\n",
    "#### dica 2: crie o conjunto interseção e o conjunto uniao dos dois conjuntos correspondentes às duas listas.\n",
    "#### dica 3: faça a diferença entre a união e a interseção.\n",
    "#### dica 4: faça a conversão do conjunto resultado para lista: ```resultado = list(c)```\n",
    "\n"
   ]
  },
  {
   "cell_type": "code",
   "execution_count": null,
   "metadata": {
    "id": "q0UZb9TLCZ4Z"
   },
   "outputs": [],
   "source": [
    "# Faca aqui seus testes do Exercício 2.7\n",
    "lista1 = [\"awerr\", \"aa\", \"awyt\", \"g\", \"sssaere\"]\n",
    "lista2 = [\"awerr\", \"aa\", \"sssaere\", \"aabb\", \"qwerttt\", \"12345\"]\n",
    "\n",
    "\n"
   ]
  },
  {
   "cell_type": "code",
   "execution_count": 32,
   "metadata": {
    "executionInfo": {
     "elapsed": 387,
     "status": "ok",
     "timestamp": 1625708790524,
     "user": {
      "displayName": "Alex Lopes",
      "photoUrl": "https://lh3.googleusercontent.com/a-/AOh14GiIodCIc3QmEkRc07ZdX1uDEU_3XpwbFfljE8IyIg=s64",
      "userId": "01606300887134833077"
     },
     "user_tz": 180
    },
    "id": "qWzwJkO3CZ4Z",
    "nbgrader": {
     "grade": false,
     "grade_id": "cell-06bc42e7cd22bdcf",
     "locked": false,
     "schema_version": 3,
     "solution": true,
     "task": false
    }
   },
   "outputs": [],
   "source": [
    "# Faca aqui sua função do Exercício 2.7\n",
    "def not_union_inters(l1, l2):\n",
    "    ### BEGIN SOLUTION\n",
    "    c1 = set(l1)\n",
    "    c2 = set(l2)\n",
    "    uniao = c1.union(c2)\n",
    "    intersecao = c1.intersection(c2)\n",
    "    return list(uniao - intersecao)\n",
    "    ### END SOLUTION"
   ]
  },
  {
   "cell_type": "code",
   "execution_count": 33,
   "metadata": {
    "colab": {
     "base_uri": "https://localhost:8080/"
    },
    "executionInfo": {
     "elapsed": 1693,
     "status": "ok",
     "timestamp": 1625708792205,
     "user": {
      "displayName": "Alex Lopes",
      "photoUrl": "https://lh3.googleusercontent.com/a-/AOh14GiIodCIc3QmEkRc07ZdX1uDEU_3XpwbFfljE8IyIg=s64",
      "userId": "01606300887134833077"
     },
     "user_tz": 180
    },
    "id": "wrzv217OCZ4Z",
    "outputId": "dd43f362-d986-4166-da1a-929fb62087c2"
   },
   "outputs": [
    {
     "data": {
      "text/plain": [
       "(True, 'Parabéns!')"
      ]
     },
     "execution_count": 33,
     "metadata": {
      "tags": []
     },
     "output_type": "execute_result"
    }
   ],
   "source": [
    "# Faca aqui a validacao do Exercicio 2.7\n",
    "lista1 = [\"awerr\", \"aa\", \"awyt\", \"g\", \"sssaere\"]\n",
    "lista2 = [\"awerr\", \"aa\", \"sssaere\", \"aabb\", \"qwerttt\", \"12345\"]\n",
    "entradas = [[lista1, lista2]]\n",
    "saidas = [{'12345', 'qwerttt', 'awyt', 'aabb', 'g'}]\n",
    "validate(not_union_inters, entradas, lambda x: set(x), saidas, \"2.7\")"
   ]
  },
  {
   "cell_type": "markdown",
   "metadata": {
    "id": "4qBw1k-qCZ4Z"
   },
   "source": [
    "### 2.8 Crie uma função para gerar tuplas compostas pelos elementos em posições de mesmo ínidce numa lista e na sua lista reversa. A lista deve ser passada como argumento da função.\n",
    "#### Exemplo: \n",
    "```lista = [1, 4, 6, 10, 5]\n",
    "lista_reversa = [5, 10, 6, 4, 1]```\n",
    "#### Resultado esperado: \n",
    "```[(1,5) , (4,10) , (6,6) , (10,4) , (5,1)]\n",
    "```\n",
    "#### Dica: use a função zip"
   ]
  },
  {
   "cell_type": "code",
   "execution_count": null,
   "metadata": {
    "id": "G1QitkeeCZ4a"
   },
   "outputs": [],
   "source": [
    "# Faca aqui seus testes do Exercício 2.8\n",
    "lista = [1, 4, 6, 10, 5]\n",
    "\n",
    "\n"
   ]
  },
  {
   "cell_type": "code",
   "execution_count": 34,
   "metadata": {
    "executionInfo": {
     "elapsed": 240,
     "status": "ok",
     "timestamp": 1625708795116,
     "user": {
      "displayName": "Alex Lopes",
      "photoUrl": "https://lh3.googleusercontent.com/a-/AOh14GiIodCIc3QmEkRc07ZdX1uDEU_3XpwbFfljE8IyIg=s64",
      "userId": "01606300887134833077"
     },
     "user_tz": 180
    },
    "id": "3qGQ0S_KCZ4a",
    "nbgrader": {
     "grade": false,
     "grade_id": "cell-c651c0d66cc0aeb3",
     "locked": false,
     "schema_version": 3,
     "solution": true,
     "task": false
    }
   },
   "outputs": [],
   "source": [
    "# Faca aqui sua função do Exercício 2.8\n",
    "def lista_tuplas(l):\n",
    "    ### BEGIN SOLUTION\n",
    "    resultado = []\n",
    "    for e1, e2 in zip(l, l[::-1]):\n",
    "        resultado.append((e1,e2))\n",
    "    return resultado\n",
    "    ### END SOLUTION"
   ]
  },
  {
   "cell_type": "code",
   "execution_count": 35,
   "metadata": {
    "colab": {
     "base_uri": "https://localhost:8080/"
    },
    "executionInfo": {
     "elapsed": 1556,
     "status": "ok",
     "timestamp": 1625708797094,
     "user": {
      "displayName": "Alex Lopes",
      "photoUrl": "https://lh3.googleusercontent.com/a-/AOh14GiIodCIc3QmEkRc07ZdX1uDEU_3XpwbFfljE8IyIg=s64",
      "userId": "01606300887134833077"
     },
     "user_tz": 180
    },
    "id": "aLP8rXaDCZ4a",
    "outputId": "c9550bd7-0233-4d78-f07f-46dbd30c7cd8"
   },
   "outputs": [
    {
     "data": {
      "text/plain": [
       "(True, 'Parabéns!')"
      ]
     },
     "execution_count": 35,
     "metadata": {
      "tags": []
     },
     "output_type": "execute_result"
    }
   ],
   "source": [
    "# Faca aqui a validacao do Exercicio 2.8\n",
    "entradas = [[[1, 4, 6, 10, 5]]]\n",
    "saidas = [[(1, 5), (4, 10), (6, 6), (10, 4), (5, 1)]]\n",
    "validate(lista_tuplas, entradas, lambda x: x, saidas, \"2.8\")"
   ]
  },
  {
   "cell_type": "markdown",
   "metadata": {
    "id": "ZTOsxGBvCZ4a"
   },
   "source": [
    "### 2.9 Crie uma função python que receba uma lista como argumento, e usando um list comprehenion, crie uma lista de dicionários. A chave de cada dicionário, na lista resultante, deve ser o elemento da lista (passada como argumento) e o valor a sua posição (índice) dentro desta lista.\n",
    "#### Exemplo: \n",
    "```lista = [\"azul\", \"amarelo\", \"vermelho\"]```\n",
    "#### Resultado esperado: \n",
    "```[{\"azul\": 0}, {\"amarelo\": 1}, {\"vermelho\": 2}]```\n",
    "\n",
    "#### Dica: use a função index para extrair o índice de um elemento numa lista. Exemplo: ``` lista.index(\"azul\") ```\n"
   ]
  },
  {
   "cell_type": "code",
   "execution_count": null,
   "metadata": {
    "id": "Q8cfqmFCCZ4b"
   },
   "outputs": [],
   "source": [
    "# Faca aqui seus testes do Exercício 2.9\n",
    "lista = [\"azul\", \"amarelo\", \"vermelho\"]\n",
    "\n",
    "\n"
   ]
  },
  {
   "cell_type": "code",
   "execution_count": 36,
   "metadata": {
    "executionInfo": {
     "elapsed": 417,
     "status": "ok",
     "timestamp": 1625708800210,
     "user": {
      "displayName": "Alex Lopes",
      "photoUrl": "https://lh3.googleusercontent.com/a-/AOh14GiIodCIc3QmEkRc07ZdX1uDEU_3XpwbFfljE8IyIg=s64",
      "userId": "01606300887134833077"
     },
     "user_tz": 180
    },
    "id": "OvCuM74BCZ4a",
    "nbgrader": {
     "grade": false,
     "grade_id": "cell-07db5d73a369b436",
     "locked": false,
     "schema_version": 3,
     "solution": true,
     "task": false
    }
   },
   "outputs": [],
   "source": [
    "# Faca aqui sua função do Exercício 2.9\n",
    "def lista_dicionarios(l):\n",
    "    ### BEGIN SOLUTION\n",
    "    return [{i: l.index(i)} for i in l]\n",
    "    ### END SOLUTION"
   ]
  },
  {
   "cell_type": "code",
   "execution_count": 37,
   "metadata": {
    "colab": {
     "base_uri": "https://localhost:8080/"
    },
    "executionInfo": {
     "elapsed": 1561,
     "status": "ok",
     "timestamp": 1625708801753,
     "user": {
      "displayName": "Alex Lopes",
      "photoUrl": "https://lh3.googleusercontent.com/a-/AOh14GiIodCIc3QmEkRc07ZdX1uDEU_3XpwbFfljE8IyIg=s64",
      "userId": "01606300887134833077"
     },
     "user_tz": 180
    },
    "id": "O2vuIkbOCZ4b",
    "outputId": "69ed02d3-dde8-48f0-c97f-2cbdbf9d152f"
   },
   "outputs": [
    {
     "data": {
      "text/plain": [
       "(True, 'Parabéns!')"
      ]
     },
     "execution_count": 37,
     "metadata": {
      "tags": []
     },
     "output_type": "execute_result"
    }
   ],
   "source": [
    "# Faca aqui a validacao do Exercicio 2.9\n",
    "entradas = [[[\"azul\", \"amarelo\", \"vermelho\"]]]\n",
    "saidas = [[{'azul': 0}, {'amarelo': 1}, {'vermelho': 2}]]\n",
    "validate(lista_dicionarios, entradas, lambda x: x, saidas, \"2.9\")"
   ]
  },
  {
   "cell_type": "markdown",
   "metadata": {
    "id": "sEUN_sTkCZ4b"
   },
   "source": [
    "### 2.10 Crie uma função python que receba um dicionário (de alunos e notas) como argumento, e usando um list comprehenion, crie uma lista com as respectivas notas abaixo de um certo valor passado como argumento da função.\n",
    "#### Exemplo: \n",
    "\n",
    "```lista = {\"Joao\": 10, \"Jose\": 5, \"Roberta\": 9, \"Maria\": 6}```\n",
    "```minimo = 7```\n",
    "\n",
    "#### Resultado esperado: \n",
    "```[5, 6]```\n",
    "\n",
    "#### Dica: use a seguinte sintaxe de list comprehension ```[i for i in lista if condicao] ``` onde ```condição``` é uma expressão que retorna um valor ```True``` ou ```False```. Neste caso, estarão na lista resultante somente os elementos cuja ```condição``` retornou ```True```.\n"
   ]
  },
  {
   "cell_type": "code",
   "execution_count": null,
   "metadata": {
    "id": "hAEwZPu5CZ4b"
   },
   "outputs": [],
   "source": [
    "# Faca aqui seus testes do Exercício 2.10\n",
    "notas = {\"Joao\": 10, \"Jose\": 5, \"Roberta\": 9, \"Maria\": 6}\n",
    "minimo = 7\n"
   ]
  },
  {
   "cell_type": "code",
   "execution_count": 38,
   "metadata": {
    "executionInfo": {
     "elapsed": 397,
     "status": "ok",
     "timestamp": 1625708805395,
     "user": {
      "displayName": "Alex Lopes",
      "photoUrl": "https://lh3.googleusercontent.com/a-/AOh14GiIodCIc3QmEkRc07ZdX1uDEU_3XpwbFfljE8IyIg=s64",
      "userId": "01606300887134833077"
     },
     "user_tz": 180
    },
    "id": "iUNGSpryCZ4b",
    "nbgrader": {
     "grade": false,
     "grade_id": "cell-4afc26f32762755c",
     "locked": false,
     "schema_version": 3,
     "solution": true,
     "task": false
    }
   },
   "outputs": [],
   "source": [
    "# Faca aqui sua função do Exercício 2.10\n",
    "def nota_baixa(n, minimo):\n",
    "    ### BEGIN SOLUTION\n",
    "    return [i for i in n.values() if i < minimo]\n",
    "    ### END SOLUTION"
   ]
  },
  {
   "cell_type": "code",
   "execution_count": 39,
   "metadata": {
    "colab": {
     "base_uri": "https://localhost:8080/"
    },
    "executionInfo": {
     "elapsed": 1667,
     "status": "ok",
     "timestamp": 1625708807050,
     "user": {
      "displayName": "Alex Lopes",
      "photoUrl": "https://lh3.googleusercontent.com/a-/AOh14GiIodCIc3QmEkRc07ZdX1uDEU_3XpwbFfljE8IyIg=s64",
      "userId": "01606300887134833077"
     },
     "user_tz": 180
    },
    "id": "h-n39PruCZ4c",
    "outputId": "ed85bd75-9847-4060-d307-c7ea44b99306"
   },
   "outputs": [
    {
     "data": {
      "text/plain": [
       "(True, 'Parabéns!')"
      ]
     },
     "execution_count": 39,
     "metadata": {
      "tags": []
     },
     "output_type": "execute_result"
    }
   ],
   "source": [
    "# Faca aqui a validacao do Exercicio 2.10\n",
    "notas = {\"Joao\": 10, \"Jose\": 5, \"Roberta\": 9, \"Maria\": 6}\n",
    "minimo = 7\n",
    "entradas = [[notas, minimo]]\n",
    "saidas = [[5, 6]]\n",
    "validate(nota_baixa, entradas, lambda x: x, saidas, \"2.10\")"
   ]
  },
  {
   "cell_type": "markdown",
   "metadata": {
    "id": "VaN19_8eCZ4c"
   },
   "source": [
    "### Os exercícios a seguir se baseiam num pequeno extrato de um dataset real dos serviços públicos brasileiros. Os serviços a seguir são da Fio Cruz. Execute a próxima célula antes de partir para a resolução do exercício 3.10.\n",
    "\n",
    "#### Curiosidade 1: Se tiver curiosidade consultar a fonte diretamente, execute o seguinte comando num console para ver o resultado em formato JSON: ```curl https://www.servicos.gov.br/api/v1/servicos/orgao/315```\n",
    "#### Curiosidade 2: Se quiser visualizar esses resultados no navegador no formato XML, acesse esta URL no navegador https://www.servicos.gov.br/api/v1/servicos/orgao/315\n",
    "#### Curiosidade 3: Se quiser visualizar esses resultados no navegador no formato JSON, acesse a URL https://jsonformatter.org/json-viewer, e use a função Load Data para carregar os dados da URL https://www.servicos.gov.br/api/v1/servicos/orgao/315.\n",
    "#### Curiosidade 4: 315 é o código Siorg da Fiocruz\n",
    "#### Curiosidade 5: A documentação desta API encontra-se publicada em https://www.servicos.gov.br/api/v1/docs"
   ]
  },
  {
   "cell_type": "code",
   "execution_count": 42,
   "metadata": {
    "colab": {
     "base_uri": "https://localhost:8080/"
    },
    "executionInfo": {
     "elapsed": 18401,
     "status": "ok",
     "timestamp": 1625708834195,
     "user": {
      "displayName": "Alex Lopes",
      "photoUrl": "https://lh3.googleusercontent.com/a-/AOh14GiIodCIc3QmEkRc07ZdX1uDEU_3XpwbFfljE8IyIg=s64",
      "userId": "01606300887134833077"
     },
     "user_tz": 180
    },
    "id": "zqr4xNKLCZ4c",
    "outputId": "2f3555eb-ccea-43a8-d2ff-452736f2ec39"
   },
   "outputs": [
    {
     "name": "stdout",
     "output_type": "stream",
     "text": [
      "{'id': 'https://www.servicos.gov.br/api/v1/servicos/9031', 'nome': 'Solicitar diagnóstico de referência em chikungunya', 'sigla': 'LABFLA', 'descricao': '<p>O Laboratório de Flavivírus (LABFLA) atua como Laboratório de Referência Regional para chikungunya, realizando diversas análises sorológicas e moleculares para identificação de amostras de chikungunya. As informações geradas no LABFLA auxiliam os órgãos de vigilância nacionais no monitoramento de epidemias, introdução de vírus exóticos e esclarecimento em diagnósticos imprecisos. O LABFLA ainda desenvolve projetos de pesquisa, e formação de recursos humanos em diferentes temas relacionados a epidemiologia e diagnóstico de chikungunya.</p>\\n<p> </p>\\n<p> </p>\\n<p> </p>', 'contato': '<strong>Telefone:</strong> 2125621779\\n\\n<strong>E-mail:</strong> <a href=\"mailto:labfla@ioc.fiocruz.br\">labfla@ioc.fiocruz.br</a> \\n\\n<strong>Site:</strong><a href=\"http://www.fiocruz.br/ioclabs/cgi/cgilua.exe/sys/start.htm?sid=58\" target=\"_blank\">http://www.fiocruz.br/ioclabs/cgi/cgilua.exe/sys/start.htm?sid=58</a>', 'gratuito': 'true', 'porcentagemDigital': 66, 'porcentagemManual': False, 'servicoDigital': False, 'linkServicoDigital': '', 'solicitantes': {'solicitante': [{'id': 12113, 'tipo': 'Órgãos e entidades públicas', 'requisitos': 'As amostras podem ser encaminhadas por integrantes da Rede de Laboratórios Central de Saúde Pública (LACEN) de cada estado da federação, por instituições de saúde públicas e por secretarias de saúde tanto estaduais quanto municipais. Instituições Privadas entrar em contatos por e-mail para verificar como enviar amostras.'}]}, 'tempoTotalEstimado': {'ate': {'max': '7', 'unidade': 'dias-corridos'}, 'entre': None, 'emMedia': None, 'atendimentoImediato': None, 'naoEstimadoAinda': None, 'descricao': '', 'min': None, 'max': 7}, 'validadeDocumento': {'tipo': 'Sem validade', 'quantidade': '0', 'unidade': '', 'descricao': ''}, 'orgao': {'id': 'http://estruturaorganizacional.dados.gov.br/id/unidade-organizacional/315', 'dbId': 34312, 'nomeOrgao': 'Fundação Oswaldo Cruz (FIOCRUZ)', 'porcentagemDigital': None, 'tempoMedioEspera': None, 'porcentagemAvaliacoesPositivas': None, 'qtdTotal': None, 'qtdTotalSolicitacoes': None, 'qtdDenuncias': None, 'qtdReclamacao': None}, 'segmentosDaSociedade': {'item': [{'item': 'Órgãos e entidades públicas', 'idSegmento': 2, 'idServicoSegmento': 18361}]}, 'areasDeInteresse': {'item': ['Saúde e Vigilância Sanitária', 'Saúde e Vigilância Sanitária', 'Saúde e Vigilância Sanitária']}, 'palavrasChave': {'item': [{'item': 'Diagnóstico', 'id': 34064}, {'item': 'Vigilância virológica', 'id': 34065}, {'item': 'PCR', 'id': 34066}, {'item': 'Sorologia', 'id': 34067}, {'item': 'IGM', 'id': 34068}, {'item': 'IgG', 'id': 34069}, {'item': 'Isolamento viral.', 'id': 34070}]}, 'legislacoes': {'item': [{'item': 'Guia de Vigilância em Saúde (Segunda edição / 2017) - link para a legislação: http://portalarquivos.saude.gov.br/images/pdf/2017/outubro/06/Volume-Unico-2017.pdf', 'id': 6293}]}, 'avaliacoes': {'positivas': 0, 'negativas': 1}, 'condicoesAcessibilidade': 'Rampa', 'tratamentoPrioritario': 'Terão prioridade os casos graves para esclarecimento diagnóstico e conduta clínica e o esclarecimento diagnóstico de surtos.', 'tratamentoDispensadoAtendimento': 'O usuário deverá receber, conforme os princípios expressos na lei nº 13.460/17, um atendimento pautado por diretrizes de urbanidade, respeito, acessibilidade, cortesia, presunção da boa-fé, igualdade, eficiência, segurança e ética.', 'etapas': [{'id': 22457, 'titulo': 'Solicitar exames', 'descricao': 'A solicitação do exame deve ser registrada no sistema Gerenciador de Ambiente Laboratorial (GAL)', 'documentos': {'documentos': [{'id': 42801, 'nome': 'Ficha de Notificação SINAN'}, {'id': 42802, 'nome': 'Ofício da instituição solicitante contendo a descrição do exame solicitado'}, {'id': 42803, 'nome': 'Relatório clínico do paciente (quando aplicável)'}, {'id': 42804, 'nome': 'Ficha do GAL'}], 'casos': []}, 'custos': {'custos': None, 'casos': []}, 'canaisDePrestacao': {'canaisDePrestacao': [{'id': 26531, 'tipo': 'web', 'descricao': 'https://gal.fiocruz.sus.gov.br', 'procedimentoSistemaIndisponivel': None, 'tempoEstimadoPeriodo': None, 'tempoEstimadoEspera': None, 'tempoEstimadoPeriodoService': None}], 'casos': []}, 'tempoTotalEstimado': {'ate': None, 'entre': None, 'emMedia': None, 'atendimentoImediato': None, 'naoEstimadoAinda': {}, 'descricao': None, 'min': None, 'max': None}}, {'id': 22458, 'titulo': 'Enviar amostra', 'descricao': 'A amostra deve ser enviada para sala de recebimento de amostra (CRA) do INCQS (Instituto Nacional de Controle de Qualidade em Saúde), localizado no Campus da Fiocruz em Manguinhos, Rio de Janeiro', 'documentos': {'documentos': [{'id': 42805, 'nome': 'Formulário do SINAN'}, {'id': 42806, 'nome': 'Ficha epidemiológica'}, {'id': 42807, 'nome': 'Receituário medico'}, {'id': 42808, 'nome': 'Relatório de encaminhamento do GAL'}], 'casos': []}, 'custos': {'custos': None, 'casos': []}, 'canaisDePrestacao': {'canaisDePrestacao': [{'id': 26532, 'tipo': 'presencial', 'descricao': 'As amostras encaminhadas para analise pelos laboratórios de Referência da Fiocruz serão recebidas pelo CRA quando estiverem em condições próprias de acondicionamento e transporte e acompanhadas de documentação pertinente. O CRA funciona 24h para o recebimento de amostras, em esquema de plantão. O endereço para entrega é Avenida Brasil,4365 - Pavilhão do INCQS. Para mais informações sobre a entrega do material, entrar em contato com o CRA pelo telefone (21)3865-5138 ou pelo e-mail: central.amostr', 'procedimentoSistemaIndisponivel': None, 'tempoEstimadoPeriodo': None, 'tempoEstimadoEspera': None, 'tempoEstimadoPeriodoService': None}], 'casos': []}, 'tempoTotalEstimado': {'ate': None, 'entre': None, 'emMedia': None, 'atendimentoImediato': None, 'naoEstimadoAinda': {}, 'descricao': None, 'min': None, 'max': None}}, {'id': 22459, 'titulo': 'Receber o resultado do exame', 'descricao': 'Todos os resultados serão disponibilizados através do GAL.', 'documentos': {'documentos': None, 'casos': []}, 'custos': {'custos': None, 'casos': []}, 'canaisDePrestacao': {'canaisDePrestacao': [{'id': 26533, 'tipo': 'web', 'descricao': 'https://gal.fiocruz.sus.gov.br', 'procedimentoSistemaIndisponivel': None, 'tempoEstimadoPeriodo': None, 'tempoEstimadoEspera': None, 'tempoEstimadoPeriodoService': None}], 'casos': []}, 'tempoTotalEstimado': {'ate': None, 'entre': None, 'emMedia': None, 'atendimentoImediato': None, 'naoEstimadoAinda': {}, 'descricao': None, 'min': None, 'max': None}}], 'tempoMediaEspera': '7', 'percentualAvaliacoesPositivas': '0', 'url': 'https://www.servicos.gov.br/servico/solicitar-diagnostico-de-referencia-em-chikungunya'}\n"
     ]
    }
   ],
   "source": [
    "# Execute esta célula para criar a variavel servicos que vai conter a lista de serviços\n",
    "# Na disciplina D20 será aprofundado esse assunto de requisições HTTP e APIs com python e curl\n",
    "# Importar a biblioteca que faz requisições HTTP\n",
    "import requests\n",
    "# Fazer uma requisição HTTP\n",
    "r = requests.get(\"https://www.servicos.gov.br/api/v1/servicos/orgao/315\")\n",
    "# Transformar a resposta em JSON e pegar a lista de serviços cuja chave é \"resposta\"\n",
    "servicos = r.json()[\"resposta\"]\n",
    "# Imprimir o primeiro serviço da lista\n",
    "print(servicos[0])"
   ]
  },
  {
   "cell_type": "markdown",
   "metadata": {
    "id": "MUhYUfV1CZ4c"
   },
   "source": [
    "### 2.11 Percorra a lista ```servicos``` selecionando os atributos de interesse ```nome, sigla, servicoDigital, nomeOrgao```. Construa o atributo ```id_servico``` a partir do atributo ```id``` coletando o número (id do serviço) que aparece depois da ultima barra da URL do serviço. Construa um dicionário de dicionários. No dicionário externo as chaves são o ```id_servico```, e seu respectivo valor deve ser um dicionário com os atributos de interesse.\n",
    "\n",
    "#### Dica 1: Consulte o conteúdo da requisição que retorna o dicionário de serviços (veja as curiosidades apresentadas acima). E a partir da inspeção do conteúdo escolha o nome das chaves do dicionário cujo valor deseja acessar. Essas chaves coincidem com o nome dos atributos do enunciado.\n",
    "#### Dica 2: O nome do órgão não está no primeiro nível do dicionário. Para acessar o nome, acesse um dicionário por meio da chave ```\"orgao\"``` e dentro dele haverá uma chave ```\"nomeOrgao\"```. Ou seja ```dicionario[\"orgao\"][\"nomeOrgao\"]```. Confira isso por meio de uma inspeção visual."
   ]
  },
  {
   "cell_type": "code",
   "execution_count": null,
   "metadata": {
    "id": "7PnqH3YTCZ4d"
   },
   "outputs": [],
   "source": [
    "# Faca aqui seus testes do Exercício 2.11\n",
    "\n"
   ]
  },
  {
   "cell_type": "code",
   "execution_count": 40,
   "metadata": {
    "executionInfo": {
     "elapsed": 382,
     "status": "ok",
     "timestamp": 1625708811510,
     "user": {
      "displayName": "Alex Lopes",
      "photoUrl": "https://lh3.googleusercontent.com/a-/AOh14GiIodCIc3QmEkRc07ZdX1uDEU_3XpwbFfljE8IyIg=s64",
      "userId": "01606300887134833077"
     },
     "user_tz": 180
    },
    "id": "MUOGOmj5CZ4c",
    "nbgrader": {
     "grade": false,
     "grade_id": "cell-787017167e839bb1",
     "locked": false,
     "schema_version": 3,
     "solution": true,
     "task": false
    }
   },
   "outputs": [],
   "source": [
    "# Faca aqui sua função do Exercício 2.11\n",
    "def atributos_interesse(serv):\n",
    "    ### BEGIN SOLUTION\n",
    "    resultado = {}\n",
    "    for s in serv:\n",
    "        id_servico = s['id'].split(\"/\")[-1]\n",
    "        d = {\"nome\": s[\"nome\"], \"sigla\": s[\"sigla\"], \n",
    "             \"servicoDigital\": s[\"servicoDigital\"], \"nomeOrgao\": s[\"orgao\"][\"nomeOrgao\"]}\n",
    "        resultado[id_servico] = d\n",
    "    return resultado\n",
    "    ### END SOLUTION"
   ]
  },
  {
   "cell_type": "code",
   "execution_count": 43,
   "metadata": {
    "colab": {
     "base_uri": "https://localhost:8080/"
    },
    "executionInfo": {
     "elapsed": 1490,
     "status": "ok",
     "timestamp": 1625708835676,
     "user": {
      "displayName": "Alex Lopes",
      "photoUrl": "https://lh3.googleusercontent.com/a-/AOh14GiIodCIc3QmEkRc07ZdX1uDEU_3XpwbFfljE8IyIg=s64",
      "userId": "01606300887134833077"
     },
     "user_tz": 180
    },
    "id": "SJHF1g5_CZ4d",
    "outputId": "eca4f400-769b-4458-c29e-6ba69b1f9bab"
   },
   "outputs": [
    {
     "data": {
      "text/plain": [
       "(True, 'Parabéns!')"
      ]
     },
     "execution_count": 43,
     "metadata": {
      "tags": []
     },
     "output_type": "execute_result"
    }
   ],
   "source": [
    "# Faca aqui a validacao do Exercicio 2.11\n",
    "atr_inter = atributos_interesse(servicos)\n",
    "entradas = [[servicos]]\n",
    "saidas = [{'nome': 'Solicitar diagnóstico de referência em chikungunya',\n",
    "  'sigla': 'LABFLA', 'servicoDigital': False, 'nomeOrgao': 'Fundação Oswaldo Cruz (FIOCRUZ)'}]\n",
    "validate(atributos_interesse, entradas, lambda x: x['9031'], saidas, \"2.11\")"
   ]
  },
  {
   "cell_type": "markdown",
   "metadata": {
    "id": "V5GKmHzKCZ4d"
   },
   "source": [
    "### 2.12 Crie uma função que receba como argumento o dicionário do exercício anterior e calcule a porcentagem de serviços digitais presentes no dicionário."
   ]
  },
  {
   "cell_type": "code",
   "execution_count": null,
   "metadata": {
    "id": "TtdjdlqJCZ4d"
   },
   "outputs": [],
   "source": [
    "# Faca aqui seus testes do Exercício 2.12\n",
    "\n",
    "\n"
   ]
  },
  {
   "cell_type": "code",
   "execution_count": 44,
   "metadata": {
    "executionInfo": {
     "elapsed": 14,
     "status": "ok",
     "timestamp": 1625708835677,
     "user": {
      "displayName": "Alex Lopes",
      "photoUrl": "https://lh3.googleusercontent.com/a-/AOh14GiIodCIc3QmEkRc07ZdX1uDEU_3XpwbFfljE8IyIg=s64",
      "userId": "01606300887134833077"
     },
     "user_tz": 180
    },
    "id": "_BY4EMcDCZ4d",
    "nbgrader": {
     "grade": false,
     "grade_id": "cell-44e66bb6d2a495c1",
     "locked": false,
     "schema_version": 3,
     "solution": true,
     "task": false
    }
   },
   "outputs": [],
   "source": [
    "# Faca aqui sua função do Exercício 2.12\n",
    "def calc_porcentagem_digital(servs):\n",
    "    ### BEGIN SOLUTION\n",
    "    lista_servicos = list(servs.values())\n",
    "    digital = [d['servicoDigital'] for d in lista_servicos]\n",
    "    return sum(digital)/len(digital)\n",
    "    ### END SOLUTION\n",
    "    "
   ]
  },
  {
   "cell_type": "code",
   "execution_count": 45,
   "metadata": {
    "colab": {
     "base_uri": "https://localhost:8080/"
    },
    "executionInfo": {
     "elapsed": 1728,
     "status": "ok",
     "timestamp": 1625708837394,
     "user": {
      "displayName": "Alex Lopes",
      "photoUrl": "https://lh3.googleusercontent.com/a-/AOh14GiIodCIc3QmEkRc07ZdX1uDEU_3XpwbFfljE8IyIg=s64",
      "userId": "01606300887134833077"
     },
     "user_tz": 180
    },
    "id": "bqIib2UxCZ4d",
    "outputId": "e064609e-8701-41f4-b2ab-14c2bc135574"
   },
   "outputs": [
    {
     "data": {
      "text/plain": [
       "(True, 'Parabéns!')"
      ]
     },
     "execution_count": 45,
     "metadata": {
      "tags": []
     },
     "output_type": "execute_result"
    }
   ],
   "source": [
    "# Faca aqui a validacao do Exercicio 2.12\n",
    "atr_inter = atributos_interesse(servicos)\n",
    "entradas = [[atr_inter]]\n",
    "saidas = [0.24]\n",
    "validate(calc_porcentagem_digital, entradas, lambda x: round(x, 2), saidas, \"2.12\")"
   ]
  },
  {
   "cell_type": "code",
   "execution_count": null,
   "metadata": {
    "id": "4iGx-QYGzA2H"
   },
   "outputs": [],
   "source": []
  }
 ],
 "metadata": {
  "celltoolbar": "Create Assignment",
  "colab": {
   "collapsed_sections": [],
   "name": "Aula2_Exercicio_Solucoes.ipynb",
   "provenance": []
  },
  "kernelspec": {
   "display_name": "Python 3",
   "language": "python",
   "name": "python3"
  },
  "language_info": {
   "codemirror_mode": {
    "name": "ipython",
    "version": 3
   },
   "file_extension": ".py",
   "mimetype": "text/x-python",
   "name": "python",
   "nbconvert_exporter": "python",
   "pygments_lexer": "ipython3",
   "version": "3.8.3"
  },
  "name": "_merged",
  "varInspector": {
   "cols": {
    "lenName": 16,
    "lenType": 16,
    "lenVar": 40
   },
   "kernels_config": {
    "python": {
     "delete_cmd_postfix": "",
     "delete_cmd_prefix": "del ",
     "library": "var_list.py",
     "varRefreshCmd": "print(var_dic_list())"
    },
    "r": {
     "delete_cmd_postfix": ") ",
     "delete_cmd_prefix": "rm(",
     "library": "var_list.r",
     "varRefreshCmd": "cat(var_dic_list()) "
    }
   },
   "types_to_exclude": [
    "module",
    "function",
    "builtin_function_or_method",
    "instance",
    "_Feature"
   ],
   "window_display": false
  }
 },
 "nbformat": 4,
 "nbformat_minor": 1
}

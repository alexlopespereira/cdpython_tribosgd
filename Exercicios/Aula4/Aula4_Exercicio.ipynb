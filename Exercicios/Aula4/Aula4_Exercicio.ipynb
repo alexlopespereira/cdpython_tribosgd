{
 "cells": [
  {
   "cell_type": "markdown",
   "metadata": {
    "id": "hnSksvGtVhik"
   },
   "source": [
    "# Aula 4 - Exercícios - Python e Pandas"
   ]
  },
  {
   "cell_type": "markdown",
   "metadata": {
    "id": "GOGeKZcvVhir"
   },
   "source": [
    "### Onde buscar informações sobre as funções do Pandas\n",
    "[https://pandas.pydata.org/docs/](https://pandas.pydata.org/docs/)"
   ]
  },
  {
   "cell_type": "code",
   "execution_count": null,
   "metadata": {
    "id": "0qcArHLGXYsr"
   },
   "outputs": [],
   "source": [
    "# #@title Init Cell - Execute-me!!!\n",
    "pkg = !pip list | grep 'ipynb-autograde'\n",
    "if not pkg or pkg[0].replace('  ','').split(' ')[1]!='0.0.35':\n",
    "  !pip install ipynb_autograde==0.0.35\n",
    "%env  COURSE python_tribosgd\n",
    "from ipynb_autograde.main import init_log, validate\n",
    "init_log()\n",
    "email_result=!gcloud config get-value account\n",
    "if not email_result or 'unset' in email_result[0]:\n",
    "  !gcloud auth login\n"
   ]
  },
  {
   "cell_type": "code",
   "execution_count": null,
   "metadata": {
    "executionInfo": {
     "elapsed": 285,
     "status": "ok",
     "timestamp": 1625785564255,
     "user": {
      "displayName": "Alex Lopes",
      "photoUrl": "https://lh3.googleusercontent.com/a-/AOh14GiIodCIc3QmEkRc07ZdX1uDEU_3XpwbFfljE8IyIg=s64",
      "userId": "01606300887134833077"
     },
     "user_tz": 180
    },
    "id": "u7rKYvmJVhiu"
   },
   "outputs": [],
   "source": [
    "# Importe as bibliotecas pandas e numpy\n",
    "import pandas as pd\n",
    "import numpy as np"
   ]
  },
  {
   "cell_type": "markdown",
   "metadata": {
    "id": "JGU_fcR3Vhiv"
   },
   "source": [
    "### 4.1 Escreva uma função para retornar os itens de uma determinada série que não estejam presentes em outra série \n",
    "#### Exemplo: Considere uma Serie A com os valores [1, 2, 3, 4, 5, 6, 7, 8], e\n",
    "####          uma Serie B com os valores [2, 4, 6, 8, 10, 12]\n",
    "#### Resultado Esperado: Uma Serie com os valores [1, 3, 5, 7]\n",
    "\n",
    "#### Dica 1: a função Series.isin() retorna uma Serie de valores booleanos representando a intersecção da de duas series\n",
    "#### Dica 2: o operador ~ serve para inverter os valores booleanos de uma Serie.\n",
    "#### Exemplo: \n",
    "```\n",
    "~pd.Series([True, False]) \n",
    " 0    False\n",
    " 1    True\n",
    "dtype: bool\n",
    "```\n"
   ]
  },
  {
   "cell_type": "code",
   "execution_count": null,
   "metadata": {
    "id": "r0UWkMm8Vhiy"
   },
   "outputs": [],
   "source": [
    "# Faca aqui seus testes do Exercício 4.1\n",
    "\n",
    "s1 = pd.Series([1, 2, 3, 4, 5, 6, 7, 8]) \n",
    "s2 = pd.Series([2, 4, 6, 8, 10, 12]) \n",
    "\n"
   ]
  },
  {
   "cell_type": "code",
   "execution_count": null,
   "metadata": {
    "deletable": false,
    "executionInfo": {
     "elapsed": 8,
     "status": "ok",
     "timestamp": 1625786275896,
     "user": {
      "displayName": "Alex Lopes",
      "photoUrl": "https://lh3.googleusercontent.com/a-/AOh14GiIodCIc3QmEkRc07ZdX1uDEU_3XpwbFfljE8IyIg=s64",
      "userId": "01606300887134833077"
     },
     "user_tz": 180
    },
    "id": "0vHbn-MzVhix",
    "nbgrader": {
     "cell_type": "code",
     "checksum": "84637b0a5c1e5b434b9373f74dfcdd46",
     "grade": false,
     "grade_id": "cell-c705b9d1147334f9",
     "locked": false,
     "schema_version": 3,
     "solution": true,
     "task": false
    }
   },
   "outputs": [],
   "source": [
    "# Faca aqui sua função do Exercício 4.1\n",
    "def complemento(s1, s2):\n",
    "    \"\"\"retorne os valores do complemento de s1 em relação a s2\n",
    "    \"\"\"\n",
    "    # YOUR CODE HERE\n",
    "    raise NotImplementedError()\n"
   ]
  },
  {
   "cell_type": "code",
   "execution_count": null,
   "metadata": {
    "colab": {
     "base_uri": "https://localhost:8080/"
    },
    "deletable": false,
    "editable": false,
    "executionInfo": {
     "elapsed": 2130,
     "status": "ok",
     "timestamp": 1625786278345,
     "user": {
      "displayName": "Alex Lopes",
      "photoUrl": "https://lh3.googleusercontent.com/a-/AOh14GiIodCIc3QmEkRc07ZdX1uDEU_3XpwbFfljE8IyIg=s64",
      "userId": "01606300887134833077"
     },
     "user_tz": 180
    },
    "id": "9DnosjlnVhi0",
    "nbgrader": {
     "cell_type": "code",
     "checksum": "8156ca504418737b03ddf50025dc68de",
     "grade": true,
     "grade_id": "cell-9ffda88d583482a",
     "locked": true,
     "points": 1,
     "schema_version": 3,
     "solution": false,
     "task": false
    },
    "outputId": "818c78a9-6999-4837-fdb4-178845909e40"
   },
   "outputs": [],
   "source": [
    "# Faca aqui a validacao do Exercicio 4.1\n",
    "\n",
    "s1 = pd.Series([1, 2, 3, 4, 5, 6, 7, 8]) \n",
    "s2 = pd.Series([2, 4, 6, 8, 10, 12]) \n",
    "c12 = pd.Series([1, 3, 5, 7]) \n",
    "c21 = pd.Series([10, 12]) \n",
    "entradas = [[s1, s2], [s2, s1]]\n",
    "saidas = [c12, c21]\n",
    "validate(complemento, entradas, lambda x: x.reset_index()[0], saidas, \"4.1\")"
   ]
  },
  {
   "cell_type": "markdown",
   "metadata": {
    "id": "VfgXSSBCVhi2"
   },
   "source": [
    "### 4.2 Escreva uma função para obter os itens que não são comuns em duas séries. Ou seja, estão na uniao mas não na intersecção.\n",
    "#### Exemplo: Considere uma Serie A com os valores [1, 2, 3, 4, 5, 6, 7, 8], e\n",
    "####          uma Serie B com os valores [2, 4, 6, 8, 10, 12]\n",
    "#### Resultado Esperado: Uma Serie com os valores [1, 3, 5, 7,10,12]\n",
    "#### Dica 1: Pense na teoria de conjuntos. Como você faria isso no papel usando um diagrama de Venn.\n",
    "#### Dica 2: Use a função criada no exercicio 3.1\n",
    "#### Dica 3: Use a função ```np.union1d``` para calcular a união de duas Series.\n",
    "####  Exemplo: o código ```pd.Series(np.union1d(t1, t2))``` cria uma Serie resultante da união de t1 e t2"
   ]
  },
  {
   "cell_type": "code",
   "execution_count": null,
   "metadata": {
    "id": "F8dgJl9_Vhi7"
   },
   "outputs": [],
   "source": [
    "# Faca aqui seus testes do Exercício 4.2 \n",
    "s1 = pd.Series([1, 2, 3, 4, 5, 6, 7, 8]) \n",
    "s2 = pd.Series([2, 4, 6, 8, 10, 12]) \n",
    "complemento2(s1, s2) \n",
    "\n"
   ]
  },
  {
   "cell_type": "code",
   "execution_count": null,
   "metadata": {
    "deletable": false,
    "executionInfo": {
     "elapsed": 275,
     "status": "ok",
     "timestamp": 1625786281311,
     "user": {
      "displayName": "Alex Lopes",
      "photoUrl": "https://lh3.googleusercontent.com/a-/AOh14GiIodCIc3QmEkRc07ZdX1uDEU_3XpwbFfljE8IyIg=s64",
      "userId": "01606300887134833077"
     },
     "user_tz": 180
    },
    "id": "cBvVs8IMVhi4",
    "nbgrader": {
     "cell_type": "code",
     "checksum": "c7d0f31ee6fc413ae7ba069bb1785882",
     "grade": false,
     "grade_id": "cell-553ee23414bc30",
     "locked": false,
     "schema_version": 3,
     "solution": true,
     "task": false
    }
   },
   "outputs": [],
   "source": [
    "# Faca aqui sua função do Exercício 4.2\n",
    "def complemento2(s1, s2):\n",
    "    \"\"\"retorne os valores que não são comuns em duas séries\n",
    "    \"\"\"\n",
    "    # YOUR CODE HERE\n",
    "    raise NotImplementedError()\n"
   ]
  },
  {
   "cell_type": "code",
   "execution_count": null,
   "metadata": {
    "colab": {
     "base_uri": "https://localhost:8080/"
    },
    "deletable": false,
    "editable": false,
    "executionInfo": {
     "elapsed": 1661,
     "status": "ok",
     "timestamp": 1625786283247,
     "user": {
      "displayName": "Alex Lopes",
      "photoUrl": "https://lh3.googleusercontent.com/a-/AOh14GiIodCIc3QmEkRc07ZdX1uDEU_3XpwbFfljE8IyIg=s64",
      "userId": "01606300887134833077"
     },
     "user_tz": 180
    },
    "id": "tKlUsIaiVhi8",
    "nbgrader": {
     "cell_type": "code",
     "checksum": "3b6af1441e4c251b150bc03f455f935b",
     "grade": true,
     "grade_id": "cell-0e2bt6ce34bdc60",
     "locked": true,
     "points": 1,
     "schema_version": 3,
     "solution": false,
     "task": false
    },
    "outputId": "81501627-4dc4-451e-8a1c-3858a1478a66"
   },
   "outputs": [],
   "source": [
    "# Faca aqui a validacao do Exercicio 4.2\n",
    "s1 = pd.Series([1, 2, 3, 4, 5, 6, 7, 8]) \n",
    "s2 = pd.Series([2, 4, 6, 8, 10, 12]) \n",
    "c = pd.Series([1, 3, 5, 7, 10, 12]) \n",
    "entradas = [[s1, s2]]\n",
    "saidas = [True]\n",
    "validate(complemento2, entradas, lambda x: x.reset_index()[0].equals(c), saidas, \"4.2\")"
   ]
  },
  {
   "cell_type": "markdown",
   "metadata": {
    "id": "S6AQITTqVhi_"
   },
   "source": [
    "### 4.3 Escreva uma função para selecionar as linhas de um dataframe onde o valor na coluna especificada seja ausente (NA)\n"
   ]
  },
  {
   "cell_type": "code",
   "execution_count": null,
   "metadata": {
    "id": "3ZHxkWqQVhjC"
   },
   "outputs": [],
   "source": [
    "# Faca aqui seus testes do Exercício 4.3\n",
    "exam_data  = {'name': ['Anastasia', 'Dima', 'Katherine', 'James', 'Emily', 'Michael', 'Matthew', 'Laura', 'Kevin', 'Jonas'],\n",
    "        'score': [12.5, 9, 16.5, np.nan, 9, 20, 14.5, np.nan, 8, 19],\n",
    "        'attempts': [1, 3, 2, 3, 2, 3, 1, 1, 2, 1],\n",
    "        'qualify': ['yes', 'no', 'yes', 'no', 'no', 'yes', 'yes', 'no', 'no', 'yes']}\n",
    "labels = ['a', 'b', 'c', 'd', 'e', 'f', 'g', 'h', 'i', 'j']\n",
    "df = pd.DataFrame(exam_data , index=labels)\n",
    "\n"
   ]
  },
  {
   "cell_type": "code",
   "execution_count": null,
   "metadata": {
    "deletable": false,
    "executionInfo": {
     "elapsed": 263,
     "status": "ok",
     "timestamp": 1625786286597,
     "user": {
      "displayName": "Alex Lopes",
      "photoUrl": "https://lh3.googleusercontent.com/a-/AOh14GiIodCIc3QmEkRc07ZdX1uDEU_3XpwbFfljE8IyIg=s64",
      "userId": "01606300887134833077"
     },
     "user_tz": 180
    },
    "id": "4MLULLRVVhjA",
    "nbgrader": {
     "cell_type": "code",
     "checksum": "26f7a89952059666192332481788e2a4",
     "grade": false,
     "grade_id": "cell-553d5248344c30",
     "locked": false,
     "schema_version": 3,
     "solution": true,
     "task": false
    }
   },
   "outputs": [],
   "source": [
    "# Faca aqui sua função do Exercício 4.3\n",
    "def seleciona_null(df, col):\n",
    "    \"\"\"retorne as linhas cujo valor na coluna col seja ausente (NA)\n",
    "    \"\"\"\n",
    "    # YOUR CODE HERE\n",
    "    raise NotImplementedError()\n"
   ]
  },
  {
   "cell_type": "code",
   "execution_count": null,
   "metadata": {
    "colab": {
     "base_uri": "https://localhost:8080/"
    },
    "deletable": false,
    "editable": false,
    "executionInfo": {
     "elapsed": 1613,
     "status": "ok",
     "timestamp": 1625786288467,
     "user": {
      "displayName": "Alex Lopes",
      "photoUrl": "https://lh3.googleusercontent.com/a-/AOh14GiIodCIc3QmEkRc07ZdX1uDEU_3XpwbFfljE8IyIg=s64",
      "userId": "01606300887134833077"
     },
     "user_tz": 180
    },
    "id": "TORZKqQAVhjD",
    "nbgrader": {
     "cell_type": "code",
     "checksum": "0909584c69d4da0cd72c58bb7a25074b",
     "grade": true,
     "grade_id": "cell-0e2b6234t6bdc60",
     "locked": true,
     "points": 1,
     "schema_version": 3,
     "solution": false,
     "task": false
    },
    "outputId": "d3cca3d0-d3c7-408e-af07-208739aaa1c2"
   },
   "outputs": [],
   "source": [
    "# Faca aqui a validacao do Exercicio 4.3\n",
    "exam_data  = {'name': ['Anastasia', 'Dima', 'Katherine', 'James', 'Emily', 'Michael', 'Matthew', 'Laura', 'Kevin', 'Jonas'],\n",
    "        'score': [12.5, 9, 16.5, np.nan, 9, 20, 14.5, np.nan, 8, 19],\n",
    "        'attempts': [1, 3, 2, 3, 2, 3, 1, 1, 2, 1],\n",
    "        'qualify': ['yes', 'no', 'yes', 'no', 'no', 'yes', 'yes', 'no', 'no', 'yes']}\n",
    "labels = ['a', 'b', 'c', 'd', 'e', 'f', 'g', 'h', 'i', 'j']\n",
    "df = pd.DataFrame(exam_data , index=labels)\n",
    "entradas = [[df, 'score']]\n",
    "saidas = [True]\n",
    "validate(seleciona_null, entradas, lambda x: x.equals(df.loc[['d', 'h']]), saidas, \"4.3\")"
   ]
  },
  {
   "cell_type": "markdown",
   "metadata": {
    "id": "IujXXwXYVhjE"
   },
   "source": [
    "### 4.4 Escreva uma função para mudar o conteúdo de uma coluna de um dataframe, especificando como parâmetros de entrada o nome da coluna, o valor original e o novo valor.\n",
    "#### Exemplo:\n",
    "|    | name      |   score | qualify   |\n",
    "|:---|:----------|--------:|:----------|\n",
    "| a  | Jose |    12.5 | yes       |\n",
    "| b  | Maria      |     9   | no        |\n",
    "| c  | Joao |    16.5 | yes       |\n",
    "| d  | Pedro     |   nan   | no        |\n",
    "\n",
    "#### Resultado Esperado:\n",
    "|    | name      |   score | qualify   |\n",
    "|:---|:----------|--------:|:----------|\n",
    "| a  | Jose |    12.5 | yes       |\n",
    "| b  | Maria      |     9   | no        |\n",
    "| c  | Joao |    16.5 | yes       |\n",
    "| d  | Rafael    |   nan   | no        |\n",
    "\n",
    "#### Dica: Use a função ```Series.replace```. Esta função tem um parâmetro ```inplace``` para modificar o próprio objeto."
   ]
  },
  {
   "cell_type": "code",
   "execution_count": null,
   "metadata": {
    "id": "JH-Khfc3VhjF"
   },
   "outputs": [],
   "source": [
    "# Faca aqui seus testes do Exercício 4.4\n",
    "exam_data  = {'name': ['Jose', 'Maria', 'Joao', 'Pedro', 'Emilia',\n",
    "                       'Marcos', 'Mateus', 'Laura', 'Carlos', 'Jonas'],\n",
    "        'score': [12.5, 9, 16.5, np.nan, 9, 20, 14.5, np.nan, 8, 19],\n",
    "        'qualify': ['yes', 'no', 'yes', 'no', 'no', 'yes', 'yes', 'no', 'no', 'yes']}\n",
    "labels = ['a', 'b', 'c', 'd', 'e', 'f', 'g', 'h', 'i', 'j']\n",
    "exam_data2 = {'name': ['Jose', 'Maria', 'Joao', 'Rafael', 'Emilia',\n",
    "                       'Marcos', 'Mateus', 'Laura', 'Carlos', 'Jonas'],\n",
    "        'score': [12.5, 9, 16.5, np.nan, 9, 20, 14.5, np.nan, 8, 19],\n",
    "        'qualify': ['yes', 'no', 'yes', 'no', 'no', 'yes', 'yes', 'no', 'no', 'yes']}\n",
    "df = pd.DataFrame(exam_data, index=labels) \n",
    "\n",
    "\n",
    "\n"
   ]
  },
  {
   "cell_type": "code",
   "execution_count": null,
   "metadata": {
    "deletable": false,
    "executionInfo": {
     "elapsed": 267,
     "status": "ok",
     "timestamp": 1625786292419,
     "user": {
      "displayName": "Alex Lopes",
      "photoUrl": "https://lh3.googleusercontent.com/a-/AOh14GiIodCIc3QmEkRc07ZdX1uDEU_3XpwbFfljE8IyIg=s64",
      "userId": "01606300887134833077"
     },
     "user_tz": 180
    },
    "id": "AU1o9WhOVhjF",
    "nbgrader": {
     "cell_type": "code",
     "checksum": "0b10c98e3bb082e466ea8ee1e3ec521d",
     "grade": false,
     "grade_id": "cell-553f524234tt14bc30",
     "locked": false,
     "schema_version": 3,
     "solution": true,
     "task": false
    }
   },
   "outputs": [],
   "source": [
    "# Faca aqui sua função do Exercício 4.4\n",
    "def change_value(df, col, orig, new):\n",
    "    \"\"\"altere a coluna col do dataframe df substituindo orig por new\n",
    "    \"\"\"\n",
    "    # YOUR CODE HERE\n",
    "    raise NotImplementedError()\n"
   ]
  },
  {
   "cell_type": "code",
   "execution_count": null,
   "metadata": {
    "colab": {
     "base_uri": "https://localhost:8080/"
    },
    "deletable": false,
    "editable": false,
    "executionInfo": {
     "elapsed": 1437,
     "status": "ok",
     "timestamp": 1625786294121,
     "user": {
      "displayName": "Alex Lopes",
      "photoUrl": "https://lh3.googleusercontent.com/a-/AOh14GiIodCIc3QmEkRc07ZdX1uDEU_3XpwbFfljE8IyIg=s64",
      "userId": "01606300887134833077"
     },
     "user_tz": 180
    },
    "id": "YifKLdCdVhjG",
    "nbgrader": {
     "cell_type": "code",
     "checksum": "2bc588fb88215465cff496588a0d83be",
     "grade": true,
     "grade_id": "cell-0e2b65wert6bdc60",
     "locked": true,
     "points": 1,
     "schema_version": 3,
     "solution": false,
     "task": false
    },
    "outputId": "db38bd29-6946-4771-c181-b41e51472bd6"
   },
   "outputs": [],
   "source": [
    "# Faca aqui a validacao do Exercicio 4.4\n",
    "exam_data  = {'name': ['Jose', 'Maria', 'Joao', 'Pedro', 'Emilia',\n",
    "                       'Marcos', 'Mateus', 'Laura', 'Carlos', 'Jonas'],\n",
    "        'score': [12.5, 9, 16.5, np.nan, 9, 20, 14.5, np.nan, 8, 19],\n",
    "        'qualify': ['yes', 'no', 'yes', 'no', 'no', 'yes', 'yes', 'no', 'no', 'yes']}\n",
    "labels = ['a', 'b', 'c', 'd', 'e', 'f', 'g', 'h', 'i', 'j']\n",
    "exam_data2 = {'name': ['Jose', 'Maria', 'Joao', 'Rafael', 'Emilia',\n",
    "                       'Marcos', 'Mateus', 'Laura', 'Carlos', 'Jonas'],\n",
    "        'score': [12.5, 9, 16.5, np.nan, 9, 20, 14.5, np.nan, 8, 19],\n",
    "        'qualify': ['yes', 'no', 'yes', 'no', 'no', 'yes', 'yes', 'no', 'no', 'yes']}\n",
    "df = pd.DataFrame(exam_data, index=labels) \n",
    "df2 = pd.DataFrame(exam_data2, index=labels) \n",
    "\n",
    "entradas = [[df, 'name', 'Pedro', 'Rafael']]\n",
    "saidas = [True]\n",
    "validate(change_value, entradas, lambda x: x.equals(df2), saidas, \"4.4\")"
   ]
  },
  {
   "cell_type": "markdown",
   "metadata": {
    "id": "uzROVlucVhjI"
   },
   "source": [
    "### 4.5 Escreva uma função para mudar o conteúdo de uma coluna de um dataframe de valores do tipo string ('yes' ou 'no') para uma coluna do tipo booleano parametrizando no nome da coluna a ser alterada.\n",
    "#### Exemplo: Considere o dataframe a seguir\n",
    "|    | name      |   score | qualify   |\n",
    "|:---|:----------|--------:|:----------|\n",
    "| a  | Jose |    12.5 | yes       |\n",
    "| b  | Maria      |     9   | no        |\n",
    "| c  | Joao |    16.5 | yes       |\n",
    "\n",
    "#### Resultado Esperado:\n",
    "|    | name      |   score | qualify   |\n",
    "|:---|:----------|--------:|:----------|\n",
    "| a  | Jose |    12.5 | True      |\n",
    "| b  | Maria      |     9   | False     |\n",
    "| c  | Joao |    16.5 | True      |\n",
    "\n",
    "\n",
    "#### Dica: use a função Series.map"
   ]
  },
  {
   "cell_type": "code",
   "execution_count": null,
   "metadata": {
    "id": "tzVnYln6VhjJ"
   },
   "outputs": [],
   "source": [
    "# Faca aqui seus testes do Exercício 4.5\n",
    "exam_data  = {'name': ['Jose', 'Maria', 'Joao', 'Pedro', 'Emilia',\n",
    "                       'Marcos', 'Mateus', 'Laura', 'Carlos', 'Jonas'],\n",
    "        'score': [12.5, 9, 16.5, np.nan, 9, 20, 14.5, np.nan, 8, 19],\n",
    "        'qualify': ['yes', 'no', 'yes', 'no', 'no', 'yes', 'yes', 'no', 'no', 'yes']}\n",
    "labels = ['a', 'b', 'c', 'd', 'e', 'f', 'g', 'h', 'i', 'j']\n",
    "exam_data2 = {'name': ['Jose', 'Maria', 'Joao', 'Pedro', 'Emilia',\n",
    "                       'Marcos', 'Mateus', 'Laura', 'Carlos', 'Jonas'],\n",
    "        'score': [12.5, 9, 16.5, np.nan, 9, 20, 14.5, np.nan, 8, 19],\n",
    "        'qualify': [True, False, True, False, False, True, True, False, False, True]}\n",
    "df = pd.DataFrame(exam_data, index=labels) \n",
    "\n",
    "\n",
    "\n"
   ]
  },
  {
   "cell_type": "code",
   "execution_count": null,
   "metadata": {
    "deletable": false,
    "executionInfo": {
     "elapsed": 255,
     "status": "ok",
     "timestamp": 1625786299682,
     "user": {
      "displayName": "Alex Lopes",
      "photoUrl": "https://lh3.googleusercontent.com/a-/AOh14GiIodCIc3QmEkRc07ZdX1uDEU_3XpwbFfljE8IyIg=s64",
      "userId": "01606300887134833077"
     },
     "user_tz": 180
    },
    "id": "zkC7vBvJVhjJ",
    "nbgrader": {
     "cell_type": "code",
     "checksum": "895dbff68125b64b210a61431be0a908",
     "grade": false,
     "grade_id": "cell-a97c7b234ta3b64",
     "locked": false,
     "schema_version": 3,
     "solution": true,
     "task": false
    }
   },
   "outputs": [],
   "source": [
    "# Faca aqui sua função do Exercício 4.5\n",
    "def change_yes_no(df, col):\n",
    "    \"\"\"altere o data frame na coluna col substituindo 'yes' por True e 'no' por False\n",
    "    \"\"\"\n",
    "    # YOUR CODE HERE\n",
    "    raise NotImplementedError()\n"
   ]
  },
  {
   "cell_type": "code",
   "execution_count": null,
   "metadata": {
    "colab": {
     "base_uri": "https://localhost:8080/"
    },
    "executionInfo": {
     "elapsed": 1621,
     "status": "ok",
     "timestamp": 1625786301590,
     "user": {
      "displayName": "Alex Lopes",
      "photoUrl": "https://lh3.googleusercontent.com/a-/AOh14GiIodCIc3QmEkRc07ZdX1uDEU_3XpwbFfljE8IyIg=s64",
      "userId": "01606300887134833077"
     },
     "user_tz": 180
    },
    "id": "6zXMC_B7VhjK",
    "outputId": "f811f32c-742f-480f-c74c-bc3934db2526"
   },
   "outputs": [],
   "source": [
    "# Faca aqui a validacao do Exercicio 4.5\n",
    "exam_data  = {'name': ['Jose', 'Maria', 'Joao', 'Pedro', 'Emilia',\n",
    "                       'Marcos', 'Mateus', 'Laura', 'Carlos', 'Jonas'],\n",
    "        'score': [12.5, 9, 16.5, np.nan, 9, 20, 14.5, np.nan, 8, 19],\n",
    "        'qualify': ['yes', 'no', 'yes', 'no', 'no', 'yes', 'yes', 'no', 'no', 'yes']}\n",
    "labels = ['a', 'b', 'c', 'd', 'e', 'f', 'g', 'h', 'i', 'j']\n",
    "exam_data2 = {'name': ['Jose', 'Maria', 'Joao', 'Pedro', 'Emilia',\n",
    "                       'Marcos', 'Mateus', 'Laura', 'Carlos', 'Jonas'],\n",
    "        'score': [12.5, 9, 16.5, np.nan, 9, 20, 14.5, np.nan, 8, 19],\n",
    "        'qualify': [True, False, True, False, False, True, True, False, False, True]}\n",
    "df = pd.DataFrame(exam_data, index=labels) \n",
    "df2 = pd.DataFrame(exam_data2, index=labels) \n",
    "\n",
    "entradas = [[df, 'qualify']]\n",
    "saidas = [True]\n",
    "validate(change_yes_no, entradas, lambda x: x.equals(df2), saidas, \"4.5\")"
   ]
  },
  {
   "cell_type": "markdown",
   "metadata": {
    "id": "qd8-QgmfVhjL"
   },
   "source": [
    "### 4.6 Escreva uma função para ordenar um DataFrame por colunas (Ex.: [col1, col2,...,colK]), de forma descendente, e retornar as top N linhas do DataFrame ordenado \n",
    "#### Use o dataset Diamonds (https://www.kaggle.com/shivam2503/diamonds) \n",
    "#### Dica 1: Use a função sort_values do DataFrame. Esta função possui os parâmetros inplace e ascending.\n",
    "\n",
    "#### O código a seguir faz o download deste dataset na forma de um dataframe."
   ]
  },
  {
   "cell_type": "code",
   "execution_count": null,
   "metadata": {
    "colab": {
     "base_uri": "https://localhost:8080/",
     "height": 440
    },
    "executionInfo": {
     "elapsed": 713,
     "status": "ok",
     "timestamp": 1625786307244,
     "user": {
      "displayName": "Alex Lopes",
      "photoUrl": "https://lh3.googleusercontent.com/a-/AOh14GiIodCIc3QmEkRc07ZdX1uDEU_3XpwbFfljE8IyIg=s64",
      "userId": "01606300887134833077"
     },
     "user_tz": 180
    },
    "id": "_Ibtj6VxVhjL",
    "outputId": "50df1d83-2590-47e8-c3e7-88063fe37a72"
   },
   "outputs": [],
   "source": [
    "diamonds = pd.read_csv('https://raw.githubusercontent.com/mwaskom/seaborn-data/master/diamonds.csv')\n",
    "diamonds"
   ]
  },
  {
   "cell_type": "code",
   "execution_count": null,
   "metadata": {
    "id": "oFWU9tX9VhjM"
   },
   "outputs": [],
   "source": [
    "# Faca aqui seus testes do Exercício 4.6\n",
    "df = pd.DataFrame({'carat':[2.29, 2.0, 1.51],'cut':['Premium', 'Very Good', 'Ideal'],\n",
    "                   'color':['I', 'G', 'G'],'clarity':['VS2', 'SI1', 'IF'],\n",
    "                   'depth':[60.8, 63.5, 61.7],'table':[60.0, 56.0, 55.0],\n",
    "                   'price':[18823, 18818, 18806],'x':[8.5, 7.9, 7.37],\n",
    "                   'y':[8.47, 7.97, 7.41],'z':[5.16, 5.04, 4.56]},\n",
    "                 index=[27749, 27748, 27747])\n",
    "\n",
    "\n"
   ]
  },
  {
   "cell_type": "code",
   "execution_count": null,
   "metadata": {
    "deletable": false,
    "executionInfo": {
     "elapsed": 279,
     "status": "ok",
     "timestamp": 1625786310098,
     "user": {
      "displayName": "Alex Lopes",
      "photoUrl": "https://lh3.googleusercontent.com/a-/AOh14GiIodCIc3QmEkRc07ZdX1uDEU_3XpwbFfljE8IyIg=s64",
      "userId": "01606300887134833077"
     },
     "user_tz": 180
    },
    "id": "J6Ouo_CKVhjM",
    "nbgrader": {
     "cell_type": "code",
     "checksum": "c38958f7080b99310a559d5dfcf5969c",
     "grade": false,
     "grade_id": "cell-24d3130a23ter702",
     "locked": false,
     "schema_version": 3,
     "solution": true,
     "task": false
    }
   },
   "outputs": [],
   "source": [
    "# Faca aqui sua função do Exercício 4.6\n",
    "def topN_sorted(df, cols, n):\n",
    "    \"\"\"retorne as top n linhas ordenadas por cols\n",
    "    \"\"\"\n",
    "    # YOUR CODE HERE\n",
    "    raise NotImplementedError()\n"
   ]
  },
  {
   "cell_type": "code",
   "execution_count": null,
   "metadata": {
    "colab": {
     "base_uri": "https://localhost:8080/"
    },
    "executionInfo": {
     "elapsed": 1550,
     "status": "ok",
     "timestamp": 1625786311903,
     "user": {
      "displayName": "Alex Lopes",
      "photoUrl": "https://lh3.googleusercontent.com/a-/AOh14GiIodCIc3QmEkRc07ZdX1uDEU_3XpwbFfljE8IyIg=s64",
      "userId": "01606300887134833077"
     },
     "user_tz": 180
    },
    "id": "blwqK69YVhjN",
    "outputId": "fd8bbf1a-4664-4d22-dd02-a2d23f509f0b"
   },
   "outputs": [],
   "source": [
    "# Faca aqui a validacao do Exercicio 4.6\n",
    "diamonds = pd.read_csv('https://raw.githubusercontent.com/mwaskom/seaborn-data/master/diamonds.csv')\n",
    "\n",
    "df = pd.DataFrame({'carat':[2.29, 2.0, 1.51],'cut':['Premium', 'Very Good', 'Ideal'],\n",
    "                   'color':['I', 'G', 'G'],'clarity':['VS2', 'SI1', 'IF'],\n",
    "                   'depth':[60.8, 63.5, 61.7],'table':[60.0, 56.0, 55.0],\n",
    "                   'price':[18823, 18818, 18806],'x':[8.5, 7.9, 7.37],\n",
    "                   'y':[8.47, 7.97, 7.41],'z':[5.16, 5.04, 4.56]},\n",
    "                 index=[27749, 27748, 27747])\n",
    "\n",
    "entradas = [[diamonds,['price', 'clarity'], 3]]\n",
    "saidas = [True]\n",
    "validate(topN_sorted, entradas, lambda x: x.equals(df), saidas, \"4.6\")"
   ]
  },
  {
   "cell_type": "markdown",
   "metadata": {
    "id": "lhqYPHsgVhjO"
   },
   "source": [
    "### 4.7 Considerando o dataset Diamonds, escreva uma função para retornar as informações dos diamantes que atendam a especificação x > N e y > N e Z > N\n",
    "#### Use o dataset Diamonds (https://www.kaggle.com/shivam2503/diamonds) \n",
    "#### Dica 1: Use o operador & (AND) para realizar a conjunção lógica (p ^ q). Use a sintaxe com colchete e parênteses df[(S1) & (S2) & (S3)]\n",
    "\n",
    "#### O código a seguir faz o download deste dataset\n"
   ]
  },
  {
   "cell_type": "code",
   "execution_count": null,
   "metadata": {
    "id": "rxmwqvTBVhjO"
   },
   "outputs": [],
   "source": [
    "diamonds = pd.read_csv('https://raw.githubusercontent.com/mwaskom/seaborn-data/master/diamonds.csv')\n",
    "diamonds"
   ]
  },
  {
   "cell_type": "code",
   "execution_count": null,
   "metadata": {
    "id": "_3gLpPJLVhjP"
   },
   "outputs": [],
   "source": [
    "# Faca aqui seus testes do Exercício 4.7\n",
    "diamonds = pd.read_csv('https://raw.githubusercontent.com/mwaskom/seaborn-data/master/diamonds.csv')\n",
    "test_data = {'carat': {24067: 2.0}, 'cut': {24067: 'Premium'}, 'color': {24067: 'H'}, 'clarity': {24067: 'SI2'},\n",
    " 'depth': {24067: 58.9}, 'table': {24067: 57.0}, 'price': {24067: 12210}, 'x': {24067: 8.09}, 'y': {24067: 58.9},\n",
    " 'z': {24067: 8.06}}\n",
    "\n",
    "\n",
    "\n"
   ]
  },
  {
   "cell_type": "code",
   "execution_count": null,
   "metadata": {
    "deletable": false,
    "executionInfo": {
     "elapsed": 262,
     "status": "ok",
     "timestamp": 1625786316136,
     "user": {
      "displayName": "Alex Lopes",
      "photoUrl": "https://lh3.googleusercontent.com/a-/AOh14GiIodCIc3QmEkRc07ZdX1uDEU_3XpwbFfljE8IyIg=s64",
      "userId": "01606300887134833077"
     },
     "user_tz": 180
    },
    "id": "H1sQpJPEVhjP",
    "nbgrader": {
     "cell_type": "code",
     "checksum": "09a81b89d72c4af6e72d3886df842382",
     "grade": false,
     "grade_id": "cell-ee1becd7e3234t96",
     "locked": false,
     "schema_version": 3,
     "solution": true,
     "task": false
    }
   },
   "outputs": [],
   "source": [
    "# Faca aqui sua função do Exercício 4.7\n",
    "def filter_xyz(df, n):\n",
    "    \"\"\"retorne as linhas que atendam a especificação x > n e y > n e Z > n\n",
    "    \"\"\"\n",
    "    # YOUR CODE HERE\n",
    "    raise NotImplementedError()\n"
   ]
  },
  {
   "cell_type": "code",
   "execution_count": null,
   "metadata": {
    "colab": {
     "base_uri": "https://localhost:8080/"
    },
    "executionInfo": {
     "elapsed": 1405,
     "status": "ok",
     "timestamp": 1625786317855,
     "user": {
      "displayName": "Alex Lopes",
      "photoUrl": "https://lh3.googleusercontent.com/a-/AOh14GiIodCIc3QmEkRc07ZdX1uDEU_3XpwbFfljE8IyIg=s64",
      "userId": "01606300887134833077"
     },
     "user_tz": 180
    },
    "id": "_SsW0_xwVhjR",
    "outputId": "f67fa09e-4846-4a1f-bc84-ebde7ee54d24"
   },
   "outputs": [],
   "source": [
    "# Faca aqui a validacao do Exercicio 4.7\n",
    "diamonds = pd.read_csv('https://raw.githubusercontent.com/mwaskom/seaborn-data/master/diamonds.csv')\n",
    "test_data = {'carat': {24067: 2.0}, 'cut': {24067: 'Premium'}, 'color': {24067: 'H'}, 'clarity': {24067: 'SI2'},\n",
    " 'depth': {24067: 58.9}, 'table': {24067: 57.0}, 'price': {24067: 12210}, 'x': {24067: 8.09}, 'y': {24067: 58.9},\n",
    " 'z': {24067: 8.06}}\n",
    "\n",
    "entradas = [[diamonds, 7]]\n",
    "saidas = [test_data]\n",
    "validate(filter_xyz, entradas, lambda x: x.to_dict(), saidas, \"4.7\")"
   ]
  },
  {
   "cell_type": "markdown",
   "metadata": {
    "id": "-7nbk8L0VhjR"
   },
   "source": [
    "### 4.8 Escreva uma função para ordenar uma lista de dicionários usando uma função Lambda. A função criada deve receber como argumento a chave do dicionário que será usada na ordenação da lista.\n",
    "\n",
    "#### Dica: use a função sorted. Use o argumento key da função sorted."
   ]
  },
  {
   "cell_type": "code",
   "execution_count": null,
   "metadata": {
    "id": "GMC2qWNiVhjS"
   },
   "outputs": [],
   "source": [
    "# Faca aqui seus testes do Exercício 4.8\n",
    "data = [{'nome': ['Pedro'], 'classe': ['V'], 'disciplina': ['portugues', 'matematica', 'ciencia']},\n",
    "        {'nome': ['Jose'], 'classe': ['V'], 'disciplina': ['portugues', 'matematica', 'ciencia']},\n",
    "       {'nome': ['Maria'], 'classe': ['V'], 'disciplina': ['portugues', 'matematica', 'ciencia']}]\n",
    "\n",
    "\n"
   ]
  },
  {
   "cell_type": "code",
   "execution_count": null,
   "metadata": {
    "deletable": false,
    "executionInfo": {
     "elapsed": 307,
     "status": "ok",
     "timestamp": 1625786321892,
     "user": {
      "displayName": "Alex Lopes",
      "photoUrl": "https://lh3.googleusercontent.com/a-/AOh14GiIodCIc3QmEkRc07ZdX1uDEU_3XpwbFfljE8IyIg=s64",
      "userId": "01606300887134833077"
     },
     "user_tz": 180
    },
    "id": "2Gf29CnkVhjR",
    "nbgrader": {
     "cell_type": "code",
     "checksum": "4ffbeffe855962564ecc673acc8ab9d7",
     "grade": false,
     "grade_id": "cell-c705b9dqtwte2b9f9",
     "locked": false,
     "schema_version": 3,
     "solution": true,
     "task": false
    }
   },
   "outputs": [],
   "source": [
    "\n",
    "# Faca aqui sua função do Exercício 4.8\n",
    "def sort_dict_list(l, chave):\n",
    "    \"\"\"retorne a lista ordenada\n",
    "    \"\"\"\n",
    "    # YOUR CODE HERE\n",
    "    raise NotImplementedError()\n"
   ]
  },
  {
   "cell_type": "code",
   "execution_count": null,
   "metadata": {
    "colab": {
     "base_uri": "https://localhost:8080/"
    },
    "deletable": false,
    "editable": false,
    "executionInfo": {
     "elapsed": 1493,
     "status": "ok",
     "timestamp": 1625786323645,
     "user": {
      "displayName": "Alex Lopes",
      "photoUrl": "https://lh3.googleusercontent.com/a-/AOh14GiIodCIc3QmEkRc07ZdX1uDEU_3XpwbFfljE8IyIg=s64",
      "userId": "01606300887134833077"
     },
     "user_tz": 180
    },
    "id": "Z2j87EyYVhjS",
    "nbgrader": {
     "cell_type": "code",
     "checksum": "0d10be71c8cad9f67db4fafe5056f7c0",
     "grade": true,
     "grade_id": "cell-9ffda88d5qwet382a",
     "locked": true,
     "points": 1,
     "schema_version": 3,
     "solution": false,
     "task": false
    },
    "outputId": "e2953f3e-9844-435f-ed46-785c90b4c72c"
   },
   "outputs": [],
   "source": [
    "# Faca aqui a validacao do Exercicio 4.8\n",
    "data = [{'nome': ['Pedro'], 'classe': ['V'], 'disciplina': ['portugues', 'matematica', 'ciencia']},\n",
    "        {'nome': ['Jose'], 'classe': ['V'], 'disciplina': ['portugues', 'matematica', 'ciencia']},\n",
    "       {'nome': ['Maria'], 'classe': ['V'], 'disciplina': ['portugues', 'matematica', 'ciencia']}]\n",
    "\n",
    "data_sorted = [{'nome': ['Jose'], 'classe': ['V'], 'disciplina': ['portugues', 'matematica', 'ciencia']},\n",
    "        {'nome': ['Maria'], 'classe': ['V'], 'disciplina': ['portugues', 'matematica', 'ciencia']},\n",
    "       {'nome': ['Pedro'], 'classe': ['V'], 'disciplina': ['portugues', 'matematica', 'ciencia']}]\n",
    "\n",
    "entradas = [[data, 'nome']]\n",
    "saidas = [data_sorted]\n",
    "validate(sort_dict_list, entradas, lambda x: x, saidas, \"4.8\")"
   ]
  },
  {
   "cell_type": "markdown",
   "metadata": {
    "id": "2zT1XtsSVhjT"
   },
   "source": [
    "### 4.9 Escreva uma função para criar uma nova coluna chamada 'segundo' que tenha o segundo maior valor de cada linha de df.\n",
    "#### Dica 1: Use a função apply do Dataframe aplicando uma função lambda. E use a função sorted dentro da função lambda. Perceba que você precisa converter o argumento da função lambda para list antes de aplicar o método sorted.\n",
    "#### Dica 2: Aplique a função lambda no eixo 1."
   ]
  },
  {
   "cell_type": "code",
   "execution_count": null,
   "metadata": {
    "executionInfo": {
     "elapsed": 282,
     "status": "ok",
     "timestamp": 1625786326992,
     "user": {
      "displayName": "Alex Lopes",
      "photoUrl": "https://lh3.googleusercontent.com/a-/AOh14GiIodCIc3QmEkRc07ZdX1uDEU_3XpwbFfljE8IyIg=s64",
      "userId": "01606300887134833077"
     },
     "user_tz": 180
    },
    "id": "d6D4hrIqVhjT"
   },
   "outputs": [],
   "source": [
    "# Faca aqui seus testes do Exercício 4.9\n",
    "data = {'d1': [20, 36, 25,  4,  1, 20, 17, 47,  2, 40],\n",
    "        'd2': [33, 25, 48, 39, 49, 37, 45, 36, 37, 31],\n",
    "        'd3': [19, 47,  9, 27, 48, 26, 24, 21,  1,  2]}\n",
    "df = pd.DataFrame(data)\n",
    "\n",
    "\n"
   ]
  },
  {
   "cell_type": "code",
   "execution_count": null,
   "metadata": {
    "deletable": false,
    "executionInfo": {
     "elapsed": 7,
     "status": "ok",
     "timestamp": 1625786327265,
     "user": {
      "displayName": "Alex Lopes",
      "photoUrl": "https://lh3.googleusercontent.com/a-/AOh14GiIodCIc3QmEkRc07ZdX1uDEU_3XpwbFfljE8IyIg=s64",
      "userId": "01606300887134833077"
     },
     "user_tz": 180
    },
    "id": "fYqdpv41VhjT",
    "nbgrader": {
     "cell_type": "code",
     "checksum": "5ec14883ae19792ccbbf95c715e6153e",
     "grade": false,
     "grade_id": "cell-553ee24823te4bc30",
     "locked": false,
     "schema_version": 3,
     "solution": true,
     "task": false
    }
   },
   "outputs": [],
   "source": [
    "# Faca aqui sua função do Exercício 4.9\n",
    "def segundo_maior(df):\n",
    "    \"\"\"retorne o dataframe df com uma nova coluna 'segundo' que tenha o segundo maior valor de cada linha de df\n",
    "    \"\"\"\n",
    "    # YOUR CODE HERE\n",
    "    raise NotImplementedError()\n"
   ]
  },
  {
   "cell_type": "code",
   "execution_count": null,
   "metadata": {
    "colab": {
     "base_uri": "https://localhost:8080/"
    },
    "deletable": false,
    "editable": false,
    "executionInfo": {
     "elapsed": 1701,
     "status": "ok",
     "timestamp": 1625786329237,
     "user": {
      "displayName": "Alex Lopes",
      "photoUrl": "https://lh3.googleusercontent.com/a-/AOh14GiIodCIc3QmEkRc07ZdX1uDEU_3XpwbFfljE8IyIg=s64",
      "userId": "01606300887134833077"
     },
     "user_tz": 180
    },
    "id": "hfC6hUSPVhjU",
    "nbgrader": {
     "cell_type": "code",
     "checksum": "df4d87fde3d5511ec919414c4f7142c0",
     "grade": true,
     "grade_id": "cell-0e2bt6ceertdc60",
     "locked": true,
     "points": 1,
     "schema_version": 3,
     "solution": false,
     "task": false
    },
    "outputId": "81cbf5a2-3f1c-4246-8a15-f7b2b675e1e8"
   },
   "outputs": [],
   "source": [
    "# Faca aqui a validacao do Exercicio 4.9\n",
    "data = {'d1': [20, 36, 25,  4,  1, 20, 17, 47,  2, 40],\n",
    "        'd2': [33, 25, 48, 39, 49, 37, 45, 36, 37, 31],\n",
    "        'd3': [19, 47,  9, 27, 48, 26, 24, 21,  1,  2]}\n",
    "df = pd.DataFrame(data)\n",
    "\n",
    "entradas = [[df]]\n",
    "saidas = [[20, 36, 25, 27, 48, 26, 24, 36, 2, 31]]\n",
    "validate(segundo_maior, entradas, lambda x: list(x['segundo']), saidas, \"4.9\")"
   ]
  }
 ],
 "metadata": {
  "colab": {
   "collapsed_sections": [],
   "name": "Aula4_Exercicio.ipynb",
   "provenance": []
  },
  "kernelspec": {
   "display_name": "Python 3",
   "language": "python",
   "name": "python3"
  },
  "language_info": {
   "codemirror_mode": {
    "name": "ipython",
    "version": 3
   },
   "file_extension": ".py",
   "mimetype": "text/x-python",
   "name": "python",
   "nbconvert_exporter": "python",
   "pygments_lexer": "ipython3",
   "version": "3.8.3"
  },
  "name": "_merged",
  "varInspector": {
   "cols": {
    "lenName": 16,
    "lenType": 16,
    "lenVar": 40
   },
   "kernels_config": {
    "python": {
     "delete_cmd_postfix": "",
     "delete_cmd_prefix": "del ",
     "library": "var_list.py",
     "varRefreshCmd": "print(var_dic_list())"
    },
    "r": {
     "delete_cmd_postfix": ") ",
     "delete_cmd_prefix": "rm(",
     "library": "var_list.r",
     "varRefreshCmd": "cat(var_dic_list()) "
    }
   },
   "types_to_exclude": [
    "module",
    "function",
    "builtin_function_or_method",
    "instance",
    "_Feature"
   ],
   "window_display": false
  }
 },
 "nbformat": 4,
 "nbformat_minor": 1
}

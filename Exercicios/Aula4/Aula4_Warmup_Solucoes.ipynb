{
 "cells": [
  {
   "cell_type": "markdown",
   "metadata": {
    "id": "l4lCUwGfG3ta"
   },
   "source": [
    "# Aula 4 - Warmup de Introdução ao Pandas"
   ]
  },
  {
   "cell_type": "markdown",
   "metadata": {
    "id": "1pBDeR74G3tf"
   },
   "source": [
    "### Treinando conceitos de Pandas e Series"
   ]
  },
  {
   "cell_type": "code",
   "execution_count": null,
   "metadata": {
    "id": "tbeqGQRkG3th"
   },
   "outputs": [],
   "source": [
    "# Importe as bibliotecas pandas e numpy\n",
    "import pandas as pd\n",
    "import numpy as np"
   ]
  },
  {
   "cell_type": "markdown",
   "metadata": {
    "id": "z0Heo6xnG3tk"
   },
   "source": [
    "#### W4.1 Crie um objeto Series contendo os seguintes elementos [4, 7, -5, 3]"
   ]
  },
  {
   "cell_type": "code",
   "execution_count": null,
   "metadata": {
    "id": "vdaSNGTxG3tl",
    "nbgrader": {
     "grade": false,
     "grade_id": "cell-94456871f8e3beb1",
     "locked": false,
     "schema_version": 3,
     "solution": true,
     "task": false
    }
   },
   "outputs": [],
   "source": [
    "# Faça aqui\n",
    "### BEGIN SOLUTION\n",
    "pd.Series([4, 7, -5, 3])\n",
    "### END SOLUTION\n"
   ]
  },
  {
   "cell_type": "markdown",
   "metadata": {
    "id": "mE1vyFGIG3tm"
   },
   "source": [
    "#### W4.2 Crie um objeto Series contendo [4, 7, -5, 3] e defina seu próprio array de índices como sendo ['d', 'b', 'a', 'c']"
   ]
  },
  {
   "cell_type": "code",
   "execution_count": null,
   "metadata": {
    "id": "WrUN9I9dG3tn",
    "nbgrader": {
     "grade": false,
     "grade_id": "cell-6e2a4d95f06c86b2",
     "locked": false,
     "schema_version": 3,
     "solution": true,
     "task": false
    }
   },
   "outputs": [],
   "source": [
    "# Faça aqui\n",
    "### BEGIN SOLUTION\n",
    "s = pd.Series([4, 7, -5, 3], index=['d', 'b', 'a', 'c'])\n",
    "print(s)\n",
    "### END SOLUTION\n"
   ]
  },
  {
   "cell_type": "markdown",
   "metadata": {
    "id": "0BszkpYJG3tn"
   },
   "source": [
    "#### W4.3 Use o índice para acessar o valor 4 do objeto Series criado no exercicio W4.2"
   ]
  },
  {
   "cell_type": "code",
   "execution_count": null,
   "metadata": {
    "id": "aBQkcPqWG3to",
    "nbgrader": {
     "grade": false,
     "grade_id": "cell-182b7bc4c05dee6e",
     "locked": false,
     "schema_version": 3,
     "solution": true,
     "task": false
    }
   },
   "outputs": [],
   "source": [
    "# Faça aqui\n",
    "### BEGIN SOLUTION\n",
    "s['d']\n",
    "### END SOLUTION\n"
   ]
  },
  {
   "cell_type": "markdown",
   "metadata": {
    "id": "L8bSBtDUG3tp"
   },
   "source": [
    "#### W4.4 Use o índice para acessar os valores 7 e 3 do objeto Series criado no exercicio W4.2"
   ]
  },
  {
   "cell_type": "code",
   "execution_count": null,
   "metadata": {
    "id": "EeuYNpawG3tq",
    "nbgrader": {
     "grade": false,
     "grade_id": "cell-55eb107ea59676d6",
     "locked": false,
     "schema_version": 3,
     "solution": true,
     "task": false
    }
   },
   "outputs": [],
   "source": [
    "# Faça aqui\n",
    "### BEGIN SOLUTION\n",
    "s[['b', 'c']]\n",
    "### END SOLUTION\n"
   ]
  },
  {
   "cell_type": "markdown",
   "metadata": {
    "id": "Bqoeln_dG3ts"
   },
   "source": [
    "#### W4.5 Atribua o valor 6 ao elemento de índice d"
   ]
  },
  {
   "cell_type": "code",
   "execution_count": null,
   "metadata": {
    "id": "BSXI2RsbG3ts",
    "nbgrader": {
     "grade": false,
     "grade_id": "cell-2f40a67176a0e167",
     "locked": false,
     "schema_version": 3,
     "solution": true,
     "task": false
    }
   },
   "outputs": [],
   "source": [
    "# Faça aqui\n",
    "### BEGIN SOLUTION\n",
    "s['d'] = 6\n",
    "print(s)\n",
    "### END SOLUTION\n"
   ]
  },
  {
   "cell_type": "markdown",
   "metadata": {
    "id": "CS4of2rdG3tt"
   },
   "source": [
    "#### W4.6 Verifique se o índice 'c' está presente na Serie criada no exercício W4.2"
   ]
  },
  {
   "cell_type": "code",
   "execution_count": null,
   "metadata": {
    "id": "KZlDm0v2G3tu",
    "nbgrader": {
     "grade": false,
     "grade_id": "cell-ac0044dcbbc01d23",
     "locked": false,
     "schema_version": 3,
     "solution": true,
     "task": false
    }
   },
   "outputs": [],
   "source": [
    "# Faça aqui\n",
    "### BEGIN SOLUTION\n",
    "'c' in s.index\n",
    "### END SOLUTION\n"
   ]
  },
  {
   "cell_type": "markdown",
   "metadata": {
    "id": "dVQU_O0qG3tu"
   },
   "source": [
    "#### W4.7 Verifique se o índice 'e' está presente na Serie criada no exercício W4.2\n"
   ]
  },
  {
   "cell_type": "code",
   "execution_count": null,
   "metadata": {
    "id": "tB93EscVG3tu",
    "nbgrader": {
     "grade": false,
     "grade_id": "cell-58172d29dcf92e14",
     "locked": false,
     "schema_version": 3,
     "solution": true,
     "task": false
    }
   },
   "outputs": [],
   "source": [
    "# Faça aqui\n",
    "### BEGIN SOLUTION\n",
    "'e' in s.index\n",
    "### END SOLUTION\n"
   ]
  },
  {
   "cell_type": "markdown",
   "metadata": {
    "id": "1b4tyGtJG3tv"
   },
   "source": [
    "#### W4.8 Retorne os elementos da Series abaixo cujo valor seja maior que 0"
   ]
  },
  {
   "cell_type": "code",
   "execution_count": null,
   "metadata": {
    "id": "_uX3X2bWG3tv",
    "nbgrader": {
     "grade": false,
     "grade_id": "cell-63439ea026e5b34d",
     "locked": false,
     "schema_version": 3,
     "solution": true,
     "task": false
    }
   },
   "outputs": [],
   "source": [
    "# Considere a seguinte serie\n",
    "obj2 = pd.Series([0, 7, -5, 3, 2, 5, -15], index=['d', 'b', 'a', 'c', 'd', 'e', 'f'])\n",
    "# Faça aqui\n",
    "### BEGIN SOLUTION\n",
    "obj2[obj2 > 0]\n",
    "### END SOLUTION\n"
   ]
  },
  {
   "cell_type": "markdown",
   "metadata": {
    "id": "B-hClDfaG3tw"
   },
   "source": [
    "#### W4.9 Retorne os valores da Serie obj2 (exercício W4.8) multiplicados por 2\n"
   ]
  },
  {
   "cell_type": "code",
   "execution_count": null,
   "metadata": {
    "id": "L2CO7SXZG3tw",
    "nbgrader": {
     "grade": false,
     "grade_id": "cell-47c5f9248ea887f4",
     "locked": false,
     "schema_version": 3,
     "solution": true,
     "task": false
    }
   },
   "outputs": [],
   "source": [
    "# Faça aqui\n",
    "### BEGIN SOLUTION\n",
    "obj2 * 2\n",
    "### END SOLUTION\n"
   ]
  },
  {
   "cell_type": "markdown",
   "metadata": {
    "id": "1qZk8pzPG3tx"
   },
   "source": [
    "#### W4.10 Retorne os valores da aplicação da função exponencial (np.exp) a Serie obj2 (exercício W4.8)\n"
   ]
  },
  {
   "cell_type": "code",
   "execution_count": null,
   "metadata": {
    "id": "VuIxmmZJG3tx",
    "nbgrader": {
     "grade": false,
     "grade_id": "cell-dbf15b0dd2d7c611",
     "locked": false,
     "schema_version": 3,
     "solution": true,
     "task": false
    }
   },
   "outputs": [],
   "source": [
    "# Faça aqui\n",
    "### BEGIN SOLUTION\n",
    "np.exp(obj2)\n",
    "### END SOLUTION\n"
   ]
  },
  {
   "cell_type": "markdown",
   "metadata": {
    "id": "vcMuL2RKG3tz"
   },
   "source": [
    "#### W4.11 Criando uma Serie com um dicionário. Chame a Serie de obj3."
   ]
  },
  {
   "cell_type": "code",
   "execution_count": null,
   "metadata": {
    "id": "Fbh97i5UG3tz",
    "nbgrader": {
     "grade": false,
     "grade_id": "cell-ae5b4be37fa266d0",
     "locked": false,
     "schema_version": 3,
     "solution": true,
     "task": false
    }
   },
   "outputs": [],
   "source": [
    "# Crie uma série com o seguinte dicionário \n",
    "# {'carro': 350, 'moto': 750, 'bicicleta': 260, 'caminhao': 500, 'trem': np.nan, 'aviao': np.nan}\n",
    "# Chame a Serie de obj3\n",
    "# Faça aqui\n",
    "### BEGIN SOLUTION\n",
    "obj3 = pd.Series({'carro': 350, 'moto': 750, 'bicicleta': 260, 'caminhao': 500, 'trem': np.nan, 'aviao': np.nan})\n",
    "print(obj3)\n",
    "### END SOLUTION\n"
   ]
  },
  {
   "cell_type": "markdown",
   "metadata": {
    "id": "Su0eR50jG3t0"
   },
   "source": [
    "### Treinando conceitos de Valores Ausentes/Indisponíveis (NA)"
   ]
  },
  {
   "cell_type": "markdown",
   "metadata": {
    "id": "FiQyH38dG3t0"
   },
   "source": [
    "#### W4.12 Retorne, na forma de uma serie de booleanos, quais elementos da Serie obj3 tem valores NA"
   ]
  },
  {
   "cell_type": "code",
   "execution_count": null,
   "metadata": {
    "id": "ODNJClpPG3t0",
    "nbgrader": {
     "grade": false,
     "grade_id": "cell-bf5a3b78681a8cd8",
     "locked": false,
     "schema_version": 3,
     "solution": true,
     "task": false
    }
   },
   "outputs": [],
   "source": [
    "# Faça aqui\n",
    "### BEGIN SOLUTION\n",
    "obj3.isnull()\n",
    "### END SOLUTION\n"
   ]
  },
  {
   "cell_type": "markdown",
   "metadata": {
    "id": "AELYQSFDG3t1"
   },
   "source": [
    "#### W4.13 Retorne, na forma de uma serie de booleanos, quais elementos da Serie obj3 não tem valores NA"
   ]
  },
  {
   "cell_type": "code",
   "execution_count": null,
   "metadata": {
    "id": "lPQR_GzzG3t1",
    "nbgrader": {
     "grade": false,
     "grade_id": "cell-7c44caee95d14f98",
     "locked": false,
     "schema_version": 3,
     "solution": true,
     "task": false
    }
   },
   "outputs": [],
   "source": [
    "# Faça aqui\n",
    "### BEGIN SOLUTION\n",
    "obj3.notnull()\n",
    "### END SOLUTION\n"
   ]
  },
  {
   "cell_type": "markdown",
   "metadata": {
    "id": "zYYUovNRG3t1"
   },
   "source": [
    "#### W4.14 Retorne os valores não nulos (diferentes de NA) da serie obj3"
   ]
  },
  {
   "cell_type": "code",
   "execution_count": null,
   "metadata": {
    "id": "SVbhxLWOG3t1",
    "nbgrader": {
     "grade": false,
     "grade_id": "cell-e84f89fa853ba8e0",
     "locked": false,
     "schema_version": 3,
     "solution": true,
     "task": false
    }
   },
   "outputs": [],
   "source": [
    "# Faça aqui\n",
    "### BEGIN SOLUTION\n",
    "obj3[obj3.notnull()]\n",
    "### END SOLUTION\n"
   ]
  },
  {
   "cell_type": "markdown",
   "metadata": {
    "id": "PDISLb94G3t1"
   },
   "source": [
    "#### W4.15 Remova os elementos de valor NA da serie obj3"
   ]
  },
  {
   "cell_type": "code",
   "execution_count": null,
   "metadata": {
    "id": "gqKgmiYMG3t2",
    "nbgrader": {
     "grade": false,
     "grade_id": "cell-60677aa16955479c",
     "locked": false,
     "schema_version": 3,
     "solution": true,
     "task": false
    }
   },
   "outputs": [],
   "source": [
    "# Faça aqui\n",
    "### BEGIN SOLUTION\n",
    "obj3 = obj3[obj3.notnull()]\n",
    "print(obj3)\n",
    "# solucao alternativa\n",
    "obj3.dropna() # Esse metodo também tem o argumento inplace\n",
    "### END SOLUTION\n"
   ]
  },
  {
   "cell_type": "markdown",
   "metadata": {
    "id": "Mv322FzqG3t2"
   },
   "source": [
    "### Treinando Aritmética com Series"
   ]
  },
  {
   "cell_type": "markdown",
   "metadata": {
    "id": "GKcpQYoSG3t2"
   },
   "source": [
    "#### W4.16 Crie a série abaixo"
   ]
  },
  {
   "cell_type": "code",
   "execution_count": null,
   "metadata": {
    "id": "OBxsxhcOG3t3",
    "nbgrader": {
     "grade": false,
     "grade_id": "cell-41748fb4262b5dd2",
     "locked": false,
     "schema_version": 3,
     "solution": true,
     "task": false
    }
   },
   "outputs": [],
   "source": [
    "# Crie uma série com o seguinte dicionário \n",
    "# {'carro': 50, 'moto': 150, 'bicicleta': 200, 'caminhao': np.nan, 'trem': 10, 'aviao': 20}\n",
    "# Chame a Serie de obj4\n",
    "# Faça aqui\n",
    "### BEGIN SOLUTION\n",
    "obj4 = pd.Series({'carro': 50, 'moto': 150, 'bicicleta': 200, 'caminhao': np.nan, 'trem': 10, 'aviao': 20})\n",
    "obj4\n",
    "### END SOLUTION\n"
   ]
  },
  {
   "cell_type": "markdown",
   "metadata": {
    "id": "pTMKZ3YQG3t3"
   },
   "source": [
    "#### W4.17 Some as séries criadas nos dois exercícios anteriores (obj3 e obj4)\n"
   ]
  },
  {
   "cell_type": "code",
   "execution_count": null,
   "metadata": {
    "id": "-ecL5T5DG3t3",
    "nbgrader": {
     "grade": false,
     "grade_id": "cell-4bc67a79356d73b9",
     "locked": false,
     "schema_version": 3,
     "solution": true,
     "task": false
    }
   },
   "outputs": [],
   "source": [
    "# Faça aqui\n",
    "### BEGIN SOLUTION\n",
    "obj3+obj4\n",
    "### END SOLUTION\n"
   ]
  },
  {
   "cell_type": "markdown",
   "metadata": {
    "id": "Z57kP0AXG3t4"
   },
   "source": [
    "## Treinando conceitos sobre DataFrames"
   ]
  },
  {
   "cell_type": "markdown",
   "metadata": {
    "id": "I_QYC3oeG3t4"
   },
   "source": [
    "#### W4.18 Crie um data frame a partir dos dados do seguinte dicionário. Chame-o de frame"
   ]
  },
  {
   "cell_type": "code",
   "execution_count": null,
   "metadata": {
    "id": "Nk1q6sfOG3t4",
    "nbgrader": {
     "grade": false,
     "grade_id": "cell-afe53c7f620cb2a9",
     "locked": false,
     "schema_version": 3,
     "solution": true,
     "task": false
    }
   },
   "outputs": [],
   "source": [
    "data = {'state': ['Ohio', 'Ohio', 'Ohio', 'Nevada', 'Nevada', 'Nevada'],\n",
    "'year': [2000, 2001, 2002, 2001, 2002, 2003],\n",
    "'pop': [1.5, 1.7, 3.6, 2.4, 2.9, 3.2]}\n",
    "# Faça aqui\n",
    "### BEGIN SOLUTION\n",
    "frame = pd.DataFrame(data)\n",
    "### END SOLUTION\n"
   ]
  },
  {
   "cell_type": "markdown",
   "metadata": {
    "id": "d2FbsBupG3t5"
   },
   "source": [
    "#### W4.19 Mostre as primeiras linhas do dataframe frame"
   ]
  },
  {
   "cell_type": "code",
   "execution_count": null,
   "metadata": {
    "id": "jXmcB_RyG3t5",
    "nbgrader": {
     "grade": false,
     "grade_id": "cell-e2fe4995231cab5d",
     "locked": false,
     "schema_version": 3,
     "solution": true,
     "task": false
    }
   },
   "outputs": [],
   "source": [
    "# Acesse as primeiras linhas do dataframe frame\n",
    "### BEGIN SOLUTION\n",
    "frame.head()\n",
    "### END SOLUTION\n"
   ]
  },
  {
   "cell_type": "markdown",
   "metadata": {
    "id": "v3_dMXarG3t5"
   },
   "source": [
    "#### Acesse a coluna state usando a sintaxe com colchetes"
   ]
  },
  {
   "cell_type": "code",
   "execution_count": null,
   "metadata": {
    "id": "jRo6160yG3t6",
    "nbgrader": {
     "grade": false,
     "grade_id": "cell-9fe4acd0a2b77c6a",
     "locked": false,
     "schema_version": 3,
     "solution": true,
     "task": false
    }
   },
   "outputs": [],
   "source": [
    "# Faça aqui\n",
    "### BEGIN SOLUTION\n",
    "frame['state']\n",
    "### END SOLUTION\n"
   ]
  },
  {
   "cell_type": "markdown",
   "metadata": {
    "id": "L1HmY0bkG3t6"
   },
   "source": [
    "#### W4.20 Atribua o valor 16.5 para todas as posições de uma nova coluna chamada debt."
   ]
  },
  {
   "cell_type": "code",
   "execution_count": null,
   "metadata": {
    "id": "8AJC9YyyG3t6",
    "nbgrader": {
     "grade": false,
     "grade_id": "cell-ca603cb322461bfd",
     "locked": false,
     "schema_version": 3,
     "solution": true,
     "task": false
    }
   },
   "outputs": [],
   "source": [
    "# Faça aqui\n",
    "### BEGIN SOLUTION\n",
    "frame['debt'] = 16.5\n",
    "### END SOLUTION\n"
   ]
  },
  {
   "cell_type": "markdown",
   "metadata": {
    "id": "IggYec4fG3t7"
   },
   "source": [
    "#### W4.21 Atribua o valor do intervalo de 0 a 5 (float) na coluna debt.\n",
    "#### Dica: use a função np.arange"
   ]
  },
  {
   "cell_type": "code",
   "execution_count": null,
   "metadata": {
    "id": "Lgawch13G3t7",
    "nbgrader": {
     "grade": false,
     "grade_id": "cell-2a7c6bfc75375a29",
     "locked": false,
     "schema_version": 3,
     "solution": true,
     "task": false
    }
   },
   "outputs": [],
   "source": [
    "# Faça aqui\n",
    "### BEGIN SOLUTION\n",
    "frame['debt'] = np.arange(6.)\n",
    "### END SOLUTION\n"
   ]
  },
  {
   "cell_type": "markdown",
   "metadata": {
    "id": "PAoed-PuG3t8"
   },
   "source": [
    "#### W4.22 Crie uma nova coluna chamada eastern com o valor True para as linhas cujo estado seja Ohio, e False caso contrário."
   ]
  },
  {
   "cell_type": "code",
   "execution_count": null,
   "metadata": {
    "id": "YD8KNWpYG3t8",
    "nbgrader": {
     "grade": false,
     "grade_id": "cell-9fca3500fd0bcc8b",
     "locked": false,
     "schema_version": 3,
     "solution": true,
     "task": false
    }
   },
   "outputs": [],
   "source": [
    "# Faça aqui\n",
    "### BEGIN SOLUTION\n",
    "frame['eastern'] = frame['state'] == 'Ohio'\n",
    "frame\n",
    "### END SOLUTION\n"
   ]
  },
  {
   "cell_type": "markdown",
   "metadata": {
    "id": "0MVOHMicG3t9"
   },
   "source": [
    "#### W4.23 Delete a coluna eastern usando o comando del"
   ]
  },
  {
   "cell_type": "code",
   "execution_count": null,
   "metadata": {
    "id": "F-TBUTPlG3t9",
    "nbgrader": {
     "grade": false,
     "grade_id": "cell-e89b0a9cc4c9c5ab",
     "locked": false,
     "schema_version": 3,
     "solution": true,
     "task": false
    }
   },
   "outputs": [],
   "source": [
    "# Faça aqui\n",
    "### BEGIN SOLUTION\n",
    "del frame['eastern']\n",
    "### END SOLUTION\n"
   ]
  },
  {
   "cell_type": "markdown",
   "metadata": {
    "id": "a7M79x1EG3t-"
   },
   "source": [
    "#### W4.24 Crie um DataFrame a partir de um dicionário de dicionários. Chame-o de frame3."
   ]
  },
  {
   "cell_type": "code",
   "execution_count": null,
   "metadata": {
    "id": "yHArKQlMG3t-",
    "nbgrader": {
     "grade": false,
     "grade_id": "cell-a68516c8695cd058",
     "locked": false,
     "schema_version": 3,
     "solution": true,
     "task": false
    }
   },
   "outputs": [],
   "source": [
    "# Crie um Dataframe a partir do seguinte dicionário:\n",
    "pop = {'DF': {2001: 2.7, 2002: 2.8},\n",
    "        'GO': {2000: 1.2, 2001: 1.7, 2002: 2.6}}\n",
    "# Faça aqui\n",
    "### BEGIN SOLUTION\n",
    "frame3 = pd.DataFrame(pop)\n",
    "### END SOLUTION\n"
   ]
  },
  {
   "cell_type": "markdown",
   "metadata": {
    "id": "0BShrXf4G3t-"
   },
   "source": [
    "#### W4.25 Retorne somente os valores do dicionário frame3. \n",
    "#### Dica use o atributo values. "
   ]
  },
  {
   "cell_type": "code",
   "execution_count": null,
   "metadata": {
    "id": "j1zmIch9G3t_",
    "nbgrader": {
     "grade": false,
     "grade_id": "cell-a0b7f25d33162623",
     "locked": false,
     "schema_version": 3,
     "solution": true,
     "task": false
    }
   },
   "outputs": [],
   "source": [
    "# Faça aqui\n",
    "### BEGIN SOLUTION\n",
    "frame3.values\n",
    "### END SOLUTION\n"
   ]
  },
  {
   "cell_type": "markdown",
   "metadata": {
    "id": "4BVDoOwLG3t_"
   },
   "source": [
    "#### W4.26 Remova os valores de uma Serie conforme especificado a seguir."
   ]
  },
  {
   "cell_type": "code",
   "execution_count": null,
   "metadata": {
    "id": "n95wjtceG3t_"
   },
   "outputs": [],
   "source": [
    "# Considere a Serie abaixo\n",
    "obj = pd.Series(np.arange(5.), index=['a', 'b', 'c', 'd', 'e'])\n",
    "obj\n"
   ]
  },
  {
   "cell_type": "code",
   "execution_count": null,
   "metadata": {
    "id": "FmxHzX60G3uA",
    "nbgrader": {
     "grade": false,
     "grade_id": "cell-3b3c290a8e891576",
     "locked": false,
     "schema_version": 3,
     "solution": true,
     "task": false
    }
   },
   "outputs": [],
   "source": [
    "# Crie um novo objeto removendo o item de índice c\n",
    "### BEGIN SOLUTION\n",
    "objx = obj.drop('c')\n",
    "objx\n",
    "### END SOLUTION\n"
   ]
  },
  {
   "cell_type": "code",
   "execution_count": null,
   "metadata": {
    "id": "XK9-U_aMG3uA",
    "nbgrader": {
     "grade": false,
     "grade_id": "cell-c7e257165c327e29",
     "locked": false,
     "schema_version": 3,
     "solution": true,
     "task": false
    },
    "scrolled": true
   },
   "outputs": [],
   "source": [
    "# Retorne uma serie sem os itens c e d\n",
    "### BEGIN SOLUTION\n",
    "obj.drop(['c', 'd'])\n",
    "### END SOLUTION\n"
   ]
  },
  {
   "cell_type": "markdown",
   "metadata": {
    "id": "3I8r2p2KG3uB"
   },
   "source": [
    "#### W4.27 Removendo entradas de um DataFrame conforme especificado a seguir."
   ]
  },
  {
   "cell_type": "code",
   "execution_count": null,
   "metadata": {
    "id": "Zdc9kKViG3uB",
    "nbgrader": {
     "grade": false,
     "grade_id": "cell-1c2fa871820c6da3",
     "locked": false,
     "schema_version": 3,
     "solution": true,
     "task": false
    }
   },
   "outputs": [],
   "source": [
    "# Considere o dataframe abaixo\n",
    "data = pd.DataFrame(np.arange(16).reshape((4, 4)),\n",
    "                    index=['DF', 'GO', 'SP', 'RJ'],\n",
    "                    columns=['um', 'dois', 'tres', 'quatro'])\n",
    "data\n"
   ]
  },
  {
   "cell_type": "code",
   "execution_count": null,
   "metadata": {
    "id": "Nnb1GUCAG3uC",
    "nbgrader": {
     "grade": false,
     "grade_id": "cell-29826585825b2982",
     "locked": false,
     "schema_version": 3,
     "solution": true,
     "task": false
    }
   },
   "outputs": [],
   "source": [
    "# Retorne um dataframe sem as linhas DF e GO\n",
    "### BEGIN SOLUTION\n",
    "data.loc[['DF', 'GO'], :]\n",
    "### END SOLUTION\n"
   ]
  },
  {
   "cell_type": "code",
   "execution_count": null,
   "metadata": {
    "id": "HPWdGhEiG3uD",
    "nbgrader": {
     "grade": false,
     "grade_id": "cell-2c27e6174e2be19d",
     "locked": false,
     "schema_version": 3,
     "solution": true,
     "task": false
    }
   },
   "outputs": [],
   "source": [
    "# Remova a coluna tres do dataframe data. Dica: use o argumento axis do método drop.\n",
    "### BEGIN SOLUTION\n",
    "data.drop('tres', axis=1)\n",
    "\n",
    "### END SOLUTION\n"
   ]
  },
  {
   "cell_type": "markdown",
   "metadata": {
    "id": "pSi_cXbYG3uD"
   },
   "source": [
    "#### W4.28 Realize as operações solicitadas a seguir"
   ]
  },
  {
   "cell_type": "code",
   "execution_count": null,
   "metadata": {
    "id": "DygyGpf6G3uE",
    "nbgrader": {
     "grade": false,
     "grade_id": "cell-be34d4606b67517a",
     "locked": false,
     "schema_version": 3,
     "solution": true,
     "task": false
    }
   },
   "outputs": [],
   "source": [
    "# Considere o dataframe abaixo\n",
    "data = pd.DataFrame(np.arange(16).reshape((4, 4)),\n",
    "                    index=['DF', 'GO', 'SP', 'RJ'],\n",
    "                    columns=['um', 'dois', 'tres', 'quatro'])\n",
    "data\n"
   ]
  },
  {
   "cell_type": "code",
   "execution_count": null,
   "metadata": {
    "id": "HbZAIuPzG3uE",
    "nbgrader": {
     "grade": false,
     "grade_id": "cell-ea80f2bcd5b4113b",
     "locked": false,
     "schema_version": 3,
     "solution": true,
     "task": false
    }
   },
   "outputs": [],
   "source": [
    "# Retorne um dataframe contendo True para itens menores que 5, e False caso contrário\n",
    "### BEGIN SOLUTION\n",
    "data<5\n",
    "### END SOLUTION\n"
   ]
  },
  {
   "cell_type": "code",
   "execution_count": null,
   "metadata": {
    "id": "vjZZSFPRG3uE",
    "nbgrader": {
     "grade": false,
     "grade_id": "cell-cc8e12e1e7ea3696",
     "locked": false,
     "schema_version": 3,
     "solution": true,
     "task": false
    }
   },
   "outputs": [],
   "source": [
    "# Atribua o valor zero onde os valores do dataframe são menores que 5\n",
    "### BEGIN SOLUTION\n",
    "data[data<5] = 0\n",
    "data\n",
    "### END SOLUTION\n"
   ]
  },
  {
   "cell_type": "markdown",
   "metadata": {
    "id": "Hze7axPxG3uE"
   },
   "source": [
    "### Treinando Filtro e Seleção num dataframe\n",
    "#### W4.29 Execute as instruções solicitadas a seguir."
   ]
  },
  {
   "cell_type": "code",
   "execution_count": null,
   "metadata": {
    "id": "A9zf9IbYG3uE",
    "nbgrader": {
     "grade": false,
     "grade_id": "cell-9a0bb9f2a2a645b7",
     "locked": false,
     "schema_version": 3,
     "solution": true,
     "task": false
    }
   },
   "outputs": [],
   "source": [
    "# Selecione as colunas um e dois do dataframe data\n",
    "### BEGIN SOLUTION\n",
    "data[['um', 'dois']]\n",
    "### END SOLUTION\n"
   ]
  },
  {
   "cell_type": "code",
   "execution_count": null,
   "metadata": {
    "id": "XVwLIkGWG3uF",
    "nbgrader": {
     "grade": false,
     "grade_id": "cell-fb1280dc117b5cdc",
     "locked": false,
     "schema_version": 3,
     "solution": true,
     "task": false
    }
   },
   "outputs": [],
   "source": [
    "# Retorne as linhas do dataframe data cujo valor da coluna tres seja maior que 5\n",
    "### BEGIN SOLUTION\n",
    "data[data['tres'] > 5]\n",
    "### END SOLUTION\n"
   ]
  },
  {
   "cell_type": "markdown",
   "metadata": {
    "id": "9V3F-xnqG3uG"
   },
   "source": [
    "### Treinando seleção com os operadores loc e iloc\n",
    "#### W4.30 Execute as instruções solicitadas a seguir."
   ]
  },
  {
   "cell_type": "code",
   "execution_count": null,
   "metadata": {
    "id": "RW1X4h1UG3uG",
    "nbgrader": {
     "grade": false,
     "grade_id": "cell-f32bbd0190e671cb",
     "locked": false,
     "schema_version": 3,
     "solution": true,
     "task": false
    }
   },
   "outputs": [],
   "source": [
    "# Retorne o subconjunto especificado pela linha DF e colunas dois e tres\n",
    "### BEGIN SOLUTION\n",
    "data.loc['DF', ['dois','tres']]\n",
    "### END SOLUTION\n"
   ]
  },
  {
   "cell_type": "code",
   "execution_count": null,
   "metadata": {
    "id": "1xoyfvY0G3uG",
    "nbgrader": {
     "grade": false,
     "grade_id": "cell-f814682899607cc9",
     "locked": false,
     "schema_version": 3,
     "solution": true,
     "task": false
    }
   },
   "outputs": [],
   "source": [
    "# Utilizando o iloc, retorne o subconjunto especificado pela linha 2 e colunas 3, 0 e 1\n",
    "### BEGIN SOLUTION\n",
    "data.iloc[2, [3,0,1]]\n",
    "### END SOLUTION\n"
   ]
  }
 ],
 "metadata": {
  "celltoolbar": "Create Assignment",
  "colab": {
   "collapsed_sections": [
    "GKcpQYoSG3t2",
    "pTMKZ3YQG3t3",
    "I_QYC3oeG3t4",
    "d2FbsBupG3t5",
    "v3_dMXarG3t5",
    "L1HmY0bkG3t6",
    "IggYec4fG3t7",
    "PAoed-PuG3t8",
    "0MVOHMicG3t9",
    "a7M79x1EG3t-",
    "0BShrXf4G3t-",
    "4BVDoOwLG3t_",
    "3I8r2p2KG3uB",
    "pSi_cXbYG3uD"
   ],
   "name": "Aula4_Warmup_Solucoes.ipynb",
   "provenance": []
  },
  "kernelspec": {
   "display_name": "Python 3",
   "language": "python",
   "name": "python3"
  },
  "language_info": {
   "codemirror_mode": {
    "name": "ipython",
    "version": 3
   },
   "file_extension": ".py",
   "mimetype": "text/x-python",
   "name": "python",
   "nbconvert_exporter": "python",
   "pygments_lexer": "ipython3",
   "version": "3.8.3"
  },
  "varInspector": {
   "cols": {
    "lenName": 16,
    "lenType": 16,
    "lenVar": 40
   },
   "kernels_config": {
    "python": {
     "delete_cmd_postfix": "",
     "delete_cmd_prefix": "del ",
     "library": "var_list.py",
     "varRefreshCmd": "print(var_dic_list())"
    },
    "r": {
     "delete_cmd_postfix": ") ",
     "delete_cmd_prefix": "rm(",
     "library": "var_list.r",
     "varRefreshCmd": "cat(var_dic_list()) "
    }
   },
   "types_to_exclude": [
    "module",
    "function",
    "builtin_function_or_method",
    "instance",
    "_Feature"
   ],
   "window_display": false
  }
 },
 "nbformat": 4,
 "nbformat_minor": 1
}

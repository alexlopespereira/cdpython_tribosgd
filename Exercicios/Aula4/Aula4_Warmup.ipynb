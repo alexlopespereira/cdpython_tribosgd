{
 "cells": [
  {
   "cell_type": "markdown",
   "metadata": {
    "id": "l4lCUwGfG3ta"
   },
   "source": [
    "# Aula 4 - Warmup de Introdução ao Pandas"
   ]
  },
  {
   "cell_type": "markdown",
   "metadata": {
    "id": "1pBDeR74G3tf"
   },
   "source": [
    "### Treinando conceitos de Pandas e Series"
   ]
  },
  {
   "cell_type": "code",
   "execution_count": null,
   "metadata": {
    "id": "tbeqGQRkG3th"
   },
   "outputs": [],
   "source": [
    "# Importe as bibliotecas pandas e numpy\n",
    "import pandas as pd\n",
    "import numpy as np"
   ]
  },
  {
   "cell_type": "markdown",
   "metadata": {
    "id": "z0Heo6xnG3tk"
   },
   "source": [
    "#### W4.1 Crie um objeto Series contendo os seguintes elementos [4, 7, -5, 3]"
   ]
  },
  {
   "cell_type": "code",
   "execution_count": null,
   "metadata": {
    "deletable": false,
    "id": "vdaSNGTxG3tl",
    "nbgrader": {
     "cell_type": "code",
     "checksum": "894bcf3b3d18fd0ced64b3cd3655dee3",
     "grade": false,
     "grade_id": "cell-94456871f8e3beb1",
     "locked": false,
     "schema_version": 3,
     "solution": true,
     "task": false
    }
   },
   "outputs": [],
   "source": [
    "# Faça aqui\n",
    "# YOUR CODE HERE\n",
    "raise NotImplementedError()\n"
   ]
  },
  {
   "cell_type": "markdown",
   "metadata": {
    "id": "mE1vyFGIG3tm"
   },
   "source": [
    "#### W4.2 Crie um objeto Series contendo [4, 7, -5, 3] e defina seu próprio array de índices como sendo ['d', 'b', 'a', 'c']"
   ]
  },
  {
   "cell_type": "code",
   "execution_count": null,
   "metadata": {
    "deletable": false,
    "id": "WrUN9I9dG3tn",
    "nbgrader": {
     "cell_type": "code",
     "checksum": "8fce2dc41e8ed0494637ee7afb8e91d3",
     "grade": false,
     "grade_id": "cell-6e2a4d95f06c86b2",
     "locked": false,
     "schema_version": 3,
     "solution": true,
     "task": false
    }
   },
   "outputs": [],
   "source": [
    "# Faça aqui\n",
    "# YOUR CODE HERE\n",
    "raise NotImplementedError()\n"
   ]
  },
  {
   "cell_type": "markdown",
   "metadata": {
    "id": "0BszkpYJG3tn"
   },
   "source": [
    "#### W4.3 Use o índice para acessar o valor 4 do objeto Series criado no exercicio W4.2"
   ]
  },
  {
   "cell_type": "code",
   "execution_count": null,
   "metadata": {
    "deletable": false,
    "id": "aBQkcPqWG3to",
    "nbgrader": {
     "cell_type": "code",
     "checksum": "b2a76c970394525ac70fedbf7bd9f8dc",
     "grade": false,
     "grade_id": "cell-182b7bc4c05dee6e",
     "locked": false,
     "schema_version": 3,
     "solution": true,
     "task": false
    }
   },
   "outputs": [],
   "source": [
    "# Faça aqui\n",
    "# YOUR CODE HERE\n",
    "raise NotImplementedError()\n"
   ]
  },
  {
   "cell_type": "markdown",
   "metadata": {
    "id": "L8bSBtDUG3tp"
   },
   "source": [
    "#### W4.4 Use o índice para acessar os valores 7 e 3 do objeto Series criado no exercicio W4.2"
   ]
  },
  {
   "cell_type": "code",
   "execution_count": null,
   "metadata": {
    "deletable": false,
    "id": "EeuYNpawG3tq",
    "nbgrader": {
     "cell_type": "code",
     "checksum": "77bfd528e33d0da3f7f1e68e52bf4821",
     "grade": false,
     "grade_id": "cell-55eb107ea59676d6",
     "locked": false,
     "schema_version": 3,
     "solution": true,
     "task": false
    }
   },
   "outputs": [],
   "source": [
    "# Faça aqui\n",
    "# YOUR CODE HERE\n",
    "raise NotImplementedError()\n"
   ]
  },
  {
   "cell_type": "markdown",
   "metadata": {
    "id": "Bqoeln_dG3ts"
   },
   "source": [
    "#### W4.5 Atribua o valor 6 ao elemento de índice d"
   ]
  },
  {
   "cell_type": "code",
   "execution_count": null,
   "metadata": {
    "deletable": false,
    "id": "BSXI2RsbG3ts",
    "nbgrader": {
     "cell_type": "code",
     "checksum": "9797679d0486c3dbc2bc6229d4029d6a",
     "grade": false,
     "grade_id": "cell-2f40a67176a0e167",
     "locked": false,
     "schema_version": 3,
     "solution": true,
     "task": false
    }
   },
   "outputs": [],
   "source": [
    "# Faça aqui\n",
    "# YOUR CODE HERE\n",
    "raise NotImplementedError()\n"
   ]
  },
  {
   "cell_type": "markdown",
   "metadata": {
    "id": "CS4of2rdG3tt"
   },
   "source": [
    "#### W4.6 Verifique se o índice 'c' está presente na Serie criada no exercício W4.2"
   ]
  },
  {
   "cell_type": "code",
   "execution_count": null,
   "metadata": {
    "deletable": false,
    "id": "KZlDm0v2G3tu",
    "nbgrader": {
     "cell_type": "code",
     "checksum": "4c04da8b74cf5f93724881fdfb5d84e3",
     "grade": false,
     "grade_id": "cell-ac0044dcbbc01d23",
     "locked": false,
     "schema_version": 3,
     "solution": true,
     "task": false
    }
   },
   "outputs": [],
   "source": [
    "# Faça aqui\n",
    "# YOUR CODE HERE\n",
    "raise NotImplementedError()\n"
   ]
  },
  {
   "cell_type": "markdown",
   "metadata": {
    "id": "dVQU_O0qG3tu"
   },
   "source": [
    "#### W4.7 Verifique se o índice 'e' está presente na Serie criada no exercício W4.2\n"
   ]
  },
  {
   "cell_type": "code",
   "execution_count": null,
   "metadata": {
    "deletable": false,
    "id": "tB93EscVG3tu",
    "nbgrader": {
     "cell_type": "code",
     "checksum": "34e2384fa373b95ed559916e85b1a4e2",
     "grade": false,
     "grade_id": "cell-58172d29dcf92e14",
     "locked": false,
     "schema_version": 3,
     "solution": true,
     "task": false
    }
   },
   "outputs": [],
   "source": [
    "# Faça aqui\n",
    "# YOUR CODE HERE\n",
    "raise NotImplementedError()\n"
   ]
  },
  {
   "cell_type": "markdown",
   "metadata": {
    "id": "1b4tyGtJG3tv"
   },
   "source": [
    "#### W4.8 Retorne os elementos da Series abaixo cujo valor seja maior que 0"
   ]
  },
  {
   "cell_type": "code",
   "execution_count": null,
   "metadata": {
    "deletable": false,
    "id": "_uX3X2bWG3tv",
    "nbgrader": {
     "cell_type": "code",
     "checksum": "4441f635ed9e150c9ab77c6c5c17dd7a",
     "grade": false,
     "grade_id": "cell-63439ea026e5b34d",
     "locked": false,
     "schema_version": 3,
     "solution": true,
     "task": false
    }
   },
   "outputs": [],
   "source": [
    "# Considere a seguinte serie\n",
    "obj2 = pd.Series([0, 7, -5, 3, 2, 5, -15], index=['d', 'b', 'a', 'c', 'd', 'e', 'f'])\n",
    "# Faça aqui\n",
    "# YOUR CODE HERE\n",
    "raise NotImplementedError()\n"
   ]
  },
  {
   "cell_type": "markdown",
   "metadata": {
    "id": "B-hClDfaG3tw"
   },
   "source": [
    "#### W4.9 Retorne os valores da Serie obj2 (exercício W4.8) multiplicados por 2\n"
   ]
  },
  {
   "cell_type": "code",
   "execution_count": null,
   "metadata": {
    "deletable": false,
    "id": "L2CO7SXZG3tw",
    "nbgrader": {
     "cell_type": "code",
     "checksum": "f5b879adae95a3484e1705febde600e6",
     "grade": false,
     "grade_id": "cell-47c5f9248ea887f4",
     "locked": false,
     "schema_version": 3,
     "solution": true,
     "task": false
    }
   },
   "outputs": [],
   "source": [
    "# Faça aqui\n",
    "# YOUR CODE HERE\n",
    "raise NotImplementedError()\n"
   ]
  },
  {
   "cell_type": "markdown",
   "metadata": {
    "id": "1qZk8pzPG3tx"
   },
   "source": [
    "#### W4.10 Retorne os valores da aplicação da função exponencial (np.exp) a Serie obj2 (exercício W4.8)\n"
   ]
  },
  {
   "cell_type": "code",
   "execution_count": null,
   "metadata": {
    "deletable": false,
    "id": "VuIxmmZJG3tx",
    "nbgrader": {
     "cell_type": "code",
     "checksum": "7cfde08640fd0a44f25ecfe3abd03fc6",
     "grade": false,
     "grade_id": "cell-dbf15b0dd2d7c611",
     "locked": false,
     "schema_version": 3,
     "solution": true,
     "task": false
    }
   },
   "outputs": [],
   "source": [
    "# Faça aqui\n",
    "# YOUR CODE HERE\n",
    "raise NotImplementedError()\n"
   ]
  },
  {
   "cell_type": "markdown",
   "metadata": {
    "id": "vcMuL2RKG3tz"
   },
   "source": [
    "#### W4.11 Criando uma Serie com um dicionário. Chame a Serie de obj3."
   ]
  },
  {
   "cell_type": "code",
   "execution_count": null,
   "metadata": {
    "deletable": false,
    "id": "Fbh97i5UG3tz",
    "nbgrader": {
     "cell_type": "code",
     "checksum": "d8ca693abba40db2c28e79b755773290",
     "grade": false,
     "grade_id": "cell-ae5b4be37fa266d0",
     "locked": false,
     "schema_version": 3,
     "solution": true,
     "task": false
    }
   },
   "outputs": [],
   "source": [
    "# Crie uma série com o seguinte dicionário \n",
    "# {'carro': 350, 'moto': 750, 'bicicleta': 260, 'caminhao': 500, 'trem': np.nan, 'aviao': np.nan}\n",
    "# Chame a Serie de obj3\n",
    "# Faça aqui\n",
    "# YOUR CODE HERE\n",
    "raise NotImplementedError()\n"
   ]
  },
  {
   "cell_type": "markdown",
   "metadata": {
    "id": "Su0eR50jG3t0"
   },
   "source": [
    "### Treinando conceitos de Valores Ausentes/Indisponíveis (NA)"
   ]
  },
  {
   "cell_type": "markdown",
   "metadata": {
    "id": "FiQyH38dG3t0"
   },
   "source": [
    "#### W4.12 Retorne, na forma de uma serie de booleanos, quais elementos da Serie obj3 tem valores NA"
   ]
  },
  {
   "cell_type": "code",
   "execution_count": null,
   "metadata": {
    "deletable": false,
    "id": "ODNJClpPG3t0",
    "nbgrader": {
     "cell_type": "code",
     "checksum": "55ae8a75d4c44c16d52bb5ca2336aba8",
     "grade": false,
     "grade_id": "cell-bf5a3b78681a8cd8",
     "locked": false,
     "schema_version": 3,
     "solution": true,
     "task": false
    }
   },
   "outputs": [],
   "source": [
    "# Faça aqui\n",
    "# YOUR CODE HERE\n",
    "raise NotImplementedError()\n"
   ]
  },
  {
   "cell_type": "markdown",
   "metadata": {
    "id": "AELYQSFDG3t1"
   },
   "source": [
    "#### W4.13 Retorne, na forma de uma serie de booleanos, quais elementos da Serie obj3 não tem valores NA"
   ]
  },
  {
   "cell_type": "code",
   "execution_count": null,
   "metadata": {
    "deletable": false,
    "id": "lPQR_GzzG3t1",
    "nbgrader": {
     "cell_type": "code",
     "checksum": "2e18a145d37106d81ac2c1886e2c21bc",
     "grade": false,
     "grade_id": "cell-7c44caee95d14f98",
     "locked": false,
     "schema_version": 3,
     "solution": true,
     "task": false
    }
   },
   "outputs": [],
   "source": [
    "# Faça aqui\n",
    "# YOUR CODE HERE\n",
    "raise NotImplementedError()\n"
   ]
  },
  {
   "cell_type": "markdown",
   "metadata": {
    "id": "zYYUovNRG3t1"
   },
   "source": [
    "#### W4.14 Retorne os valores não nulos (diferentes de NA) da serie obj3"
   ]
  },
  {
   "cell_type": "code",
   "execution_count": null,
   "metadata": {
    "deletable": false,
    "id": "SVbhxLWOG3t1",
    "nbgrader": {
     "cell_type": "code",
     "checksum": "393738ac1f03915b862c479f9c707620",
     "grade": false,
     "grade_id": "cell-e84f89fa853ba8e0",
     "locked": false,
     "schema_version": 3,
     "solution": true,
     "task": false
    }
   },
   "outputs": [],
   "source": [
    "# Faça aqui\n",
    "# YOUR CODE HERE\n",
    "raise NotImplementedError()\n"
   ]
  },
  {
   "cell_type": "markdown",
   "metadata": {
    "id": "PDISLb94G3t1"
   },
   "source": [
    "#### W4.15 Remova os elementos de valor NA da serie obj3"
   ]
  },
  {
   "cell_type": "code",
   "execution_count": null,
   "metadata": {
    "deletable": false,
    "id": "gqKgmiYMG3t2",
    "nbgrader": {
     "cell_type": "code",
     "checksum": "c2728154c218dc668aabcb8dd86f7ae4",
     "grade": false,
     "grade_id": "cell-60677aa16955479c",
     "locked": false,
     "schema_version": 3,
     "solution": true,
     "task": false
    }
   },
   "outputs": [],
   "source": [
    "# Faça aqui\n",
    "# YOUR CODE HERE\n",
    "raise NotImplementedError()\n"
   ]
  },
  {
   "cell_type": "markdown",
   "metadata": {
    "id": "Mv322FzqG3t2"
   },
   "source": [
    "### Treinando Aritmética com Series"
   ]
  },
  {
   "cell_type": "markdown",
   "metadata": {
    "id": "GKcpQYoSG3t2"
   },
   "source": [
    "#### W4.16 Crie a série abaixo"
   ]
  },
  {
   "cell_type": "code",
   "execution_count": null,
   "metadata": {
    "deletable": false,
    "id": "OBxsxhcOG3t3",
    "nbgrader": {
     "cell_type": "code",
     "checksum": "a0d51f3c9744052fc957ad01179650ca",
     "grade": false,
     "grade_id": "cell-41748fb4262b5dd2",
     "locked": false,
     "schema_version": 3,
     "solution": true,
     "task": false
    }
   },
   "outputs": [],
   "source": [
    "# Crie uma série com o seguinte dicionário \n",
    "# {'carro': 50, 'moto': 150, 'bicicleta': 200, 'caminhao': np.nan, 'trem': 10, 'aviao': 20}\n",
    "# Chame a Serie de obj4\n",
    "# Faça aqui\n",
    "# YOUR CODE HERE\n",
    "raise NotImplementedError()\n"
   ]
  },
  {
   "cell_type": "markdown",
   "metadata": {
    "id": "pTMKZ3YQG3t3"
   },
   "source": [
    "#### W4.17 Some as séries criadas nos dois exercícios anteriores (obj3 e obj4)\n"
   ]
  },
  {
   "cell_type": "code",
   "execution_count": null,
   "metadata": {
    "deletable": false,
    "id": "-ecL5T5DG3t3",
    "nbgrader": {
     "cell_type": "code",
     "checksum": "efc8cdd626d695c381391072e9b3d0aa",
     "grade": false,
     "grade_id": "cell-4bc67a79356d73b9",
     "locked": false,
     "schema_version": 3,
     "solution": true,
     "task": false
    }
   },
   "outputs": [],
   "source": [
    "# Faça aqui\n",
    "# YOUR CODE HERE\n",
    "raise NotImplementedError()\n"
   ]
  },
  {
   "cell_type": "markdown",
   "metadata": {
    "id": "Z57kP0AXG3t4"
   },
   "source": [
    "## Treinando conceitos sobre DataFrames"
   ]
  },
  {
   "cell_type": "markdown",
   "metadata": {
    "id": "I_QYC3oeG3t4"
   },
   "source": [
    "#### W4.18 Crie um data frame a partir dos dados do seguinte dicionário. Chame-o de frame"
   ]
  },
  {
   "cell_type": "code",
   "execution_count": null,
   "metadata": {
    "deletable": false,
    "id": "Nk1q6sfOG3t4",
    "nbgrader": {
     "cell_type": "code",
     "checksum": "5f52d802e9a50e82c44de0f5191ebd81",
     "grade": false,
     "grade_id": "cell-afe53c7f620cb2a9",
     "locked": false,
     "schema_version": 3,
     "solution": true,
     "task": false
    }
   },
   "outputs": [],
   "source": [
    "data = {'state': ['Ohio', 'Ohio', 'Ohio', 'Nevada', 'Nevada', 'Nevada'],\n",
    "'year': [2000, 2001, 2002, 2001, 2002, 2003],\n",
    "'pop': [1.5, 1.7, 3.6, 2.4, 2.9, 3.2]}\n",
    "# Faça aqui\n",
    "# YOUR CODE HERE\n",
    "raise NotImplementedError()\n"
   ]
  },
  {
   "cell_type": "markdown",
   "metadata": {
    "id": "d2FbsBupG3t5"
   },
   "source": [
    "#### W4.19 Mostre as primeiras linhas do dataframe frame"
   ]
  },
  {
   "cell_type": "code",
   "execution_count": null,
   "metadata": {
    "deletable": false,
    "id": "jXmcB_RyG3t5",
    "nbgrader": {
     "cell_type": "code",
     "checksum": "bc0446b2871b1b84ecb37a116db2b0af",
     "grade": false,
     "grade_id": "cell-e2fe4995231cab5d",
     "locked": false,
     "schema_version": 3,
     "solution": true,
     "task": false
    }
   },
   "outputs": [],
   "source": [
    "# Acesse as primeiras linhas do dataframe frame\n",
    "# YOUR CODE HERE\n",
    "raise NotImplementedError()\n"
   ]
  },
  {
   "cell_type": "markdown",
   "metadata": {
    "id": "v3_dMXarG3t5"
   },
   "source": [
    "#### Acesse a coluna state usando a sintaxe com colchetes"
   ]
  },
  {
   "cell_type": "code",
   "execution_count": null,
   "metadata": {
    "deletable": false,
    "id": "jRo6160yG3t6",
    "nbgrader": {
     "cell_type": "code",
     "checksum": "600e26e39ea69c38c579dd39c38ff17d",
     "grade": false,
     "grade_id": "cell-9fe4acd0a2b77c6a",
     "locked": false,
     "schema_version": 3,
     "solution": true,
     "task": false
    }
   },
   "outputs": [],
   "source": [
    "# Faça aqui\n",
    "# YOUR CODE HERE\n",
    "raise NotImplementedError()\n"
   ]
  },
  {
   "cell_type": "markdown",
   "metadata": {
    "id": "L1HmY0bkG3t6"
   },
   "source": [
    "#### W4.20 Atribua o valor 16.5 para todas as posições de uma nova coluna chamada debt."
   ]
  },
  {
   "cell_type": "code",
   "execution_count": null,
   "metadata": {
    "deletable": false,
    "id": "8AJC9YyyG3t6",
    "nbgrader": {
     "cell_type": "code",
     "checksum": "d91f503d9314b097f4e900d48e05bda1",
     "grade": false,
     "grade_id": "cell-ca603cb322461bfd",
     "locked": false,
     "schema_version": 3,
     "solution": true,
     "task": false
    }
   },
   "outputs": [],
   "source": [
    "# Faça aqui\n",
    "# YOUR CODE HERE\n",
    "raise NotImplementedError()\n"
   ]
  },
  {
   "cell_type": "markdown",
   "metadata": {
    "id": "IggYec4fG3t7"
   },
   "source": [
    "#### W4.21 Atribua o valor do intervalo de 0 a 5 (float) na coluna debt.\n",
    "#### Dica: use a função np.arange"
   ]
  },
  {
   "cell_type": "code",
   "execution_count": null,
   "metadata": {
    "deletable": false,
    "id": "Lgawch13G3t7",
    "nbgrader": {
     "cell_type": "code",
     "checksum": "8e2a663b4ee9a1572358eae065d78e22",
     "grade": false,
     "grade_id": "cell-2a7c6bfc75375a29",
     "locked": false,
     "schema_version": 3,
     "solution": true,
     "task": false
    }
   },
   "outputs": [],
   "source": [
    "# Faça aqui\n",
    "# YOUR CODE HERE\n",
    "raise NotImplementedError()\n"
   ]
  },
  {
   "cell_type": "markdown",
   "metadata": {
    "id": "PAoed-PuG3t8"
   },
   "source": [
    "#### W4.22 Crie uma nova coluna chamada eastern com o valor True para as linhas cujo estado seja Ohio, e False caso contrário."
   ]
  },
  {
   "cell_type": "code",
   "execution_count": null,
   "metadata": {
    "deletable": false,
    "id": "YD8KNWpYG3t8",
    "nbgrader": {
     "cell_type": "code",
     "checksum": "1d7bbd6eec50dd942c8582cc9442a58f",
     "grade": false,
     "grade_id": "cell-9fca3500fd0bcc8b",
     "locked": false,
     "schema_version": 3,
     "solution": true,
     "task": false
    }
   },
   "outputs": [],
   "source": [
    "# Faça aqui\n",
    "# YOUR CODE HERE\n",
    "raise NotImplementedError()\n"
   ]
  },
  {
   "cell_type": "markdown",
   "metadata": {
    "id": "0MVOHMicG3t9"
   },
   "source": [
    "#### W4.23 Delete a coluna eastern usando o comando del"
   ]
  },
  {
   "cell_type": "code",
   "execution_count": null,
   "metadata": {
    "deletable": false,
    "id": "F-TBUTPlG3t9",
    "nbgrader": {
     "cell_type": "code",
     "checksum": "b77d5703ef77c9b959482049a36328e1",
     "grade": false,
     "grade_id": "cell-e89b0a9cc4c9c5ab",
     "locked": false,
     "schema_version": 3,
     "solution": true,
     "task": false
    }
   },
   "outputs": [],
   "source": [
    "# Faça aqui\n",
    "# YOUR CODE HERE\n",
    "raise NotImplementedError()\n"
   ]
  },
  {
   "cell_type": "markdown",
   "metadata": {
    "id": "a7M79x1EG3t-"
   },
   "source": [
    "#### W4.24 Crie um DataFrame a partir de um dicionário de dicionários. Chame-o de frame3."
   ]
  },
  {
   "cell_type": "code",
   "execution_count": null,
   "metadata": {
    "deletable": false,
    "id": "yHArKQlMG3t-",
    "nbgrader": {
     "cell_type": "code",
     "checksum": "67f85e69660c4bfc03391d1fd593f1c4",
     "grade": false,
     "grade_id": "cell-a68516c8695cd058",
     "locked": false,
     "schema_version": 3,
     "solution": true,
     "task": false
    }
   },
   "outputs": [],
   "source": [
    "# Crie um Dataframe a partir do seguinte dicionário:\n",
    "pop = {'DF': {2001: 2.7, 2002: 2.8},\n",
    "        'GO': {2000: 1.2, 2001: 1.7, 2002: 2.6}}\n",
    "# Faça aqui\n",
    "# YOUR CODE HERE\n",
    "raise NotImplementedError()\n"
   ]
  },
  {
   "cell_type": "markdown",
   "metadata": {
    "id": "0BShrXf4G3t-"
   },
   "source": [
    "#### W4.25 Retorne somente os valores do dicionário frame3. \n",
    "#### Dica use o atributo values. "
   ]
  },
  {
   "cell_type": "code",
   "execution_count": null,
   "metadata": {
    "deletable": false,
    "id": "j1zmIch9G3t_",
    "nbgrader": {
     "cell_type": "code",
     "checksum": "3db6a0833a1fc2a80a2f9172daac526d",
     "grade": false,
     "grade_id": "cell-a0b7f25d33162623",
     "locked": false,
     "schema_version": 3,
     "solution": true,
     "task": false
    }
   },
   "outputs": [],
   "source": [
    "# Faça aqui\n",
    "# YOUR CODE HERE\n",
    "raise NotImplementedError()\n"
   ]
  },
  {
   "cell_type": "markdown",
   "metadata": {
    "id": "4BVDoOwLG3t_"
   },
   "source": [
    "#### W4.26 Remova os valores de uma Serie conforme especificado a seguir."
   ]
  },
  {
   "cell_type": "code",
   "execution_count": null,
   "metadata": {
    "id": "n95wjtceG3t_"
   },
   "outputs": [],
   "source": [
    "# Considere a Serie abaixo\n",
    "obj = pd.Series(np.arange(5.), index=['a', 'b', 'c', 'd', 'e'])\n",
    "obj\n"
   ]
  },
  {
   "cell_type": "code",
   "execution_count": null,
   "metadata": {
    "deletable": false,
    "id": "FmxHzX60G3uA",
    "nbgrader": {
     "cell_type": "code",
     "checksum": "43ea30df3ba21804bebe83e52d5b8411",
     "grade": false,
     "grade_id": "cell-3b3c290a8e891576",
     "locked": false,
     "schema_version": 3,
     "solution": true,
     "task": false
    }
   },
   "outputs": [],
   "source": [
    "# Crie um novo objeto removendo o item de índice c\n",
    "# YOUR CODE HERE\n",
    "raise NotImplementedError()\n"
   ]
  },
  {
   "cell_type": "code",
   "execution_count": null,
   "metadata": {
    "deletable": false,
    "id": "XK9-U_aMG3uA",
    "nbgrader": {
     "cell_type": "code",
     "checksum": "d3ffb984ff9528ede4d298ed674cf97c",
     "grade": false,
     "grade_id": "cell-c7e257165c327e29",
     "locked": false,
     "schema_version": 3,
     "solution": true,
     "task": false
    }
   },
   "outputs": [],
   "source": [
    "# Retorne uma serie sem os itens c e d\n",
    "# YOUR CODE HERE\n",
    "raise NotImplementedError()\n"
   ]
  },
  {
   "cell_type": "markdown",
   "metadata": {
    "id": "3I8r2p2KG3uB"
   },
   "source": [
    "#### W4.27 Removendo entradas de um DataFrame conforme especificado a seguir."
   ]
  },
  {
   "cell_type": "code",
   "execution_count": null,
   "metadata": {
    "deletable": false,
    "id": "Zdc9kKViG3uB",
    "nbgrader": {
     "cell_type": "code",
     "checksum": "6d60f339a47a7a587ec3606511f86ceb",
     "grade": false,
     "grade_id": "cell-1c2fa871820c6da3",
     "locked": false,
     "schema_version": 3,
     "solution": true,
     "task": false
    }
   },
   "outputs": [],
   "source": [
    "# YOUR CODE HERE\n",
    "raise NotImplementedError()"
   ]
  },
  {
   "cell_type": "code",
   "execution_count": null,
   "metadata": {
    "deletable": false,
    "id": "Nnb1GUCAG3uC",
    "nbgrader": {
     "cell_type": "code",
     "checksum": "3c639251ab2fab25abc91a9d8ff4440b",
     "grade": false,
     "grade_id": "cell-29826585825b2982",
     "locked": false,
     "schema_version": 3,
     "solution": true,
     "task": false
    }
   },
   "outputs": [],
   "source": [
    "# Retorne um dataframe sem as linhas DF e GO\n",
    "# YOUR CODE HERE\n",
    "raise NotImplementedError()\n"
   ]
  },
  {
   "cell_type": "code",
   "execution_count": null,
   "metadata": {
    "deletable": false,
    "id": "HPWdGhEiG3uD",
    "nbgrader": {
     "cell_type": "code",
     "checksum": "38cc2aacbf746fd4cc49c845ae81394c",
     "grade": false,
     "grade_id": "cell-2c27e6174e2be19d",
     "locked": false,
     "schema_version": 3,
     "solution": true,
     "task": false
    }
   },
   "outputs": [],
   "source": [
    "# Remova a coluna tres do dataframe data. Dica: use o argumento axis do método drop.\n",
    "# YOUR CODE HERE\n",
    "raise NotImplementedError()\n"
   ]
  },
  {
   "cell_type": "markdown",
   "metadata": {
    "id": "pSi_cXbYG3uD"
   },
   "source": [
    "#### W4.28 Realize as operações solicitadas a seguir"
   ]
  },
  {
   "cell_type": "code",
   "execution_count": null,
   "metadata": {
    "deletable": false,
    "id": "DygyGpf6G3uE",
    "nbgrader": {
     "cell_type": "code",
     "checksum": "b1b89f8d45a0677121196a09874ddfbf",
     "grade": false,
     "grade_id": "cell-be34d4606b67517a",
     "locked": false,
     "schema_version": 3,
     "solution": true,
     "task": false
    }
   },
   "outputs": [],
   "source": [
    "# YOUR CODE HERE\n",
    "raise NotImplementedError()"
   ]
  },
  {
   "cell_type": "code",
   "execution_count": null,
   "metadata": {
    "deletable": false,
    "id": "HbZAIuPzG3uE",
    "nbgrader": {
     "cell_type": "code",
     "checksum": "5eb15446a030d55cd25f52471e89c5af",
     "grade": false,
     "grade_id": "cell-ea80f2bcd5b4113b",
     "locked": false,
     "schema_version": 3,
     "solution": true,
     "task": false
    }
   },
   "outputs": [],
   "source": [
    "# Retorne um dataframe contendo True para itens menores que 5, e False caso contrário\n",
    "# YOUR CODE HERE\n",
    "raise NotImplementedError()\n"
   ]
  },
  {
   "cell_type": "code",
   "execution_count": null,
   "metadata": {
    "deletable": false,
    "id": "vjZZSFPRG3uE",
    "nbgrader": {
     "cell_type": "code",
     "checksum": "0092c5f4bc609047a980f86eff6d992c",
     "grade": false,
     "grade_id": "cell-cc8e12e1e7ea3696",
     "locked": false,
     "schema_version": 3,
     "solution": true,
     "task": false
    }
   },
   "outputs": [],
   "source": [
    "# Atribua o valor zero onde os valores do dataframe são menores que 5\n",
    "# YOUR CODE HERE\n",
    "raise NotImplementedError()\n"
   ]
  },
  {
   "cell_type": "markdown",
   "metadata": {
    "id": "Hze7axPxG3uE"
   },
   "source": [
    "### Treinando Filtro e Seleção num dataframe\n",
    "#### W4.29 Execute as instruções solicitadas a seguir."
   ]
  },
  {
   "cell_type": "code",
   "execution_count": null,
   "metadata": {
    "deletable": false,
    "id": "A9zf9IbYG3uE",
    "nbgrader": {
     "cell_type": "code",
     "checksum": "c8d80d0b7e590ec3e5012fa03957fcff",
     "grade": false,
     "grade_id": "cell-9a0bb9f2a2a645b7",
     "locked": false,
     "schema_version": 3,
     "solution": true,
     "task": false
    }
   },
   "outputs": [],
   "source": [
    "# Selecione as colunas um e dois do dataframe data\n",
    "# YOUR CODE HERE\n",
    "raise NotImplementedError()\n"
   ]
  },
  {
   "cell_type": "code",
   "execution_count": null,
   "metadata": {
    "deletable": false,
    "id": "XVwLIkGWG3uF",
    "nbgrader": {
     "cell_type": "code",
     "checksum": "d76e1a7cc75d99be3e8f91e46a5d4305",
     "grade": false,
     "grade_id": "cell-fb1280dc117b5cdc",
     "locked": false,
     "schema_version": 3,
     "solution": true,
     "task": false
    }
   },
   "outputs": [],
   "source": [
    "# Retorne as linhas do dataframe data cujo valor da coluna tres seja maior que 5\n",
    "# YOUR CODE HERE\n",
    "raise NotImplementedError()\n"
   ]
  },
  {
   "cell_type": "markdown",
   "metadata": {
    "id": "9V3F-xnqG3uG"
   },
   "source": [
    "### Treinando seleção com os operadores loc e iloc\n",
    "#### W4.30 Execute as instruções solicitadas a seguir."
   ]
  },
  {
   "cell_type": "code",
   "execution_count": null,
   "metadata": {
    "deletable": false,
    "id": "RW1X4h1UG3uG",
    "nbgrader": {
     "cell_type": "code",
     "checksum": "51e4f39af83de12f98327984332bcff1",
     "grade": false,
     "grade_id": "cell-f32bbd0190e671cb",
     "locked": false,
     "schema_version": 3,
     "solution": true,
     "task": false
    }
   },
   "outputs": [],
   "source": [
    "# Retorne o subconjunto especificado pela linha DF e colunas dois e tres\n",
    "# YOUR CODE HERE\n",
    "raise NotImplementedError()\n"
   ]
  },
  {
   "cell_type": "code",
   "execution_count": null,
   "metadata": {
    "deletable": false,
    "id": "1xoyfvY0G3uG",
    "nbgrader": {
     "cell_type": "code",
     "checksum": "c98ada19234a844c33f89dbcddeb7ec1",
     "grade": false,
     "grade_id": "cell-f814682899607cc9",
     "locked": false,
     "schema_version": 3,
     "solution": true,
     "task": false
    }
   },
   "outputs": [],
   "source": [
    "# Utilizando o iloc, retorne o subconjunto especificado pela linha 2 e colunas 3, 0 e 1\n",
    "# YOUR CODE HERE\n",
    "raise NotImplementedError()\n"
   ]
  }
 ],
 "metadata": {
  "colab": {
   "collapsed_sections": [
    "GKcpQYoSG3t2",
    "pTMKZ3YQG3t3",
    "I_QYC3oeG3t4",
    "d2FbsBupG3t5",
    "v3_dMXarG3t5",
    "L1HmY0bkG3t6",
    "IggYec4fG3t7",
    "PAoed-PuG3t8",
    "0MVOHMicG3t9",
    "a7M79x1EG3t-",
    "0BShrXf4G3t-",
    "4BVDoOwLG3t_",
    "3I8r2p2KG3uB",
    "pSi_cXbYG3uD"
   ],
   "name": "Aula4_Warmup.ipynb",
   "provenance": []
  },
  "kernelspec": {
   "display_name": "Python 3",
   "language": "python",
   "name": "python3"
  },
  "language_info": {
   "codemirror_mode": {
    "name": "ipython",
    "version": 3
   },
   "file_extension": ".py",
   "mimetype": "text/x-python",
   "name": "python",
   "nbconvert_exporter": "python",
   "pygments_lexer": "ipython3",
   "version": "3.8.3"
  },
  "varInspector": {
   "cols": {
    "lenName": 16,
    "lenType": 16,
    "lenVar": 40
   },
   "kernels_config": {
    "python": {
     "delete_cmd_postfix": "",
     "delete_cmd_prefix": "del ",
     "library": "var_list.py",
     "varRefreshCmd": "print(var_dic_list())"
    },
    "r": {
     "delete_cmd_postfix": ") ",
     "delete_cmd_prefix": "rm(",
     "library": "var_list.r",
     "varRefreshCmd": "cat(var_dic_list()) "
    }
   },
   "types_to_exclude": [
    "module",
    "function",
    "builtin_function_or_method",
    "instance",
    "_Feature"
   ],
   "window_display": false
  }
 },
 "nbformat": 4,
 "nbformat_minor": 1
}

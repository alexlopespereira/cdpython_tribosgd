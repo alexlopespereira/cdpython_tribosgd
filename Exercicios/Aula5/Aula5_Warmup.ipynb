{
 "cells": [
  {
   "cell_type": "markdown",
   "metadata": {
    "id": "1UqIhxaEOquh"
   },
   "source": [
    "## Aula 5 - Pandas e Fontes de dados"
   ]
  },
  {
   "cell_type": "markdown",
   "metadata": {
    "id": "mfHXiVQJOqur"
   },
   "source": [
    "### Treinando a função apply\n",
    "#### W5.1 Execute as instruções solicitadas a seguir."
   ]
  },
  {
   "cell_type": "code",
   "execution_count": null,
   "metadata": {
    "id": "c6XnFEngOquv"
   },
   "outputs": [],
   "source": [
    "import pandas as pd\n",
    "import numpy as np"
   ]
  },
  {
   "cell_type": "code",
   "execution_count": null,
   "metadata": {
    "id": "w4ydLpYQOquy"
   },
   "outputs": [],
   "source": [
    "# Considere o dataframe abaixo\n",
    "frame = pd.DataFrame(np.random.randn(4, 3), columns=list('bde'),\n",
    "                        index=['DF', 'GO', 'SP', 'RJ'])\n",
    "frame"
   ]
  },
  {
   "cell_type": "code",
   "execution_count": null,
   "metadata": {
    "deletable": false,
    "id": "d9DpRoW7Oqu1",
    "nbgrader": {
     "cell_type": "code",
     "checksum": "a78cefd7f92918d75d08f9f88510c17e",
     "grade": false,
     "grade_id": "cell-065358f77d358f53",
     "locked": false,
     "schema_version": 3,
     "solution": true,
     "task": false
    }
   },
   "outputs": [],
   "source": [
    "# Crie uma função lambda para calcular a diferença \n",
    "# entre a média e a mediana de uma Serie, e aplique-a ao dataframe frame, fazendo o cálculo ao longo do eixo das linhas\n",
    "# Faça aqui\n",
    "# YOUR CODE HERE\n",
    "raise NotImplementedError()\n"
   ]
  },
  {
   "cell_type": "code",
   "execution_count": null,
   "metadata": {
    "deletable": false,
    "id": "9cFrrvhJOqu2",
    "nbgrader": {
     "cell_type": "code",
     "checksum": "0376709350dde060150d7f94bd82949b",
     "grade": false,
     "grade_id": "cell-c03270850c36d0e3",
     "locked": false,
     "schema_version": 3,
     "solution": true,
     "task": false
    }
   },
   "outputs": [],
   "source": [
    "# aplique a mesma função lambda ao dataframe frame, fazendo o cálculo ao longo do eixo das colunas\n",
    "# Faça aqui\n",
    "# YOUR CODE HERE\n",
    "raise NotImplementedError()\n"
   ]
  },
  {
   "cell_type": "markdown",
   "metadata": {
    "id": "V9J0H-dhOqu4"
   },
   "source": [
    "### Treinando a função applymap\n",
    "#### W5.2 Execute as instruções solicitadas a seguir."
   ]
  },
  {
   "cell_type": "code",
   "execution_count": null,
   "metadata": {
    "deletable": false,
    "id": "fMwK66elOqu6",
    "nbgrader": {
     "cell_type": "code",
     "checksum": "cb44534c6ead0af74c305f6c8fc2918e",
     "grade": false,
     "grade_id": "cell-6f32180cffa9380f",
     "locked": false,
     "schema_version": 3,
     "solution": true,
     "task": false
    }
   },
   "outputs": [],
   "source": [
    "# Crie uma função lambda para formatar um número float com tres casas decimais,\n",
    "# e aplique-a ao dataframe frame\n",
    "# Faça aqui\n",
    "# YOUR CODE HERE\n",
    "raise NotImplementedError()"
   ]
  },
  {
   "cell_type": "markdown",
   "metadata": {
    "id": "9K6xDSCSOqvA"
   },
   "source": [
    "#### W5.3 Execute as instruções solicitadas a seguir."
   ]
  },
  {
   "cell_type": "code",
   "execution_count": null,
   "metadata": {
    "id": "9sdL_4WyOqvD"
   },
   "outputs": [],
   "source": [
    "# Considere o dataframe abaixo\n",
    "df = pd.DataFrame([[1.4, np.nan], [7.1, -4.5],\n",
    "                    [np.nan, np.nan], [0.75, -1.3]],\n",
    "                    index=['a', 'b', 'c', 'd'],\n",
    "                    columns=['one', 'two'])\n",
    "df"
   ]
  },
  {
   "cell_type": "code",
   "execution_count": null,
   "metadata": {
    "deletable": false,
    "id": "L1yx5bwZOqvE",
    "nbgrader": {
     "cell_type": "code",
     "checksum": "95cf888e27e7f122f63a0557da7fb1b8",
     "grade": false,
     "grade_id": "cell-842ee34c73bf43c3",
     "locked": false,
     "schema_version": 3,
     "solution": true,
     "task": false
    }
   },
   "outputs": [],
   "source": [
    "# Calcule a soma ao longo do eixo das linhas, considerando que \n",
    "# a soma de um número com um NA retorna um NA.\n",
    "# Faça aqui\n",
    "# YOUR CODE HERE\n",
    "raise NotImplementedError()"
   ]
  },
  {
   "cell_type": "code",
   "execution_count": null,
   "metadata": {
    "deletable": false,
    "id": "PgyJxmgHOqvH",
    "nbgrader": {
     "cell_type": "code",
     "checksum": "e28f0df4c5fed3dc05843b848b23936b",
     "grade": false,
     "grade_id": "cell-8595dae6bdbc0481",
     "locked": false,
     "schema_version": 3,
     "solution": true,
     "task": false
    }
   },
   "outputs": [],
   "source": [
    "# Calcule a soma ao longo do eixo das colunas, considerando que \n",
    "# a soma de um número com um NA retorna um NA.\n",
    "# Faça aqui\n",
    "# YOUR CODE HERE\n",
    "raise NotImplementedError()"
   ]
  },
  {
   "cell_type": "code",
   "execution_count": null,
   "metadata": {
    "deletable": false,
    "id": "3mE4QLRZOqvH",
    "nbgrader": {
     "cell_type": "code",
     "checksum": "ec7c0379c3cad6b437f89286522dd594",
     "grade": false,
     "grade_id": "cell-56bcc128b1df3324",
     "locked": false,
     "schema_version": 3,
     "solution": true,
     "task": false
    }
   },
   "outputs": [],
   "source": [
    "# Calcule a média ao longo do eixo das linhas desconsiderando valores NA, ou seja, \n",
    "# calcule a média mesmo que haja um valor NA na respectiva linha.\n",
    "# Faça aqui\n",
    "# YOUR CODE HERE\n",
    "raise NotImplementedError()"
   ]
  },
  {
   "cell_type": "code",
   "execution_count": null,
   "metadata": {
    "deletable": false,
    "id": "ZjpwBxRsOqvI",
    "nbgrader": {
     "cell_type": "code",
     "checksum": "0d22130007b061a03d993929750d20a1",
     "grade": false,
     "grade_id": "cell-53e0b6b899b6ed90",
     "locked": false,
     "schema_version": 3,
     "solution": true,
     "task": false
    }
   },
   "outputs": [],
   "source": [
    "# Calcule a média ao longo do eixo das linhas retornando NA para colunas que tenham algum NA\n",
    "# Faça aqui\n",
    "# YOUR CODE HERE\n",
    "raise NotImplementedError()"
   ]
  },
  {
   "cell_type": "code",
   "execution_count": null,
   "metadata": {
    "deletable": false,
    "id": "-L5zK7l2OqvI",
    "nbgrader": {
     "cell_type": "code",
     "checksum": "9967ac197c05386e496bb1a1897a7bd6",
     "grade": false,
     "grade_id": "cell-7cd09255d5e218f9",
     "locked": false,
     "schema_version": 3,
     "solution": true,
     "task": false
    }
   },
   "outputs": [],
   "source": [
    "# Aplique um método para calcular várias estatísticas do dataframe df\n",
    "# Faça aqui\n",
    "# YOUR CODE HERE\n",
    "raise NotImplementedError()"
   ]
  },
  {
   "cell_type": "markdown",
   "metadata": {
    "id": "ddUEdnymOqvJ"
   },
   "source": [
    "### Manipulação de Fontes de Dados"
   ]
  },
  {
   "cell_type": "markdown",
   "metadata": {
    "id": "Efun_Oy4OqvK"
   },
   "source": [
    "#### W5.4 Carregue o arquivo do PIB disponibilizado nas bases de dados deste curso. Você pode escolher abrir do arquivo local ou diretamente da URL do github.\n",
    "#### Ajuste corretamente os argumentos ```skiprows``` e ```skipfooter``` para deixar na sua tabela somente os dados de interesse. As linhas de cabeçalho desnecessárias e o rodapé não devem fazer parte da sua tabela de dados. Tente os valores 1, 2 e 3 para os argumentos ```skiprows``` e ```skipfooter``` e escolha o valor que melhor se adequa."
   ]
  },
  {
   "cell_type": "code",
   "execution_count": null,
   "metadata": {
    "deletable": false,
    "id": "ihNoD2xUOqvM",
    "nbgrader": {
     "cell_type": "code",
     "checksum": "34ec1b5044290d737122b5feab7668db",
     "grade": false,
     "grade_id": "cell-d8a4724b69551a22",
     "locked": false,
     "schema_version": 3,
     "solution": true,
     "task": false
    }
   },
   "outputs": [],
   "source": [
    "path_pib = 'https://github.com/alexlopespereira/enapespcd2021/raw/main/data/originais/pib/pib_municipios.xlsx'\n",
    "# Faça aqui\n",
    "# YOUR CODE HERE\n",
    "raise NotImplementedError()"
   ]
  },
  {
   "cell_type": "code",
   "execution_count": null,
   "metadata": {
    "deletable": false,
    "id": "Eu7PVfezOqvN",
    "nbgrader": {
     "cell_type": "code",
     "checksum": "e3abf62d01203e30b71f20de9b9e90bb",
     "grade": false,
     "grade_id": "cell-6819d51ef498e2f1",
     "locked": false,
     "schema_version": 3,
     "solution": true,
     "task": false
    }
   },
   "outputs": [],
   "source": [
    "# Mostre os 10 primeiros registros da sua tabela com o método pd.DataFrame.head()\n",
    "# Faça aqui\n",
    "# YOUR CODE HERE\n",
    "raise NotImplementedError()"
   ]
  },
  {
   "cell_type": "code",
   "execution_count": null,
   "metadata": {
    "deletable": false,
    "id": "z-rbIiZROqvP",
    "nbgrader": {
     "cell_type": "code",
     "checksum": "b9d3408280608fcc53153a6390035a3c",
     "grade": false,
     "grade_id": "cell-f9b45b917d1bfe4f",
     "locked": false,
     "schema_version": 3,
     "solution": true,
     "task": false
    }
   },
   "outputs": [],
   "source": [
    "# Mostre os 10 últimos registros da sua tabela com o método pd.DataFrame.tail()\n",
    "# Faça aqui\n",
    "# YOUR CODE HERE\n",
    "raise NotImplementedError()"
   ]
  },
  {
   "cell_type": "code",
   "execution_count": null,
   "metadata": {
    "deletable": false,
    "id": "FuNnN-ptOqvP",
    "nbgrader": {
     "cell_type": "code",
     "checksum": "a20f787fb675f5fb939779d43fdbd8b7",
     "grade": false,
     "grade_id": "cell-511fbd2f440393c7",
     "locked": false,
     "schema_version": 3,
     "solution": true,
     "task": false
    }
   },
   "outputs": [],
   "source": [
    "# Vizualize os tipos dos dados desse dataframe utilizando o método pd.DataFrame.info()\n",
    "# Use esse método SEMPRE que alguma coisa não funcionar quando estiver \n",
    "# fazendo operaçoes que esperam algum tipo de dado específico numa coluna.\n",
    "# Por exemplo, é comum você tentar concatenar o conteúdo de duas colunas na forma de string\n",
    "# imaginando que as duas colunas já são string, quando na verdade alguma delas não são.\n",
    "# Outro exemplo de erro bastante comum é você tentar somar o valor de duas colunas quando\n",
    "# uma delas ou as duas não são números, mas strings.\n",
    "\n",
    "# Faça aqui\n",
    "# YOUR CODE HERE\n",
    "raise NotImplementedError()"
   ]
  },
  {
   "cell_type": "markdown",
   "metadata": {
    "id": "PU0tCP8FOqvR"
   },
   "source": [
    "#### W5.5 Carregue o arquivo do índice de gini. Você pode escolher abrir do arquivo local ou diretamente da URL do github.\n",
    "#### Assegure-se de carregar os cabeçalhos corretamente e os valores numericos como float. Para isso, use os argumentos ```sep, skiprows, skipfooter, na_values, decimal e encoding='utf8'```."
   ]
  },
  {
   "cell_type": "code",
   "execution_count": null,
   "metadata": {
    "deletable": false,
    "id": "vQ6WB8FgOqvS",
    "nbgrader": {
     "cell_type": "code",
     "checksum": "66237277c48c8536a3668c651fa670a6",
     "grade": false,
     "grade_id": "cell-b02f068c5b7d790b",
     "locked": false,
     "schema_version": 3,
     "solution": true,
     "task": false
    }
   },
   "outputs": [],
   "source": [
    "path_gini = 'https://github.com/alexlopespereira/enapespcd2021/raw/main/data/originais/gini/ginibr.csv'\n",
    "# Faça aqui\n",
    "# YOUR CODE HERE\n",
    "raise NotImplementedError()"
   ]
  },
  {
   "cell_type": "markdown",
   "metadata": {
    "id": "KR2p6O4-OqvT"
   },
   "source": [
    "#### W5.6 Carregue o arquivo do dataset de morbidade disponibilizado nas bases de dados deste curso. Você pode escolher abrir do arquivo local ou diretamente da URL do github.\n",
    "#### Ajuste corretamente os argumentos sep e decimal. Assegure-se de que os dados numéricos foram carregados em formato numérico (int ou float). Use o método pd.DataFrame.info() para fazer esta verificação."
   ]
  },
  {
   "cell_type": "code",
   "execution_count": null,
   "metadata": {
    "deletable": false,
    "id": "47nh2jO7OqvV",
    "nbgrader": {
     "cell_type": "code",
     "checksum": "b6e9b90a4d4ac5314a81e6391ef159fc",
     "grade": false,
     "grade_id": "cell-7f92082a7cd06059",
     "locked": false,
     "schema_version": 3,
     "solution": true,
     "task": false
    }
   },
   "outputs": [],
   "source": [
    "path_morbidade = 'https://github.com/alexlopespereira/enapespcd2021/raw/main/data/originais/morbidade/consolidado/morbidade.csv'\n",
    "# Faça aqui\n",
    "# YOUR CODE HERE\n",
    "raise NotImplementedError()"
   ]
  },
  {
   "cell_type": "markdown",
   "metadata": {
    "id": "kUeE297dOqvW"
   },
   "source": [
    "### Descartando valores faltantes (NA ou NaN)"
   ]
  },
  {
   "cell_type": "markdown",
   "metadata": {
    "id": "oppOOvFvOqvX"
   },
   "source": [
    "#### W5.7 Remova os valores NA da series a seguir"
   ]
  },
  {
   "cell_type": "code",
   "execution_count": null,
   "metadata": {
    "deletable": false,
    "id": "KxZWhYn_OqvX",
    "nbgrader": {
     "cell_type": "code",
     "checksum": "8161cffe42308025034bcf6746c57c87",
     "grade": false,
     "grade_id": "cell-16b5625333d4748d",
     "locked": false,
     "schema_version": 3,
     "solution": true,
     "task": false
    }
   },
   "outputs": [],
   "source": [
    "from numpy import nan as NA\n",
    "# Considere a serie a seguir\n",
    "data = pd.Series([1, NA, 3.5, NA, 7])\n",
    "\n",
    "# Faça aqui\n",
    "# YOUR CODE HERE\n",
    "raise NotImplementedError()"
   ]
  },
  {
   "cell_type": "markdown",
   "metadata": {
    "id": "Qp0fupisOqvY"
   },
   "source": [
    "#### W5.8 Remova os itens duplicados do dataframe a seguir"
   ]
  },
  {
   "cell_type": "code",
   "execution_count": null,
   "metadata": {
    "deletable": false,
    "id": "atKn-RaHOqvY",
    "nbgrader": {
     "cell_type": "code",
     "checksum": "2549e70123da80bf87fa5109da9c8e3e",
     "grade": false,
     "grade_id": "cell-637a91c100f7c7a9",
     "locked": false,
     "schema_version": 3,
     "solution": true,
     "task": false
    }
   },
   "outputs": [],
   "source": [
    "# Considere o seguinte dataframe\n",
    "data = pd.DataFrame({'k1': ['one', 'two'] * 3 + ['two'], 'k2': [1, 1, 2, 3, 3, 4, 4]})\n",
    "# Faça aqui\n",
    "# YOUR CODE HERE\n",
    "raise NotImplementedError()"
   ]
  },
  {
   "cell_type": "markdown",
   "metadata": {
    "id": "ARiiNHheOqvY"
   },
   "source": [
    "### Treinando Indexação Hierárquica"
   ]
  },
  {
   "cell_type": "code",
   "execution_count": null,
   "metadata": {
    "id": "5xot547QOqvZ"
   },
   "outputs": [],
   "source": [
    "# Considere a seguinte Serie\n",
    "data = pd.Series(np.random.randn(9), index=[['a', 'a', 'a', 'b', 'b', 'c', 'c', 'd', 'd'],\n",
    "                                            [1, 2, 3, 1, 3, 1, 2, 2, 3]])\n",
    "data"
   ]
  },
  {
   "cell_type": "markdown",
   "metadata": {
    "id": "mvFx-YjnOqva"
   },
   "source": [
    "#### W5.9 Exiba (imprima) o indice hierárquico usando o atributo ```index``` do dataframe"
   ]
  },
  {
   "cell_type": "code",
   "execution_count": null,
   "metadata": {
    "deletable": false,
    "id": "FWyvW72QOqvc",
    "nbgrader": {
     "cell_type": "code",
     "checksum": "2f6323d741b4d7242caa25473307bf58",
     "grade": false,
     "grade_id": "cell-f6fd97f2ed856bbe",
     "locked": false,
     "schema_version": 3,
     "solution": true,
     "task": false
    }
   },
   "outputs": [],
   "source": [
    "# Faça aqui\n",
    "# YOUR CODE HERE\n",
    "raise NotImplementedError()"
   ]
  },
  {
   "cell_type": "markdown",
   "metadata": {
    "id": "YVQD3_7KOqvg"
   },
   "source": [
    "#### W5.10 Considerando a serie data, definida na célula anterior, faça um filtro com uma lista de elementos do 1o nível do índice exibindo apenas os dados das linhas identificadas por 'a' no nível 1."
   ]
  },
  {
   "cell_type": "code",
   "execution_count": null,
   "metadata": {
    "deletable": false,
    "id": "SbuewcqDOqvh",
    "nbgrader": {
     "cell_type": "code",
     "checksum": "f9c5a5284205ac205db3610e820f0c0a",
     "grade": false,
     "grade_id": "cell-40904420446b0478",
     "locked": false,
     "schema_version": 3,
     "solution": true,
     "task": false
    }
   },
   "outputs": [],
   "source": [
    "# Faça aqui\n",
    "# YOUR CODE HERE\n",
    "raise NotImplementedError()"
   ]
  },
  {
   "cell_type": "markdown",
   "metadata": {
    "id": "4zufbY7sOqvj"
   },
   "source": [
    "#### W5.11 Considerando a serie data, definida na célula anterior, faça um filtro com uma lista de elementos do 1o nível do índice exibindo apenas os dados das linhas identificadas por 'a' ou 'b' no nível 1, e 2 ou 3 no nível 2.\n",
    "#### Dica: usa a sintaxe com loc"
   ]
  },
  {
   "cell_type": "code",
   "execution_count": null,
   "metadata": {
    "deletable": false,
    "id": "FD7HiF06Oqvk",
    "nbgrader": {
     "cell_type": "code",
     "checksum": "e73f9fe1bc41ec9f8c4799ac7728256a",
     "grade": false,
     "grade_id": "cell-9e882098929ad373",
     "locked": false,
     "schema_version": 3,
     "solution": true,
     "task": false
    }
   },
   "outputs": [],
   "source": [
    "# Considere o seguinte dataframe\n",
    "# Faça aqui\n",
    "# YOUR CODE HERE\n",
    "raise NotImplementedError()"
   ]
  }
 ],
 "metadata": {
  "colab": {
   "collapsed_sections": [],
   "name": "Aula5_Warmup.ipynb",
   "provenance": []
  },
  "kernelspec": {
   "display_name": "Python 3",
   "language": "python",
   "name": "python3"
  },
  "language_info": {
   "codemirror_mode": {
    "name": "ipython",
    "version": 3
   },
   "file_extension": ".py",
   "mimetype": "text/x-python",
   "name": "python",
   "nbconvert_exporter": "python",
   "pygments_lexer": "ipython3",
   "version": "3.8.3"
  },
  "varInspector": {
   "cols": {
    "lenName": 16,
    "lenType": 16,
    "lenVar": 40
   },
   "kernels_config": {
    "python": {
     "delete_cmd_postfix": "",
     "delete_cmd_prefix": "del ",
     "library": "var_list.py",
     "varRefreshCmd": "print(var_dic_list())"
    },
    "r": {
     "delete_cmd_postfix": ") ",
     "delete_cmd_prefix": "rm(",
     "library": "var_list.r",
     "varRefreshCmd": "cat(var_dic_list()) "
    }
   },
   "types_to_exclude": [
    "module",
    "function",
    "builtin_function_or_method",
    "instance",
    "_Feature"
   ],
   "window_display": false
  }
 },
 "nbformat": 4,
 "nbformat_minor": 1
}

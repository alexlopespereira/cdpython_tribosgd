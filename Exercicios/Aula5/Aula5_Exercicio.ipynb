{
 "cells": [
  {
   "cell_type": "markdown",
   "metadata": {
    "id": "rXdJZO23eywX"
   },
   "source": [
    "# Aula 5 - Exercícios - Pandas e Fontes de dados"
   ]
  },
  {
   "cell_type": "code",
   "execution_count": null,
   "metadata": {
    "colab": {
     "base_uri": "https://localhost:8080/"
    },
    "executionInfo": {
     "elapsed": 28142,
     "status": "ok",
     "timestamp": 1625789141291,
     "user": {
      "displayName": "Alex Lopes",
      "photoUrl": "https://lh3.googleusercontent.com/a-/AOh14GiIodCIc3QmEkRc07ZdX1uDEU_3XpwbFfljE8IyIg=s64",
      "userId": "01606300887134833077"
     },
     "user_tz": 180
    },
    "id": "XL7Tv9ellMeu",
    "outputId": "e6f98241-4b22-4e86-de35-558300ec71ee"
   },
   "outputs": [],
   "source": [
    "# #@title Init Cell - Execute-me!!!\n",
    "pkg = !pip list | grep 'ipynb-autograde'\n",
    "if not pkg or pkg[0].replace('  ','').split(' ')[1]!='0.0.35':\n",
    "  !pip install ipynb_autograde==0.0.35\n",
    "%env  COURSE python_tribosgd\n",
    "from ipynb_autograde.main import init_log, validate\n",
    "init_log()\n",
    "email_result=!gcloud config get-value account\n",
    "if not email_result or 'unset' in email_result[0]:\n",
    "  !gcloud auth login"
   ]
  },
  {
   "cell_type": "code",
   "execution_count": null,
   "metadata": {
    "executionInfo": {
     "elapsed": 256,
     "status": "ok",
     "timestamp": 1625789146429,
     "user": {
      "displayName": "Alex Lopes",
      "photoUrl": "https://lh3.googleusercontent.com/a-/AOh14GiIodCIc3QmEkRc07ZdX1uDEU_3XpwbFfljE8IyIg=s64",
      "userId": "01606300887134833077"
     },
     "user_tz": 180
    },
    "id": "rw_st4lbeywc"
   },
   "outputs": [],
   "source": [
    "# Importe as bibliotecas pandas, numpy\n",
    "import pandas as pd\n",
    "import numpy as np\n",
    "from numpy import nan"
   ]
  },
  {
   "cell_type": "markdown",
   "metadata": {
    "id": "CGrqyABDeywf"
   },
   "source": [
    "### 5.1 Carregue o arquivo do IDEB 2017 no formato de um DataFrame.  Crie uma função para calcular a média do IDEB de 2017 de todos os municípios de um determinado Estado. \n",
    "#### Remova os registros cujo valor na coluna REDE sejam Municipal, Estadual ou Federal. Deixe somente os registros cujos valores na coluna REDE sejam Pública.\n",
    "#### Dica 1: Antes de calcular, certifique-se de interpretar os valores '-' como NA durante o carregamento dos dados ou os substitua por np.nan (NA) com o metodo replace.\n",
    "#### Dica 2: Use a função loc para fazer o filtro de registros.\n",
    "#### Dica 3: Dentre várias maneiras possíveis, uma maneira bastante concisa é usar o operador & (and) para congregar dois critérios de filtro (seleção) de registros.\n"
   ]
  },
  {
   "cell_type": "code",
   "execution_count": null,
   "metadata": {
    "executionInfo": {
     "elapsed": 2398,
     "status": "ok",
     "timestamp": 1625789183617,
     "user": {
      "displayName": "Alex Lopes",
      "photoUrl": "https://lh3.googleusercontent.com/a-/AOh14GiIodCIc3QmEkRc07ZdX1uDEU_3XpwbFfljE8IyIg=s64",
      "userId": "01606300887134833077"
     },
     "user_tz": 180
    },
    "id": "6IPqp0nYeywj"
   },
   "outputs": [],
   "source": [
    "# Faca aqui seus testes do Exercício 5.1\n",
    "\n",
    "path_ideb='https://github.com/alexlopespereira/enapespcd2021/raw/main/data/originais/ideb/ideb_municipios2017.xlsx'\n",
    "\n",
    "df_ideb = pd.read_excel(path_ideb) ## Preencha aqui os outros argumentos para ler a tabela corretamente\n"
   ]
  },
  {
   "cell_type": "code",
   "execution_count": null,
   "metadata": {
    "deletable": false,
    "executionInfo": {
     "elapsed": 17,
     "status": "ok",
     "timestamp": 1625789183625,
     "user": {
      "displayName": "Alex Lopes",
      "photoUrl": "https://lh3.googleusercontent.com/a-/AOh14GiIodCIc3QmEkRc07ZdX1uDEU_3XpwbFfljE8IyIg=s64",
      "userId": "01606300887134833077"
     },
     "user_tz": 180
    },
    "id": "571_r7Zneywh",
    "nbgrader": {
     "cell_type": "code",
     "checksum": "559f5f9a68026825bb7f8644327453eb",
     "grade": false,
     "grade_id": "cell-c705ab9d1dfgs3b9f9",
     "locked": false,
     "schema_version": 3,
     "solution": true,
     "task": false
    }
   },
   "outputs": [],
   "source": [
    "# Faca aqui sua função do Exercício 5.1\n",
    "def media_ideb(df, sigla_estado):\n",
    "    \"\"\"retorne o valor da media do IDEB de 2017 contido na coluna col do Estado especificado por sigla_estado.\n",
    "    \"\"\"\n",
    "    # YOUR CODE HERE\n",
    "    raise NotImplementedError()\n"
   ]
  },
  {
   "cell_type": "code",
   "execution_count": null,
   "metadata": {
    "colab": {
     "base_uri": "https://localhost:8080/"
    },
    "deletable": false,
    "editable": false,
    "executionInfo": {
     "elapsed": 2094,
     "status": "ok",
     "timestamp": 1625789260171,
     "user": {
      "displayName": "Alex Lopes",
      "photoUrl": "https://lh3.googleusercontent.com/a-/AOh14GiIodCIc3QmEkRc07ZdX1uDEU_3XpwbFfljE8IyIg=s64",
      "userId": "01606300887134833077"
     },
     "user_tz": 180
    },
    "id": "gO0jtGnPeywk",
    "nbgrader": {
     "cell_type": "code",
     "checksum": "21324ee4b0fccc2d116084b44c372dcc",
     "grade": true,
     "grade_id": "cell-9ffdsa88rere8e9282a",
     "locked": true,
     "points": 1,
     "schema_version": 3,
     "solution": false,
     "task": false
    },
    "outputId": "7dd676bc-d2df-4f16-af4b-d4619ad9c9e7"
   },
   "outputs": [],
   "source": [
    "# Faca aqui a validacao do Exercicio 5.1\n",
    "##############################################\n",
    "########## ATENÇÃO PARA ESTA INSTRUÇÃO #######\n",
    "# Crie na célula de testes acima um dataframe df_ideb. \n",
    "# Use os argumentos skiprows, na_values e skipfooter para carregar a tabela corretamente.\n",
    "##############################################\n",
    "entradas = [[df_ideb, 'DF'], [df_ideb, 'SP'], [df_ideb, 'GO']]\n",
    "saidas = [3.4,4.0,4.2]\n",
    "validate(media_ideb, entradas, lambda x: round(x,1), saidas, \"5.1\")"
   ]
  },
  {
   "cell_type": "markdown",
   "metadata": {
    "id": "aqY7C_aCeywk"
   },
   "source": [
    "### 5.2 Escreva uma função para gerar uma permutação (aleatória) de uma lista e colocar o resultado num dataframe com os elementos da lista agrupados em grupos de tamanho N (Ex.: N=4). \n",
    "#### A coluna de índices deve conter o nome dos grupos. Os nomes dos grupos devem seguir a seguinte regra: Grupo 1, Grupo 2, Grupo 3,..., Grupo K.\n",
    "#### Veja como ficaria o resultado para o exemplo a seguir com uma lista de 9 elementos e tamanho N=4.\n",
    "\n",
    "|         | 0                  |\n",
    "|:--------|:-------------------|\n",
    "| Grupo 0 | Julie Lewis        |\n",
    "| Grupo 0 | Mary Phinney       |\n",
    "| Grupo 0 | Gilbert Ravenell   |\n",
    "| Grupo 0 | Jillian Brennan    |\n",
    "| Grupo 1 | Michelle Humphreys |\n",
    "| Grupo 1 | Kimberly Ransome   |\n",
    "| Grupo 1 | Lisa Watson        |\n",
    "| Grupo 1 | Jennifer Daniels   |\n",
    "| Grupo 2 | Olga Crocker       |\n",
    "\n",
    "#### Dica 1: A função len calcula o tamanho de uma lista.\n",
    "#### Dica 2: Use a função math.ceil(N/n), onde N é o tamanho da lista e n é a quantidade de pessoas em cada grupo.\n",
    "#### Inspiração: Dividir alunos em salas de videoconferência de tal forma que cada sala tenha 4 alunos, e somente uma das salas fique com menos de 4 alunos.\n"
   ]
  },
  {
   "cell_type": "code",
   "execution_count": null,
   "metadata": {
    "id": "45l2BYXTkwDY"
   },
   "outputs": [],
   "source": [
    "# Instale o names, na primeira vez que rodar esta célula\n",
    "!pip install names ##### Execute esta linha para instalar o pacote names"
   ]
  },
  {
   "cell_type": "code",
   "execution_count": null,
   "metadata": {
    "id": "ms-1braneywl"
   },
   "outputs": [],
   "source": [
    "# Faca aqui seus testes do Exercício 5.2\n",
    "\n",
    "import names\n",
    "N = 9\n",
    "group_length = 4\n",
    "test_data = [names.get_full_name() for n in range(N)]\n",
    "test_data\n"
   ]
  },
  {
   "cell_type": "code",
   "execution_count": null,
   "metadata": {
    "deletable": false,
    "executionInfo": {
     "elapsed": 396,
     "status": "ok",
     "timestamp": 1625789682134,
     "user": {
      "displayName": "Alex Lopes",
      "photoUrl": "https://lh3.googleusercontent.com/a-/AOh14GiIodCIc3QmEkRc07ZdX1uDEU_3XpwbFfljE8IyIg=s64",
      "userId": "01606300887134833077"
     },
     "user_tz": 180
    },
    "id": "azyIOPQdeywl",
    "nbgrader": {
     "cell_type": "code",
     "checksum": "c9bc0ebf10870ad513a546b82cd9926c",
     "grade": false,
     "grade_id": "cell-553em5248er4bc30",
     "locked": false,
     "schema_version": 3,
     "solution": true,
     "task": false
    }
   },
   "outputs": [],
   "source": [
    "# Faca aqui sua função do Exercício 5.2\n",
    "def create_groups(names_list, n):\n",
    "    \"\"\"Crie um dataframe com os nomes da lista names_list agrupados em grupos de tamanho n.\n",
    "    \"\"\"\n",
    "    # YOUR CODE HERE\n",
    "    raise NotImplementedError()"
   ]
  },
  {
   "cell_type": "code",
   "execution_count": null,
   "metadata": {
    "colab": {
     "base_uri": "https://localhost:8080/"
    },
    "deletable": false,
    "editable": false,
    "executionInfo": {
     "elapsed": 2059,
     "status": "ok",
     "timestamp": 1625789684180,
     "user": {
      "displayName": "Alex Lopes",
      "photoUrl": "https://lh3.googleusercontent.com/a-/AOh14GiIodCIc3QmEkRc07ZdX1uDEU_3XpwbFfljE8IyIg=s64",
      "userId": "01606300887134833077"
     },
     "user_tz": 180
    },
    "id": "y9pYnVrXeywn",
    "nbgrader": {
     "cell_type": "code",
     "checksum": "9aa513a6b11a2ca8bf0ade9dac19c589",
     "grade": true,
     "grade_id": "cell-0se2b6erte06bdc60",
     "locked": true,
     "points": 1,
     "schema_version": 3,
     "solution": false,
     "task": false
    },
    "outputId": "e624b13b-2a99-4df1-ce3b-d20abba6ffa6"
   },
   "outputs": [],
   "source": [
    "# Faca aqui a validacao do Exercicio 5.2\n",
    "import names\n",
    "N = 9\n",
    "group_length = 4\n",
    "test_data = [names.get_full_name() for n in range(N)]\n",
    "result = ['Grupo 0', 'Grupo 0', 'Grupo 0', 'Grupo 0', 'Grupo 1', 'Grupo 1', 'Grupo 1', 'Grupo 1', 'Grupo 2']\n",
    "\n",
    "entradas = [[test_data, group_length]]\n",
    "saidas = [result]\n",
    "validate(create_groups, entradas, lambda x: x.index.to_list(), saidas, \"5.2\")"
   ]
  },
  {
   "cell_type": "markdown",
   "metadata": {
    "id": "0oUbt9NUeywn",
    "nbgrader": {
     "grade": false,
     "grade_id": "cell-553e524r8eb14bc30",
     "locked": false,
     "schema_version": 3,
     "solution": false,
     "task": false
    }
   },
   "source": [
    "### 5.3 Escreva uma função para carregar corretamente o dataframe de população disponibilizado. A função deve receber como argumento o caminho para o dataset. Crie uma coluna chamada ```cod_ibge7``` a partir da concatenação  do conteúdo das colunas ```cod_uf``` e ```cod_munic``` (nesta ordem). \n",
    "\n",
    "#### Dica 1: Converta o codigo do município para string ao carregar o dataframe de população utilizando o mapeamento de tipos dtype={'cod_munic': str, 'cod_uf': str}. Assim o codigo do municipio não perde os zeros a esquerda.\n",
    "#### Dica 2: Concatene o codigo da UF com o código do município usando o operador."
   ]
  },
  {
   "cell_type": "code",
   "execution_count": null,
   "metadata": {
    "id": "_gAS5lwTeywp"
   },
   "outputs": [],
   "source": [
    "# Faca aqui seus testes do Exercício 5.3\n",
    "path_pop = 'https://github.com/alexlopespereira/enapespcd2021/raw/main/data/originais/populacao/estimativa_dou_2017.xlsx'\n",
    "\n"
   ]
  },
  {
   "cell_type": "code",
   "execution_count": null,
   "metadata": {
    "deletable": false,
    "executionInfo": {
     "elapsed": 318,
     "status": "ok",
     "timestamp": 1625789688575,
     "user": {
      "displayName": "Alex Lopes",
      "photoUrl": "https://lh3.googleusercontent.com/a-/AOh14GiIodCIc3QmEkRc07ZdX1uDEU_3XpwbFfljE8IyIg=s64",
      "userId": "01606300887134833077"
     },
     "user_tz": 180
    },
    "id": "Qd_vvcGNeywp",
    "nbgrader": {
     "cell_type": "code",
     "checksum": "487461f42ff090a6f6ac1d162a388ad1",
     "grade": false,
     "grade_id": "cell-cbfdac791ert6c",
     "locked": false,
     "schema_version": 3,
     "solution": true,
     "task": false
    }
   },
   "outputs": [],
   "source": [
    "# Faca aqui sua função do Exercício 5.3\n",
    "def load_pop(path_pop):\n",
    "    \"\"\"retorne um dataframe da população\n",
    "    \"\"\"\n",
    "    # YOUR CODE HERE\n",
    "    raise NotImplementedError()"
   ]
  },
  {
   "cell_type": "code",
   "execution_count": null,
   "metadata": {
    "colab": {
     "base_uri": "https://localhost:8080/"
    },
    "executionInfo": {
     "elapsed": 2374,
     "status": "ok",
     "timestamp": 1625789691191,
     "user": {
      "displayName": "Alex Lopes",
      "photoUrl": "https://lh3.googleusercontent.com/a-/AOh14GiIodCIc3QmEkRc07ZdX1uDEU_3XpwbFfljE8IyIg=s64",
      "userId": "01606300887134833077"
     },
     "user_tz": 180
    },
    "id": "6-4IDGLleywq",
    "outputId": "e62b8a25-2001-4652-8e1a-99db21edfd7b"
   },
   "outputs": [],
   "source": [
    "# Faca aqui a validacao do Exercicio 5.3\n",
    "\n",
    "path_pop = 'https://github.com/alexlopespereira/enapespcd2021/raw/main/data/originais/populacao/estimativa_dou_2017.xlsx'\n",
    "entradas = [[path_pop]]\n",
    "saidas = [{'uf': 'RO', 'cod_uf': '11', 'cod_munic': '00015', 'municipio': \"Alta Floresta D'Oeste\",\n",
    " 'pop2017': 25437, 'cod_ibge7': '1100015'}]\n",
    "validate(load_pop, entradas, lambda x: x.iloc[0].to_dict(), saidas, \"5.3\")"
   ]
  },
  {
   "cell_type": "markdown",
   "metadata": {
    "id": "Y6_vDXdmeywq"
   },
   "source": [
    "### 5.4 Despivote o dataframe abaixo transformando as colunas 1991, 2000 e 2010 em conteúdos das linhas no dataframe resultante.\n",
    "#### Dataframe de entrada:\n",
    "|    | Município                      |     1991 |   2000 |   2010 |\n",
    "|---:|:-------------------------------|---------:|-------:|-------:|\n",
    "|  0 | 110001 Alta Floresta D'Oeste   |   0.5983 | 0.5868 | 0.5893 |\n",
    "|  1 | 110037 Alto Alegre dos Parecis | NaN     | 0.508  | 0.5491 |\n",
    "|  2 | 110040 Alto Paraíso            | NaN     | 0.6256 | 0.5417 |\n",
    "|  3 | 110034 Alvorada D'Oeste        |   0.569  | 0.6534 | 0.5355 |\n",
    "|  4 | 110002 Ariquemes               |   0.5827 | 0.5927 | 0.5496 |\n",
    "\n",
    "#### Resultado esperado:\n",
    "|    | Município                      |   data |     gini |\n",
    "|---:|:-------------------------------|-------:|---------:|\n",
    "|  0 | 110001 Alta Floresta D'Oeste   |   1991 |   0.5983 |\n",
    "|  1 | 110037 Alto Alegre dos Parecis |   1991 | NaN     |\n",
    "|  2 | 110040 Alto Paraíso            |   1991 | NaN     |\n",
    "|  3 | 110034 Alvorada D'Oeste        |   1991 |   0.569  |\n",
    "|  4 | 110002 Ariquemes               |   1991 |   0.5827 |\n",
    "|  5 | 110001 Alta Floresta D'Oeste   |   2000 |   0.5868 |\n",
    "|  6 | 110037 Alto Alegre dos Parecis |   2000 |   0.508  |\n",
    "|  7 | 110040 Alto Paraíso            |   2000 |   0.6256 |\n",
    "|  8 | 110034 Alvorada D'Oeste        |   2000 |   0.6534 |\n",
    "|  9 | 110002 Ariquemes               |   2000 |   0.5927 |\n",
    "| 10 | 110001 Alta Floresta D'Oeste   |   2010 |   0.5893 |\n",
    "| 11 | 110037 Alto Alegre dos Parecis |   2010 |   0.5491 |\n",
    "| 12 | 110040 Alto Paraíso            |   2010 |   0.5417 |\n",
    "| 13 | 110034 Alvorada D'Oeste        |   2010 |   0.5355 |\n",
    "| 14 | 110002 Ariquemes               |   2010 |   0.5496 |"
   ]
  },
  {
   "cell_type": "code",
   "execution_count": null,
   "metadata": {
    "executionInfo": {
     "elapsed": 385,
     "status": "ok",
     "timestamp": 1625789704379,
     "user": {
      "displayName": "Alex Lopes",
      "photoUrl": "https://lh3.googleusercontent.com/a-/AOh14GiIodCIc3QmEkRc07ZdX1uDEU_3XpwbFfljE8IyIg=s64",
      "userId": "01606300887134833077"
     },
     "user_tz": 180
    },
    "id": "PeCYKZn7eyws"
   },
   "outputs": [],
   "source": [
    "# Faca aqui seus testes do Exercício 5.4\n",
    "dataset_gini = {'Município': {0: \"110001 Alta Floresta D'Oeste\",\n",
    "  1: '110037 Alto Alegre dos Parecis',\n",
    "  2: '110040 Alto Paraíso',\n",
    "  3: \"110034 Alvorada D'Oeste\",\n",
    "  4: '110002 Ariquemes'},\n",
    " '1991': {0: 0.5983, 1: None, 2: None, 3: 0.569, 4: 0.5827},\n",
    " '2000': {0: 0.5868, 1: 0.508, 2: 0.6256, 3: 0.6534, 4: 0.5927},\n",
    " '2010': {0: 0.5893, 1: 0.5491, 2: 0.5417, 3: 0.5355, 4: 0.5496}}\n",
    "df_gini = pd.DataFrame(dataset_gini)\n"
   ]
  },
  {
   "cell_type": "code",
   "execution_count": null,
   "metadata": {
    "deletable": false,
    "executionInfo": {
     "elapsed": 13,
     "status": "ok",
     "timestamp": 1625789704382,
     "user": {
      "displayName": "Alex Lopes",
      "photoUrl": "https://lh3.googleusercontent.com/a-/AOh14GiIodCIc3QmEkRc07ZdX1uDEU_3XpwbFfljE8IyIg=s64",
      "userId": "01606300887134833077"
     },
     "user_tz": 180
    },
    "id": "HT7dlz4Ceywr",
    "nbgrader": {
     "cell_type": "code",
     "checksum": "12ba162470d6310d8c11f75dd5ea7c77",
     "grade": false,
     "grade_id": "cell-ad0e87dretfd83",
     "locked": false,
     "schema_version": 3,
     "solution": true,
     "task": false
    }
   },
   "outputs": [],
   "source": [
    "# Faca aqui sua função do Exercício 5.4\n",
    "def unpivot_gini(df):\n",
    "    \"\"\"retorne um dataframe despivotado.\n",
    "    \"\"\"\n",
    "    # YOUR CODE HERE\n",
    "    raise NotImplementedError()\n",
    "    "
   ]
  },
  {
   "cell_type": "code",
   "execution_count": null,
   "metadata": {
    "colab": {
     "base_uri": "https://localhost:8080/"
    },
    "executionInfo": {
     "elapsed": 1781,
     "status": "ok",
     "timestamp": 1625789710684,
     "user": {
      "displayName": "Alex Lopes",
      "photoUrl": "https://lh3.googleusercontent.com/a-/AOh14GiIodCIc3QmEkRc07ZdX1uDEU_3XpwbFfljE8IyIg=s64",
      "userId": "01606300887134833077"
     },
     "user_tz": 180
    },
    "id": "i8xRIkeYeywt",
    "outputId": "811f7fc6-9b24-4376-bd51-e0f29db181cf"
   },
   "outputs": [],
   "source": [
    "# Faca aqui a validacao do Exercicio 5.4\n",
    "dataset_gini = {'Município': {0: \"110001 Alta Floresta D'Oeste\",\n",
    "  1: '110037 Alto Alegre dos Parecis',\n",
    "  2: '110040 Alto Paraíso',\n",
    "  3: \"110034 Alvorada D'Oeste\",\n",
    "  4: '110002 Ariquemes'},\n",
    " '1991': {0: 0.5983, 1: None, 2: None, 3: 0.569, 4: 0.5827},\n",
    " '2000': {0: 0.5868, 1: 0.508, 2: 0.6256, 3: 0.6534, 4: 0.5927},\n",
    " '2010': {0: 0.5893, 1: 0.5491, 2: 0.5417, 3: 0.5355, 4: 0.5496}}\n",
    "df_gini = pd.DataFrame(dataset_gini)\n",
    "\n",
    "test_data = {'Município': {0: \"110001 Alta Floresta D'Oeste\", 1: '110037 Alto Alegre dos Parecis',\n",
    "  2: '110040 Alto Paraíso',  3: \"110034 Alvorada D'Oeste\", 4: '110002 Ariquemes', 5: \"110001 Alta Floresta D'Oeste\",\n",
    "  6: '110037 Alto Alegre dos Parecis', 7: '110040 Alto Paraíso', 8: \"110034 Alvorada D'Oeste\", 9: '110002 Ariquemes',\n",
    "  10: \"110001 Alta Floresta D'Oeste\", 11: '110037 Alto Alegre dos Parecis', 12: '110040 Alto Paraíso',\n",
    "  13: \"110034 Alvorada D'Oeste\", 14: '110002 Ariquemes'}, 'data': {0: '1991', 1: '1991', 2: '1991', 3: '1991',\n",
    "  4: '1991', 5: '2000', 6: '2000', 7: '2000', 8: '2000', 9: '2000', 10: '2010', 11: '2010', 12: '2010', 13: '2010',\n",
    "  14: '2010'},'gini': {0: 0.5983, 1: nan, 2: nan, 3: 0.569, 4: 0.5827, 5: 0.5868, 6: 0.508, 7: 0.6256, 8: 0.6534,\n",
    "  9: 0.5927, 10: 0.5893, 11: 0.5491, 12: 0.5417, 13: 0.5355, 14: 0.5496}}\n",
    "\n",
    "entradas = [[df_gini]]\n",
    "saidas = [pd.DataFrame(test_data)]\n",
    "validate(unpivot_gini, entradas, lambda x: x, saidas, \"5.4\")"
   ]
  },
  {
   "cell_type": "markdown",
   "metadata": {
    "id": "ZH9Daz37eywt"
   },
   "source": [
    "### 5.5 Considerando o dataframe abaixo, adicione uma coluna a esse dataframe para guardar o valor do código IBGE que está junto com o nome do município na coluna Muncípio. \n",
    "|    | Município                      |     1991 |   2000 |   2010 |\n",
    "|---:|:-------------------------------|---------:|-------:|-------:|\n",
    "|  0 | 110001 Alta Floresta D'Oeste   |   0.5983 | 0.5868 | 0.5893 |\n",
    "|  1 | 110037 Alto Alegre dos Parecis | nan      | 0.508  | 0.5491 |\n",
    "|  2 | 110040 Alto Paraíso            | nan      | 0.6256 | 0.5417 |\n",
    "|  3 | 110034 Alvorada D'Oeste        |   0.569  | 0.6534 | 0.5355 |\n",
    "|  4 | 110002 Ariquemes               |   0.5827 | 0.5927 | 0.5496 |\n",
    "\n",
    "#### Resultado esperado:\n",
    "|    | Município                      |     1991 |   2000 |   2010 |   cod_ibge6 |\n",
    "|---:|:-------------------------------|---------:|-------:|-------:|------------:|\n",
    "|  0 | 110001 Alta Floresta D'Oeste   |   0.5983 | 0.5868 | 0.5893 |      110001 |\n",
    "|  1 | 110037 Alto Alegre dos Parecis | nan      | 0.508  | 0.5491 |      110037 |\n",
    "|  2 | 110040 Alto Paraíso            | nan      | 0.6256 | 0.5417 |      110040 |\n",
    "|  3 | 110034 Alvorada D'Oeste        |   0.569  | 0.6534 | 0.5355 |      110034 |\n",
    "|  4 | 110002 Ariquemes               |   0.5827 | 0.5927 | 0.5496 |      110002 |\n",
    "\n",
    "#### Dica: use a função apply"
   ]
  },
  {
   "cell_type": "code",
   "execution_count": null,
   "metadata": {
    "colab": {
     "base_uri": "https://localhost:8080/",
     "height": 214
    },
    "executionInfo": {
     "elapsed": 336,
     "status": "ok",
     "timestamp": 1625789719532,
     "user": {
      "displayName": "Alex Lopes",
      "photoUrl": "https://lh3.googleusercontent.com/a-/AOh14GiIodCIc3QmEkRc07ZdX1uDEU_3XpwbFfljE8IyIg=s64",
      "userId": "01606300887134833077"
     },
     "user_tz": 180
    },
    "id": "pzszgwY1eywt",
    "outputId": "128f613d-3bbe-4b6a-cad3-0fffa7babf99"
   },
   "outputs": [],
   "source": [
    "# Faca aqui seus testes do Exercício 5.5\n",
    "test_data = {'Município': {0: \"110001 Alta Floresta D'Oeste\",\n",
    "  1: '110037 Alto Alegre dos Parecis',  2: '110040 Alto Paraíso',\n",
    "  3: \"110034 Alvorada D'Oeste\",  4: '110002 Ariquemes'},\n",
    " '1991': {0: 0.5983, 1: 0, 2: 0, 3: 0.569, 4: 0.5827},\n",
    " '2000': {0: 0.5868, 1: 0.508, 2: 0.6256, 3: 0.6534, 4: 0.5927},\n",
    " '2010': {0: 0.5893, 1: 0.5491, 2: 0.5417, 3: 0.5355, 4: 0.5496}}\n",
    "df = pd.DataFrame(test_data)\n",
    "df"
   ]
  },
  {
   "cell_type": "code",
   "execution_count": null,
   "metadata": {
    "deletable": false,
    "executionInfo": {
     "elapsed": 18,
     "status": "ok",
     "timestamp": 1625789719787,
     "user": {
      "displayName": "Alex Lopes",
      "photoUrl": "https://lh3.googleusercontent.com/a-/AOh14GiIodCIc3QmEkRc07ZdX1uDEU_3XpwbFfljE8IyIg=s64",
      "userId": "01606300887134833077"
     },
     "user_tz": 180
    },
    "id": "jAzbHBoOeywt",
    "nbgrader": {
     "cell_type": "code",
     "checksum": "c3e11113bb5b05ddb8b6c8605e44029e",
     "grade": false,
     "grade_id": "cell-c705ab9d11ertb9f9",
     "locked": false,
     "schema_version": 3,
     "solution": true,
     "task": false
    }
   },
   "outputs": [],
   "source": [
    "# Faca aqui sua função do Exercício 5.5\n",
    "def adiciona_cod_ibge6(df):\n",
    "    \"\"\"retorne um dataframe com o código ibge de 6 dígitos numa coluna separada.\n",
    "    \"\"\"\n",
    "    # YOUR CODE HERE\n",
    "    raise NotImplementedError()\n"
   ]
  },
  {
   "cell_type": "code",
   "execution_count": null,
   "metadata": {
    "colab": {
     "base_uri": "https://localhost:8080/"
    },
    "deletable": false,
    "editable": false,
    "executionInfo": {
     "elapsed": 1715,
     "status": "ok",
     "timestamp": 1625789725261,
     "user": {
      "displayName": "Alex Lopes",
      "photoUrl": "https://lh3.googleusercontent.com/a-/AOh14GiIodCIc3QmEkRc07ZdX1uDEU_3XpwbFfljE8IyIg=s64",
      "userId": "01606300887134833077"
     },
     "user_tz": 180
    },
    "id": "pPcWKMQteyww",
    "nbgrader": {
     "cell_type": "code",
     "checksum": "1973eba94b83fae1335b8eb31f5d347d",
     "grade": true,
     "grade_id": "cell-9ffdsa88dwert9282a",
     "locked": true,
     "points": 1,
     "schema_version": 3,
     "solution": false,
     "task": false
    },
    "outputId": "58cbc62a-e283-4275-eff3-26ed47fb8a78"
   },
   "outputs": [],
   "source": [
    "# Faca aqui a validacao do Exercicio 5.5\n",
    "test_data = {'Município': {0: \"110001 Alta Floresta D'Oeste\",\n",
    "  1: '110037 Alto Alegre dos Parecis',  2: '110040 Alto Paraíso',\n",
    "  3: \"110034 Alvorada D'Oeste\",  4: '110002 Ariquemes'},\n",
    " '1991': {0: 0.5983, 1: 0, 2: 0, 3: 0.569, 4: 0.5827},\n",
    " '2000': {0: 0.5868, 1: 0.508, 2: 0.6256, 3: 0.6534, 4: 0.5927},\n",
    " '2010': {0: 0.5893, 1: 0.5491, 2: 0.5417, 3: 0.5355, 4: 0.5496}}\n",
    "df = pd.DataFrame(test_data)\n",
    "\n",
    "entradas = [[df]]\n",
    "saidas = [{0: 0.5893, 1: 0.5491, 2: 0.5417, 3: 0.5355, 4: 0.5496}]\n",
    "validate(adiciona_cod_ibge6, entradas, lambda x: x['2010'].to_dict(), saidas, \"5.5\")"
   ]
  },
  {
   "cell_type": "markdown",
   "metadata": {
    "id": "12TYCBhJeywx"
   },
   "source": [
    "### 5.6 Escreva uma função para carregar corretamente o dataframe de morbidade disponibilizado. A função deve receber como argumento o caminho para o dataset. \n",
    "\n",
    "#### Dica 1: No dataset de morbidade existem valores NA representados por caracteres específicos em várias colunas do dataframe. Descubra quais são esses caracteres e especifique no argumento na_values no comando para ler esse dataframe. Passe nesse argumento uma lista com os caracteres que devem ser interpretados como NA.\n",
    "#### Dica 2: No comando para ler o dataset de morbidade, especifique também: 1) o separador das colunas apropriado; 2) O caracter de separação de casas decimais; e 3) O tipo do dado da coluna cod_ibge6 como str. Ou seja, dtype={'cod_ibge6': str}."
   ]
  },
  {
   "cell_type": "code",
   "execution_count": null,
   "metadata": {
    "executionInfo": {
     "elapsed": 250,
     "status": "ok",
     "timestamp": 1625790141650,
     "user": {
      "displayName": "Alex Lopes",
      "photoUrl": "https://lh3.googleusercontent.com/a-/AOh14GiIodCIc3QmEkRc07ZdX1uDEU_3XpwbFfljE8IyIg=s64",
      "userId": "01606300887134833077"
     },
     "user_tz": 180
    },
    "id": "nyLFR-vOeywz"
   },
   "outputs": [],
   "source": [
    "# Faca aqui seus testes do Exercício 5.6\n",
    "path_morbidade = 'https://github.com/alexlopespereira/enapespcd2021/raw/main/data/originais/morbidade/consolidado/consolidado.csv'\n"
   ]
  },
  {
   "cell_type": "code",
   "execution_count": null,
   "metadata": {
    "deletable": false,
    "executionInfo": {
     "elapsed": 19,
     "status": "ok",
     "timestamp": 1625789976016,
     "user": {
      "displayName": "Alex Lopes",
      "photoUrl": "https://lh3.googleusercontent.com/a-/AOh14GiIodCIc3QmEkRc07ZdX1uDEU_3XpwbFfljE8IyIg=s64",
      "userId": "01606300887134833077"
     },
     "user_tz": 180
    },
    "id": "eGipB8OJeywy",
    "nbgrader": {
     "cell_type": "code",
     "checksum": "568b6d9e6d56d6b446c3807a421053ef",
     "grade": false,
     "grade_id": "cell-44f159wert4f6a10",
     "locked": false,
     "schema_version": 3,
     "solution": true,
     "task": false
    }
   },
   "outputs": [],
   "source": [
    "# Faca aqui sua função do Exercício 5.6\n",
    "def load_morbidade(path_morbidade):\n",
    "    \"\"\"retorne o dataframe de morbidade.\n",
    "    \"\"\"\n",
    "    # YOUR CODE HERE\n",
    "    raise NotImplementedError()\n"
   ]
  },
  {
   "cell_type": "code",
   "execution_count": null,
   "metadata": {
    "colab": {
     "base_uri": "https://localhost:8080/"
    },
    "executionInfo": {
     "elapsed": 2426,
     "status": "ok",
     "timestamp": 1625790129246,
     "user": {
      "displayName": "Alex Lopes",
      "photoUrl": "https://lh3.googleusercontent.com/a-/AOh14GiIodCIc3QmEkRc07ZdX1uDEU_3XpwbFfljE8IyIg=s64",
      "userId": "01606300887134833077"
     },
     "user_tz": 180
    },
    "id": "YHGvOBGUeywz",
    "outputId": "26bfb2b8-01e2-4137-9727-f27ce0a3f501"
   },
   "outputs": [],
   "source": [
    "# Faca aqui a validacao do Exercicio 5.6 \n",
    "path_morbidade = 'https://github.com/alexlopespereira/enapespcd2021/raw/main/data/originais/morbidade/consolidado/consolidado.csv'\n",
    "                 \n",
    "entradas = [[path_morbidade]]\n",
    "saidas = [{'Internações': 193.0, 'AIH_aprovadas': 193, 'cod_ibge6': '110001'}]\n",
    "validate(load_morbidade, entradas, lambda x: x.loc[0,['Internações','AIH_aprovadas','cod_ibge6']].to_dict(), saidas, \"5.6\")"
   ]
  },
  {
   "cell_type": "markdown",
   "metadata": {
    "id": "gRahGohWeyw0"
   },
   "source": [
    "### 5.7 Escreva uma função para carregar corretamente o dataframe de PIB de 2017 disponibilizado. A função deve receber como argumento o caminho para o dataset. Renomeie as colunas apropriadamente. A coluna com o nome do municipio deve se chamar municipio (sem acento) e a coluna com o codigo ibge de 7 caracteres cod_ibge7. \n",
    "\n",
    "#### Dica 1: Especifique o dtype da coluna que contém o codigo do municipio, para carregá-lo como str (string).\n",
    "#### Dica 2: Use a função rename e um dicionário como este do exemplo para renomear as colunas. Exemplo: {'Unnamed: 0': 'nivel', 'Unnamed: 1': 'cod_ibge7', 'Unnamed: 2': 'municipio'}. "
   ]
  },
  {
   "cell_type": "code",
   "execution_count": null,
   "metadata": {
    "id": "nXPZaS80eyw1"
   },
   "outputs": [],
   "source": [
    "# Faca aqui seus testes do Exercício 5.7\n",
    "path_pib = 'https://github.com/alexlopespereira/enapespcd2021/raw/main/data/originais/pib/pib_municipios.xlsx'\n"
   ]
  },
  {
   "cell_type": "code",
   "execution_count": null,
   "metadata": {
    "deletable": false,
    "executionInfo": {
     "elapsed": 283,
     "status": "ok",
     "timestamp": 1625790151086,
     "user": {
      "displayName": "Alex Lopes",
      "photoUrl": "https://lh3.googleusercontent.com/a-/AOh14GiIodCIc3QmEkRc07ZdX1uDEU_3XpwbFfljE8IyIg=s64",
      "userId": "01606300887134833077"
     },
     "user_tz": 180
    },
    "id": "fWq-850Jeyw0",
    "nbgrader": {
     "cell_type": "code",
     "checksum": "ad42f16b638d593961bec34a89784281",
     "grade": false,
     "grade_id": "cell-b80da5wertf40618",
     "locked": false,
     "schema_version": 3,
     "solution": true,
     "task": false
    }
   },
   "outputs": [],
   "source": [
    "# Faca aqui sua função do Exercício 5.7\n",
    "def load_pib(path_pib):\n",
    "    \"\"\"retorne o dataframe do pib\n",
    "    \"\"\"\n",
    "    # YOUR CODE HERE\n",
    "    raise NotImplementedError()\n"
   ]
  },
  {
   "cell_type": "code",
   "execution_count": null,
   "metadata": {
    "colab": {
     "base_uri": "https://localhost:8080/"
    },
    "executionInfo": {
     "elapsed": 2591,
     "status": "ok",
     "timestamp": 1625790154025,
     "user": {
      "displayName": "Alex Lopes",
      "photoUrl": "https://lh3.googleusercontent.com/a-/AOh14GiIodCIc3QmEkRc07ZdX1uDEU_3XpwbFfljE8IyIg=s64",
      "userId": "01606300887134833077"
     },
     "user_tz": 180
    },
    "id": "p5Sxxqibeyw1",
    "outputId": "bfff0f60-907c-4de7-ebe9-a16dbc7080cd"
   },
   "outputs": [],
   "source": [
    "# Faca aqui a validacao do Exercicio 5.7\n",
    "path_pib = 'https://github.com/alexlopespereira/enapespcd2021/raw/main/data/originais/pib/pib_municipios.xlsx'\n",
    "entradas = [[path_pib]]\n",
    "saidas = [{'nivel': 'MU', 'cod_ibge7': '1100015', 'municipio': \"Alta Floresta D'Oeste (RO)\",\n",
    " '2007': 191364, '2009': 256986, '2011': 280510, '2013': 341325, '2015': 421300, '2017': 498864}]\n",
    "validate(load_pib, entradas, lambda x: x.iloc[0].to_dict(), saidas, \"5.7\")"
   ]
  },
  {
   "cell_type": "code",
   "execution_count": null,
   "metadata": {
    "id": "IK8mqcHEpPgq"
   },
   "outputs": [],
   "source": []
  }
 ],
 "metadata": {
  "colab": {
   "collapsed_sections": [],
   "name": "Aula5_Exercicio.ipynb",
   "provenance": []
  },
  "kernelspec": {
   "display_name": "Python 3",
   "language": "python",
   "name": "python3"
  },
  "language_info": {
   "codemirror_mode": {
    "name": "ipython",
    "version": 3
   },
   "file_extension": ".py",
   "mimetype": "text/x-python",
   "name": "python",
   "nbconvert_exporter": "python",
   "pygments_lexer": "ipython3",
   "version": "3.8.3"
  },
  "name": "_merged",
  "varInspector": {
   "cols": {
    "lenName": 16,
    "lenType": 16,
    "lenVar": 40
   },
   "kernels_config": {
    "python": {
     "delete_cmd_postfix": "",
     "delete_cmd_prefix": "del ",
     "library": "var_list.py",
     "varRefreshCmd": "print(var_dic_list())"
    },
    "r": {
     "delete_cmd_postfix": ") ",
     "delete_cmd_prefix": "rm(",
     "library": "var_list.r",
     "varRefreshCmd": "cat(var_dic_list()) "
    }
   },
   "types_to_exclude": [
    "module",
    "function",
    "builtin_function_or_method",
    "instance",
    "_Feature"
   ],
   "window_display": false
  }
 },
 "nbformat": 4,
 "nbformat_minor": 1
}

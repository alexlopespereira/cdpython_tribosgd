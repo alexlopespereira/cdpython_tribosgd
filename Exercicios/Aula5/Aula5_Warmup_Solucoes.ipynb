{
 "cells": [
  {
   "cell_type": "markdown",
   "metadata": {
    "id": "1UqIhxaEOquh"
   },
   "source": [
    "## Aula 5 - Pandas e Fontes de dados"
   ]
  },
  {
   "cell_type": "markdown",
   "metadata": {
    "id": "mfHXiVQJOqur"
   },
   "source": [
    "### Treinando a função apply\n",
    "#### W5.1 Execute as instruções solicitadas a seguir."
   ]
  },
  {
   "cell_type": "code",
   "execution_count": null,
   "metadata": {
    "id": "c6XnFEngOquv"
   },
   "outputs": [],
   "source": [
    "import pandas as pd\n",
    "import numpy as np"
   ]
  },
  {
   "cell_type": "code",
   "execution_count": null,
   "metadata": {
    "id": "w4ydLpYQOquy"
   },
   "outputs": [],
   "source": [
    "# Considere o dataframe abaixo\n",
    "frame = pd.DataFrame(np.random.randn(4, 3), columns=list('bde'),\n",
    "                        index=['DF', 'GO', 'SP', 'RJ'])\n",
    "frame"
   ]
  },
  {
   "cell_type": "code",
   "execution_count": null,
   "metadata": {
    "id": "d9DpRoW7Oqu1",
    "nbgrader": {
     "grade": false,
     "grade_id": "cell-065358f77d358f53",
     "locked": false,
     "schema_version": 3,
     "solution": true,
     "task": false
    }
   },
   "outputs": [],
   "source": [
    "# Crie uma função lambda para calcular a diferença \n",
    "# entre a média e a mediana de uma Serie, e aplique-a ao dataframe frame, fazendo o cálculo ao longo do eixo das linhas\n",
    "# Faça aqui\n",
    "### BEGIN SOLUTION\n",
    "frame.apply(lambda x: x.mean() - x.median(), axis=0)\n",
    "### END SOLUTION\n"
   ]
  },
  {
   "cell_type": "code",
   "execution_count": null,
   "metadata": {
    "id": "9cFrrvhJOqu2",
    "nbgrader": {
     "grade": false,
     "grade_id": "cell-c03270850c36d0e3",
     "locked": false,
     "schema_version": 3,
     "solution": true,
     "task": false
    }
   },
   "outputs": [],
   "source": [
    "# aplique a mesma função lambda ao dataframe frame, fazendo o cálculo ao longo do eixo das colunas\n",
    "# Faça aqui\n",
    "### BEGIN SOLUTION\n",
    "frame.apply(lambda x: x.mean() - x.median(), axis=1)\n",
    "### END SOLUTION\n"
   ]
  },
  {
   "cell_type": "markdown",
   "metadata": {
    "id": "V9J0H-dhOqu4"
   },
   "source": [
    "### Treinando a função applymap\n",
    "#### W5.2 Execute as instruções solicitadas a seguir."
   ]
  },
  {
   "cell_type": "code",
   "execution_count": null,
   "metadata": {
    "id": "fMwK66elOqu6",
    "nbgrader": {
     "grade": false,
     "grade_id": "cell-6f32180cffa9380f",
     "locked": false,
     "schema_version": 3,
     "solution": true,
     "task": false
    }
   },
   "outputs": [],
   "source": [
    "# Crie uma função lambda para formatar um número float com tres casas decimais,\n",
    "# e aplique-a ao dataframe frame\n",
    "# Faça aqui\n",
    "### BEGIN SOLUTION\n",
    "frame.applymap(lambda x: \"%.2f\" % x)\n",
    "### END SOLUTION"
   ]
  },
  {
   "cell_type": "markdown",
   "metadata": {
    "id": "9K6xDSCSOqvA"
   },
   "source": [
    "#### W5.3 Execute as instruções solicitadas a seguir."
   ]
  },
  {
   "cell_type": "code",
   "execution_count": null,
   "metadata": {
    "id": "9sdL_4WyOqvD"
   },
   "outputs": [],
   "source": [
    "# Considere o dataframe abaixo\n",
    "df = pd.DataFrame([[1.4, np.nan], [7.1, -4.5],\n",
    "                    [np.nan, np.nan], [0.75, -1.3]],\n",
    "                    index=['a', 'b', 'c', 'd'],\n",
    "                    columns=['one', 'two'])\n",
    "df"
   ]
  },
  {
   "cell_type": "code",
   "execution_count": null,
   "metadata": {
    "id": "L1yx5bwZOqvE",
    "nbgrader": {
     "grade": false,
     "grade_id": "cell-842ee34c73bf43c3",
     "locked": false,
     "schema_version": 3,
     "solution": true,
     "task": false
    }
   },
   "outputs": [],
   "source": [
    "# Calcule a soma ao longo do eixo das linhas, considerando que \n",
    "# a soma de um número com um NA retorna um NA.\n",
    "# Faça aqui\n",
    "### BEGIN SOLUTION\n",
    "df.sum(axis=0, skipna=False)\n",
    "### END SOLUTION"
   ]
  },
  {
   "cell_type": "code",
   "execution_count": null,
   "metadata": {
    "id": "PgyJxmgHOqvH",
    "nbgrader": {
     "grade": false,
     "grade_id": "cell-8595dae6bdbc0481",
     "locked": false,
     "schema_version": 3,
     "solution": true,
     "task": false
    }
   },
   "outputs": [],
   "source": [
    "# Calcule a soma ao longo do eixo das colunas, considerando que \n",
    "# a soma de um número com um NA retorna um NA.\n",
    "# Faça aqui\n",
    "### BEGIN SOLUTION\n",
    "df.sum(axis=1, skipna=False)\n",
    "### END SOLUTION"
   ]
  },
  {
   "cell_type": "code",
   "execution_count": null,
   "metadata": {
    "id": "3mE4QLRZOqvH",
    "nbgrader": {
     "grade": false,
     "grade_id": "cell-56bcc128b1df3324",
     "locked": false,
     "schema_version": 3,
     "solution": true,
     "task": false
    }
   },
   "outputs": [],
   "source": [
    "# Calcule a média ao longo do eixo das linhas desconsiderando valores NA, ou seja, \n",
    "# calcule a média mesmo que haja um valor NA na respectiva linha.\n",
    "# Faça aqui\n",
    "### BEGIN SOLUTION\n",
    "df.sum(axis=0, skipna=True)\n",
    "### END SOLUTION"
   ]
  },
  {
   "cell_type": "code",
   "execution_count": null,
   "metadata": {
    "id": "ZjpwBxRsOqvI",
    "nbgrader": {
     "grade": false,
     "grade_id": "cell-53e0b6b899b6ed90",
     "locked": false,
     "schema_version": 3,
     "solution": true,
     "task": false
    }
   },
   "outputs": [],
   "source": [
    "# Calcule a média ao longo do eixo das linhas retornando NA para colunas que tenham algum NA\n",
    "# Faça aqui\n",
    "### BEGIN SOLUTION\n",
    "df.sum(axis=1, skipna=True)\n",
    "### END SOLUTION"
   ]
  },
  {
   "cell_type": "code",
   "execution_count": null,
   "metadata": {
    "id": "-L5zK7l2OqvI",
    "nbgrader": {
     "grade": false,
     "grade_id": "cell-7cd09255d5e218f9",
     "locked": false,
     "schema_version": 3,
     "solution": true,
     "task": false
    }
   },
   "outputs": [],
   "source": [
    "# Aplique um método para calcular várias estatísticas do dataframe df\n",
    "# Faça aqui\n",
    "### BEGIN SOLUTION\n",
    "df.describe()\n",
    "### END SOLUTION"
   ]
  },
  {
   "cell_type": "markdown",
   "metadata": {
    "id": "ddUEdnymOqvJ"
   },
   "source": [
    "### Manipulação de Fontes de Dados"
   ]
  },
  {
   "cell_type": "markdown",
   "metadata": {
    "id": "Efun_Oy4OqvK"
   },
   "source": [
    "#### W5.4 Carregue o arquivo do PIB disponibilizado nas bases de dados deste curso. Você pode escolher abrir do arquivo local ou diretamente da URL do github.\n",
    "#### Ajuste corretamente os argumentos ```skiprows``` e ```skipfooter``` para deixar na sua tabela somente os dados de interesse. As linhas de cabeçalho desnecessárias e o rodapé não devem fazer parte da sua tabela de dados. Tente os valores 1, 2 e 3 para os argumentos ```skiprows``` e ```skipfooter``` e escolha o valor que melhor se adequa."
   ]
  },
  {
   "cell_type": "code",
   "execution_count": null,
   "metadata": {
    "id": "ihNoD2xUOqvM",
    "nbgrader": {
     "grade": false,
     "grade_id": "cell-d8a4724b69551a22",
     "locked": false,
     "schema_version": 3,
     "solution": true,
     "task": false
    }
   },
   "outputs": [],
   "source": [
    "path_pib = 'https://github.com/alexlopespereira/enapespcd2021/raw/main/data/originais/pib/pib_municipios.xlsx'\n",
    "# Faça aqui\n",
    "### BEGIN SOLUTION\n",
    "df = pd.read_excel(path_pib, skiprows=3, skipfooter=1)\n",
    "### END SOLUTION"
   ]
  },
  {
   "cell_type": "code",
   "execution_count": null,
   "metadata": {
    "id": "Eu7PVfezOqvN",
    "nbgrader": {
     "grade": false,
     "grade_id": "cell-6819d51ef498e2f1",
     "locked": false,
     "schema_version": 3,
     "solution": true,
     "task": false
    }
   },
   "outputs": [],
   "source": [
    "# Mostre os 10 primeiros registros da sua tabela com o método pd.DataFrame.head()\n",
    "# Faça aqui\n",
    "### BEGIN SOLUTION\n",
    "df.head(10)\n",
    "### END SOLUTION"
   ]
  },
  {
   "cell_type": "code",
   "execution_count": null,
   "metadata": {
    "id": "z-rbIiZROqvP",
    "nbgrader": {
     "grade": false,
     "grade_id": "cell-f9b45b917d1bfe4f",
     "locked": false,
     "schema_version": 3,
     "solution": true,
     "task": false
    },
    "scrolled": false
   },
   "outputs": [],
   "source": [
    "# Mostre os 10 últimos registros da sua tabela com o método pd.DataFrame.tail()\n",
    "# Faça aqui\n",
    "### BEGIN SOLUTION\n",
    "df.tail()\n",
    "### END SOLUTION"
   ]
  },
  {
   "cell_type": "code",
   "execution_count": null,
   "metadata": {
    "id": "FuNnN-ptOqvP",
    "nbgrader": {
     "grade": false,
     "grade_id": "cell-511fbd2f440393c7",
     "locked": false,
     "schema_version": 3,
     "solution": true,
     "task": false
    },
    "scrolled": false
   },
   "outputs": [],
   "source": [
    "# Vizualize os tipos dos dados desse dataframe utilizando o método pd.DataFrame.info()\n",
    "# Use esse método SEMPRE que alguma coisa não funcionar quando estiver \n",
    "# fazendo operaçoes que esperam algum tipo de dado específico numa coluna.\n",
    "# Por exemplo, é comum você tentar concatenar o conteúdo de duas colunas na forma de string\n",
    "# imaginando que as duas colunas já são string, quando na verdade alguma delas não são.\n",
    "# Outro exemplo de erro bastante comum é você tentar somar o valor de duas colunas quando\n",
    "# uma delas ou as duas não são números, mas strings.\n",
    "\n",
    "# Faça aqui\n",
    "### BEGIN SOLUTION\n",
    "df.info()\n",
    "### END SOLUTION"
   ]
  },
  {
   "cell_type": "markdown",
   "metadata": {
    "id": "PU0tCP8FOqvR"
   },
   "source": [
    "#### W5.5 Carregue o arquivo do índice de gini. Você pode escolher abrir do arquivo local ou diretamente da URL do github.\n",
    "#### Assegure-se de carregar os cabeçalhos corretamente e os valores numericos como float. Para isso, use os argumentos ```sep, skiprows, skipfooter, na_values, decimal e encoding='utf8'```."
   ]
  },
  {
   "cell_type": "code",
   "execution_count": null,
   "metadata": {
    "id": "vQ6WB8FgOqvS",
    "nbgrader": {
     "grade": false,
     "grade_id": "cell-b02f068c5b7d790b",
     "locked": false,
     "schema_version": 3,
     "solution": true,
     "task": false
    }
   },
   "outputs": [],
   "source": [
    "path_gini = 'https://github.com/alexlopespereira/enapespcd2021/raw/main/data/originais/gini/ginibr.csv'\n",
    "# Faça aqui\n",
    "### BEGIN SOLUTION\n",
    "pd.read_csv(path_gini, sep=\";\", skiprows=2, skipfooter=2, encoding='utf8', decimal=\",\")\n",
    "### END SOLUTION"
   ]
  },
  {
   "cell_type": "markdown",
   "metadata": {
    "id": "KR2p6O4-OqvT"
   },
   "source": [
    "#### W5.6 Carregue o arquivo do dataset de morbidade disponibilizado nas bases de dados deste curso. Você pode escolher abrir do arquivo local ou diretamente da URL do github.\n",
    "#### Ajuste corretamente os argumentos sep e decimal. Assegure-se de que os dados numéricos foram carregados em formato numérico (int ou float). Use o método pd.DataFrame.info() para fazer esta verificação."
   ]
  },
  {
   "cell_type": "code",
   "execution_count": null,
   "metadata": {
    "id": "47nh2jO7OqvV",
    "nbgrader": {
     "grade": false,
     "grade_id": "cell-7f92082a7cd06059",
     "locked": false,
     "schema_version": 3,
     "solution": true,
     "task": false
    }
   },
   "outputs": [],
   "source": [
    "path_morbidade = 'https://github.com/alexlopespereira/enapespcd2021/raw/main/data/originais/morbidade/consolidado/morbidade.csv'\n",
    "# Faça aqui\n",
    "### BEGIN SOLUTION\n",
    "df = pd.read_csv(path_morbidade, sep=\";\", decimal=\",\", na_values='-')\n",
    "df\n",
    "### END SOLUTION"
   ]
  },
  {
   "cell_type": "markdown",
   "metadata": {
    "id": "kUeE297dOqvW"
   },
   "source": [
    "### Descartando valores faltantes (NA ou NaN)"
   ]
  },
  {
   "cell_type": "markdown",
   "metadata": {
    "id": "oppOOvFvOqvX"
   },
   "source": [
    "#### W5.7 Remova os valores NA da series a seguir"
   ]
  },
  {
   "cell_type": "code",
   "execution_count": null,
   "metadata": {
    "id": "KxZWhYn_OqvX",
    "nbgrader": {
     "grade": false,
     "grade_id": "cell-16b5625333d4748d",
     "locked": false,
     "schema_version": 3,
     "solution": true,
     "task": false
    }
   },
   "outputs": [],
   "source": [
    "from numpy import nan as NA\n",
    "# Considere a serie a seguir\n",
    "data = pd.Series([1, NA, 3.5, NA, 7])\n",
    "\n",
    "# Faça aqui\n",
    "### BEGIN SOLUTION\n",
    "data.dropna()\n",
    "### END SOLUTION"
   ]
  },
  {
   "cell_type": "markdown",
   "metadata": {
    "id": "Qp0fupisOqvY"
   },
   "source": [
    "#### W5.8 Remova os itens duplicados do dataframe a seguir"
   ]
  },
  {
   "cell_type": "code",
   "execution_count": null,
   "metadata": {
    "id": "atKn-RaHOqvY",
    "nbgrader": {
     "grade": false,
     "grade_id": "cell-637a91c100f7c7a9",
     "locked": false,
     "schema_version": 3,
     "solution": true,
     "task": false
    }
   },
   "outputs": [],
   "source": [
    "# Considere o seguinte dataframe\n",
    "data = pd.DataFrame({'k1': ['one', 'two'] * 3 + ['two'], 'k2': [1, 1, 2, 3, 3, 4, 4]})\n",
    "# Faça aqui\n",
    "### BEGIN SOLUTION\n",
    "data.drop_duplicates()\n",
    "### END SOLUTION"
   ]
  },
  {
   "cell_type": "markdown",
   "metadata": {
    "id": "ARiiNHheOqvY"
   },
   "source": [
    "### Treinando Indexação Hierárquica"
   ]
  },
  {
   "cell_type": "code",
   "execution_count": null,
   "metadata": {
    "id": "5xot547QOqvZ"
   },
   "outputs": [],
   "source": [
    "# Considere a seguinte Serie\n",
    "data = pd.Series(np.random.randn(9), index=[['a', 'a', 'a', 'b', 'b', 'c', 'c', 'd', 'd'],\n",
    "                                            [1, 2, 3, 1, 3, 1, 2, 2, 3]])\n",
    "data"
   ]
  },
  {
   "cell_type": "markdown",
   "metadata": {
    "id": "mvFx-YjnOqva"
   },
   "source": [
    "#### W5.9 Exiba (imprima) o indice hierárquico usando o atributo ```index``` do dataframe"
   ]
  },
  {
   "cell_type": "code",
   "execution_count": null,
   "metadata": {
    "id": "FWyvW72QOqvc",
    "nbgrader": {
     "grade": false,
     "grade_id": "cell-f6fd97f2ed856bbe",
     "locked": false,
     "schema_version": 3,
     "solution": true,
     "task": false
    }
   },
   "outputs": [],
   "source": [
    "# Faça aqui\n",
    "### BEGIN SOLUTION\n",
    "data.index\n",
    "### END SOLUTION"
   ]
  },
  {
   "cell_type": "markdown",
   "metadata": {
    "id": "YVQD3_7KOqvg"
   },
   "source": [
    "#### W5.10 Considerando a serie data, definida na célula anterior, faça um filtro com uma lista de elementos do 1o nível do índice exibindo apenas os dados das linhas identificadas por 'a' no nível 1."
   ]
  },
  {
   "cell_type": "code",
   "execution_count": null,
   "metadata": {
    "id": "SbuewcqDOqvh",
    "nbgrader": {
     "grade": false,
     "grade_id": "cell-40904420446b0478",
     "locked": false,
     "schema_version": 3,
     "solution": true,
     "task": false
    }
   },
   "outputs": [],
   "source": [
    "# Faça aqui\n",
    "### BEGIN SOLUTION\n",
    "data.loc[['a']]\n",
    "### END SOLUTION"
   ]
  },
  {
   "cell_type": "markdown",
   "metadata": {
    "id": "4zufbY7sOqvj"
   },
   "source": [
    "#### W5.11 Considerando a serie data, definida na célula anterior, faça um filtro com uma lista de elementos do 1o nível do índice exibindo apenas os dados das linhas identificadas por 'a' ou 'b' no nível 1, e 2 ou 3 no nível 2.\n",
    "#### Dica: usa a sintaxe com loc"
   ]
  },
  {
   "cell_type": "code",
   "execution_count": null,
   "metadata": {
    "id": "FD7HiF06Oqvk",
    "nbgrader": {
     "grade": false,
     "grade_id": "cell-9e882098929ad373",
     "locked": false,
     "schema_version": 3,
     "solution": true,
     "task": false
    }
   },
   "outputs": [],
   "source": [
    "# Considere o seguinte dataframe\n",
    "# Faça aqui\n",
    "### BEGIN SOLUTION\n",
    "data.loc[['a', 'b'], [2, 3]]\n",
    "### END SOLUTION"
   ]
  }
 ],
 "metadata": {
  "celltoolbar": "Create Assignment",
  "colab": {
   "collapsed_sections": [],
   "name": "Aula5_Warmup_Solucoes.ipynb",
   "provenance": []
  },
  "kernelspec": {
   "display_name": "Python 3",
   "language": "python",
   "name": "python3"
  },
  "language_info": {
   "codemirror_mode": {
    "name": "ipython",
    "version": 3
   },
   "file_extension": ".py",
   "mimetype": "text/x-python",
   "name": "python",
   "nbconvert_exporter": "python",
   "pygments_lexer": "ipython3",
   "version": "3.8.3"
  },
  "varInspector": {
   "cols": {
    "lenName": 16,
    "lenType": 16,
    "lenVar": 40
   },
   "kernels_config": {
    "python": {
     "delete_cmd_postfix": "",
     "delete_cmd_prefix": "del ",
     "library": "var_list.py",
     "varRefreshCmd": "print(var_dic_list())"
    },
    "r": {
     "delete_cmd_postfix": ") ",
     "delete_cmd_prefix": "rm(",
     "library": "var_list.r",
     "varRefreshCmd": "cat(var_dic_list()) "
    }
   },
   "types_to_exclude": [
    "module",
    "function",
    "builtin_function_or_method",
    "instance",
    "_Feature"
   ],
   "window_display": false
  }
 },
 "nbformat": 4,
 "nbformat_minor": 1
}

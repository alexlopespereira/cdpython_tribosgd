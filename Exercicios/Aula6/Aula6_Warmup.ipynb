{
 "cells": [
  {
   "cell_type": "markdown",
   "metadata": {
    "id": "RuJqDl9vwkSo"
   },
   "source": [
    "## Aula 6 - Pandas Parte III (Merge e Join)"
   ]
  },
  {
   "cell_type": "markdown",
   "metadata": {
    "id": "QqRYijKSwkSw"
   },
   "source": [
    "### Treinando a função merge (fundir/juntar)"
   ]
  },
  {
   "cell_type": "code",
   "execution_count": null,
   "metadata": {
    "id": "Kd4hycu4wkSz"
   },
   "outputs": [],
   "source": [
    "import pandas as pd\n",
    "import numpy as np"
   ]
  },
  {
   "cell_type": "markdown",
   "metadata": {
    "id": "PQBYz0jFwkS2"
   },
   "source": [
    "#### W6.1 Faça o merge dos dois dataframes a seguir usando como chave de junção a coluna 'key'. Use o argumento how='left'"
   ]
  },
  {
   "cell_type": "code",
   "execution_count": null,
   "metadata": {
    "id": "FZLKdSr3wkS3"
   },
   "outputs": [],
   "source": [
    "# Considere os seguintes DataFrames\n",
    "df1 = pd.DataFrame({'key': ['b', 'b', 'a', 'c', 'a', 'a', 'b'], 'data1': range(7)})\n",
    "df2 = pd.DataFrame({'key': ['a', 'b', 'd'], 'data2': range(3)})"
   ]
  },
  {
   "cell_type": "code",
   "execution_count": null,
   "metadata": {
    "deletable": false,
    "id": "2rhqeLuGwkS4",
    "nbgrader": {
     "cell_type": "code",
     "checksum": "9fde2b9bbf5eafe2d145ad90717f2d7f",
     "grade": false,
     "grade_id": "cell-e8cf365ade0d2868",
     "locked": false,
     "schema_version": 3,
     "solution": true,
     "task": false
    }
   },
   "outputs": [],
   "source": [
    "# Faça aqui\n",
    "# YOUR CODE HERE\n",
    "raise NotImplementedError()\n"
   ]
  },
  {
   "cell_type": "markdown",
   "metadata": {
    "id": "5xtiMC10wkS5"
   },
   "source": [
    "#### W6.2 Repita o exercício 6.1, mas desta vez utilize o faça o merge de tal forma que apareça no resultado somente os registros cuja chave esteja presente nos dois dataframes."
   ]
  },
  {
   "cell_type": "code",
   "execution_count": null,
   "metadata": {
    "deletable": false,
    "id": "8h6b-eRswkS5",
    "nbgrader": {
     "cell_type": "code",
     "checksum": "0680a37bf63e9aabfc98077a1fe396a3",
     "grade": false,
     "grade_id": "cell-2fcec2aca770dd3e",
     "locked": false,
     "schema_version": 3,
     "solution": true,
     "task": false
    }
   },
   "outputs": [],
   "source": [
    "# Faça aqui\n",
    "# YOUR CODE HERE\n",
    "raise NotImplementedError()"
   ]
  },
  {
   "cell_type": "markdown",
   "metadata": {
    "id": "JXG7LcjuwkS7"
   },
   "source": [
    "### Treinando Reshaping / Pivoting (Pivotar)"
   ]
  },
  {
   "cell_type": "markdown",
   "metadata": {
    "id": "tpgiXYcawkS8"
   },
   "source": [
    "#### W6.3 Pivote o dataframe df_provas a seguir colocando a coluna Aluno como índice, os valores da coluna Disciplina como colunas, e os valores da coluna Objetiva como conteúdo do novo dataframe\n",
    "#### Sugestão: Faça sem consulta ao slide, no máximo consultando a documentação do Pandas."
   ]
  },
  {
   "cell_type": "code",
   "execution_count": null,
   "metadata": {
    "id": "Rrw2ZY_TwkS9"
   },
   "outputs": [],
   "source": [
    "# Considere o seguinte DataFrame\n",
    "table = {\n",
    "    'Aluno': ['AlunoA', 'AlunoA', 'AlunoA', 'AlunoA', 'AlunoB', 'AlunoB', 'AlunoB', 'AlunoB'],\n",
    "    'Disciplina': ['Portugues', 'Matematica', 'Geografia', 'História', 'Portugues', 'Matematica', 'Geografia', 'História'],\n",
    "    'Objetiva': [8.5, 7.5, 9, 10, 8.5, 7.5, 9, 10],\n",
    "    'Discursiva': [6, 6.5, 7.5, 7, 8.5, 7.5, 9, 10]}\n",
    "df_provas = pd.DataFrame(table)\n",
    "df_provas"
   ]
  },
  {
   "cell_type": "code",
   "execution_count": null,
   "metadata": {
    "deletable": false,
    "id": "d1DRaE1hwkS_",
    "nbgrader": {
     "cell_type": "code",
     "checksum": "a33de6d670d399e8a8bcf2b4072abcad",
     "grade": false,
     "grade_id": "cell-be24232fcf3ad4df",
     "locked": false,
     "schema_version": 3,
     "solution": true,
     "task": false
    }
   },
   "outputs": [],
   "source": [
    "# Faça aqui\n",
    "# YOUR CODE HERE\n",
    "raise NotImplementedError()"
   ]
  },
  {
   "cell_type": "markdown",
   "metadata": {
    "id": "GahBjrz6wkTA"
   },
   "source": [
    "#### W6.4 Usando o método stack, faça o despivoteamento do dataframe a seguir."
   ]
  },
  {
   "cell_type": "code",
   "execution_count": null,
   "metadata": {
    "id": "1jBllIcuwkTA"
   },
   "outputs": [],
   "source": [
    "# Considere o seguinte DataFrame\n",
    "df_simples = pd.DataFrame([[40, 61], [21, 33]],\n",
    "                                    index=['carro', 'moto'],\n",
    "                                    columns=['consumo', 'potencia'])\n",
    "df_simples"
   ]
  },
  {
   "cell_type": "code",
   "execution_count": null,
   "metadata": {
    "deletable": false,
    "id": "D90lyVzywkTB",
    "nbgrader": {
     "cell_type": "code",
     "checksum": "94701649a3f02523508f83a0f25ba183",
     "grade": false,
     "grade_id": "cell-33951d28850d94a3",
     "locked": false,
     "schema_version": 3,
     "solution": true,
     "task": false
    }
   },
   "outputs": [],
   "source": [
    "# Faça aqui\n",
    "# YOUR CODE HERE\n",
    "raise NotImplementedError()"
   ]
  },
  {
   "cell_type": "markdown",
   "metadata": {
    "id": "OugBQFp_wkTC"
   },
   "source": [
    "#### W6.5 Usando o método stack, faça o despivoteamento do dataframe a seguir."
   ]
  },
  {
   "cell_type": "code",
   "execution_count": null,
   "metadata": {
    "id": "K1rIT9PuwkTC"
   },
   "outputs": [],
   "source": [
    "multi = pd.MultiIndex.from_tuples([('peso', 'kg'),\n",
    "                                       ('peso', 'pounds')])\n",
    "df_multi = pd.DataFrame([[300, 661], [221, 487]],\n",
    "                                    index=['carro', 'moto'],\n",
    "                                    columns=multi)\n",
    "df_multi"
   ]
  },
  {
   "cell_type": "code",
   "execution_count": null,
   "metadata": {
    "deletable": false,
    "id": "kF9gFCNbwkTE",
    "nbgrader": {
     "cell_type": "code",
     "checksum": "e7ab31e271b682f3045399155dd30c0c",
     "grade": false,
     "grade_id": "cell-1420e4e85747bbf8",
     "locked": false,
     "schema_version": 3,
     "solution": true,
     "task": false
    }
   },
   "outputs": [],
   "source": [
    "# Faça aqui\n",
    "# YOUR CODE HERE\n",
    "raise NotImplementedError()"
   ]
  },
  {
   "cell_type": "markdown",
   "metadata": {
    "id": "bTo9-mFewkTF"
   },
   "source": [
    "#### W6.6 Usando o método unstack, faça o pivoteamento do dataframe no nível 1 (neste dataframe o nível 1 armazena as cores dos veículos)."
   ]
  },
  {
   "cell_type": "code",
   "execution_count": null,
   "metadata": {
    "id": "HdGne_qBwkTG"
   },
   "outputs": [],
   "source": [
    "index = pd.MultiIndex.from_tuples([('carro', 'Azul'), ('carro', 'Vermelho'),\n",
    "                                   ('moto', 'Azul'), ('moto', 'Vermelho')])\n",
    "s = pd.Series(np.arange(1.0, 5.0), index=index)\n",
    "s"
   ]
  },
  {
   "cell_type": "code",
   "execution_count": null,
   "metadata": {
    "deletable": false,
    "id": "kgAaxoKmwkTG",
    "nbgrader": {
     "cell_type": "code",
     "checksum": "6990cb198b5993afade0a7fe9f5f7472",
     "grade": false,
     "grade_id": "cell-848975a8e5d92c93",
     "locked": false,
     "schema_version": 3,
     "solution": true,
     "task": false
    }
   },
   "outputs": [],
   "source": [
    "# Faça aqui\n",
    "# YOUR CODE HERE\n",
    "raise NotImplementedError()"
   ]
  },
  {
   "cell_type": "markdown",
   "metadata": {
    "id": "vPVpzb2kwkTH"
   },
   "source": [
    "#### W6.7 Usando o método unstack, faça o pivoteamento do dataframe no nível 0 (neste dataframe o nível 0 armazena os tipos de veículos)."
   ]
  },
  {
   "cell_type": "code",
   "execution_count": null,
   "metadata": {
    "id": "1zvjexLfwkTH"
   },
   "outputs": [],
   "source": [
    "index = pd.MultiIndex.from_tuples([('carro', 'Azul'), ('carro', 'Vermelho'),\n",
    "                                   ('moto', 'Azul'), ('moto', 'Vermelho')])\n",
    "s = pd.Series(np.arange(1.0, 5.0), index=index)\n",
    "s"
   ]
  },
  {
   "cell_type": "code",
   "execution_count": null,
   "metadata": {
    "deletable": false,
    "id": "Rk56SU-PwkTI",
    "nbgrader": {
     "cell_type": "code",
     "checksum": "570c14897cb42f63da2f7ac9becf6514",
     "grade": false,
     "grade_id": "cell-a9a73bd28a920ce9",
     "locked": false,
     "schema_version": 3,
     "solution": true,
     "task": false
    }
   },
   "outputs": [],
   "source": [
    "# Faça aqui\n",
    "# YOUR CODE HERE\n",
    "raise NotImplementedError()"
   ]
  },
  {
   "cell_type": "code",
   "execution_count": null,
   "metadata": {
    "id": "W9UXIgWuwkTI"
   },
   "outputs": [],
   "source": [
    "import pandas as pd\n",
    "import numpy as np\n",
    "import re\n",
    "from datetime import datetime"
   ]
  },
  {
   "cell_type": "markdown",
   "metadata": {
    "id": "hWwfNRHYwkTI"
   },
   "source": [
    "### Treinando Datetime no python"
   ]
  },
  {
   "cell_type": "markdown",
   "metadata": {
    "id": "qtvJAkL4wkTJ"
   },
   "source": [
    "#### W6.8 Transforme as seguintes strings para um objeto do tipo datetime"
   ]
  },
  {
   "cell_type": "code",
   "execution_count": null,
   "metadata": {
    "deletable": false,
    "id": "wuzr_HABwkTJ",
    "nbgrader": {
     "cell_type": "code",
     "checksum": "f31c19bed7bebacbee380f4495526d37",
     "grade": false,
     "grade_id": "cell-d252f3b8c133c1fb",
     "locked": false,
     "schema_version": 3,
     "solution": true,
     "task": false
    }
   },
   "outputs": [],
   "source": [
    "str1 = \"2020/01/30\"\n",
    "# YOUR CODE HERE\n",
    "raise NotImplementedError()\n",
    "\n",
    "str2 = \"02-16-2010\"\n",
    "# YOUR CODE HERE\n",
    "raise NotImplementedError()\n",
    "\n",
    "str3 = \"02-Mar-2010\"\n",
    "# YOUR CODE HERE\n",
    "raise NotImplementedError()\n"
   ]
  },
  {
   "cell_type": "markdown",
   "metadata": {
    "id": "akBtQ3aPwkTK"
   },
   "source": [
    "#### W6.9 Transforme o objeto datetime abaixo numa string com o seguinte conteúdo: \"18-Jun-2019\""
   ]
  },
  {
   "cell_type": "code",
   "execution_count": null,
   "metadata": {
    "deletable": false,
    "id": "EbPnbpG4wkTK",
    "nbgrader": {
     "cell_type": "code",
     "checksum": "f370de7915b8a8111d4926e99cb9ff49",
     "grade": false,
     "grade_id": "cell-725f39592d263dc6",
     "locked": false,
     "schema_version": 3,
     "solution": true,
     "task": false
    }
   },
   "outputs": [],
   "source": [
    "d = datetime.strptime('18/06/19 01:55:19', '%d/%m/%y %H:%M:%S')\n",
    "\n",
    "# YOUR CODE HERE\n",
    "raise NotImplementedError()"
   ]
  },
  {
   "cell_type": "markdown",
   "metadata": {
    "id": "j9K0X8qIwkTL"
   },
   "source": [
    "#### W6.10 Crie um indice do tipo datetime (DatetimeIndex) com 4 amostras de datas em intervalos fixos de 2 semanas a partir do dia 09/05/2021."
   ]
  },
  {
   "cell_type": "code",
   "execution_count": null,
   "metadata": {
    "deletable": false,
    "id": "JxTud4AfwkTL",
    "nbgrader": {
     "cell_type": "code",
     "checksum": "718f561ab6e429295c06ab312f1d96cb",
     "grade": false,
     "grade_id": "cell-c5bcff86800434c2",
     "locked": false,
     "schema_version": 3,
     "solution": true,
     "task": false
    }
   },
   "outputs": [],
   "source": [
    "# YOUR CODE HERE\n",
    "raise NotImplementedError()"
   ]
  }
 ],
 "metadata": {
  "colab": {
   "name": "Aula6_Warmup.ipynb",
   "provenance": []
  },
  "kernelspec": {
   "display_name": "Python 3",
   "language": "python",
   "name": "python3"
  },
  "language_info": {
   "codemirror_mode": {
    "name": "ipython",
    "version": 3
   },
   "file_extension": ".py",
   "mimetype": "text/x-python",
   "name": "python",
   "nbconvert_exporter": "python",
   "pygments_lexer": "ipython3",
   "version": "3.8.3"
  },
  "varInspector": {
   "cols": {
    "lenName": 16,
    "lenType": 16,
    "lenVar": 40
   },
   "kernels_config": {
    "python": {
     "delete_cmd_postfix": "",
     "delete_cmd_prefix": "del ",
     "library": "var_list.py",
     "varRefreshCmd": "print(var_dic_list())"
    },
    "r": {
     "delete_cmd_postfix": ") ",
     "delete_cmd_prefix": "rm(",
     "library": "var_list.r",
     "varRefreshCmd": "cat(var_dic_list()) "
    }
   },
   "types_to_exclude": [
    "module",
    "function",
    "builtin_function_or_method",
    "instance",
    "_Feature"
   ],
   "window_display": false
  }
 },
 "nbformat": 4,
 "nbformat_minor": 0
}

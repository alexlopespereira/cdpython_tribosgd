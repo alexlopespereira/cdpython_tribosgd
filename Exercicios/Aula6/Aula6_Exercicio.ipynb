{
 "cells": [
  {
   "cell_type": "markdown",
   "metadata": {
    "id": "ZTiYF34HF8D0"
   },
   "source": [
    "# Aula 6 - Exercícios - Pandas Parte 3 (Merge e Join)"
   ]
  },
  {
   "cell_type": "code",
   "execution_count": null,
   "metadata": {
    "colab": {
     "base_uri": "https://localhost:8080/"
    },
    "executionInfo": {
     "elapsed": 1061280,
     "status": "ok",
     "timestamp": 1625793397141,
     "user": {
      "displayName": "Alex Lopes",
      "photoUrl": "https://lh3.googleusercontent.com/a-/AOh14GiIodCIc3QmEkRc07ZdX1uDEU_3XpwbFfljE8IyIg=s64",
      "userId": "01606300887134833077"
     },
     "user_tz": 180
    },
    "id": "-QTJ0ETjxhVY",
    "outputId": "e20112e2-e762-475a-8fc5-ecadc63c5898"
   },
   "outputs": [],
   "source": [
    "# #@title Init Cell - Execute-me!!!\n",
    "pkg = !pip list | grep 'ipynb-autograde'\n",
    "if not pkg or pkg[0].replace('  ','').split(' ')[1]!='0.0.35':\n",
    "  !pip install ipynb_autograde==0.0.35\n",
    "%env  COURSE python_tribosgd\n",
    "from ipynb_autograde.main import init_log, validate\n",
    "init_log()\n",
    "email_result=!gcloud config get-value account\n",
    "if not email_result or 'unset' in email_result[0]:\n",
    "  !gcloud auth login"
   ]
  },
  {
   "cell_type": "code",
   "execution_count": null,
   "metadata": {
    "executionInfo": {
     "elapsed": 387,
     "status": "ok",
     "timestamp": 1625793973673,
     "user": {
      "displayName": "Alex Lopes",
      "photoUrl": "https://lh3.googleusercontent.com/a-/AOh14GiIodCIc3QmEkRc07ZdX1uDEU_3XpwbFfljE8IyIg=s64",
      "userId": "01606300887134833077"
     },
     "user_tz": 180
    },
    "id": "Jfl_yj4fF8D6"
   },
   "outputs": [],
   "source": [
    "# Importe a biblioteca pandas \n",
    "import pandas as pd\n",
    "import numpy as np"
   ]
  },
  {
   "cell_type": "markdown",
   "metadata": {
    "id": "OewxYtWaF8D6"
   },
   "source": [
    "### 6.1 Escreva uma função para fazer o merge dos dataframes de população e de PIB de 2017. A função deve receber como parâmetro o caminho para cada um dos dataframes. Na operação de merge, o pandas renomeará as colunas municipio para municipio_x e municipio_y. Mantenha esses dois nomes de coluna, pois eles serão usados em exercícios posteriores.\n",
    "\n",
    "#### Dica 1: Você já resolveu uma parte deste problema nos exercícios 6.2 e 6.3. Reaproveite o código copiando e colando aqui, ou refaça-o.\n",
    "#### Dica 2: A coluna que contem o código IBGE do município deve ter o mesmo formato (string) e a mesma quantidade de caracteres nas duas tabelas.\n",
    "#### Dica 3: Converta o codigo do município para string ao carregar o dataframe de população utilizando o mapeamento de tipos dtype={'cod_munic': str, 'cod_uf': str}. Assim o codigo do municipio não perde os zeros a esquerda.\n",
    "#### Dica 4: Concatene o codigo da UF com o código do município usando o operador + e salve em outra coluna.\n",
    "#### Dica 5: Use o código apresentado na aula para carregar o dataframe do PIB de 2017, especifique o dtype da coluna que contém o codigo do municipio.\n",
    "#### Dica 6: Renomeie as colunas apropriadamente antes de fazer o merge. A coluna com o nome do municipio deve se chamar municipio (sem acento) e a coluna com o codigo ibge de 7 caracteres cod_ibge7. Veja o exemplo: {'Unnamed: 0': 'nivel', 'Unnamed: 1': 'cod_ibge7', 'Unnamed: 2': 'municipio'}. \n",
    "#### Dica 7: Depois que os dois dataframes tiverem o codigo ibge (com valores equivalentes  e mesmo tipo de dados) você pode fazer o merge.\n"
   ]
  },
  {
   "cell_type": "code",
   "execution_count": null,
   "metadata": {
    "id": "QI7rGoeMF8D8"
   },
   "outputs": [],
   "source": [
    "# Faca aqui seus testes do Exercício 6.1\n",
    "path_pib = 'https://github.com/alexlopespereira/enapespcd2021/raw/main/data/originais/pib/pib_municipios.xlsx'\n",
    "path_pop = 'https://github.com/alexlopespereira/enapespcd2021/raw/main/data/originais/populacao/estimativa_dou_2017.xlsx'\n"
   ]
  },
  {
   "cell_type": "code",
   "execution_count": null,
   "metadata": {
    "deletable": false,
    "executionInfo": {
     "elapsed": 427,
     "status": "ok",
     "timestamp": 1625793978277,
     "user": {
      "displayName": "Alex Lopes",
      "photoUrl": "https://lh3.googleusercontent.com/a-/AOh14GiIodCIc3QmEkRc07ZdX1uDEU_3XpwbFfljE8IyIg=s64",
      "userId": "01606300887134833077"
     },
     "user_tz": 180
    },
    "id": "661LI-sJF8D7",
    "nbgrader": {
     "cell_type": "code",
     "checksum": "7c9c2b11e3b08c8525e20696c9780cb9",
     "grade": false,
     "grade_id": "cell-d2e0568a09d9eb4a",
     "locked": false,
     "schema_version": 3,
     "solution": true,
     "task": false
    }
   },
   "outputs": [],
   "source": [
    "# Faca aqui sua função do Exercício 6.1\n",
    "def merge_pop_pib(path_pop, path_pib):\n",
    "    \"\"\"retorne um dataframe resultante do merge dos dados do pib e da população\n",
    "    \"\"\"\n",
    "    # YOUR CODE HERE\n",
    "    raise NotImplementedError()\n"
   ]
  },
  {
   "cell_type": "code",
   "execution_count": null,
   "metadata": {
    "colab": {
     "base_uri": "https://localhost:8080/"
    },
    "executionInfo": {
     "elapsed": 3981,
     "status": "ok",
     "timestamp": 1625793982246,
     "user": {
      "displayName": "Alex Lopes",
      "photoUrl": "https://lh3.googleusercontent.com/a-/AOh14GiIodCIc3QmEkRc07ZdX1uDEU_3XpwbFfljE8IyIg=s64",
      "userId": "01606300887134833077"
     },
     "user_tz": 180
    },
    "id": "ySCjc62MF8D8",
    "outputId": "246f0a84-87cd-444a-ad8a-c2c3fa4b5365"
   },
   "outputs": [],
   "source": [
    "# Faca aqui a validacao do Exercicio 6.1\n",
    "path_pib = 'https://github.com/alexlopespereira/enapespcd2021/raw/main/data/originais/pib/pib_municipios.xlsx'\n",
    "path_pop = 'https://github.com/alexlopespereira/enapespcd2021/raw/main/data/originais/populacao/estimativa_dou_2017.xlsx'\n",
    "\n",
    "entradas = [[path_pop, path_pib]]\n",
    "saidas = [{'pop2017': 25437, '2017': 498864}]\n",
    "validate(merge_pop_pib, entradas, lambda x: x.loc[0,['pop2017', '2017']].to_dict(), saidas, \"6.1\")"
   ]
  },
  {
   "cell_type": "markdown",
   "metadata": {
    "id": "_tIVqGrgF8D8"
   },
   "source": [
    "### 6.2 Escreva uma função para calcular o PIB percapita  de 2017 de cada município do Brasil, considerando o dataframe resultante do exercício anterior.\n",
    "#### Nomeie a coluna do PIB Percapita com 'pib_percapita' e arredonde o resultado para uma casa decimal usando a função ```round```.\n",
    "#### Dica: Use a função ```round``` dentro de uma função ```apply```."
   ]
  },
  {
   "cell_type": "code",
   "execution_count": null,
   "metadata": {
    "id": "l9zygGMhF8D9"
   },
   "outputs": [],
   "source": [
    "# Faca aqui seus testes do Exercício 6.2\n",
    "\n"
   ]
  },
  {
   "cell_type": "code",
   "execution_count": null,
   "metadata": {
    "deletable": false,
    "executionInfo": {
     "elapsed": 278,
     "status": "ok",
     "timestamp": 1625793986974,
     "user": {
      "displayName": "Alex Lopes",
      "photoUrl": "https://lh3.googleusercontent.com/a-/AOh14GiIodCIc3QmEkRc07ZdX1uDEU_3XpwbFfljE8IyIg=s64",
      "userId": "01606300887134833077"
     },
     "user_tz": 180
    },
    "id": "n-ROUHzLF8D8",
    "nbgrader": {
     "cell_type": "code",
     "checksum": "dc072f4e8df5226a4ac02a8edec6fc26",
     "grade": false,
     "grade_id": "cell-553qe5248eb14bc30",
     "locked": false,
     "schema_version": 3,
     "solution": true,
     "task": false
    }
   },
   "outputs": [],
   "source": [
    "# Faca aqui sua função do Exercício 6.2\n",
    "def pib_percapita(pib_pop):\n",
    "    \"\"\"retorne um dataframe contendo o PIB percapita dos municípios.\n",
    "    \"\"\"\n",
    "    # YOUR CODE HERE\n",
    "    raise NotImplementedError()\n"
   ]
  },
  {
   "cell_type": "code",
   "execution_count": null,
   "metadata": {
    "colab": {
     "base_uri": "https://localhost:8080/"
    },
    "executionInfo": {
     "elapsed": 2590,
     "status": "ok",
     "timestamp": 1625793989823,
     "user": {
      "displayName": "Alex Lopes",
      "photoUrl": "https://lh3.googleusercontent.com/a-/AOh14GiIodCIc3QmEkRc07ZdX1uDEU_3XpwbFfljE8IyIg=s64",
      "userId": "01606300887134833077"
     },
     "user_tz": 180
    },
    "id": "4BiHIcYUF8D9",
    "outputId": "c3363b8d-1bcf-4a7e-e384-a719021ce6bc"
   },
   "outputs": [],
   "source": [
    "# Faca aqui a validacao do Exercicio 6.2\n",
    "# Considerando a função merge_pop_pib do exercicio 6.1\n",
    "df_pib_pop = merge_pop_pib(path_pop, path_pib)\n",
    "\n",
    "entradas = [[df_pib_pop]]\n",
    "saidas = [19.6]\n",
    "validate(pib_percapita, entradas, lambda x: x.loc[0,'pib_percapita'], saidas, \"6.2\")"
   ]
  },
  {
   "cell_type": "markdown",
   "metadata": {
    "id": "35nGWFLKF8D9"
   },
   "source": [
    "### 6.3 Escreva uma função para retornar os registros dos 10 maiores PIBs percapita do brasil (de 2017) a partir do dataframe do exercício anterior. \n",
    "#### Escreva uma função genérica que receba como parâmetro um dataframe e o nome da coluna de ordenação.\n",
    "#### Dica 1: Use o método sort_values para ordenar o dataframe. Para uma ordenação descendente use ascending=False.\n",
    "#### Dica 2: Use o atributo iloc para retornar todas as colunas dos 10 primeiros registros."
   ]
  },
  {
   "cell_type": "code",
   "execution_count": null,
   "metadata": {
    "id": "cJwDk7hxF8D-"
   },
   "outputs": [],
   "source": [
    "# Faca aqui seus testes do Exercício 6.3\n",
    "df_pib_pop = merge_pop_pib(path_pop, path_pib)\n",
    "\n",
    "\n"
   ]
  },
  {
   "cell_type": "code",
   "execution_count": null,
   "metadata": {
    "deletable": false,
    "executionInfo": {
     "elapsed": 332,
     "status": "ok",
     "timestamp": 1625793993554,
     "user": {
      "displayName": "Alex Lopes",
      "photoUrl": "https://lh3.googleusercontent.com/a-/AOh14GiIodCIc3QmEkRc07ZdX1uDEU_3XpwbFfljE8IyIg=s64",
      "userId": "01606300887134833077"
     },
     "user_tz": 180
    },
    "id": "hMkE7gqWF8D9",
    "nbgrader": {
     "cell_type": "code",
     "checksum": "9cdbd136eb4e954f1af344202901b161",
     "grade": false,
     "grade_id": "cell-a60691c9ae84528b",
     "locked": false,
     "schema_version": 3,
     "solution": true,
     "task": false
    }
   },
   "outputs": [],
   "source": [
    "# Faca aqui sua função do Exercício 6.3\n",
    "def top10(df, col):\n",
    "    \"\"\"retorne os top 10 registros do dataframe df ordenados por col\n",
    "    \"\"\"\n",
    "    # YOUR CODE HERE\n",
    "    raise NotImplementedError()\n"
   ]
  },
  {
   "cell_type": "code",
   "execution_count": null,
   "metadata": {
    "colab": {
     "base_uri": "https://localhost:8080/"
    },
    "executionInfo": {
     "elapsed": 2725,
     "status": "ok",
     "timestamp": 1625793996530,
     "user": {
      "displayName": "Alex Lopes",
      "photoUrl": "https://lh3.googleusercontent.com/a-/AOh14GiIodCIc3QmEkRc07ZdX1uDEU_3XpwbFfljE8IyIg=s64",
      "userId": "01606300887134833077"
     },
     "user_tz": 180
    },
    "id": "mqh1tJJnF8D-",
    "outputId": "b3a548d7-d62a-4cc1-fac3-c2ebb7a0c675"
   },
   "outputs": [],
   "source": [
    "# Faca aqui a validacao do Exercicio 6.3\n",
    "df_pib_pop = merge_pop_pib(path_pop, path_pib)\n",
    "pib_percapita_2017 = pib_percapita(df_pib_pop)\n",
    "\n",
    "test_data = {'cod_ibge7': {3677: '3536505', 3547: '3524709'},\n",
    "             'municipio_x': {3677: 'Paulínia', 3547: 'Jaguariúna'},\n",
    "             'uf': {3677: 'SP', 3547: 'SP'},\n",
    "             'pib_percapita': {3677: 344.8, 3547: 209.3}}\n",
    "test_data_y = {'cod_ibge7': {3677: '3536505', 3547: '3524709'},\n",
    "             'municipio_y': {3677: 'Paulínia', 3547: 'Jaguariúna'},\n",
    "             'uf': {3677: 'SP', 3547: 'SP'},\n",
    "             'pib_percapita': {3677: 344.8, 3547: 209.3}}\n",
    "\n",
    "entradas = [[pib_percapita_2017, 'pib_percapita']]\n",
    "saidas = [test_data]\n",
    "val1 = validate(top10, entradas, lambda x: x[['cod_ibge7', 'municipio_x', 'uf', 'pib_percapita']].iloc[[0,9]].to_dict(), saidas, \"6.3\")\n",
    "if not val1:\n",
    "    saidas = [test_data_y]\n",
    "    val2 = validate(top10, entradas, lambda x: x[['cod_ibge7', 'municipio_y', 'uf', 'pib_percapita']].iloc[[0,9]].to_dict(), saidas, \"6.3\")\n",
    "    print(val2)\n",
    "else:\n",
    "    print(val1)"
   ]
  },
  {
   "cell_type": "markdown",
   "metadata": {
    "id": "E-z4DlYzF8D-"
   },
   "source": [
    "### 6.4 Escreva uma função para fazer o merge do dataset de morbidade consolidado com o dataset de população\n",
    "#### O dataset da população deve ficar a esquerda e o dataset da morbidade a direita no resultado.\n",
    "#### Dica 1: No dataset de morbidade existem valores NA representados por caracteres específicos em várias colunas do dataframe. Descubra quais são esses caracteres e especifiquei no argumento na_values. Passe nesse argumento uma lista como os caracteres que devem ser interpretados como NA.\n",
    "#### Dica 2: No dataset de morbidade, especifique o separador, o caracter de números decimais e o tipo do dado do cod_ibge6 como str. Ou seja, dtype={'cod_ibge6': str}.\n",
    "#### Dica 3: No dataset de população, converta o cod_munic e cod_uf para str no momento de carregar o dataset de população, usando novamente o argumento dtype. \n",
    "#### Dica 4: No dataset de população, construa o código ibge de 6 dígitos do município a partir das colunas ```cod_uf``` e ```cod_munic```.\n"
   ]
  },
  {
   "cell_type": "code",
   "execution_count": null,
   "metadata": {
    "id": "CrDBC6P8F8D_"
   },
   "outputs": [],
   "source": [
    "# Faca aqui seus testes do Exercício 6.4\n",
    "path_morbidade = 'https://github.com/alexlopespereira/enapespcd2021/raw/main/data/originais/morbidade/consolidado/morbidade.csv'\n",
    "path_pop = 'https://github.com/alexlopespereira/enapespcd2021/raw/main/data/originais/populacao/estimativa_dou_2017.xlsx'\n"
   ]
  },
  {
   "cell_type": "code",
   "execution_count": null,
   "metadata": {
    "deletable": false,
    "executionInfo": {
     "elapsed": 327,
     "status": "ok",
     "timestamp": 1625793999609,
     "user": {
      "displayName": "Alex Lopes",
      "photoUrl": "https://lh3.googleusercontent.com/a-/AOh14GiIodCIc3QmEkRc07ZdX1uDEU_3XpwbFfljE8IyIg=s64",
      "userId": "01606300887134833077"
     },
     "user_tz": 180
    },
    "id": "QEn6a8cSF8D-",
    "nbgrader": {
     "cell_type": "code",
     "checksum": "0f4116dded03970d0a7b28f62f745b7c",
     "grade": false,
     "grade_id": "cell-553em5248eb14bc30",
     "locked": false,
     "schema_version": 3,
     "solution": true,
     "task": false
    }
   },
   "outputs": [],
   "source": [
    "# Faca aqui sua função do Exercício 6.4\n",
    "def merge_morbidade_pop(path_pop, path_morbidade):\n",
    "    \"\"\"retorne o merge dos datasets de população e morbidade.\n",
    "    \"\"\"\n",
    "    # YOUR CODE HERE\n",
    "    raise NotImplementedError()\n"
   ]
  },
  {
   "cell_type": "code",
   "execution_count": null,
   "metadata": {
    "colab": {
     "base_uri": "https://localhost:8080/"
    },
    "executionInfo": {
     "elapsed": 3411,
     "status": "ok",
     "timestamp": 1625794018319,
     "user": {
      "displayName": "Alex Lopes",
      "photoUrl": "https://lh3.googleusercontent.com/a-/AOh14GiIodCIc3QmEkRc07ZdX1uDEU_3XpwbFfljE8IyIg=s64",
      "userId": "01606300887134833077"
     },
     "user_tz": 180
    },
    "id": "7RhNUSyhF8D_",
    "outputId": "e389ba32-e3d5-4979-f86b-91205a5cbc36"
   },
   "outputs": [],
   "source": [
    "# Faca aqui a validacao do Exercicio 6.4\n",
    "path_morbidade = 'https://github.com/alexlopespereira/enapespcd2021/raw/main/data/originais/morbidade/consolidado/morbidade.csv'\n",
    "path_pop = 'https://github.com/alexlopespereira/enapespcd2021/raw/main/data/originais/populacao/estimativa_dou_2017.xlsx'\n",
    "test_data = {'Internações': 149, 'AIH_aprovadas': 149, 'Valor_total': 101282.26}\n",
    "\n",
    "entradas = [[path_pop, path_morbidade]]\n",
    "saidas = [{'Internações': 149, 'AIH_aprovadas': 149, 'Valor_total': 101282.26}]\n",
    "val1 = validate(merge_morbidade_pop, entradas, \n",
    "                lambda x: x[(x['mes']=='Abr') & (x['cod_munic']=='00015')].loc[:,['Internações', 'AIH_aprovadas', 'Valor_total']].to_dict(orient='records')[0], saidas, \"6.4\")\n",
    "if not val1:\n",
    "    val2 = validate(top10, entradas, lambda x: x.iloc[0, 8:11].to_dict(), saidas, \"6.4\")\n",
    "    print(val2)\n",
    "else:\n",
    "    print(val1)"
   ]
  },
  {
   "cell_type": "markdown",
   "metadata": {
    "id": "47BU0-5wxfwt"
   },
   "source": [
    "### 6.5 Faça o merge do dataset de contendo o pib percapita com o dataset do índice de gini. \n",
    "#### Dica: Use como identificador dos registros o código do IBGE. Preste atenção na quantidade de caractéres do código de cada dataset e no seu format (texto ou número). Faça sempre merge com chaves compatíveis (mesmo tipo).\n",
    "#### Curiosidade: Os municípios com maior pib percapita são aqueles com melhor índice de gini? Comente com o professor e colegas os resultados à luz de exemplos concretos do seu resultado deste exercício.\n"
   ]
  },
  {
   "cell_type": "code",
   "execution_count": null,
   "metadata": {
    "id": "ZFIEI0DZxfwu"
   },
   "outputs": [],
   "source": [
    "# Faca aqui seus testes do Exercício 6.5\n",
    "path_pib = 'https://github.com/alexlopespereira/enapespcd2021/raw/main/data/originais/pib/pib_municipios.xlsx'\n",
    "path_pop = 'https://github.com/alexlopespereira/enapespcd2021/raw/main/data/originais/populacao/estimativa_dou_2017.xlsx'\n",
    "path_gini = 'https://github.com/alexlopespereira/enapespcd2021/raw/main/data/originais/gini/ginibr.csv'\n",
    "\n"
   ]
  },
  {
   "cell_type": "code",
   "execution_count": null,
   "metadata": {
    "deletable": false,
    "executionInfo": {
     "elapsed": 268,
     "status": "ok",
     "timestamp": 1625794034950,
     "user": {
      "displayName": "Alex Lopes",
      "photoUrl": "https://lh3.googleusercontent.com/a-/AOh14GiIodCIc3QmEkRc07ZdX1uDEU_3XpwbFfljE8IyIg=s64",
      "userId": "01606300887134833077"
     },
     "user_tz": 180
    },
    "id": "fFbAMqLtxfwt",
    "nbgrader": {
     "cell_type": "code",
     "checksum": "7de0b62d295599450739209c51dbf542",
     "grade": false,
     "grade_id": "cell-18033649e1abfa0b",
     "locked": false,
     "schema_version": 3,
     "solution": true,
     "task": false
    }
   },
   "outputs": [],
   "source": [
    "# Faca aqui sua função do Exercício 6.5\n",
    "def merge_pib_percapita_gini(path_pop, path_pib, path_gini):\n",
    "    \"\"\"retorne o merge dos datasets de gini e morbidade.\n",
    "    \"\"\"\n",
    "    # YOUR CODE HERE\n",
    "    raise NotImplementedError()\n",
    "\n"
   ]
  },
  {
   "cell_type": "code",
   "execution_count": null,
   "metadata": {
    "colab": {
     "base_uri": "https://localhost:8080/"
    },
    "executionInfo": {
     "elapsed": 3076,
     "status": "ok",
     "timestamp": 1625794038297,
     "user": {
      "displayName": "Alex Lopes",
      "photoUrl": "https://lh3.googleusercontent.com/a-/AOh14GiIodCIc3QmEkRc07ZdX1uDEU_3XpwbFfljE8IyIg=s64",
      "userId": "01606300887134833077"
     },
     "user_tz": 180
    },
    "id": "bsizE3gkxfwv",
    "outputId": "2830731e-c77b-4a8b-bf37-d70f251eec3a"
   },
   "outputs": [],
   "source": [
    "# Faca aqui a validacao do Exercicio 6.5\n",
    "path_pib = 'https://github.com/alexlopespereira/enapespcd2021/raw/main/data/originais/pib/pib_municipios.xlsx'\n",
    "path_pop = 'https://github.com/alexlopespereira/enapespcd2021/raw/main/data/originais/populacao/estimativa_dou_2017.xlsx'\n",
    "path_gini = 'https://github.com/alexlopespereira/enapespcd2021/raw/main/data/originais/gini/ginibr.csv'\n",
    "\n",
    "entradas = [[path_pop, path_pib, path_gini]]\n",
    "saidas = [{'uf': 'RO', 'cod_uf': '11', 'cod_munic': '00015', 'municipio_x': \"Alta Floresta D'Oeste\",\n",
    " 'pop2017': 25437, 'cod_ibge7': '1100015', 'nivel': 'MU', 'municipio_y': \"Alta Floresta D'Oeste (RO)\",\n",
    " '2007': 191364, '2009': 256986, '2011': 280510, '2013': 341325, '2015': 421300,\n",
    " '2017': 498864, 'cod_ibge6': '110001', 'pib_percapita': 19.6, 'Município': \"Alta Floresta D'Oeste\",\n",
    " '1991': 0.5983, '2000': 0.5868, '2010': 0.5893}]\n",
    "validate(merge_pib_percapita_gini, entradas, lambda x: x.iloc[0].to_dict(), saidas, \"6.5\")"
   ]
  },
  {
   "cell_type": "markdown",
   "metadata": {
    "id": "hggDkulZxfwy"
   },
   "source": [
    "### 6.6 Escreva uma função para contar quantos nomes dos mesmos municípios são diferentes nas bases de dados do PIB e da população. \n",
    "#### A coluna do nome dos municípios no dataset de PIB contém também o nome da UF. Remova o nome da UF, por exemplo, removendo os 5 últimos caracteres da string do nome do município, antes de efetuar a comparação.\n",
    "#### Dica 1: use a função map (element-wise) do objeto series, ou seja, sobre a coluna col2 do dataframe df.\n",
    "#### Dica 2: passe uma função lambda para o metodo map que executa as instruções do enunciado.\n",
    "#### Dica 3: compare o resultado da execução da funcao map com a coluna col1\n",
    "#### Dica 4: retorne a quantidade de diferenças resultantes da comparação\n",
    "#### Interprete este resultado. O que você pode extrair de aprendizado deste resultado? "
   ]
  },
  {
   "cell_type": "code",
   "execution_count": null,
   "metadata": {
    "id": "gPTtIOZwxfw1"
   },
   "outputs": [],
   "source": [
    "# Faca aqui seus testes do Exercício 6.6\n",
    "\n"
   ]
  },
  {
   "cell_type": "code",
   "execution_count": null,
   "metadata": {
    "deletable": false,
    "executionInfo": {
     "elapsed": 321,
     "status": "ok",
     "timestamp": 1625794044081,
     "user": {
      "displayName": "Alex Lopes",
      "photoUrl": "https://lh3.googleusercontent.com/a-/AOh14GiIodCIc3QmEkRc07ZdX1uDEU_3XpwbFfljE8IyIg=s64",
      "userId": "01606300887134833077"
     },
     "user_tz": 180
    },
    "id": "qiFx2XIMxfwy",
    "nbgrader": {
     "cell_type": "code",
     "checksum": "dcdaa7ba8d80f20343a19b94c9bf7684",
     "grade": false,
     "grade_id": "cell-72cec7068b514aab",
     "locked": false,
     "schema_version": 3,
     "solution": true,
     "task": false
    }
   },
   "outputs": [],
   "source": [
    "# Faca aqui sua função do Exercício 6.6\n",
    "def compare_df_cols(df, col1, col2):\n",
    "    \"\"\"retorne a quantidade de registros em que o valor do registro na coluna col1 difere do valor em col2\n",
    "    \"\"\"\n",
    "    # YOUR CODE HERE\n",
    "    raise NotImplementedError()\n"
   ]
  },
  {
   "cell_type": "code",
   "execution_count": null,
   "metadata": {
    "colab": {
     "base_uri": "https://localhost:8080/"
    },
    "executionInfo": {
     "elapsed": 2615,
     "status": "ok",
     "timestamp": 1625794046942,
     "user": {
      "displayName": "Alex Lopes",
      "photoUrl": "https://lh3.googleusercontent.com/a-/AOh14GiIodCIc3QmEkRc07ZdX1uDEU_3XpwbFfljE8IyIg=s64",
      "userId": "01606300887134833077"
     },
     "user_tz": 180
    },
    "id": "76dZ3Myuxfw2",
    "outputId": "177bbd26-ddec-4b66-8034-6d8edde53b7f"
   },
   "outputs": [],
   "source": [
    "# Faca aqui a validacao do Exercicio 6.6\n",
    "path_pib = 'https://github.com/alexlopespereira/enapespcd2021/raw/main/data/originais/pib/pib_municipios.xlsx'\n",
    "path_pop = 'https://github.com/alexlopespereira/enapespcd2021/raw/main/data/originais/populacao/estimativa_dou_2017.xlsx'\n",
    "\n",
    "df_pib_pop = merge_pop_pib(path_pop, path_pib)\n",
    "entradas = [[df_pib_pop, 'municipio_x', 'municipio_y']]\n",
    "saidas = [16]\n",
    "validate(compare_df_cols, entradas, lambda x: x, saidas, \"6.6\")"
   ]
  },
  {
   "cell_type": "markdown",
   "metadata": {
    "id": "Mq3BZn3GsSde"
   },
   "source": [
    "### 6.7 Escreva uma função para colocar num mesmo dataframe os dados de PIB percapita e índice de gini dos municípios brasieiros. \n",
    "#### Retorne os registros completos pelo menos os atributos 'pib_percapita', 'cod_ibge6', '1991', '2000' e '2010' dos top 10 registros com maiores PIB percapita.\n",
    "\n",
    "#### Dica 1: Use as funções criadas nos exercícios 4, 5 e 6 desta aula.\n",
    "#### Dica 2: Ao ler o arquivo CSV do índice de gini, se preciso, use encoding='utf8' como parâmetro do método read_csv\n",
    "\n",
    "#### Sugestão: Analise a diferença entre os quartis (do PIB percapita e do índice de gini) dos top 10 municípios, em termos de PIB percapita,  e os quartis de todo o brasil para estas mesmas duas variáveis. Responda: um PIB percapita significativamente maior, tem ajudado a melhorar o índice de Gini nesses municípios ? Dica: use o método describe(). \n",
    "\n"
   ]
  },
  {
   "cell_type": "code",
   "execution_count": null,
   "metadata": {
    "executionInfo": {
     "elapsed": 304,
     "status": "ok",
     "timestamp": 1625794052849,
     "user": {
      "displayName": "Alex Lopes",
      "photoUrl": "https://lh3.googleusercontent.com/a-/AOh14GiIodCIc3QmEkRc07ZdX1uDEU_3XpwbFfljE8IyIg=s64",
      "userId": "01606300887134833077"
     },
     "user_tz": 180
    },
    "id": "end5nGU7sSdh"
   },
   "outputs": [],
   "source": [
    "# Faca aqui seus testes do Exercício 6.7\n",
    "path_pib = 'https://github.com/alexlopespereira/enapespcd2021/raw/main/data/originais/pib/pib_municipios.xlsx'\n",
    "path_gini = 'https://github.com/alexlopespereira/enapespcd2021/raw/main/data/originais/gini/ginibr.csv'\n",
    "path_pop= 'https://github.com/alexlopespereira/enapespcd2021/raw/main/data/originais/populacao/estimativa_dou_2017.xlsx'\n"
   ]
  },
  {
   "cell_type": "code",
   "execution_count": null,
   "metadata": {
    "deletable": false,
    "executionInfo": {
     "elapsed": 6,
     "status": "ok",
     "timestamp": 1625794053650,
     "user": {
      "displayName": "Alex Lopes",
      "photoUrl": "https://lh3.googleusercontent.com/a-/AOh14GiIodCIc3QmEkRc07ZdX1uDEU_3XpwbFfljE8IyIg=s64",
      "userId": "01606300887134833077"
     },
     "user_tz": 180
    },
    "id": "LglG2yhcsSdf",
    "nbgrader": {
     "cell_type": "code",
     "checksum": "2c1308d8e257842136cde3fd65a9946d",
     "grade": false,
     "grade_id": "cell-553e5248ebs14bc30",
     "locked": false,
     "schema_version": 3,
     "solution": true,
     "task": false
    }
   },
   "outputs": [],
   "source": [
    "# Faca aqui sua função do Exercício 6.7\n",
    "def top10_municipios(path_pib, path_gini, path_pop):\n",
    "    \"\"\"retorne um dataframe contendo os 10 municipios com maiores PIB percapita. O dataframe deve conter também \n",
    "    o valor do índice de gini e nome, UF e código ibge do respectivo município.\n",
    "    \"\"\"\n",
    "    # YOUR CODE HERE\n",
    "    raise NotImplementedError()\n"
   ]
  },
  {
   "cell_type": "code",
   "execution_count": null,
   "metadata": {
    "colab": {
     "base_uri": "https://localhost:8080/"
    },
    "deletable": false,
    "editable": false,
    "executionInfo": {
     "elapsed": 2737,
     "status": "ok",
     "timestamp": 1625794059364,
     "user": {
      "displayName": "Alex Lopes",
      "photoUrl": "https://lh3.googleusercontent.com/a-/AOh14GiIodCIc3QmEkRc07ZdX1uDEU_3XpwbFfljE8IyIg=s64",
      "userId": "01606300887134833077"
     },
     "user_tz": 180
    },
    "id": "CWR6HkNlsSdi",
    "nbgrader": {
     "cell_type": "code",
     "checksum": "661d83be273d1838e14794b61a2ba66d",
     "grade": true,
     "grade_id": "cell-0e2bt6cefe06bdc60",
     "locked": true,
     "points": 1,
     "schema_version": 3,
     "solution": false,
     "task": false
    },
    "outputId": "fcbb42f6-12c1-4c79-cac1-7057c847c12f"
   },
   "outputs": [],
   "source": [
    "# Faca aqui a validacao do Exercicio 6.7\n",
    "path_pib  = 'https://github.com/alexlopespereira/enapespcd2021/raw/main/data/originais/pib/pib_municipios.xlsx'\n",
    "path_gini = 'https://github.com/alexlopespereira/enapespcd2021/raw/main/data/originais/gini/ginibr.csv'\n",
    "path_pop  = 'https://github.com/alexlopespereira/enapespcd2021/raw/main/data/originais/populacao/estimativa_dou_2017.xlsx'\n",
    "\n",
    "test_data = {'pib_percapita': 344.8, 'cod_ibge6': '353650', '1991': 0.49, '2000': 0.5734, '2010': 0.488}\n",
    "entradas = [[path_pib, path_gini, path_pop]]\n",
    "saidas = [test_data]\n",
    "validate(top10_municipios, entradas, lambda x: x[['pib_percapita', 'cod_ibge6', '1991', '2000', '2010']].iloc[0].to_dict(), saidas, \"6.7\")"
   ]
  },
  {
   "cell_type": "markdown",
   "metadata": {
    "id": "be_gFkZqxfw5"
   },
   "source": [
    "### 6.8 Usando funções numpy, crie um array correspondente a imagem a seguir. Sua função deve receber dois argumentos, o tamanho dos tiles (azulejos) e a quantidade de vezes que esses tiles serão repetidos (justapostos lado a lado) em cada uma das dimensões. Retorne um array numpy de duas dimensões.\n",
    "#### Exemplo: para esses valores ```tile_size=9``` e ```rep=3```, o resultado esperado é o da imagem a seguir.\n",
    "\n",
    "#### Dica: Confira se está fazendo corretamente cada baby step. Pra isso, use o método imshow da biblioteca matplotlib.pyplot para mostrar um array na forma de imagem. Exemplo:\n",
    "```\n",
    "imshow(array, cmap='gray', vmin=0, vmax=255)\n",
    "```"
   ]
  },
  {
   "cell_type": "markdown",
   "metadata": {
    "id": "0hsa9KPtxfw5"
   },
   "source": [
    "![Link para a Imagem do Exercício](attachment:pattern.png)\n",
    "### https://drive.google.com/file/d/1QpZmAe8gcaUdB-Mr0h5Mm17ljg9hxLYV/view?usp=sharing"
   ]
  },
  {
   "cell_type": "code",
   "execution_count": null,
   "metadata": {
    "colab": {
     "base_uri": "https://localhost:8080/",
     "height": 285
    },
    "executionInfo": {
     "elapsed": 557,
     "status": "ok",
     "timestamp": 1625794062545,
     "user": {
      "displayName": "Alex Lopes",
      "photoUrl": "https://lh3.googleusercontent.com/a-/AOh14GiIodCIc3QmEkRc07ZdX1uDEU_3XpwbFfljE8IyIg=s64",
      "userId": "01606300887134833077"
     },
     "user_tz": 180
    },
    "id": "WwrbvTUyxfw8",
    "outputId": "c46c8495-b97d-46a8-f363-49c40c9d26c5"
   },
   "outputs": [],
   "source": [
    "# Faca aqui seus testes do Exercício 6.8\n",
    "from matplotlib.pyplot import imshow\n",
    "import numpy as np\n",
    "%matplotlib inline\n",
    "\n",
    "# Veja no exemplo abaixo como mostrar um array em forma de image para você ter o feedback se está indo no caminho certo\n",
    "b = 255 \n",
    "p = 0 \n",
    "tile = np.array([[p,p,p,b,b,b],\n",
    "                 [p,p,p,b,b,b],\n",
    "                 [p,p,p,b,b,b],\n",
    "                 [b,b,b,p,p,p], \n",
    "                 [b,b,b,p,p,p],\n",
    "                 [b,b,b,p,p,p]\n",
    "                 ], dtype=np.uint8)\n",
    "\n",
    "imshow(tile, cmap='gray', vmin=0, vmax=255)\n",
    "\n"
   ]
  },
  {
   "cell_type": "code",
   "execution_count": null,
   "metadata": {
    "deletable": false,
    "executionInfo": {
     "elapsed": 17,
     "status": "ok",
     "timestamp": 1625794062549,
     "user": {
      "displayName": "Alex Lopes",
      "photoUrl": "https://lh3.googleusercontent.com/a-/AOh14GiIodCIc3QmEkRc07ZdX1uDEU_3XpwbFfljE8IyIg=s64",
      "userId": "01606300887134833077"
     },
     "user_tz": 180
    },
    "id": "wiXMpLeMxfw7",
    "nbgrader": {
     "cell_type": "code",
     "checksum": "5a27bf13ece3e24fd491ed3461188098",
     "grade": false,
     "grade_id": "cell-a2279758969d8e97",
     "locked": false,
     "schema_version": 3,
     "solution": true,
     "task": false
    }
   },
   "outputs": [],
   "source": [
    "# Faca aqui sua função do Exercício 6.8\n",
    "from matplotlib.pyplot import imshow\n",
    "import numpy as np\n",
    "%matplotlib inline\n",
    "\n",
    "def pattern_image(tile_size, rep):\n",
    "    # YOUR CODE HERE\n",
    "    raise NotImplementedError()\n"
   ]
  },
  {
   "cell_type": "code",
   "execution_count": null,
   "metadata": {
    "colab": {
     "base_uri": "https://localhost:8080/"
    },
    "executionInfo": {
     "elapsed": 1458,
     "status": "ok",
     "timestamp": 1625794064808,
     "user": {
      "displayName": "Alex Lopes",
      "photoUrl": "https://lh3.googleusercontent.com/a-/AOh14GiIodCIc3QmEkRc07ZdX1uDEU_3XpwbFfljE8IyIg=s64",
      "userId": "01606300887134833077"
     },
     "user_tz": 180
    },
    "id": "mA5oWoxqxfw-",
    "outputId": "aea7073c-2885-41eb-be06-1543e10e96d0"
   },
   "outputs": [],
   "source": [
    "# Faca aqui a validacao do Exercicio 6.8\n",
    "entradas = [[9, 3]]\n",
    "result = np.array([[255,0,0,0,0,0,0,0,255,255,0,0,0,0,0,0,0,255,255,0,0,0,0,0,0,0,255],\n",
    "[0,255,0,0,0,0,0,255,0,0,255,0,0,0,0,0,255,0,0,255,0,0,0,0,0,255,0],\n",
    "[0,0,255,0,0,0,255,0,0,0,0,255,0,0,0,255,0,0,0,0,255,0,0,0,255,0,0],\n",
    "[0,0,0,255,0,255,0,0,0,0,0,0,255,0,255,0,0,0,0,0,0,255,0,255,0,0,0],\n",
    "[0,0,0,0,255,0,0,0,0,0,0,0,0,255,0,0,0,0,0,0,0,0,255,0,0,0,0],\n",
    "[0,0,0,255,0,255,0,0,0,0,0,0,255,0,255,0,0,0,0,0,0,255,0,255,0,0,0],\n",
    "[0,0,255,0,0,0,255,0,0,0,0,255,0,0,0,255,0,0,0,0,255,0,0,0,255,0,0],\n",
    "[0,255,0,0,0,0,0,255,0,0,255,0,0,0,0,0,255,0,0,255,0,0,0,0,0,255,0],\n",
    "[255,0,0,0,0,0,0,0,255,255,0,0,0,0,0,0,0,255,255,0,0,0,0,0,0,0,255],\n",
    "[255,0,0,0,0,0,0,0,255,255,0,0,0,0,0,0,0,255,255,0,0,0,0,0,0,0,255],\n",
    "[0,255,0,0,0,0,0,255,0,0,255,0,0,0,0,0,255,0,0,255,0,0,0,0,0,255,0],\n",
    "[0,0,255,0,0,0,255,0,0,0,0,255,0,0,0,255,0,0,0,0,255,0,0,0,255,0,0],\n",
    "[0,0,0,255,0,255,0,0,0,0,0,0,255,0,255,0,0,0,0,0,0,255,0,255,0,0,0],\n",
    "[0,0,0,0,255,0,0,0,0,0,0,0,0,255,0,0,0,0,0,0,0,0,255,0,0,0,0],\n",
    "[0,0,0,255,0,255,0,0,0,0,0,0,255,0,255,0,0,0,0,0,0,255,0,255,0,0,0],\n",
    "[0,0,255,0,0,0,255,0,0,0,0,255,0,0,0,255,0,0,0,0,255,0,0,0,255,0,0],\n",
    "[0,255,0,0,0,0,0,255,0,0,255,0,0,0,0,0,255,0,0,255,0,0,0,0,0,255,0],\n",
    "[255,0,0,0,0,0,0,0,255,255,0,0,0,0,0,0,0,255,255,0,0,0,0,0,0,0,255],\n",
    "[255,0,0,0,0,0,0,0,255,255,0,0,0,0,0,0,0,255,255,0,0,0,0,0,0,0,255],\n",
    "[0,255,0,0,0,0,0,255,0,0,255,0,0,0,0,0,255,0,0,255,0,0,0,0,0,255,0],\n",
    "[0,0,255,0,0,0,255,0,0,0,0,255,0,0,0,255,0,0,0,0,255,0,0,0,255,0,0],\n",
    "[0,0,0,255,0,255,0,0,0,0,0,0,255,0,255,0,0,0,0,0,0,255,0,255,0,0,0],\n",
    "[0,0,0,0,255,0,0,0,0,0,0,0,0,255,0,0,0,0,0,0,0,0,255,0,0,0,0],\n",
    "[0,0,0,255,0,255,0,0,0,0,0,0,255,0,255,0,0,0,0,0,0,255,0,255,0,0,0],\n",
    "[0,0,255,0,0,0,255,0,0,0,0,255,0,0,0,255,0,0,0,0,255,0,0,0,255,0,0],\n",
    "[0,255,0,0,0,0,0,255,0,0,255,0,0,0,0,0,255,0,0,255,0,0,0,0,0,255,0],\n",
    "[255,0,0,0,0,0,0,0,255,255,0,0,0,0,0,0,0,255,255,0,0,0,0,0,0,0,255]],dtype=np.uint8)\n",
    "saidas = [result]\n",
    "validate(pattern_image, entradas, lambda x: x, saidas, \"6.8\")"
   ]
  },
  {
   "cell_type": "code",
   "execution_count": null,
   "metadata": {
    "id": "QHXxGyMA2j1f"
   },
   "outputs": [],
   "source": []
  }
 ],
 "metadata": {
  "colab": {
   "collapsed_sections": [],
   "name": "Aula6_Exercicio.ipynb",
   "provenance": []
  },
  "kernelspec": {
   "display_name": "Python 3",
   "language": "python",
   "name": "python3"
  },
  "language_info": {
   "codemirror_mode": {
    "name": "ipython",
    "version": 3
   },
   "file_extension": ".py",
   "mimetype": "text/x-python",
   "name": "python",
   "nbconvert_exporter": "python",
   "pygments_lexer": "ipython3",
   "version": "3.8.10"
  },
  "name": "_merged",
  "varInspector": {
   "cols": {
    "lenName": 16,
    "lenType": 16,
    "lenVar": 40
   },
   "kernels_config": {
    "python": {
     "delete_cmd_postfix": "",
     "delete_cmd_prefix": "del ",
     "library": "var_list.py",
     "varRefreshCmd": "print(var_dic_list())"
    },
    "r": {
     "delete_cmd_postfix": ") ",
     "delete_cmd_prefix": "rm(",
     "library": "var_list.r",
     "varRefreshCmd": "cat(var_dic_list()) "
    }
   },
   "types_to_exclude": [
    "module",
    "function",
    "builtin_function_or_method",
    "instance",
    "_Feature"
   ],
   "window_display": false
  }
 },
 "nbformat": 4,
 "nbformat_minor": 0
}

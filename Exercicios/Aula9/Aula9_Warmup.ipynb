{
 "cells": [
  {
   "cell_type": "markdown",
   "metadata": {
    "id": "JLozQmUGnZP7"
   },
   "source": [
    "## Aula 9 - Warmup de Gráficos e Regex"
   ]
  },
  {
   "cell_type": "markdown",
   "metadata": {
    "id": "X8pC9HdlnZQB"
   },
   "source": [
    "### Treinando Regex"
   ]
  },
  {
   "cell_type": "code",
   "execution_count": null,
   "metadata": {
    "id": "NGnViPBcnZQC"
   },
   "outputs": [],
   "source": [
    "import re"
   ]
  },
  {
   "cell_type": "markdown",
   "metadata": {
    "id": "9bll69rXnZQE"
   },
   "source": [
    "#### W9.1 Usando a função re.findall e a função len, encontre quantas vezes a palavra love aparece no texto a seguir."
   ]
  },
  {
   "cell_type": "code",
   "execution_count": null,
   "metadata": {
    "id": "kHupXPVonZQF"
   },
   "outputs": [],
   "source": [
    "texto = \"\"\"Love is a fire that burns without being seen;\n",
    "It is a wound that hurts and does not feel;\n",
    "It is discontented contentment;\n",
    "It is pain that unravels without hurting.\n",
    "It is not wanting more than wanting well;\n",
    "It is a lonely walk among people;\n",
    "It is never content to be content;\n",
    "It is a care that you gain in losing yourself.\n",
    "\n",
    "It is wanting to be bound by will;\n",
    "It is to serve who wins the winner;\n",
    "Have someone kill us, loyalty.\n",
    "\n",
    "But how can cause your favor\n",
    "In human hearts friendship,\n",
    "If so contrary to itself is the same love?\"\"\""
   ]
  },
  {
   "cell_type": "code",
   "execution_count": null,
   "metadata": {
    "deletable": false,
    "id": "vPCfUqnWnZQH",
    "nbgrader": {
     "cell_type": "code",
     "checksum": "56190bc0decd1339c1d8f4640a6022d7",
     "grade": false,
     "grade_id": "cell-58a7e86543bce2cc",
     "locked": false,
     "schema_version": 3,
     "solution": true,
     "task": false
    }
   },
   "outputs": [],
   "source": [
    "# Faça aqui\n",
    "# YOUR CODE HERE\n",
    "raise NotImplementedError()"
   ]
  },
  {
   "cell_type": "markdown",
   "metadata": {
    "id": "cT4tKuzenZQI"
   },
   "source": [
    "#### W9.2 Usando a função apply e a função lambda definida abaixo, encontre o caracter que representa os valores NA na coluna IDEB12_17 no dataset do IDEB disponibilizado neste curso."
   ]
  },
  {
   "cell_type": "code",
   "execution_count": null,
   "metadata": {
    "deletable": false,
    "id": "IylpXbeLnZQI",
    "nbgrader": {
     "cell_type": "code",
     "checksum": "aedd8e35af29c611e99a74dcfb372a0e",
     "grade": false,
     "grade_id": "cell-5fe4e44037f9a1d2",
     "locked": false,
     "schema_version": 3,
     "solution": true,
     "task": false
    }
   },
   "outputs": [],
   "source": [
    "#Implemente a função lambda aqui\n",
    "# defina uma variavel find_na e guarde a função lambda nela\n",
    "# YOUR CODE HERE\n",
    "raise NotImplementedError()\n"
   ]
  },
  {
   "cell_type": "code",
   "execution_count": null,
   "metadata": {
    "id": "vOCG3t48nZQJ"
   },
   "outputs": [],
   "source": [
    "path_ideb = 'https://github.com/alexlopespereira/curso_ciencia_dados2020/raw/master/data/originais/ideb/ideb_municipios2017.xlsx'\n",
    "df_ideb = pd.read_excel(path_ideb, skiprows=9, skipfooter=3, dtype={\"IDEB12_17\": \"str\"})"
   ]
  },
  {
   "cell_type": "code",
   "execution_count": null,
   "metadata": {
    "id": "KfqPftHInZQK"
   },
   "outputs": [],
   "source": [
    "df_ideb.info()"
   ]
  },
  {
   "cell_type": "code",
   "execution_count": null,
   "metadata": {
    "id": "XRAPrgATnZQL"
   },
   "outputs": [],
   "source": [
    "# Faça aqui\n",
    "# Aplicação da função lambda para encontrar os valores \n",
    "# que representam valores faltantes no seu dataset \n",
    "na_values = df_ideb['IDEB12_17'].apply(find_na)\n",
    "na_values.unique()"
   ]
  },
  {
   "cell_type": "markdown",
   "metadata": {
    "id": "w5rIHGfhnZQM"
   },
   "source": [
    "### Tratamento de Exceção em Python"
   ]
  },
  {
   "cell_type": "markdown",
   "metadata": {
    "id": "BxPbOlK8nZQM"
   },
   "source": [
    "#### W9.3 Trate a exceção geradana célula a seguir de forma que a execução do programa não seja interrompida e a instrução ```print(\"Hello World!\")``` possa ser executada apesar do erro evidente."
   ]
  },
  {
   "cell_type": "code",
   "execution_count": null,
   "metadata": {
    "id": "9BqLykwxnZQO"
   },
   "outputs": [],
   "source": [
    "a = 2\n",
    "b = 0\n",
    "c = a / b\n",
    "print(\"Hello World!\")"
   ]
  },
  {
   "cell_type": "code",
   "execution_count": null,
   "metadata": {
    "deletable": false,
    "id": "u1RGP1q6nZQO",
    "nbgrader": {
     "cell_type": "code",
     "checksum": "3ff35b6b97c31a4335409575ea1c71f8",
     "grade": false,
     "grade_id": "cell-1e7be01219d7b807",
     "locked": false,
     "schema_version": 3,
     "solution": true,
     "task": false
    }
   },
   "outputs": [],
   "source": [
    "# YOUR CODE HERE\n",
    "raise NotImplementedError()\n"
   ]
  },
  {
   "cell_type": "code",
   "execution_count": null,
   "metadata": {
    "id": "x0oWIeeQnZQP"
   },
   "outputs": [],
   "source": []
  },
  {
   "cell_type": "markdown",
   "metadata": {
    "id": "memM88j3nZQQ"
   },
   "source": [
    "### Treinando Gráficos com o Seaborn"
   ]
  },
  {
   "cell_type": "code",
   "execution_count": null,
   "metadata": {
    "id": "dHfIFw3_nZQQ"
   },
   "outputs": [],
   "source": [
    "import pandas as pd\n",
    "import numpy as np\n",
    "import matplotlib.pyplot as plt # Biblioteca para plotar gráficos\n",
    "import seaborn as sns # Biblioteca para plotar gráficos baseada no matplotlib"
   ]
  },
  {
   "cell_type": "markdown",
   "metadata": {
    "id": "106NsVC5nZQR"
   },
   "source": [
    "#### Considere o dataset tips"
   ]
  },
  {
   "cell_type": "code",
   "execution_count": null,
   "metadata": {
    "id": "g9ZqGCnpnZQS",
    "outputId": "6c63fd75-0ce4-4156-90f4-de1aae36fe57"
   },
   "outputs": [],
   "source": [
    "sns.set() # Ajusta valor padrão de tema, escala e paleta de cor\n",
    "# Considere dataset de gorgetas a seguir\n",
    "tips = sns.load_dataset(\"tips\") \n",
    "# A lista de todos os datasets do Seaborn está aqui https://github.com/mwaskom/seaborn-data\n",
    "# Mostre as primeiras linhas do dataframe tips\n",
    "tips.head()"
   ]
  },
  {
   "cell_type": "markdown",
   "metadata": {
    "id": "abZa3E5snZQT"
   },
   "source": [
    "#### W9.4 Usando o seaborn crie um scatter plot com o dado da gorgeta (tip) no eixo y, o total da conta (total_bill) no eixo x e o dia da semana (day) representado em cores diferentes no gráfico. Para definir as cores use o parâmetro hue=\"day\"."
   ]
  },
  {
   "cell_type": "code",
   "execution_count": null,
   "metadata": {
    "id": "M1OZiH45nZQU",
    "outputId": "6a3180e9-a690-4169-ac87-e991f814c4a8"
   },
   "outputs": [],
   "source": [
    "# Faça aqui\n",
    "sns.relplot(kind='scatter', data=tips, y='tip', x='total_bill', hue='day')"
   ]
  },
  {
   "cell_type": "markdown",
   "metadata": {
    "id": "bLZd8pAinZQV"
   },
   "source": [
    "## #### W9.5 Considerando o dataset de acidentes de carros (car crashes),  usando o seaborn crie um gráfico do tipo pairplot de todas as variaveis deste dataset. Avalie se esse dataset corrobora com o bom senso de que consumo de álcool contribui com o aumento do número de acidentes. \n",
    "#### Dica: A documentação desta base de dados se encontra em https://www.kaggle.com/fivethirtyeight/fivethirtyeight-bad-drivers-dataset. A coluna total corresponde a esta descrição na documentação: \"Number of drivers involved in fatal collisions per billion miles\". A coluna alcohol corresponde a esta descrição na documentação: \"Percentage Of Drivers Involved In Fatal Collisions Who Were Alcohol-Impaired\""
   ]
  },
  {
   "cell_type": "code",
   "execution_count": null,
   "metadata": {
    "id": "Dyh962GInZQV",
    "outputId": "a4c53f86-802c-4dc4-c33c-fa854095d8ce"
   },
   "outputs": [],
   "source": [
    "# Considere dataset de acidentes de carros a seguir\n",
    "crashes = sns.load_dataset(\"car_crashes\") \n",
    "# Mostre as primeiras linhas do dataframe tips\n",
    "crashes.head()"
   ]
  },
  {
   "cell_type": "code",
   "execution_count": null,
   "metadata": {
    "id": "amGqlnq9nZQW",
    "outputId": "57d661d1-621d-46eb-ed4f-fe4f6f0e2e7a"
   },
   "outputs": [],
   "source": [
    "# Faça aqui\n",
    "sns.pairplot(crashes)"
   ]
  },
  {
   "cell_type": "markdown",
   "metadata": {
    "id": "YJfjZd9_nZQX"
   },
   "source": [
    "#### 9.6 Crie um gráfico de barras (uma barra para cada Estado americano no eixo x) e o tamanho vertical da barra deve corresponder ao valor da coluna ins_losses (insurance losses).\n",
    "#### Dica: use o argumento aspect=3 para ter um grafico largo."
   ]
  },
  {
   "cell_type": "code",
   "execution_count": null,
   "metadata": {
    "id": "SbVr_Ko-nZQX",
    "outputId": "19ba07c1-eb63-4af5-e788-33f5437f9e61"
   },
   "outputs": [],
   "source": [
    "# Faça aqui\n",
    "sns.catplot(kind='bar', data=crashes, x='abbrev', y='ins_losses', aspect=3)"
   ]
  },
  {
   "cell_type": "code",
   "execution_count": null,
   "metadata": {
    "id": "5wMMz1VUnZQY"
   },
   "outputs": [],
   "source": []
  }
 ],
 "metadata": {
  "colab": {
   "name": "Aula9_Warmup.ipynb",
   "provenance": []
  },
  "kernelspec": {
   "display_name": "Python 3",
   "language": "python",
   "name": "python3"
  },
  "language_info": {
   "codemirror_mode": {
    "name": "ipython",
    "version": 3
   },
   "file_extension": ".py",
   "mimetype": "text/x-python",
   "name": "python",
   "nbconvert_exporter": "python",
   "pygments_lexer": "ipython3",
   "version": "3.8.3"
  },
  "varInspector": {
   "cols": {
    "lenName": 16,
    "lenType": 16,
    "lenVar": 40
   },
   "kernels_config": {
    "python": {
     "delete_cmd_postfix": "",
     "delete_cmd_prefix": "del ",
     "library": "var_list.py",
     "varRefreshCmd": "print(var_dic_list())"
    },
    "r": {
     "delete_cmd_postfix": ") ",
     "delete_cmd_prefix": "rm(",
     "library": "var_list.r",
     "varRefreshCmd": "cat(var_dic_list()) "
    }
   },
   "types_to_exclude": [
    "module",
    "function",
    "builtin_function_or_method",
    "instance",
    "_Feature"
   ],
   "window_display": false
  }
 },
 "nbformat": 4,
 "nbformat_minor": 0
}

{
 "cells": [
  {
   "cell_type": "markdown",
   "metadata": {
    "id": "QKRv13PCphSK"
   },
   "source": [
    "# Aula 9 - Exercícios - Gráficos e Regex"
   ]
  },
  {
   "cell_type": "code",
   "execution_count": null,
   "metadata": {
    "colab": {
     "base_uri": "https://localhost:8080/"
    },
    "executionInfo": {
     "elapsed": 26508,
     "status": "ok",
     "timestamp": 1625876008290,
     "user": {
      "displayName": "Alex Lopes",
      "photoUrl": "https://lh3.googleusercontent.com/a-/AOh14GiIodCIc3QmEkRc07ZdX1uDEU_3XpwbFfljE8IyIg=s64",
      "userId": "01606300887134833077"
     },
     "user_tz": 180
    },
    "id": "SHUTtALTwpJv",
    "outputId": "d60a7723-0640-4e91-ee6d-250a90802265"
   },
   "outputs": [],
   "source": [
    "#@title Init Cell - Execute-me!!!\n",
    "pkg = !pip list | grep 'ipynb-autograde'\n",
    "if not pkg or pkg[0].replace('  ','').split(' ')[1]!='0.0.35':\n",
    "  !pip install ipynb_autograde==0.0.35\n",
    "%env  COURSE python_tribosgd\n",
    "from ipynb_autograde.main import init_log, validate\n",
    "init_log()\n",
    "email_result=!gcloud config get-value account\n",
    "if not email_result or 'unset' in email_result[0]:\n",
    "  !gcloud auth login"
   ]
  },
  {
   "cell_type": "code",
   "execution_count": null,
   "metadata": {
    "executionInfo": {
     "elapsed": 297,
     "status": "ok",
     "timestamp": 1625876015829,
     "user": {
      "displayName": "Alex Lopes",
      "photoUrl": "https://lh3.googleusercontent.com/a-/AOh14GiIodCIc3QmEkRc07ZdX1uDEU_3XpwbFfljE8IyIg=s64",
      "userId": "01606300887134833077"
     },
     "user_tz": 180
    },
    "id": "USazeVV6phSQ"
   },
   "outputs": [],
   "source": [
    "# Importe a biblioteca pandas\n",
    "import pandas as pd\n",
    "import numpy as np\n",
    "import re\n",
    "import pandas as pd\n",
    "import datetime\n",
    "from datetime import datetime, date"
   ]
  },
  {
   "cell_type": "markdown",
   "metadata": {
    "id": "VJsMWbPRphSS"
   },
   "source": [
    "### 9.1 Escreva uma função para encontrar numa string todos os grupos de letras em que uma letra a é seguida de 3 letras b. \n"
   ]
  },
  {
   "cell_type": "code",
   "execution_count": null,
   "metadata": {
    "executionInfo": {
     "elapsed": 16,
     "status": "ok",
     "timestamp": 1625876016170,
     "user": {
      "displayName": "Alex Lopes",
      "photoUrl": "https://lh3.googleusercontent.com/a-/AOh14GiIodCIc3QmEkRc07ZdX1uDEU_3XpwbFfljE8IyIg=s64",
      "userId": "01606300887134833077"
     },
     "user_tz": 180
    },
    "id": "dIKtvBuHphSU"
   },
   "outputs": [],
   "source": [
    "# Faca aqui seus testes do Exercício 9.1\n"
   ]
  },
  {
   "cell_type": "code",
   "execution_count": null,
   "metadata": {
    "deletable": false,
    "executionInfo": {
     "elapsed": 18,
     "status": "ok",
     "timestamp": 1625876016772,
     "user": {
      "displayName": "Alex Lopes",
      "photoUrl": "https://lh3.googleusercontent.com/a-/AOh14GiIodCIc3QmEkRc07ZdX1uDEU_3XpwbFfljE8IyIg=s64",
      "userId": "01606300887134833077"
     },
     "user_tz": 180
    },
    "id": "mAkUBNyYphST",
    "nbgrader": {
     "cell_type": "code",
     "checksum": "cb435a591b306def66612d21cda6bbe8",
     "grade": false,
     "grade_id": "cell-c705ab9d11473b9f9",
     "locked": false,
     "schema_version": 3,
     "solution": true,
     "task": false
    }
   },
   "outputs": [],
   "source": [
    "# Faca aqui sua função do Exercício 9.1\n",
    "def a3b(s):\n",
    "    # YOUR CODE HERE\n",
    "    raise NotImplementedError()"
   ]
  },
  {
   "cell_type": "code",
   "execution_count": null,
   "metadata": {
    "colab": {
     "base_uri": "https://localhost:8080/"
    },
    "deletable": false,
    "editable": false,
    "executionInfo": {
     "elapsed": 1300,
     "status": "ok",
     "timestamp": 1625876019120,
     "user": {
      "displayName": "Alex Lopes",
      "photoUrl": "https://lh3.googleusercontent.com/a-/AOh14GiIodCIc3QmEkRc07ZdX1uDEU_3XpwbFfljE8IyIg=s64",
      "userId": "01606300887134833077"
     },
     "user_tz": 180
    },
    "id": "QOP12ObQphSU",
    "nbgrader": {
     "cell_type": "code",
     "checksum": "f34f6358a7361fb85da8a4cb6b314c13",
     "grade": true,
     "grade_id": "cell-9ffdsa88d58e9o82a",
     "locked": true,
     "points": 1,
     "schema_version": 3,
     "solution": false,
     "task": false
    },
    "outputId": "379bebce-cc7a-4a68-dd20-273c862d3754"
   },
   "outputs": [],
   "source": [
    "# Faca aqui a validacao do Exercicio 9.1\n",
    "entradas = [['abbb asde ababbaaabbbabbb']]\n",
    "saidas = [['abbb', 'abbb', 'abbb']]\n",
    "\n",
    "validate(a3b, entradas, lambda x: x, saidas, \"9.1\")"
   ]
  },
  {
   "cell_type": "markdown",
   "metadata": {
    "id": "mtmaFyNmphSV"
   },
   "source": [
    "### 9.2 Escreva uma função que receba como argumento uma String e retorne os números presentes ao final dessa String. \n",
    "#### Retorne uma lista contendo o número no formato string ou uma lista vazia se os ultimos caracteres não forem dígitos.\n",
    "\n",
    "#### Exemplo 1:  para a entrada ```'33a307a'```, retornar ```[]```\n",
    "#### Exemplo 2:  para a entrada ```'33a307'```, retornar ```['307']```\n"
   ]
  },
  {
   "cell_type": "code",
   "execution_count": null,
   "metadata": {
    "executionInfo": {
     "elapsed": 229,
     "status": "ok",
     "timestamp": 1625876020404,
     "user": {
      "displayName": "Alex Lopes",
      "photoUrl": "https://lh3.googleusercontent.com/a-/AOh14GiIodCIc3QmEkRc07ZdX1uDEU_3XpwbFfljE8IyIg=s64",
      "userId": "01606300887134833077"
     },
     "user_tz": 180
    },
    "id": "pc_TQOm1phSZ"
   },
   "outputs": [],
   "source": [
    "# Faca aqui seus testes do Exercício 9.2\n"
   ]
  },
  {
   "cell_type": "code",
   "execution_count": null,
   "metadata": {
    "deletable": false,
    "executionInfo": {
     "elapsed": 8,
     "status": "ok",
     "timestamp": 1625876020719,
     "user": {
      "displayName": "Alex Lopes",
      "photoUrl": "https://lh3.googleusercontent.com/a-/AOh14GiIodCIc3QmEkRc07ZdX1uDEU_3XpwbFfljE8IyIg=s64",
      "userId": "01606300887134833077"
     },
     "user_tz": 180
    },
    "id": "rzkEe8PEphSY",
    "nbgrader": {
     "cell_type": "code",
     "checksum": "52880c70f46f3468da5059d2673dd82f",
     "grade": false,
     "grade_id": "cell-553qe5248eb14bc30",
     "locked": false,
     "schema_version": 3,
     "solution": true,
     "task": false
    }
   },
   "outputs": [],
   "source": [
    "# Faca aqui sua função do Exercício 9.2\n",
    "def get_final_numbers(s):\n",
    "    \"\"\"a função deve receber como arumento uma STRING. E retornar uma lista contendo o número \n",
    "       no formato string ou uma lista vazia se os ultimos caracteres não forem dígitos.\n",
    "    \"\"\"\n",
    "    # YOUR CODE HERE\n",
    "    raise NotImplementedError()"
   ]
  },
  {
   "cell_type": "code",
   "execution_count": null,
   "metadata": {
    "colab": {
     "base_uri": "https://localhost:8080/"
    },
    "deletable": false,
    "editable": false,
    "executionInfo": {
     "elapsed": 1130,
     "status": "ok",
     "timestamp": 1625876022092,
     "user": {
      "displayName": "Alex Lopes",
      "photoUrl": "https://lh3.googleusercontent.com/a-/AOh14GiIodCIc3QmEkRc07ZdX1uDEU_3XpwbFfljE8IyIg=s64",
      "userId": "01606300887134833077"
     },
     "user_tz": 180
    },
    "id": "EchMDsniphSa",
    "nbgrader": {
     "cell_type": "code",
     "checksum": "151e400bee36818eda9e4a7f12756746",
     "grade": true,
     "grade_id": "cell-0e2bh6cefe06bdc60",
     "locked": true,
     "points": 1,
     "schema_version": 3,
     "solution": false,
     "task": false
    },
    "outputId": "e90f4895-f625-44fa-fa4c-be3b52419dab"
   },
   "outputs": [],
   "source": [
    "# Faca aqui a validacao do Exercicio 9.2\n",
    "entradas = [['33a307a'], ['33a307']]\n",
    "saidas = [[], ['307']]\n",
    "validate(get_final_numbers, entradas, lambda x: x, saidas, \"9.2\")"
   ]
  },
  {
   "cell_type": "markdown",
   "metadata": {
    "id": "byOlubTMphSb"
   },
   "source": [
    "### 9.3 Escreva uma função python para retornar um objeto datetime representando o dia seguinte e o dia anterior de uma data passada como argumento no formato datetime. Retorne uma tupla contendo respectivamente o dia anterior e o dia seguinte.\n",
    "#### Exemplo: para a entrada ```datetime(2021, 05, 11)```\n",
    "#### Resultado esperado: ```(datetime(2021, 05, 10), datetime(2021, 05, 12))```"
   ]
  },
  {
   "cell_type": "code",
   "execution_count": null,
   "metadata": {
    "executionInfo": {
     "elapsed": 8,
     "status": "ok",
     "timestamp": 1625876023579,
     "user": {
      "displayName": "Alex Lopes",
      "photoUrl": "https://lh3.googleusercontent.com/a-/AOh14GiIodCIc3QmEkRc07ZdX1uDEU_3XpwbFfljE8IyIg=s64",
      "userId": "01606300887134833077"
     },
     "user_tz": 180
    },
    "id": "m7OrgkrxphSc"
   },
   "outputs": [],
   "source": [
    "# Faca aqui seus testes do Exercício 9.\n"
   ]
  },
  {
   "cell_type": "code",
   "execution_count": null,
   "metadata": {
    "deletable": false,
    "executionInfo": {
     "elapsed": 5,
     "status": "ok",
     "timestamp": 1625876023970,
     "user": {
      "displayName": "Alex Lopes",
      "photoUrl": "https://lh3.googleusercontent.com/a-/AOh14GiIodCIc3QmEkRc07ZdX1uDEU_3XpwbFfljE8IyIg=s64",
      "userId": "01606300887134833077"
     },
     "user_tz": 180
    },
    "id": "I5Y_a_uSphSc",
    "nbgrader": {
     "cell_type": "code",
     "checksum": "e51f9f15678865127f8b54e086e0e4a0",
     "grade": false,
     "grade_id": "cell-822f52c7ecd504a6",
     "locked": false,
     "schema_version": 3,
     "solution": true,
     "task": false
    }
   },
   "outputs": [],
   "source": [
    "# Faca aqui sua função do Exercício 9.3\n",
    "def yesterday_tomorrow(inputdate):\n",
    "    \"\"\"Retorne uma tupla contendo respectivamente o dia anterior e \n",
    "    o dia seguinte ao dia do objeto datetime passado como argumento.\"\"\"\n",
    "    # YOUR CODE HERE\n",
    "    raise NotImplementedError()\n",
    "    "
   ]
  },
  {
   "cell_type": "code",
   "execution_count": null,
   "metadata": {
    "colab": {
     "base_uri": "https://localhost:8080/"
    },
    "executionInfo": {
     "elapsed": 1245,
     "status": "ok",
     "timestamp": 1625876025469,
     "user": {
      "displayName": "Alex Lopes",
      "photoUrl": "https://lh3.googleusercontent.com/a-/AOh14GiIodCIc3QmEkRc07ZdX1uDEU_3XpwbFfljE8IyIg=s64",
      "userId": "01606300887134833077"
     },
     "user_tz": 180
    },
    "id": "nbPA6-A6phSd",
    "outputId": "af78d4d2-afbf-49dc-96cc-233b35619cf4"
   },
   "outputs": [],
   "source": [
    "# Faca aqui a validacao do Exercicio 9.3\n",
    "entradas = [[datetime(2021, 5, 11)]]\n",
    "saidas = [(datetime(2021, 5, 10), datetime(2021, 5, 12))]\n",
    "validate(yesterday_tomorrow, entradas, lambda x: x, saidas, \"9.3\")"
   ]
  },
  {
   "cell_type": "markdown",
   "metadata": {
    "id": "TsVicFuhphSd"
   },
   "source": [
    "### 9.4 Crie uma coluna para o dataframe a seguir contendo o número do mês correspondente a data. Perceba que  o dataframe de entrada tem strings representando datas no seu índice. A coluna com o mês no dataframe de resultado deve ser chamar ```mes```.\n",
    "#### Entrada:\n",
    "|            |     0 |\n",
    "|:-----------|------:|\n",
    "| 2011-09-02 | -0.96 |\n",
    "| 2012-08-04 | -0.05 |\n",
    "| 2013-09-03 | -0.42 |\n",
    "| 2014-08-04 | -1.26 |\n",
    "| 2015-03-03 |  1.96 |\n",
    "| 2016-08-04 | -0.06 |\n",
    "| 2017-04-03 |  0.05 |\n",
    "\n",
    "#### Resultado esperado\n",
    "|            |     0 |   mes |\n",
    "|:-----------|------:|------:|\n",
    "| 2011-09-02 | -0.96 |     9 |\n",
    "| 2012-08-04 | -0.05 |     8 |\n",
    "| 2013-09-03 | -0.42 |     9 |\n",
    "| 2014-08-04 | -1.26 |     8 |\n",
    "| 2015-03-03 |  1.96 |     3 |\n",
    "| 2016-08-04 | -0.06 |     8 |\n",
    "| 2017-04-03 |  0.05 |     4 |\n"
   ]
  },
  {
   "cell_type": "code",
   "execution_count": null,
   "metadata": {
    "executionInfo": {
     "elapsed": 5,
     "status": "ok",
     "timestamp": 1625876027216,
     "user": {
      "displayName": "Alex Lopes",
      "photoUrl": "https://lh3.googleusercontent.com/a-/AOh14GiIodCIc3QmEkRc07ZdX1uDEU_3XpwbFfljE8IyIg=s64",
      "userId": "01606300887134833077"
     },
     "user_tz": 180
    },
    "id": "BIL04wj8phSf"
   },
   "outputs": [],
   "source": [
    "# Faca aqui seus testes do Exercício 9.4\n",
    "df = pd.DataFrame({0: {'2011-09-02': -0.96,\n",
    "  '2012-08-04': -0.05,  '2013-09-03': -0.42,\n",
    "  '2014-08-04': -1.26,  '2015-03-03': 1.96,\n",
    "  '2016-08-04': -0.06,  '2017-04-03': 0.05}})\n",
    "\n",
    "\n"
   ]
  },
  {
   "cell_type": "code",
   "execution_count": null,
   "metadata": {
    "deletable": false,
    "executionInfo": {
     "elapsed": 8,
     "status": "ok",
     "timestamp": 1625876028185,
     "user": {
      "displayName": "Alex Lopes",
      "photoUrl": "https://lh3.googleusercontent.com/a-/AOh14GiIodCIc3QmEkRc07ZdX1uDEU_3XpwbFfljE8IyIg=s64",
      "userId": "01606300887134833077"
     },
     "user_tz": 180
    },
    "id": "P4KSo7QIphSe",
    "nbgrader": {
     "cell_type": "code",
     "checksum": "11e111c9d12d74cfd46631c31a3471a1",
     "grade": false,
     "grade_id": "cell-7c0b13818bd791ba",
     "locked": false,
     "schema_version": 3,
     "solution": true,
     "task": false
    }
   },
   "outputs": [],
   "source": [
    "# Faca aqui sua função do Exercício 9.4\n",
    "def month_column_from_index(df):\n",
    "    # YOUR CODE HERE\n",
    "    raise NotImplementedError()\n",
    "    \n",
    "    "
   ]
  },
  {
   "cell_type": "code",
   "execution_count": null,
   "metadata": {
    "colab": {
     "base_uri": "https://localhost:8080/"
    },
    "executionInfo": {
     "elapsed": 2658,
     "status": "ok",
     "timestamp": 1625876031813,
     "user": {
      "displayName": "Alex Lopes",
      "photoUrl": "https://lh3.googleusercontent.com/a-/AOh14GiIodCIc3QmEkRc07ZdX1uDEU_3XpwbFfljE8IyIg=s64",
      "userId": "01606300887134833077"
     },
     "user_tz": 180
    },
    "id": "7ncBrmEJphSf",
    "outputId": "27abe977-d874-4a4e-e27f-24594d19177a"
   },
   "outputs": [],
   "source": [
    "# Faca aqui a validacao do Exercicio 9.4\n",
    "df = pd.DataFrame({0: {'2011-09-02': -0.96,\n",
    "  '2012-08-04': -0.05,  '2013-09-03': -0.42,\n",
    "  '2014-08-04': -1.26,  '2015-03-03': 1.96,\n",
    "  '2016-08-04': -0.06,  '2017-04-03': 0.05}})\n",
    "\n",
    "df_result = pd.DataFrame({0: {'2011-09-02': -0.96,  '2012-08-04': -0.05,\n",
    "  '2013-09-03': -0.42,  '2014-08-04': -1.26,  '2015-03-03': 1.96,  '2016-08-04': -0.06,\n",
    "  '2017-04-03': 0.05}, 'mes': {'2011-09-02': 9,  '2012-08-04': 8,  '2013-09-03': 9,\n",
    "  '2014-08-04': 8,  '2015-03-03': 3,  '2016-08-04': 8,  '2017-04-03': 4}})\n",
    "\n",
    "entradas = [[df]]\n",
    "saidas = [df_result]\n",
    "validate(month_column_from_index, entradas, lambda x: x, saidas, \"9.4\")"
   ]
  },
  {
   "cell_type": "markdown",
   "metadata": {
    "id": "snbuDAQmphSg"
   },
   "source": [
    "### 9.5 Escreva uma função python para extrair o número de telefone a partir de várias possibilidades de valores de entrada. Retorne uma lista com apenas os números do telefone (em formato de string) no resultado da função, e não retorne aqueles telefones cujo formato seja inválido (faltando DDD, faltando caractere).\n",
    "#### Considere apenas os valores apresentados na lista a seguir:\n",
    "```exemplos=[\"(16) 91231-6165\", \"(16) 3231-6165\", \"16 91231-6165\", \"16 3231-6164\", \"3231-6165\", \"91231-616\"]```\n",
    "#### Resultado esperado\n",
    "```['(16) 91231-6165', '(16) 3231-6165', '16 91231-6165', '16 3231-6164']```"
   ]
  },
  {
   "cell_type": "code",
   "execution_count": null,
   "metadata": {
    "executionInfo": {
     "elapsed": 297,
     "status": "ok",
     "timestamp": 1625876034119,
     "user": {
      "displayName": "Alex Lopes",
      "photoUrl": "https://lh3.googleusercontent.com/a-/AOh14GiIodCIc3QmEkRc07ZdX1uDEU_3XpwbFfljE8IyIg=s64",
      "userId": "01606300887134833077"
     },
     "user_tz": 180
    },
    "id": "bRlz4zBdphSh"
   },
   "outputs": [],
   "source": [
    "# Faca aqui seus testes do Exercício 9.5\n",
    "exemplos=[\"(16) 91231-6165\", \"(16) 3231-6165\", \"16 91231-6165\", \"16 3231-6164\", \"3231-6165\", \"91231-616\"]"
   ]
  },
  {
   "cell_type": "code",
   "execution_count": null,
   "metadata": {
    "deletable": false,
    "executionInfo": {
     "elapsed": 37,
     "status": "ok",
     "timestamp": 1625876035029,
     "user": {
      "displayName": "Alex Lopes",
      "photoUrl": "https://lh3.googleusercontent.com/a-/AOh14GiIodCIc3QmEkRc07ZdX1uDEU_3XpwbFfljE8IyIg=s64",
      "userId": "01606300887134833077"
     },
     "user_tz": 180
    },
    "id": "NcBmVmVmphSg",
    "nbgrader": {
     "cell_type": "code",
     "checksum": "a703e291cc3b94d796aae1f4712a34a0",
     "grade": false,
     "grade_id": "cell-553em5248eb14bc30",
     "locked": false,
     "schema_version": 3,
     "solution": true,
     "task": false
    }
   },
   "outputs": [],
   "source": [
    "# Faca aqui sua função do Exercício 9.5\n",
    "def extrair_telefone(lista_entradas):\n",
    "    # YOUR CODE HERE\n",
    "    raise NotImplementedError()\n",
    "    "
   ]
  },
  {
   "cell_type": "code",
   "execution_count": null,
   "metadata": {
    "colab": {
     "base_uri": "https://localhost:8080/"
    },
    "executionInfo": {
     "elapsed": 1240,
     "status": "ok",
     "timestamp": 1625876036239,
     "user": {
      "displayName": "Alex Lopes",
      "photoUrl": "https://lh3.googleusercontent.com/a-/AOh14GiIodCIc3QmEkRc07ZdX1uDEU_3XpwbFfljE8IyIg=s64",
      "userId": "01606300887134833077"
     },
     "user_tz": 180
    },
    "id": "MC2V_Rl_phSh",
    "outputId": "3ebc8239-ac18-47aa-a4c1-3f9ff4eb2e20"
   },
   "outputs": [],
   "source": [
    "# Faca aqui a validacao do Exercicio 9.5\n",
    "exemplos=[\"(16) 91231-6165\", \"(16) 3231-6165\", \"16 91231-6165\", \"16 3231-6164\", \"3231-6165\", \"91231-616\"]\n",
    "entradas = [[exemplos]]\n",
    "saidas = [['(16) 91231-6165', '(16) 3231-6165', '16 91231-6165', '16 3231-6164']]\n",
    "validate(extrair_telefone, entradas, lambda x: x, saidas, \"9.5\")"
   ]
  },
  {
   "cell_type": "markdown",
   "metadata": {
    "id": "AdtZvgE7phSi"
   },
   "source": [
    "### 9.6 Crie uma função para construir um dataframe contendo o último dia útil de todos os meses de um dado ano passado como argumento da função.\n",
    "#### Para a entrada: 2021\n",
    "#### Resultado esperado:\n",
    "```      \n",
    "         Date\n",
    "0  2021-01-29\n",
    "1  2021-02-26\n",
    "2  2021-03-31\n",
    "3  2021-04-30\n",
    "4  2021-05-31\n",
    "5  2021-06-30\n",
    "6  2021-07-30\n",
    "7  2021-08-31\n",
    "8  2021-09-30\n",
    "9  2021-10-29\n",
    "10 2021-11-30\n",
    "11 2021-12-31\n",
    "```\n",
    "#### Dica: use a função date_range e ajuste o argumento ```freq``` apropriadamente."
   ]
  },
  {
   "cell_type": "code",
   "execution_count": null,
   "metadata": {
    "executionInfo": {
     "elapsed": 4,
     "status": "ok",
     "timestamp": 1625876037689,
     "user": {
      "displayName": "Alex Lopes",
      "photoUrl": "https://lh3.googleusercontent.com/a-/AOh14GiIodCIc3QmEkRc07ZdX1uDEU_3XpwbFfljE8IyIg=s64",
      "userId": "01606300887134833077"
     },
     "user_tz": 180
    },
    "id": "Ss0J3cH9phSj"
   },
   "outputs": [],
   "source": [
    "# Faca aqui seus testes do Exercício 9.6\n",
    "\n"
   ]
  },
  {
   "cell_type": "code",
   "execution_count": null,
   "metadata": {
    "deletable": false,
    "executionInfo": {
     "elapsed": 10,
     "status": "ok",
     "timestamp": 1625876038013,
     "user": {
      "displayName": "Alex Lopes",
      "photoUrl": "https://lh3.googleusercontent.com/a-/AOh14GiIodCIc3QmEkRc07ZdX1uDEU_3XpwbFfljE8IyIg=s64",
      "userId": "01606300887134833077"
     },
     "user_tz": 180
    },
    "id": "b1r574u8phSi",
    "nbgrader": {
     "cell_type": "code",
     "checksum": "b36cfc252c2a45e59eb044197cfd0fe7",
     "grade": false,
     "grade_id": "cell-7d86e31f8171aca5",
     "locked": false,
     "schema_version": 3,
     "solution": true,
     "task": false
    }
   },
   "outputs": [],
   "source": [
    "# Faca aqui sua função do Exercício 9.6\n",
    "def business_day(year):\n",
    "    # YOUR CODE HERE\n",
    "    raise NotImplementedError()\n",
    "    \n"
   ]
  },
  {
   "cell_type": "code",
   "execution_count": null,
   "metadata": {
    "colab": {
     "base_uri": "https://localhost:8080/"
    },
    "executionInfo": {
     "elapsed": 1318,
     "status": "ok",
     "timestamp": 1625876039981,
     "user": {
      "displayName": "Alex Lopes",
      "photoUrl": "https://lh3.googleusercontent.com/a-/AOh14GiIodCIc3QmEkRc07ZdX1uDEU_3XpwbFfljE8IyIg=s64",
      "userId": "01606300887134833077"
     },
     "user_tz": 180
    },
    "id": "xbMl7_VwphSj",
    "outputId": "f2482fa0-72c3-486c-91ca-83ee4dffaa9f"
   },
   "outputs": [],
   "source": [
    "# Faca aqui a validacao do Exercicio 9.6\n",
    "df_result = pd.DataFrame({'Date': {0: pd.Timestamp('2021-01-29 00:00:00'),\n",
    "  1: pd.Timestamp('2021-02-26'),\n",
    "  2: pd.Timestamp('2021-03-31'),\n",
    "  3: pd.Timestamp('2021-04-30'),\n",
    "  4: pd.Timestamp('2021-05-31'),\n",
    "  5: pd.Timestamp('2021-06-30'),\n",
    "  6: pd.Timestamp('2021-07-30'),\n",
    "  7: pd.Timestamp('2021-08-31'),\n",
    "  8: pd.Timestamp('2021-09-30'),\n",
    "  9: pd.Timestamp('2021-10-29'),\n",
    "  10: pd.Timestamp('2021-11-30'),\n",
    "  11: pd.Timestamp('2021-12-31')}})\n",
    "\n",
    "entradas = [[2021]]\n",
    "saidas = [df_result]\n",
    "validate(business_day, entradas, lambda x: x, saidas, \"9.6\")"
   ]
  },
  {
   "cell_type": "markdown",
   "metadata": {
    "id": "0s3YA0HApo8k"
   },
   "source": [
    "### Exercícios sobre Gráficos"
   ]
  },
  {
   "cell_type": "code",
   "execution_count": null,
   "metadata": {
    "executionInfo": {
     "elapsed": 747,
     "status": "ok",
     "timestamp": 1625876042254,
     "user": {
      "displayName": "Alex Lopes",
      "photoUrl": "https://lh3.googleusercontent.com/a-/AOh14GiIodCIc3QmEkRc07ZdX1uDEU_3XpwbFfljE8IyIg=s64",
      "userId": "01606300887134833077"
     },
     "user_tz": 180
    },
    "id": "6skbA0wbpm3j"
   },
   "outputs": [],
   "source": [
    "# Importe a biblioteca pandas\n",
    "import pandas as pd\n",
    "import seaborn as sns\n",
    "sns.set() # Ajusta valor padrão de tema, escala e paleta de cor\n"
   ]
  },
  {
   "cell_type": "markdown",
   "metadata": {
    "id": "wULJt-Xop-e5"
   },
   "source": [
    "### 9.7 Plote um boxplot do índice de gini dos municípios brasileiros.\n",
    "#### Por ser de correção manual, será corrigido apenas uma vez.\n",
    "#### Dica: é necessário alguma manipulação dos dados antes de plotar o gráfico.\n",
    "#### Veja o resultado esperado a seguir.\n",
    "\n",
    "![5.1_boxplot_gini.png](data:image/png;base64,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)"
   ]
  },
  {
   "cell_type": "code",
   "execution_count": null,
   "metadata": {
    "executionInfo": {
     "elapsed": 12,
     "status": "ok",
     "timestamp": 1625876042256,
     "user": {
      "displayName": "Alex Lopes",
      "photoUrl": "https://lh3.googleusercontent.com/a-/AOh14GiIodCIc3QmEkRc07ZdX1uDEU_3XpwbFfljE8IyIg=s64",
      "userId": "01606300887134833077"
     },
     "user_tz": 180
    },
    "id": "T0uZTLnapmyN"
   },
   "outputs": [],
   "source": [
    "# Plote seu gráfico aqui\n",
    "path_gini='https://github.com/alexlopespereira/cdpython_tribosgd/raw/main/data/originais/gini/ginibr.csv'\n",
    "\n"
   ]
  },
  {
   "cell_type": "markdown",
   "metadata": {
    "id": "5K-9LBZ5qYML"
   },
   "source": [
    "### 9.8 Plote um gráfico que mostre a evolução ao longo do tempo dos dados de curetagem do Estado de São Paulo.\n",
    "#### Pense em possíveis causas que possam explicar a aparência cíclica do gráfico. Se encontrar alguma explicação plausível, discuta com os colegas e o Professor."
   ]
  },
  {
   "cell_type": "code",
   "execution_count": null,
   "metadata": {
    "executionInfo": {
     "elapsed": 16,
     "status": "ok",
     "timestamp": 1625876044419,
     "user": {
      "displayName": "Alex Lopes",
      "photoUrl": "https://lh3.googleusercontent.com/a-/AOh14GiIodCIc3QmEkRc07ZdX1uDEU_3XpwbFfljE8IyIg=s64",
      "userId": "01606300887134833077"
     },
     "user_tz": 180
    },
    "id": "JzX7W2Jopmpp"
   },
   "outputs": [],
   "source": [
    "# Plote seu gráfico aqui\n",
    "path_curetagem='https://github.com/alexlopespereira/cdpython_tribosgd/raw/main/data/originais/curetagem/consolidado/curetagem2018.xlsx'\n",
    "\n",
    "\n"
   ]
  },
  {
   "cell_type": "markdown",
   "metadata": {
    "id": "jNgbYLLNrlWp"
   },
   "source": [
    "### 9.9 Plote um gráfico boxplot da coluna Valor_total de 5 municípios do dataset de Morbidade do Datasus. Os municípios a serem plotados são aqueles que obtiveram o maior custo médio diário de internação em todo o brasil. \n",
    "#### Dica 1: Use a seguinte métrica para calcular o custo médio diário de internação: custo_medio_diario_intern = (Soma do Valor_total)/Qtd_Dias_permanência. Ou seja, use o pandas para calcular esta métrica.\n",
    "\n",
    "#### Dica 2: Use um argumento aspect=2 para o gráfico não sobrepor os nomes das cidades.\n",
    "\n"
   ]
  },
  {
   "cell_type": "code",
   "execution_count": null,
   "metadata": {
    "id": "MnVi_Dc8pmV3"
   },
   "outputs": [],
   "source": []
  },
  {
   "cell_type": "code",
   "execution_count": null,
   "metadata": {
    "id": "kGQM5nEKpmLG"
   },
   "outputs": [],
   "source": []
  }
 ],
 "metadata": {
  "colab": {
   "collapsed_sections": [],
   "name": "Aula9_Exercicio.ipynb",
   "provenance": []
  },
  "kernelspec": {
   "display_name": "Python 3",
   "language": "python",
   "name": "python3"
  },
  "language_info": {
   "codemirror_mode": {
    "name": "ipython",
    "version": 3
   },
   "file_extension": ".py",
   "mimetype": "text/x-python",
   "name": "python",
   "nbconvert_exporter": "python",
   "pygments_lexer": "ipython3",
   "version": "3.8.10"
  },
  "name": "_merged",
  "varInspector": {
   "cols": {
    "lenName": 16,
    "lenType": 16,
    "lenVar": 40
   },
   "kernels_config": {
    "python": {
     "delete_cmd_postfix": "",
     "delete_cmd_prefix": "del ",
     "library": "var_list.py",
     "varRefreshCmd": "print(var_dic_list())"
    },
    "r": {
     "delete_cmd_postfix": ") ",
     "delete_cmd_prefix": "rm(",
     "library": "var_list.r",
     "varRefreshCmd": "cat(var_dic_list()) "
    }
   },
   "types_to_exclude": [
    "module",
    "function",
    "builtin_function_or_method",
    "instance",
    "_Feature"
   ],
   "window_display": false
  }
 },
 "nbformat": 4,
 "nbformat_minor": 0
}

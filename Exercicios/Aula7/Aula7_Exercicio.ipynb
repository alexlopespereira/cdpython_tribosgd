{
 "cells": [
  {
   "cell_type": "markdown",
   "metadata": {
    "id": "j-7DC1X1Ksyp"
   },
   "source": [
    "# Aula 7 - Exercício - Agregação com Pandas"
   ]
  },
  {
   "cell_type": "code",
   "execution_count": null,
   "metadata": {
    "id": "cNVkti2xKyvf"
   },
   "outputs": [],
   "source": [
    "# #@title Init Cell - Execute-me!!!\n",
    "pkg = !pip list | grep 'ipynb-autograde'\n",
    "if not pkg or pkg[0].replace('  ','').split(' ')[1]!='0.0.35':\n",
    "  !pip install ipynb_autograde==0.0.35\n",
    "%env  COURSE python_tribosgd\n",
    "from ipynb_autograde.main import init_log, validate\n",
    "init_log()\n",
    "email_result=!gcloud config get-value account\n",
    "if not email_result or 'unset' in email_result[0]:\n",
    "  !gcloud auth login\n"
   ]
  },
  {
   "cell_type": "code",
   "execution_count": null,
   "metadata": {
    "executionInfo": {
     "elapsed": 305,
     "status": "ok",
     "timestamp": 1625799280529,
     "user": {
      "displayName": "Alex Lopes",
      "photoUrl": "https://lh3.googleusercontent.com/a-/AOh14GiIodCIc3QmEkRc07ZdX1uDEU_3XpwbFfljE8IyIg=s64",
      "userId": "01606300887134833077"
     },
     "user_tz": 180
    },
    "id": "3uVRPd-6Ksyw"
   },
   "outputs": [],
   "source": [
    "# Faca o import das bibliotecas\n",
    "import pandas as pd\n",
    "import numpy as np"
   ]
  },
  {
   "cell_type": "markdown",
   "metadata": {
    "id": "pWLDKETzKsyx"
   },
   "source": [
    "### 7.1 Escreva uma função para ler os dados de PIB e população dos datasets disponibilizados e retornar um dataframe com a agregação por Estados e as métricas soma, média, desvio padrão e mediana do PIB de 2017 e da população de todos os Estados brasileiros. O arredondamento é opcional.\n",
    "\n",
    "#### As 3 primeiras linhas do resultado esperado:\n",
    "```\n",
    "    pop2017                                            2017                \n",
    "        sum          mean   median            std       sum          mean     median           std  \n",
    "uf                                                                          \n",
    "AC   829619  37709.954545  17903.5   79035.975649  14271061  6.486846e+05   229775.0  1.695167e+06  \n",
    "AL  3375823  33096.303922  17900.5  103131.981409  52843471  5.180732e+05   175900.5  2.184281e+06  \n",
    "AM  4063614  65542.161290  24438.5  267475.531426  93204173  1.503293e+06   205869.5  9.261592e+06  \n",
    "```\n",
    "#### Ou\n",
    "```\n",
    "    pop2017                                  2017                          \n",
    "        sum     mean   median       std       sum       mean    median   std  \n",
    "uf                                                                       \n",
    "AC   829619  37710.0  17903.5   79036.0  14271061   648684.6  229775.0   1695166.9\n",
    "AL  3375823  33096.3  17900.5  103132.0  52843471   518073.2  175900.5   2184280.9\n",
    "AM  4063614  65542.2  24438.5  267475.5  93204173  1503293.1  205869.5   9261592.2\n",
    "```"
   ]
  },
  {
   "cell_type": "code",
   "execution_count": null,
   "metadata": {
    "executionInfo": {
     "elapsed": 38,
     "status": "ok",
     "timestamp": 1625799282955,
     "user": {
      "displayName": "Alex Lopes",
      "photoUrl": "https://lh3.googleusercontent.com/a-/AOh14GiIodCIc3QmEkRc07ZdX1uDEU_3XpwbFfljE8IyIg=s64",
      "userId": "01606300887134833077"
     },
     "user_tz": 180
    },
    "id": "e8ny_oecKsyz"
   },
   "outputs": [],
   "source": [
    "# Faca aqui seus testes do Exercício 7.1\n",
    "path_pib = 'https://github.com/alexlopespereira/enapespcd2021/raw/main/data/originais/pib/pib_municipios.xlsx'\n",
    "path_pop = 'https://github.com/alexlopespereira/enapespcd2021/raw/main/data/originais/populacao/estimativa_dou_2017.xlsx'\n",
    "\n"
   ]
  },
  {
   "cell_type": "code",
   "execution_count": null,
   "metadata": {
    "deletable": false,
    "executionInfo": {
     "elapsed": 310,
     "status": "ok",
     "timestamp": 1625799284469,
     "user": {
      "displayName": "Alex Lopes",
      "photoUrl": "https://lh3.googleusercontent.com/a-/AOh14GiIodCIc3QmEkRc07ZdX1uDEU_3XpwbFfljE8IyIg=s64",
      "userId": "01606300887134833077"
     },
     "user_tz": 180
    },
    "id": "xPGNUWX6Ksy0",
    "nbgrader": {
     "cell_type": "code",
     "checksum": "a9ee8d856931160db2765686ea1a1b2b",
     "grade": false,
     "grade_id": "cell-c705ab9d11472345",
     "locked": false,
     "schema_version": 3,
     "solution": true,
     "task": false
    }
   },
   "outputs": [],
   "source": [
    "# Faca aqui sua função do Exercício 7.1\n",
    "def aggregate_pib_pop(path_pop, path_pib):\n",
    "    \"\"\"retorne um dataframe com a agregação por Estados e as métricas soma, média, mediana\n",
    "       e o desvio padrão do PIB de 2017 e da população de todos os Estados brasileiros.\n",
    "    \"\"\"\n",
    "    # YOUR CODE HERE\n",
    "    raise NotImplementedError()\n"
   ]
  },
  {
   "cell_type": "code",
   "execution_count": null,
   "metadata": {
    "colab": {
     "base_uri": "https://localhost:8080/"
    },
    "deletable": false,
    "editable": false,
    "executionInfo": {
     "elapsed": 3206,
     "status": "ok",
     "timestamp": 1625799288594,
     "user": {
      "displayName": "Alex Lopes",
      "photoUrl": "https://lh3.googleusercontent.com/a-/AOh14GiIodCIc3QmEkRc07ZdX1uDEU_3XpwbFfljE8IyIg=s64",
      "userId": "01606300887134833077"
     },
     "user_tz": 180
    },
    "id": "OsE6vRaCKsy2",
    "nbgrader": {
     "cell_type": "code",
     "checksum": "45954c111b6b8f513fbe8790199e1ccd",
     "grade": true,
     "grade_id": "cell-9ffdsa88d5345282a",
     "locked": true,
     "points": 1,
     "schema_version": 3,
     "solution": false,
     "task": false
    },
    "outputId": "e50fc644-b801-47f7-abaa-c2c7156874ff"
   },
   "outputs": [],
   "source": [
    "# Faca aqui a validacao do Exercicio 7.1\n",
    "path_pib = 'https://github.com/alexlopespereira/enapespcd2021/raw/main/data/originais/pib/pib_municipios.xlsx'\n",
    "path_pop = 'https://github.com/alexlopespereira/enapespcd2021/raw/main/data/originais/populacao/estimativa_dou_2017.xlsx'\n",
    "\n",
    "test_data = {('pop2017', 'sum'): 829619.0,\n",
    " ('pop2017', 'mean'): 37710.0,\n",
    " ('pop2017', 'median'): 17903.5,\n",
    " ('pop2017', 'std'): 79036.0,\n",
    " ('2017', 'sum'): 14271061.0,\n",
    " ('2017', 'mean'): 648684.6,\n",
    " ('2017', 'median'): 229775.0,\n",
    " ('2017', 'std'): 1695166.9}\n",
    "\n",
    "entradas = [[path_pop, path_pib]]\n",
    "saidas = [test_data]\n",
    "validate(aggregate_pib_pop, entradas, lambda x: x.loc['AC'].apply(lambda x: round(x,1)).to_dict(), saidas, \"7.1\")\n"
   ]
  },
  {
   "cell_type": "markdown",
   "metadata": {
    "id": "fcHOps7mKsy3"
   },
   "source": [
    "### 7.2 Escreva uma função para agregar o dataset do Titanic por classe (pclass) e sexo (sex) e calcular a soma da coluna survived (sobrevivente) e a média e mediana da coluna fare (preço do ticket). O arredondamento para uma casa decimal é opcional.\n",
    "#### Dica: Faça a agregação usando um dicionário que mapeia a coluna e a(s) respectiva(s) métrica(s) de agregação solicitada(s) no enunciado.\n",
    "#### Resultado esperado:\n",
    "```\n",
    "              survived        fare          \n",
    "                   sum        mean    median\n",
    "pclass sex                                  \n",
    "1      female      139  109.412385  80.92915\n",
    "       male         61   69.888385  49.50420\n",
    "2      female       94   23.234827  23.00000\n",
    "       male         25   19.904946  13.00000\n",
    "3      female      106   15.324250  10.48960\n",
    "       male         75   12.415462   7.89580\n",
    "```\n",
    "#### Ou\n",
    "```\n",
    "              survived   fare          \n",
    "                   sum   mean median\n",
    "pclass sex                                  \n",
    "1      female      139  109.4   80.9\n",
    "       male         61   69.9   49.5\n",
    "2      female       94   23.2   23.0\n",
    "       male         25   19.9   13.0\n",
    "3      female      106   15.3   10.5\n",
    "       male         75   12.4    7.9\n",
    "```"
   ]
  },
  {
   "cell_type": "code",
   "execution_count": null,
   "metadata": {
    "id": "cEL3KdyXKsy4"
   },
   "outputs": [],
   "source": [
    "# Faca aqui seus testes do Exercício 7.2\n",
    "path_titanic = 'https://github.com/alexlopespereira/enapespcd2021/raw/main/data/originais/titanic/titanic.xls'\n",
    "\n"
   ]
  },
  {
   "cell_type": "code",
   "execution_count": null,
   "metadata": {
    "deletable": false,
    "executionInfo": {
     "elapsed": 325,
     "status": "ok",
     "timestamp": 1625799294775,
     "user": {
      "displayName": "Alex Lopes",
      "photoUrl": "https://lh3.googleusercontent.com/a-/AOh14GiIodCIc3QmEkRc07ZdX1uDEU_3XpwbFfljE8IyIg=s64",
      "userId": "01606300887134833077"
     },
     "user_tz": 180
    },
    "id": "zFNcV8qyKsy5",
    "nbgrader": {
     "cell_type": "code",
     "checksum": "73677a9f721a9f57e4acb1862bf51d08",
     "grade": false,
     "grade_id": "cell-553em454b14bc30",
     "locked": false,
     "schema_version": 3,
     "solution": true,
     "task": false
    }
   },
   "outputs": [],
   "source": [
    "# Faca aqui sua função do Exercício 7.2\n",
    "def agg_titanic(df_titanic):\n",
    "    \"\"\"retorne aagregação do dataframe df_titanic por pclass e sex e calcular a soma \n",
    "       da coluna survived e a média e mediana da coluna fare.\n",
    "    \"\"\"\n",
    "    # YOUR CODE HERE\n",
    "    raise NotImplementedError()\n"
   ]
  },
  {
   "cell_type": "code",
   "execution_count": null,
   "metadata": {
    "colab": {
     "base_uri": "https://localhost:8080/"
    },
    "deletable": false,
    "editable": false,
    "executionInfo": {
     "elapsed": 1847,
     "status": "ok",
     "timestamp": 1625799296915,
     "user": {
      "displayName": "Alex Lopes",
      "photoUrl": "https://lh3.googleusercontent.com/a-/AOh14GiIodCIc3QmEkRc07ZdX1uDEU_3XpwbFfljE8IyIg=s64",
      "userId": "01606300887134833077"
     },
     "user_tz": 180
    },
    "id": "ExhH4L8sKsy7",
    "nbgrader": {
     "cell_type": "code",
     "checksum": "a26982f164b931d17f33b71089951cf9",
     "grade": true,
     "grade_id": "cell-0se2b6ce454bdc60",
     "locked": true,
     "points": 1,
     "schema_version": 3,
     "solution": false,
     "task": false
    },
    "outputId": "8bb756b1-74e8-4e3b-feb9-63e30564a765"
   },
   "outputs": [],
   "source": [
    "# Faca aqui a validacao do Exercicio 7.2\n",
    "path_titanic = 'https://github.com/alexlopespereira/enapespcd2021/raw/main/data/originais/titanic/titanic.xls'\n",
    "df_titanic = pd.read_excel(path_titanic)\n",
    "\n",
    "test_data = {('survived', 'sum'): {(1, 'female'): 139,  (1, 'male'): 61,\n",
    "  (2, 'female'): 94,  (2, 'male'): 25,  (3, 'female'): 106,  (3, 'male'): 75},\n",
    "  ('fare', 'mean'): {(1, 'female'): 109.4,  (1, 'male'): 69.9,  (2, 'female'): 23.2,\n",
    "  (2, 'male'): 19.9,  (3, 'female'): 15.3,  (3, 'male'): 12.4}, \n",
    "  ('fare', 'median'): {(1, 'female'): 80.9,  (1, 'male'): 49.5,  \n",
    "  (2, 'female'): 23.0,  (2, 'male'): 13.0,  (3, 'female'): 10.5,  (3, 'male'): 7.9}}\n",
    "\n",
    "\n",
    "entradas = [[df_titanic]]\n",
    "saidas = [test_data]\n",
    "validate(agg_titanic, entradas, lambda x: x.apply(lambda x: round(x, 1)).to_dict(), saidas, \"7.2\")"
   ]
  },
  {
   "cell_type": "markdown",
   "metadata": {
    "id": "G6a8RGlDKsy7"
   },
   "source": [
    "### 7.3 Escreva uma função para realizar o agrupamento do dataset de morbidade por UF e por município aplicando a soma sobre as colunas Valor_total, Internações e Dias_permanência. Em seguida calcule, para todos os municípios nesta agregação, o custo médio diário das internações com a fórmula abaixo. O arredondamento é opcional. \n",
    "#### Dica: Faça a agregação usando um dicionário que mapeia a coluna e a respectiva métrica de agregação solicitada no enunciado.\n",
    "#### Use a seguinte fórmula para calculár o custo diário médio de internação:\n",
    "```python \n",
    "custo_medio_diario_intern = Valor_total/Dias_permanência\n",
    "```\n",
    "\n",
    "#### As 3 primeiras linhas do resultado esperado:\n",
    "```\n",
    "                 Valor_total  Internações  Dias_permanência   custo_medio_diario_intern\n",
    "uf municipio                                                  \n",
    "AC Acrelândia      579340.95        643.0            2805.0   206.538663 \n",
    "   Assis Brasil    418280.89        669.0            2518.0   166.116319 \n",
    "   Brasiléia      1814919.82       2118.0            8349.0   217.381701\n",
    "```\n",
    "\n",
    "#### Ou\n",
    "```\n",
    "                 Valor_total  Internações  Dias_permanência   custo_medio_diario_intern  \n",
    "uf municipio                                                  \n",
    "AC Acrelândia       579341.0        643.0            2805.0   206.5\n",
    "   Assis Brasil     418280.9        669.0            2518.0   166.1 \n",
    "   Brasiléia       1814919.8       2118.0            8349.0   217.4  \n",
    "```"
   ]
  },
  {
   "cell_type": "code",
   "execution_count": null,
   "metadata": {
    "id": "6WR5TiawKsy8"
   },
   "outputs": [],
   "source": [
    "# Faca aqui seus testes do Exercício 7.3\n",
    "path_morbidade = 'https://github.com/alexlopespereira/enapespcd2021/raw/main/data/originais/morbidade/consolidado/morbidade.csv'\n",
    "path_pop = 'https://github.com/alexlopespereira/enapespcd2021/raw/main/data/originais/populacao/estimativa_dou_2017.xlsx'\n",
    "\n"
   ]
  },
  {
   "cell_type": "code",
   "execution_count": null,
   "metadata": {
    "deletable": false,
    "executionInfo": {
     "elapsed": 321,
     "status": "ok",
     "timestamp": 1625799304802,
     "user": {
      "displayName": "Alex Lopes",
      "photoUrl": "https://lh3.googleusercontent.com/a-/AOh14GiIodCIc3QmEkRc07ZdX1uDEU_3XpwbFfljE8IyIg=s64",
      "userId": "01606300887134833077"
     },
     "user_tz": 180
    },
    "id": "kt6f8yuFKsy9",
    "nbgrader": {
     "cell_type": "code",
     "checksum": "baa89358a1d50bc3f329027fe0db13f1",
     "grade": false,
     "grade_id": "8cell-5b4dc5640345be",
     "locked": false,
     "schema_version": 3,
     "solution": true,
     "task": false
    }
   },
   "outputs": [],
   "source": [
    "# Faça aqui sua função do Exercício 7.3\n",
    "def custo_medio_internacao_agregado(df_morbidade_pop):\n",
    "    # YOUR CODE HERE\n",
    "    raise NotImplementedError()"
   ]
  },
  {
   "cell_type": "code",
   "execution_count": null,
   "metadata": {
    "colab": {
     "base_uri": "https://localhost:8080/"
    },
    "deletable": false,
    "editable": false,
    "executionInfo": {
     "elapsed": 2712,
     "status": "ok",
     "timestamp": 1625799307767,
     "user": {
      "displayName": "Alex Lopes",
      "photoUrl": "https://lh3.googleusercontent.com/a-/AOh14GiIodCIc3QmEkRc07ZdX1uDEU_3XpwbFfljE8IyIg=s64",
      "userId": "01606300887134833077"
     },
     "user_tz": 180
    },
    "id": "EszxweAkKsy-",
    "nbgrader": {
     "cell_type": "code",
     "checksum": "e0a658001b6675960ebf7a8ca2602900",
     "grade": true,
     "grade_id": "cell-eee221934345517c",
     "locked": true,
     "points": 1,
     "schema_version": 3,
     "solution": false,
     "task": false
    },
    "outputId": "eb2efcc7-5d2f-42d1-ce8e-117977c376e0"
   },
   "outputs": [],
   "source": [
    "# Faca aqui a validacao do Exercicio 7.3\n",
    "path_morbidade = 'https://github.com/alexlopespereira/enapespcd2021/raw/main/data/originais/morbidade/consolidado/morbidade.csv'\n",
    "path_pop = 'https://github.com/alexlopespereira/enapespcd2021/raw/main/data/originais/populacao/estimativa_dou_2017.xlsx'\n",
    "\n",
    "test_data = {'Valor_total': 1534117.3,\n",
    " 'Internações': 1094.0,\n",
    " 'Dias_permanência': 5291.0,\n",
    " 'custo_medio_diario_intern': 289.9}\n",
    "\n",
    "df_pop = pd.read_excel(path_pop, sheet_name=\"Municipios\", dtype={'cod_munic': str, 'cod_uf': str})\n",
    "df_pop['cod_ibge6'] = df_pop['cod_uf'] + df_pop['cod_munic'].apply(lambda x: x[:-1])\n",
    "df_morbidade = pd.read_csv(path_morbidade, sep=';', decimal=',', dtype={'cod_ibge6': str}, \n",
    "                           na_values=['-', '...'])\n",
    "df_pop_morbidade = pd.merge(df_pop, df_morbidade, on='cod_ibge6') \n",
    "\n",
    "entradas = [[df_pop_morbidade]]\n",
    "saidas = [test_data]\n",
    "validate(custo_medio_internacao_agregado, entradas, lambda x: x.loc['GO','Abadia de Goiás'].apply(lambda x: round(x, 1)).to_dict(), saidas, \"7.3\")"
   ]
  },
  {
   "cell_type": "markdown",
   "metadata": {
    "id": "2jQGgIY0Ksy-"
   },
   "source": [
    "### 7.4 Crie uma função python para retornar a mediana da coluna Valor_total de 5 municípios do dataset de Morbidade do Datasus (ao longo do período representado no dataset disponibilizado). Os municípios de interesse são aqueles que obtiverem o maior custo médio diário de internação em todo o brasil, nesse período. \n",
    "#### Esta métrica de custo médio diário de internação foi calculada no exercício 9.3. \n",
    "#### Dica 1: Escreva algumas sentenças de código usando operações do pandas para encontrar quais são esses 5 municípios.\n",
    "#### Dica 2: Depois de encontrar o codigo IBGE desses 5 municípios, faça um filtro no dataframe dos dados de morbidade.\n",
    "#### Dica 3: Calcule as medianas das séries referentes a cada município, utilizando uma operação de groupby.\n",
    "\n",
    "#### Resultado esperado:\n",
    "```\n",
    "                                 Valor_total\n",
    "municipio             cod_ibge6             \n",
    "Campina Grande do Sul 410400      2579493.47\n",
    "Cardoso Moreira       330115       167867.62\n",
    "Italva                330205       147509.47\n",
    "Pedrinhas Paulista    353715        30360.03\n",
    "Taquaral              355365        15871.31\n",
    "\n",
    "``` \n",
    "\n",
    "#### Ou:\n",
    "```\n",
    "               municipio cod_ibge6  Valor_total\n",
    "0  Campina Grande do Sul    410400   2579493.47\n",
    "1        Cardoso Moreira    330115    167867.62\n",
    "2                 Italva    330205    147509.47\n",
    "3     Pedrinhas Paulista    353715     30360.03\n",
    "4               Taquaral    355365     15871.31\n",
    "```"
   ]
  },
  {
   "cell_type": "code",
   "execution_count": null,
   "metadata": {
    "executionInfo": {
     "elapsed": 304,
     "status": "ok",
     "timestamp": 1625799340825,
     "user": {
      "displayName": "Alex Lopes",
      "photoUrl": "https://lh3.googleusercontent.com/a-/AOh14GiIodCIc3QmEkRc07ZdX1uDEU_3XpwbFfljE8IyIg=s64",
      "userId": "01606300887134833077"
     },
     "user_tz": 180
    },
    "id": "H2PbdnVeKsy_"
   },
   "outputs": [],
   "source": [
    "# Faca aqui seus testes do Exercício 7.4\n",
    "path_morbidade = 'https://github.com/alexlopespereira/enapespcd2021/raw/main/data/originais/morbidade/consolidado/morbidade.csv'\n",
    "path_pop = 'https://github.com/alexlopespereira/enapespcd2021/raw/main/data/originais/populacao/estimativa_dou_2017.xlsx'\n",
    "\n"
   ]
  },
  {
   "cell_type": "code",
   "execution_count": null,
   "metadata": {
    "deletable": false,
    "executionInfo": {
     "elapsed": 276,
     "status": "ok",
     "timestamp": 1625799342318,
     "user": {
      "displayName": "Alex Lopes",
      "photoUrl": "https://lh3.googleusercontent.com/a-/AOh14GiIodCIc3QmEkRc07ZdX1uDEU_3XpwbFfljE8IyIg=s64",
      "userId": "01606300887134833077"
     },
     "user_tz": 180
    },
    "id": "y17GYwvGKszB",
    "nbgrader": {
     "cell_type": "code",
     "checksum": "6a3fff40bd26d8009f4372658871b968",
     "grade": false,
     "grade_id": "cell-919c163093453227d",
     "locked": false,
     "schema_version": 3,
     "solution": true,
     "task": false
    }
   },
   "outputs": [],
   "source": [
    "# YOUR CODE HERE\n",
    "raise NotImplementedError()"
   ]
  },
  {
   "cell_type": "code",
   "execution_count": null,
   "metadata": {
    "colab": {
     "base_uri": "https://localhost:8080/"
    },
    "executionInfo": {
     "elapsed": 2679,
     "status": "ok",
     "timestamp": 1625799346473,
     "user": {
      "displayName": "Alex Lopes",
      "photoUrl": "https://lh3.googleusercontent.com/a-/AOh14GiIodCIc3QmEkRc07ZdX1uDEU_3XpwbFfljE8IyIg=s64",
      "userId": "01606300887134833077"
     },
     "user_tz": 180
    },
    "id": "BGS6-pWTKszC",
    "outputId": "91b34cd3-e31c-4f52-ab73-27bd09481f59"
   },
   "outputs": [],
   "source": [
    "# Faca aqui a validacao do Exercicio 7.4\n",
    "path_morbidade = 'https://github.com/alexlopespereira/enapespcd2021/raw/main/data/originais/morbidade/consolidado/morbidade.csv'\n",
    "path_pop = 'https://github.com/alexlopespereira/enapespcd2021/raw/main/data/originais/populacao/estimativa_dou_2017.xlsx'\n",
    "test_data = {'Valor_total': {0: 2579493.47, 1: 167867.62, 2: 147509.47, 3: 30360.03, 4: 15871.31}, \n",
    "              'cod_ibge6': {0: '410400', 1: '330115', 2: '330205', 3: '353715', 4: '355365'}, \n",
    "              'municipio': {0: 'Campina Grande do Sul', 1: 'Cardoso Moreira', 2: 'Italva', 3: 'Pedrinhas Paulista', 4: 'Taquaral'}}\n",
    "\n",
    "\n",
    "entradas = [[path_morbidade, path_pop]]\n",
    "saidas = [test_data]\n",
    "val1, m = validate(median_top5, entradas, lambda x: x.reset_index()[['municipio', 'cod_ibge6', 'Valor_total', ]].to_dict(), saidas, \"7.4\")\n",
    "print(m)"
   ]
  },
  {
   "cell_type": "markdown",
   "metadata": {
    "id": "X--QhMGiKszC"
   },
   "source": [
    "### 7.5 Escreva uma função para retornar um dataframe com os nomes das colunas, o total e a porcentagem de valores NA (de cada coluna) num dataframe passado como argumento para esta função.\n",
    "#### Arredonde (com o método round) o resultado para duas casas decimais (o assert vai testar com 2 casas decimais).\n",
    "#### Dica 1: Use a função concat para concatenar duas séries. Especifique axis=1 para concatenar por colunas. Se quiser dar nome as colunas depois de concatenar, utilize o argumento keys=['Total','Porcentagem']\n",
    "#### Dica 2: Uma das séries deve conter o total de valores NA, e a outra série a porcentagem de valores NA. Depois disso concatena-as usando a função concat."
   ]
  },
  {
   "cell_type": "code",
   "execution_count": null,
   "metadata": {
    "id": "-3yi_UQYKszD"
   },
   "outputs": [],
   "source": [
    "# Faca aqui seus testes do Exercício 7.5\n",
    "path_titanic = 'https://github.com/alexlopespereira/enapespcd2021/raw/main/data/originais/titanic/titanic.xls'\n",
    "\n"
   ]
  },
  {
   "cell_type": "code",
   "execution_count": null,
   "metadata": {
    "deletable": false,
    "executionInfo": {
     "elapsed": 1973,
     "status": "ok",
     "timestamp": 1625799356806,
     "user": {
      "displayName": "Alex Lopes",
      "photoUrl": "https://lh3.googleusercontent.com/a-/AOh14GiIodCIc3QmEkRc07ZdX1uDEU_3XpwbFfljE8IyIg=s64",
      "userId": "01606300887134833077"
     },
     "user_tz": 180
    },
    "id": "U657FoTZKszD",
    "nbgrader": {
     "cell_type": "code",
     "checksum": "c180bcf25fa7eeec9d2805ca97b871cf",
     "grade": false,
     "grade_id": "cell-c705ab9d34573b9f9",
     "locked": false,
     "schema_version": 3,
     "solution": true,
     "task": false
    }
   },
   "outputs": [],
   "source": [
    "# Faca aqui sua função do Exercício 7.5\n",
    "def missing_percentage(df):\n",
    "    \"\"\"Retorna um dataframe com os nomes das colunas, o total e a porcentagem de valores\n",
    "       NA em cada coluna do dataframe passado como argumento.\n",
    "    \"\"\"\n",
    "    # YOUR CODE HERE\n",
    "    raise NotImplementedError()"
   ]
  },
  {
   "cell_type": "code",
   "execution_count": null,
   "metadata": {
    "colab": {
     "base_uri": "https://localhost:8080/"
    },
    "deletable": false,
    "editable": false,
    "executionInfo": {
     "elapsed": 22,
     "status": "ok",
     "timestamp": 1625799357080,
     "user": {
      "displayName": "Alex Lopes",
      "photoUrl": "https://lh3.googleusercontent.com/a-/AOh14GiIodCIc3QmEkRc07ZdX1uDEU_3XpwbFfljE8IyIg=s64",
      "userId": "01606300887134833077"
     },
     "user_tz": 180
    },
    "id": "6dQMrsW6KszE",
    "nbgrader": {
     "cell_type": "code",
     "checksum": "8c8c787155648bbcf58b2f419d076984",
     "grade": true,
     "grade_id": "cell-9ffdsa883458e9282a",
     "locked": true,
     "points": 1,
     "schema_version": 3,
     "solution": false,
     "task": false
    },
    "outputId": "d3baa771-f993-4a44-d847-ed6dcd8cc046"
   },
   "outputs": [],
   "source": [
    "# Faca aqui a validacao do Exercício 7.5\n",
    "path_titanic = 'https://github.com/alexlopespereira/enapespcd2021/raw/main/data/originais/titanic/titanic.xls'\n",
    "df_titanic = pd.read_excel(path_titanic)\n",
    "\n",
    "test_data = {'Total': {'body': 1188,  'cabin': 1014,  'boat': 823,  'home.dest': 564,\n",
    "                       'age': 263,  'embarked': 2,  'fare': 1,  'ticket': 0,  'parch': 0,  \n",
    "                       'sibsp': 0,  'sex': 0,  'name': 0,  'survived': 0,  'pclass': 0},\n",
    "             'Porcentagem': {'body': 90.76,  'cabin': 77.46,  'boat': 62.87,\n",
    "                            'home.dest': 43.09,  'age': 20.09,  'embarked': 0.15, \n",
    "                            'fare': 0.08,  'ticket': 0.0,  'parch': 0.0,  'sibsp': 0.0,\n",
    "                            'sex': 0.0,  'name': 0.0,  'survived': 0.0,  'pclass': 0.0}}\n",
    "\n",
    "\n",
    "\n",
    "entradas = [[df_titanic]]\n",
    "saidas = [test_data]\n",
    "validate(missing_percentage, entradas, lambda x: x.to_dict(), saidas, \"7.5\")"
   ]
  },
  {
   "cell_type": "markdown",
   "metadata": {
    "id": "BZHnEe09KszE"
   },
   "source": [
    "### 7.6 Escreva uma função para colocar num mesmo dataframe os dados de PIB percapita e índice de gini dos municípios brasieiros. \n",
    "#### Retorne os top 10 registros com maiores PIB percapita com as seguintes colunas 'pib_percapita', 'cod_ibge6', '1991', '2000' e '2010'.\n",
    "\n",
    "#### Sugestão: Responda, baseado em dados desses dois dadaframes, se um PIB percapita significativamente maior, tem ajudado a melhorar o índice de Gini nesses municípios. Comente com o professor e colegas casos concretos ou estatísticas extraídas dos dois dataframes que demonstram seu argumento.\n",
    "\n",
    "#### Dica 2: Ao ler o arquivo CSV do índice de gini, se preciso, use encoding='utf8' como parâmetro do método read_csv\n"
   ]
  },
  {
   "cell_type": "markdown",
   "metadata": {
    "id": "IyzQJOy4KszF"
   },
   "source": [
    "### Use as funções a seguir. Elas serão úteis na resolução deste exercício."
   ]
  },
  {
   "cell_type": "code",
   "execution_count": null,
   "metadata": {
    "deletable": false,
    "executionInfo": {
     "elapsed": 310,
     "status": "ok",
     "timestamp": 1625799364233,
     "user": {
      "displayName": "Alex Lopes",
      "photoUrl": "https://lh3.googleusercontent.com/a-/AOh14GiIodCIc3QmEkRc07ZdX1uDEU_3XpwbFfljE8IyIg=s64",
      "userId": "01606300887134833077"
     },
     "user_tz": 180
    },
    "id": "RMidzh3RKszF",
    "nbgrader": {
     "cell_type": "code",
     "checksum": "b7792a2e88c140c94dd7b4eb242746a2",
     "grade": false,
     "grade_id": "cell-7c93b64334589243",
     "locked": false,
     "schema_version": 3,
     "solution": true,
     "task": false
    }
   },
   "outputs": [],
   "source": [
    "def merge_pop_pib(path_pop, path_pib):\n",
    "    \"\"\"retorne um dataframe resultante do merge dos dados do pib e da população\n",
    "    \"\"\"\n",
    "    # YOUR CODE HERE\n",
    "    raise NotImplementedError()\n",
    "    \n",
    "def pib_percapita(pib_pop):\n",
    "    \"\"\"retorne um dataframe contendo o PIB percapita dos municípios.\n",
    "    \"\"\"\n",
    "    # YOUR CODE HERE\n",
    "    raise NotImplementedError()\n"
   ]
  },
  {
   "cell_type": "code",
   "execution_count": null,
   "metadata": {
    "executionInfo": {
     "elapsed": 5,
     "status": "ok",
     "timestamp": 1625799365579,
     "user": {
      "displayName": "Alex Lopes",
      "photoUrl": "https://lh3.googleusercontent.com/a-/AOh14GiIodCIc3QmEkRc07ZdX1uDEU_3XpwbFfljE8IyIg=s64",
      "userId": "01606300887134833077"
     },
     "user_tz": 180
    },
    "id": "tEXlJeM7KszF"
   },
   "outputs": [],
   "source": [
    "# Faca aqui seus testes do Exercício 7.6\n",
    "path_pib = 'https://github.com/alexlopespereira/enapespcd2021/raw/main/data/originais/pib/pib_municipios.xlsx'\n",
    "path_gini = 'https://github.com/alexlopespereira/enapespcd2021/raw/main/data/originais/gini/ginibr.csv'\n",
    "path_pop= 'https://github.com/alexlopespereira/enapespcd2021/raw/main/data/originais/populacao/estimativa_dou_2017.xlsx'\n"
   ]
  },
  {
   "cell_type": "code",
   "execution_count": null,
   "metadata": {
    "deletable": false,
    "executionInfo": {
     "elapsed": 327,
     "status": "ok",
     "timestamp": 1625799366360,
     "user": {
      "displayName": "Alex Lopes",
      "photoUrl": "https://lh3.googleusercontent.com/a-/AOh14GiIodCIc3QmEkRc07ZdX1uDEU_3XpwbFfljE8IyIg=s64",
      "userId": "01606300887134833077"
     },
     "user_tz": 180
    },
    "id": "qjrm6p3mKszG",
    "nbgrader": {
     "cell_type": "code",
     "checksum": "c44dcb5906b69ac95b574781e5713b7b",
     "grade": false,
     "grade_id": "cell-553em52434514bc30",
     "locked": false,
     "schema_version": 3,
     "solution": true,
     "task": false
    }
   },
   "outputs": [],
   "source": [
    "# Faca aqui sua função do Exercício 7.6\n",
    "def top10_municipios(path_pib, path_gini, path_pop):\n",
    "    \"\"\"retorne um dataframe contendo os 10 municipios com maiores PIB percapita. O dataframe deve conter também \n",
    "    o valor do índice de gini (1991, 2000 e 2010) e o código ibge do respectivo município.\n",
    "    \"\"\"\n",
    "    # YOUR CODE HERE\n",
    "    raise NotImplementedError()\n"
   ]
  },
  {
   "cell_type": "code",
   "execution_count": null,
   "metadata": {
    "colab": {
     "base_uri": "https://localhost:8080/"
    },
    "deletable": false,
    "editable": false,
    "executionInfo": {
     "elapsed": 3087,
     "status": "ok",
     "timestamp": 1625799370401,
     "user": {
      "displayName": "Alex Lopes",
      "photoUrl": "https://lh3.googleusercontent.com/a-/AOh14GiIodCIc3QmEkRc07ZdX1uDEU_3XpwbFfljE8IyIg=s64",
      "userId": "01606300887134833077"
     },
     "user_tz": 180
    },
    "id": "59WC-IPVKszH",
    "nbgrader": {
     "cell_type": "code",
     "checksum": "9a407ed596539b3ff523f703ff447376",
     "grade": true,
     "grade_id": "cell-0se2b6c34506bdc60",
     "locked": true,
     "points": 1,
     "schema_version": 3,
     "solution": false,
     "task": false
    },
    "outputId": "902ec489-c6fd-4068-cd91-ce42c0580aae"
   },
   "outputs": [],
   "source": [
    "# Faca aqui a validacao do Exercício 7.6\n",
    "path_pib = 'https://github.com/alexlopespereira/enapespcd2021/raw/main/data/originais/pib/pib_municipios.xlsx'\n",
    "path_gini = 'https://github.com/alexlopespereira/enapespcd2021/raw/main/data/originais/gini/ginibr.csv'\n",
    "path_pop='https://github.com/alexlopespereira/enapespcd2021/raw/main/data/originais/populacao/estimativa_dou_2017.xlsx'\n",
    "\n",
    "test_data = {'pib_percapita': 344.8, '1991': 0.5, '2000': 0.6, '2010': 0.5}\n",
    "\n",
    "entradas = [[path_pib, path_gini, path_pop]]\n",
    "saidas = [test_data]\n",
    "validate(top10_municipios, entradas, lambda x: x.iloc[0][['pib_percapita', '1991', '2000', '2010']].apply(lambda x: round(x,1)).to_dict(), saidas, \"8.6\")"
   ]
  },
  {
   "cell_type": "markdown",
   "metadata": {
    "id": "DJrln0IdKszI"
   },
   "source": [
    "### 7.7 Construa uma função para concatenar (verticalmente) o conteúdo de vários arquivos CSV do dataset de morbidade. Esses arquivos contêm dados com colunas compatíveis.\n",
    "#### Extraia a data do cabeçalho do arquivo. Divida a coluna 'Município' em duas outras contendo o código ibge de 6 caracteres e o nome do município.\n",
    "#### Dica 1: Construa uma lista de arquivos presentes num diretório usando a função glob da biblioteca glob\n",
    "#### Dica 2: Num loop, leia os arquivo duas vezes. Na primeira vez, pra carregar somente a parte desejada do cabeçalho, onde se encontra o mês/ano do respectivo arquivo, utilize o parâmetro nrows. Preste atenção ao separador dos arquivos CSV, é um ponto e vírgula.\n",
    "#### Dica 3: O método split pode dividir uma string na posição de um caracter especificado.\n",
    "#### Dica 4: Use o mapeamento nomes abreviados de meses em português para inglês disponibilizado na célula abaixo. Converta os nomes dos meses para inglês na hora de inseri-los no dataframe. Certifique-se de que está usando a configuração de locale en_US.\n",
    "#### Dica 5: O código strptime(nome_mes,'%b').tm_mon converte nome do mês no seu respectivo número de 1 a 12\n",
    "#### Dica 6: Para criar uma data a partir dos seus atributos use um código semelhante ao exemplo a seguir import datetime datetime.date(year=2020, month=1, day=1)\n",
    "#### Dica 7: Para construir uma nova coluna aplicando uma regra para cada célula use a função apply e construa uma função lambda.\n",
    "#### Dica 8: O método join de uma string consegue unir, com um caracter separador, o conteúdo de uma lista de  elementos numa string. Exemplo: ' '.join(lista_exemplo), produz uma string concatenando com um espaçao os elementos da lista_exemplo. Pode ser útil para isolar o nome do município.\n",
    "#### Dica 9: Adicione todos os dataframes construídos dentro do loop a uma lista e depois use o método concat para concatenar os dataframes verticalmente. Use o parâmetro ignore_index=True para ignorar o índice dos dataframes.\n",
    "\n"
   ]
  },
  {
   "cell_type": "code",
   "execution_count": null,
   "metadata": {
    "colab": {
     "base_uri": "https://localhost:8080/"
    },
    "executionInfo": {
     "elapsed": 3372,
     "status": "ok",
     "timestamp": 1625799385832,
     "user": {
      "displayName": "Alex Lopes",
      "photoUrl": "https://lh3.googleusercontent.com/a-/AOh14GiIodCIc3QmEkRc07ZdX1uDEU_3XpwbFfljE8IyIg=s64",
      "userId": "01606300887134833077"
     },
     "user_tz": 180
    },
    "id": "lxPCTHr8KszI",
    "outputId": "cef1ecc7-d3d2-4592-8ffe-211515e84422"
   },
   "outputs": [],
   "source": [
    "# Faca aqui seus testes do Exercício 7.7\n",
    "# Se precisar, faça o clone do repositorio\n",
    "!git clone \"https://github.com/alexlopespereira/enapespcd2021.git\"\n",
    "# Verifique se os arquivos estão no caminho esperado\n",
    "!ls ./enapespcd2021/data/originais/morbidade/desagregado/2020/   \n",
    "dir_path = \"./enapespcd2021/data/originais/morbidade/desagregado/2020/\"\n",
    "mapeamento = {\"Jan\":\"Jan\", \"Fev\": \"Feb\", \"Mar\": \"Mar\", \n",
    "              \"Abr\": \"Apr\", \"Mai\":\"May\", \"Jun\":\"Jun\", \"Jul\":\"Jul\", \"Ago\":\"Aug\", \n",
    "              \"Set\":\"Sep\", \"Out\":\"Oct\", \"Nov\":\"Nov\", \"Dez\":\"Dec\"}\n"
   ]
  },
  {
   "cell_type": "code",
   "execution_count": null,
   "metadata": {
    "deletable": false,
    "executionInfo": {
     "elapsed": 306,
     "status": "ok",
     "timestamp": 1625799391870,
     "user": {
      "displayName": "Alex Lopes",
      "photoUrl": "https://lh3.googleusercontent.com/a-/AOh14GiIodCIc3QmEkRc07ZdX1uDEU_3XpwbFfljE8IyIg=s64",
      "userId": "01606300887134833077"
     },
     "user_tz": 180
    },
    "id": "xRySpst9KszI",
    "nbgrader": {
     "cell_type": "code",
     "checksum": "211c907fd5e0ea30b0ea9ac51040fa00",
     "grade": false,
     "grade_id": "cell-5b4dc56345839be",
     "locked": false,
     "schema_version": 3,
     "solution": true,
     "task": false
    }
   },
   "outputs": [],
   "source": [
    "# Faca aqui sua função do Exercício 7.7\n",
    "def concat_morbidade(dir_path):\n",
    "    \"\"\"Retorne um dataframe com a concatenação vertical dos dados dos arquivos do diretorio dir_path\n",
    "    \"\"\"\n",
    "    # YOUR CODE HERE\n",
    "    raise NotImplementedError()\n"
   ]
  },
  {
   "cell_type": "code",
   "execution_count": null,
   "metadata": {
    "colab": {
     "base_uri": "https://localhost:8080/"
    },
    "deletable": false,
    "editable": false,
    "executionInfo": {
     "elapsed": 4874,
     "status": "ok",
     "timestamp": 1625800734732,
     "user": {
      "displayName": "Alex Lopes",
      "photoUrl": "https://lh3.googleusercontent.com/a-/AOh14GiIodCIc3QmEkRc07ZdX1uDEU_3XpwbFfljE8IyIg=s64",
      "userId": "01606300887134833077"
     },
     "user_tz": 180
    },
    "id": "kCTq3lFtKszJ",
    "nbgrader": {
     "cell_type": "code",
     "checksum": "89d9c8a26d08b8c4491a095e0bb814de",
     "grade": true,
     "grade_id": "cell-8559934570a298a27",
     "locked": true,
     "points": 0,
     "schema_version": 3,
     "solution": false,
     "task": false
    },
    "outputId": "64a832d6-4f18-48b7-8dc3-f28eabd3de14"
   },
   "outputs": [],
   "source": [
    "# Faca aqui a validacao do Exercício 7.7\n",
    "# Os arquivos devem estar nesse caminho\n",
    "dir_path = \"./enapespcd2021/data/originais/morbidade/desagregado/2020/\"\n",
    "test_data1 = {'Valor_médio_intern': '1040,25', 'ano': '2020'}\n",
    "test_data2 = {'Valor_médio_intern': 1040.25, 'ano': '2020'}\n",
    "entradas = [[dir_path]]\n",
    "saidas = [test_data1]\n",
    "\n",
    "val1 = validate(concat_morbidade, entradas, lambda x: x.set_index(['cod_ibge6']).loc['110001',['Valor_médio_intern','ano']].iloc[0].to_dict(), saidas, \"8.7\")\n",
    "\n",
    "if not val1:\n",
    "    saidas = [test_data2]\n",
    "    val2 = validate(concat_morbidade, entradas, lambda x: x.set_index(['cod_ibge6']).loc['110001',['Valor_médio_intern','ano']].iloc[0].to_dict(), saidas, \"8.7\")\n",
    "    print(val2)\n",
    "else:\n",
    "    print(val1)"
   ]
  }
 ],
 "metadata": {
  "colab": {
   "collapsed_sections": [],
   "name": "Aula7_Exercicio.ipynb",
   "provenance": []
  },
  "kernelspec": {
   "display_name": "Python 3",
   "language": "python",
   "name": "python3"
  },
  "language_info": {
   "codemirror_mode": {
    "name": "ipython",
    "version": 3
   },
   "file_extension": ".py",
   "mimetype": "text/x-python",
   "name": "python",
   "nbconvert_exporter": "python",
   "pygments_lexer": "ipython3",
   "version": "3.8.10"
  },
  "name": "_merged",
  "varInspector": {
   "cols": {
    "lenName": 16,
    "lenType": 16,
    "lenVar": 40
   },
   "kernels_config": {
    "python": {
     "delete_cmd_postfix": "",
     "delete_cmd_prefix": "del ",
     "library": "var_list.py",
     "varRefreshCmd": "print(var_dic_list())"
    },
    "r": {
     "delete_cmd_postfix": ") ",
     "delete_cmd_prefix": "rm(",
     "library": "var_list.r",
     "varRefreshCmd": "cat(var_dic_list()) "
    }
   },
   "types_to_exclude": [
    "module",
    "function",
    "builtin_function_or_method",
    "instance",
    "_Feature"
   ],
   "window_display": false
  }
 },
 "nbformat": 4,
 "nbformat_minor": 0
}

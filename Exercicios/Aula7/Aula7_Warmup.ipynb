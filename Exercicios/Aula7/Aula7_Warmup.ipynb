{
 "cells": [
  {
   "cell_type": "markdown",
   "metadata": {
    "id": "BvBCGh1N-uTc"
   },
   "source": [
    "## Aula 7 - Agregação com Pandas"
   ]
  },
  {
   "cell_type": "code",
   "execution_count": null,
   "metadata": {
    "executionInfo": {
     "elapsed": 9,
     "status": "ok",
     "timestamp": 1625798564751,
     "user": {
      "displayName": "Alex Lopes",
      "photoUrl": "https://lh3.googleusercontent.com/a-/AOh14GiIodCIc3QmEkRc07ZdX1uDEU_3XpwbFfljE8IyIg=s64",
      "userId": "01606300887134833077"
     },
     "user_tz": 180
    },
    "id": "IsOcEZHW-uTd"
   },
   "outputs": [],
   "source": [
    "import pandas as pd\n",
    "import numpy as np"
   ]
  },
  {
   "cell_type": "markdown",
   "metadata": {
    "id": "WgDXCjrn-uTe"
   },
   "source": [
    "#### W7.1 Considerando o dataframe df a seguir, crie um objeto de agrupamento da coluna data1 agrupando por key1."
   ]
  },
  {
   "cell_type": "code",
   "execution_count": null,
   "metadata": {
    "colab": {
     "base_uri": "https://localhost:8080/",
     "height": 204
    },
    "executionInfo": {
     "elapsed": 800,
     "status": "ok",
     "timestamp": 1621284052443,
     "user": {
      "displayName": "Rodrigo Dias Botelho",
      "photoUrl": "https://lh3.googleusercontent.com/a-/AOh14GjgTCvHxMnMBu2B5-g2VAM3j8PQUhXgqpsy81hnkA=s64",
      "userId": "15723687865298183300"
     },
     "user_tz": 180
    },
    "id": "Pa4Or8Ru-uTe",
    "outputId": "b1fb058a-50c3-4538-de08-8cef86739997"
   },
   "outputs": [],
   "source": [
    "# Criando um dataframe\n",
    "df = pd.DataFrame({'key1' : ['a', 'a', 'b', 'b', 'a'], \n",
    "                   'key2' : ['one', 'two', 'one', 'two', 'one'],\n",
    "                   'data1' : np.random.randn(5), 'data2' : np.random.randn(5)})\n",
    "df"
   ]
  },
  {
   "cell_type": "code",
   "execution_count": null,
   "metadata": {
    "deletable": false,
    "id": "PFioJJOM-uTf",
    "nbgrader": {
     "cell_type": "code",
     "checksum": "8ae19862c7f6a28ac2769010d4f08903",
     "grade": false,
     "grade_id": "cell-9c7883b7900d3f37",
     "locked": false,
     "schema_version": 3,
     "solution": true,
     "task": false
    }
   },
   "outputs": [],
   "source": [
    "# Faça aqui \n",
    "# YOUR CODE HERE\n",
    "raise NotImplementedError()"
   ]
  },
  {
   "cell_type": "markdown",
   "metadata": {
    "id": "Di5v4F5P-uTf"
   },
   "source": [
    "#### W7.2 Aplique a métrica Média (mean) sobre esse objeto de agrupamento criado no exercicio W7.1."
   ]
  },
  {
   "cell_type": "code",
   "execution_count": null,
   "metadata": {
    "deletable": false,
    "id": "EzQ1sHCp-uTg",
    "nbgrader": {
     "cell_type": "code",
     "checksum": "2c73433225d0ed2b58eecc41cffbda2d",
     "grade": false,
     "grade_id": "cell-9f2a88c5161d7e1b",
     "locked": false,
     "schema_version": 3,
     "solution": true,
     "task": false
    },
    "outputId": "6585123b-4cb6-47fe-f7c2-92303b3cbd1f"
   },
   "outputs": [],
   "source": [
    "# Faça aqui \n",
    "# YOUR CODE HERE\n",
    "raise NotImplementedError()"
   ]
  },
  {
   "cell_type": "markdown",
   "metadata": {
    "id": "cfDBwVl_-uTg"
   },
   "source": [
    "#### W7.3 Considerando o dataframe df2 a seguir, crie um objeto de agrupamento da coluna data1 agrupando por key1 e key2."
   ]
  },
  {
   "cell_type": "code",
   "execution_count": null,
   "metadata": {
    "id": "7ZIQU4om-uTg"
   },
   "outputs": [],
   "source": [
    "# Criando um dataframe\n",
    "df2 = pd.DataFrame({'key1' : ['a', 'a', 'b', 'b', 'a'], \n",
    "                   'key2' : [1, 2, 1, 2, 1],\n",
    "                   'data1' : np.random.randn(5), 'data2' : np.random.randn(5)})\n",
    "df2"
   ]
  },
  {
   "cell_type": "code",
   "execution_count": null,
   "metadata": {
    "deletable": false,
    "id": "t0O-_4p3-uTg",
    "nbgrader": {
     "cell_type": "code",
     "checksum": "f95ef267d6d8a43176dfd974ba388692",
     "grade": false,
     "grade_id": "cell-0c29b36213c78b70",
     "locked": false,
     "schema_version": 3,
     "solution": true,
     "task": false
    }
   },
   "outputs": [],
   "source": [
    "# Faça aqui\n",
    "# YOUR CODE HERE\n",
    "raise NotImplementedError()"
   ]
  },
  {
   "cell_type": "markdown",
   "metadata": {
    "id": "Z-mQ-LE4-uTh"
   },
   "source": [
    "#### W7.4 Aplique a métrica Média (mean) sobre esse objeto de agrupamento criado no exercicio W7.3."
   ]
  },
  {
   "cell_type": "code",
   "execution_count": null,
   "metadata": {
    "deletable": false,
    "id": "H2aeh6NP-uTh",
    "nbgrader": {
     "cell_type": "code",
     "checksum": "55a3a78e7a12046e0f1657d22681bace",
     "grade": false,
     "grade_id": "cell-0fc3e8cf09eed76a",
     "locked": false,
     "schema_version": 3,
     "solution": true,
     "task": false
    },
    "outputId": "d3ce301d-bf8a-434c-fe1f-d114db94e89f"
   },
   "outputs": [],
   "source": [
    "# Faça aqui\n",
    "# YOUR CODE HERE\n",
    "raise NotImplementedError()"
   ]
  },
  {
   "cell_type": "markdown",
   "metadata": {
    "id": "7A3GaDD6-uTh",
    "scrolled": false
   },
   "source": [
    "#### W7.5 Use o método unstack() para pivotar essa série do exercicio W7.4"
   ]
  },
  {
   "cell_type": "code",
   "execution_count": null,
   "metadata": {
    "deletable": false,
    "id": "G7tmqyqT-uTh",
    "nbgrader": {
     "cell_type": "code",
     "checksum": "061313666f6b5ae937ca784c15869b1d",
     "grade": false,
     "grade_id": "cell-78e78196cd30232d",
     "locked": false,
     "schema_version": 3,
     "solution": true,
     "task": false
    },
    "outputId": "51ff7385-1952-4546-8789-855dc1375540"
   },
   "outputs": [],
   "source": [
    "# Faça aqui\n",
    "# YOUR CODE HERE\n",
    "raise NotImplementedError()"
   ]
  },
  {
   "cell_type": "markdown",
   "metadata": {
    "id": "ELAXzGsQ-uTi"
   },
   "source": [
    "#### W7.6 Crie um agrupamento por key1 e aplique a métrica mean em todas as colunas de dados do dataframe df3 criado abaixo."
   ]
  },
  {
   "cell_type": "code",
   "execution_count": null,
   "metadata": {
    "id": "30vc1Fyn-uTi",
    "outputId": "09d2cdb7-d5df-4ea1-fab1-12ea8597b64f"
   },
   "outputs": [],
   "source": [
    "# Criando um dataframe\n",
    "df3 = pd.DataFrame({'key1' : ['a', 'a', 'b', 'b', 'a'], \n",
    "                   'key2' : [1, 2, 1, 2, 1],\n",
    "                   'data1' : np.random.randn(5), 'data2' : np.random.randn(5)})\n",
    "df3"
   ]
  },
  {
   "cell_type": "code",
   "execution_count": null,
   "metadata": {
    "deletable": false,
    "id": "66W7ztIk-uTi",
    "nbgrader": {
     "cell_type": "code",
     "checksum": "2558c7faf46810a4a1a78e647f72e6da",
     "grade": false,
     "grade_id": "cell-cf9a4c70764f9d09",
     "locked": false,
     "schema_version": 3,
     "solution": true,
     "task": false
    },
    "outputId": "7e9910e2-ef16-4e65-a0f0-5e8b67e9e5af"
   },
   "outputs": [],
   "source": [
    "# Faça aqui\n",
    "# YOUR CODE HERE\n",
    "raise NotImplementedError()"
   ]
  },
  {
   "cell_type": "markdown",
   "metadata": {
    "id": "kWZj8kzy-uTi"
   },
   "source": [
    "#### W7.7 Crie um agrupamento por key1 e key2 e aplique a métrica mean em todas as colunas de dados do dataframe df3."
   ]
  },
  {
   "cell_type": "code",
   "execution_count": null,
   "metadata": {
    "deletable": false,
    "id": "bMpWyJd5-uTj",
    "nbgrader": {
     "cell_type": "code",
     "checksum": "4d4bc5e1a9e738e98574c31f3a64e63c",
     "grade": false,
     "grade_id": "cell-25c17f5ad92c25b7",
     "locked": false,
     "schema_version": 3,
     "solution": true,
     "task": false
    },
    "outputId": "e21c4c60-d60e-4b1c-cf3d-4805569cf695"
   },
   "outputs": [],
   "source": [
    "# Faça aqui\n",
    "# YOUR CODE HERE\n",
    "raise NotImplementedError()"
   ]
  },
  {
   "cell_type": "markdown",
   "metadata": {
    "id": "F-9gmiql-uTj"
   },
   "source": [
    "#### W7.8 Agrupe o dataframe df4 (criado abaixo) por key1 e calcule a média e a mediana para a coluna data1 e soma e o valor máximo para a coluna data2."
   ]
  },
  {
   "cell_type": "code",
   "execution_count": null,
   "metadata": {
    "id": "0ubORPlu-uTj",
    "outputId": "ef65e31e-ecd2-401a-defa-630fb3eb251f"
   },
   "outputs": [],
   "source": [
    "# Criando um dataframe\n",
    "df4 = pd.DataFrame({'key1' : ['a', 'a', 'b', 'b', 'a'], \n",
    "                   'key2' : [1, 2, 1, 2, 1],\n",
    "                   'data1' : np.random.randn(5), 'data2' : np.random.randn(5)})\n",
    "df4"
   ]
  },
  {
   "cell_type": "code",
   "execution_count": null,
   "metadata": {
    "deletable": false,
    "id": "RAaJZp8i-uTj",
    "nbgrader": {
     "cell_type": "code",
     "checksum": "330c5f89c45d67663c826bf2ea8b1966",
     "grade": false,
     "grade_id": "cell-a0dfe79710942fb7",
     "locked": false,
     "schema_version": 3,
     "solution": true,
     "task": false
    }
   },
   "outputs": [],
   "source": [
    "# Faça aqui\n",
    "# YOUR CODE HERE\n",
    "raise NotImplementedError()"
   ]
  }
 ],
 "metadata": {
  "colab": {
   "collapsed_sections": [],
   "name": "Aula7_Warmup.ipynb",
   "provenance": []
  },
  "kernelspec": {
   "display_name": "Python 3",
   "language": "python",
   "name": "python3"
  },
  "language_info": {
   "codemirror_mode": {
    "name": "ipython",
    "version": 3
   },
   "file_extension": ".py",
   "mimetype": "text/x-python",
   "name": "python",
   "nbconvert_exporter": "python",
   "pygments_lexer": "ipython3",
   "version": "3.8.3"
  },
  "varInspector": {
   "cols": {
    "lenName": 16,
    "lenType": 16,
    "lenVar": 40
   },
   "kernels_config": {
    "python": {
     "delete_cmd_postfix": "",
     "delete_cmd_prefix": "del ",
     "library": "var_list.py",
     "varRefreshCmd": "print(var_dic_list())"
    },
    "r": {
     "delete_cmd_postfix": ") ",
     "delete_cmd_prefix": "rm(",
     "library": "var_list.r",
     "varRefreshCmd": "cat(var_dic_list()) "
    }
   },
   "types_to_exclude": [
    "module",
    "function",
    "builtin_function_or_method",
    "instance",
    "_Feature"
   ],
   "window_display": false
  }
 },
 "nbformat": 4,
 "nbformat_minor": 0
}

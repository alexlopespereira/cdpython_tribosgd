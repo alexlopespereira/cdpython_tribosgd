{
 "cells": [
  {
   "cell_type": "markdown",
   "metadata": {
    "id": "5Nz13JJSq9lI"
   },
   "source": [
    "# Aula 3 - Exercícios - Python e NumPy"
   ]
  },
  {
   "cell_type": "markdown",
   "metadata": {
    "id": "B18npnnPq9lP"
   },
   "source": [
    "### Onde buscar informações sobre as funções do Numpy\n",
    "[https://numpy.org/doc/stable/search.html](https://numpy.org/doc/stable/search.html)"
   ]
  },
  {
   "cell_type": "code",
   "execution_count": null,
   "metadata": {
    "id": "ycK4jL4pq_XT"
   },
   "outputs": [],
   "source": [
    "#@title Init Cell - Execute-me!!!\n",
    "pkg = !pip list | grep 'ipynb-autograde'\n",
    "if not pkg or pkg[0].replace('  ','').split(' ')[1]!='0.0.35':\n",
    "  !pip install ipynb_autograde==0.0.35\n",
    "%env  COURSE python_tribosgd\n",
    "from ipynb_autograde.main import init_log, validate\n",
    "init_log()\n",
    "email_result=!gcloud config get-value account\n",
    "if not email_result or 'unset' in email_result[0]:\n",
    "  !gcloud auth login"
   ]
  },
  {
   "cell_type": "code",
   "execution_count": null,
   "metadata": {
    "executionInfo": {
     "elapsed": 377,
     "status": "ok",
     "timestamp": 1625713103652,
     "user": {
      "displayName": "Alex Lopes",
      "photoUrl": "https://lh3.googleusercontent.com/a-/AOh14GiIodCIc3QmEkRc07ZdX1uDEU_3XpwbFfljE8IyIg=s64",
      "userId": "01606300887134833077"
     },
     "user_tz": 180
    },
    "id": "qnX-zJr9q9lR"
   },
   "outputs": [],
   "source": [
    "# import numpy\n",
    "import numpy as np"
   ]
  },
  {
   "cell_type": "markdown",
   "metadata": {
    "id": "N2BZX5_3q9lT"
   },
   "source": [
    "### 3.1 Escreva uma função Python para converter para celcius um array de temperaturas em Fahrenheit. Arredonde o resultado até 2a casa decimal usando a função .round(decimals=2) do numpy\n",
    "#### Exemplo:  para um array([0, 12, 45.21, 34, 99.91])\n",
    "#### Resultado esperado: array([-17.77, -11.11, 7.33, 1.11, 37.72])\n",
    "#### Dica 1: a solução pode ser implementada em 1 linha de código\n",
    "#### Dica 2: T(°C) = (T(°F) - 32) × 5/9\n",
    "#### Dica 3: Use o conhecimento do slide 13."
   ]
  },
  {
   "cell_type": "code",
   "execution_count": null,
   "metadata": {
    "id": "9CzGY8OZq9lU"
   },
   "outputs": [],
   "source": [
    "# Faca aqui seus testes do Exercício 3.1\n",
    "\n",
    "tf = np.array([0, 12, 45.21, 34, 99.91])\n",
    "\n"
   ]
  },
  {
   "cell_type": "code",
   "execution_count": null,
   "metadata": {
    "deletable": false,
    "executionInfo": {
     "elapsed": 367,
     "status": "ok",
     "timestamp": 1625713378050,
     "user": {
      "displayName": "Alex Lopes",
      "photoUrl": "https://lh3.googleusercontent.com/a-/AOh14GiIodCIc3QmEkRc07ZdX1uDEU_3XpwbFfljE8IyIg=s64",
      "userId": "01606300887134833077"
     },
     "user_tz": 180
    },
    "id": "anR3FJY1q9lU",
    "nbgrader": {
     "cell_type": "code",
     "checksum": "312a211a250ee6ac78403cc16057b8bd",
     "grade": false,
     "grade_id": "cell-e0a4e5deea9347c4",
     "locked": false,
     "schema_version": 3,
     "solution": true,
     "task": false
    }
   },
   "outputs": [],
   "source": [
    "# Faca aqui sua função do Exercício 3.1\n",
    "def get_ceusius(F):\n",
    "    \"\"\"retorne um array contendo as temperaturas em graus Ceusius\n",
    "    \"\"\"\n",
    "    # YOUR CODE HERE\n",
    "    raise NotImplementedError()"
   ]
  },
  {
   "cell_type": "code",
   "execution_count": null,
   "metadata": {
    "colab": {
     "base_uri": "https://localhost:8080/"
    },
    "deletable": false,
    "editable": false,
    "executionInfo": {
     "elapsed": 2255,
     "status": "ok",
     "timestamp": 1625713503885,
     "user": {
      "displayName": "Alex Lopes",
      "photoUrl": "https://lh3.googleusercontent.com/a-/AOh14GiIodCIc3QmEkRc07ZdX1uDEU_3XpwbFfljE8IyIg=s64",
      "userId": "01606300887134833077"
     },
     "user_tz": 180
    },
    "id": "VIxx1mW9q9lV",
    "nbgrader": {
     "cell_type": "code",
     "checksum": "a9e65433e2f0d726aa76c958bc00a84f",
     "grade": true,
     "grade_id": "cell-30d325444b6f6a67",
     "locked": true,
     "points": 1,
     "schema_version": 3,
     "solution": false,
     "task": false
    },
    "outputId": "a9612fab-0d99-42c1-c266-122c7a7b4ee6"
   },
   "outputs": [],
   "source": [
    "# Faca aqui a validacao do Exercicio 3.1\n",
    "tf = np.array([0, 12, 45.21, 34, 99.91])\n",
    "tc = np.array([-17.78, -11.11, 7.34, 1.11, 37.73])\n",
    "entradas = [[tf]]\n",
    "saidas = [tc]\n",
    "validate(get_ceusius, entradas, lambda x: x, saidas, \"3.1\")"
   ]
  },
  {
   "cell_type": "markdown",
   "metadata": {
    "id": "fKp7TdgOq9lX"
   },
   "source": [
    "### 3.2 Escreva uma função Python para somar os valores de cada linha de um array numpy 2D e depois retornar a maior destas somas\n",
    "#### Exemplo:  para um \n",
    "```\n",
    "array([[1  4 ], [10  8], [4  20]]) \n",
    "```\n",
    "#### Resultado esperado é: 24\n",
    "\n",
    "#### Dica 1: A função ```sum``` do numpy pode fazer o calculo da soma por linha ou por coluna, desde que o parâmetro```axis``` seja especificado corretamente.\n",
    "#### Dica 2: A função ```max``` do numpy pode retornar o máximo de um array numpy.\n",
    "#### Dica 3: A solução se resume a duas linhas de código, uma para a soma e outra para o máximo."
   ]
  },
  {
   "cell_type": "code",
   "execution_count": null,
   "metadata": {
    "executionInfo": {
     "elapsed": 392,
     "status": "ok",
     "timestamp": 1625713604675,
     "user": {
      "displayName": "Alex Lopes",
      "photoUrl": "https://lh3.googleusercontent.com/a-/AOh14GiIodCIc3QmEkRc07ZdX1uDEU_3XpwbFfljE8IyIg=s64",
      "userId": "01606300887134833077"
     },
     "user_tz": 180
    },
    "id": "N9QgT3Rdq9lZ"
   },
   "outputs": [],
   "source": [
    "# Faca aqui seus testes do Exercício 3.2\n",
    "a1 = np.array([[1, 4 ], [10, 8], [4, 20]])\n",
    "\n",
    "\n"
   ]
  },
  {
   "cell_type": "code",
   "execution_count": null,
   "metadata": {
    "deletable": false,
    "executionInfo": {
     "elapsed": 8,
     "status": "ok",
     "timestamp": 1625713605167,
     "user": {
      "displayName": "Alex Lopes",
      "photoUrl": "https://lh3.googleusercontent.com/a-/AOh14GiIodCIc3QmEkRc07ZdX1uDEU_3XpwbFfljE8IyIg=s64",
      "userId": "01606300887134833077"
     },
     "user_tz": 180
    },
    "id": "mUwGeciSq9lY",
    "nbgrader": {
     "cell_type": "code",
     "checksum": "84046a3fb289cd4d62d61d2b45487e52",
     "grade": false,
     "grade_id": "cell-f7b05dc12adbf2e2",
     "locked": false,
     "schema_version": 3,
     "solution": true,
     "task": false
    }
   },
   "outputs": [],
   "source": [
    "# Faca aqui sua função do Exercício 3.2\n",
    "def max_sum(x):\n",
    "    \"\"\"retorne o valor maximo dentre os resultados da soma por linha de um array 2D \n",
    "    \"\"\"\n",
    "    # YOUR CODE HERE\n",
    "    raise NotImplementedError()"
   ]
  },
  {
   "cell_type": "code",
   "execution_count": null,
   "metadata": {
    "colab": {
     "base_uri": "https://localhost:8080/"
    },
    "deletable": false,
    "editable": false,
    "executionInfo": {
     "elapsed": 2571,
     "status": "ok",
     "timestamp": 1625713608066,
     "user": {
      "displayName": "Alex Lopes",
      "photoUrl": "https://lh3.googleusercontent.com/a-/AOh14GiIodCIc3QmEkRc07ZdX1uDEU_3XpwbFfljE8IyIg=s64",
      "userId": "01606300887134833077"
     },
     "user_tz": 180
    },
    "id": "HfcnD4Mpq9la",
    "nbgrader": {
     "cell_type": "code",
     "checksum": "5010093701b9c7226f6c5eeb6cd19671",
     "grade": true,
     "grade_id": "cell-af1b0435b6aacc9b",
     "locked": true,
     "points": 1,
     "schema_version": 3,
     "solution": false,
     "task": false
    },
    "outputId": "0b491b22-e481-4aff-b985-159ce35dccdd"
   },
   "outputs": [],
   "source": [
    "# Faca aqui a validacao do Exercicio 3.2\n",
    "a1 = np.array([[1, 4 ], [10, 8], [4, 20]])\n",
    "a2 = np.array([[1,0,1,9,5],[3,1,2,4,5],[6,1,2,3,4],[8,9,2,1,7]])\n",
    "entradas = [[a1], [a2]]\n",
    "saidas = [24, 27]\n",
    "validate(max_sum, entradas, lambda x: x, saidas, \"3.2\")"
   ]
  },
  {
   "cell_type": "markdown",
   "metadata": {
    "id": "Ek_CD4Rnq9lc"
   },
   "source": [
    "### 3.3 Escreva uma função Python para contar a quantidade de itens de um dado valor num array NumPy\n",
    "#### Exemplo:  para um ```array([1  4  10  8  4  20  23])``` e ```n=4```\n",
    "#### Resultado esperado: 2\n",
    "#### Dica 1: A função ```count_nonzero``` do pacote numpy conta a quantidade de elementos diferentes de zero ou a quantidade de elementos True.\n",
    "[https://numpy.org/doc/stable/reference/generated/numpy.count_nonzero.html?highlight=count_nonzero#numpy.count_nonzero](https://numpy.org/doc/stable/reference/generated/numpy.count_nonzero.html?highlight=count_nonzero#numpy.count_nonzero)\n",
    "#### Dica 2: A solução pode ser implementada em 1 linha de código.\n",
    "#### Obs.: Lembre-se de usar funções numpy que realizam as operações sem a necessidade de escrever laços (loops)"
   ]
  },
  {
   "cell_type": "code",
   "execution_count": null,
   "metadata": {
    "id": "fUKe39b3q9le"
   },
   "outputs": [],
   "source": [
    "# Faca aqui seus testes do Exercício 3.3\n",
    "a1 = np.array([1,0,1,9,5,3,1,2,4,5,6,1,2,3,4,8,9,2,1])\n",
    "\n"
   ]
  },
  {
   "cell_type": "code",
   "execution_count": null,
   "metadata": {
    "deletable": false,
    "executionInfo": {
     "elapsed": 347,
     "status": "ok",
     "timestamp": 1625713939472,
     "user": {
      "displayName": "Alex Lopes",
      "photoUrl": "https://lh3.googleusercontent.com/a-/AOh14GiIodCIc3QmEkRc07ZdX1uDEU_3XpwbFfljE8IyIg=s64",
      "userId": "01606300887134833077"
     },
     "user_tz": 180
    },
    "id": "yVpe42WRq9lc",
    "nbgrader": {
     "cell_type": "code",
     "checksum": "7abdc5d772b4ba90dc5a4313cf0b37f0",
     "grade": false,
     "grade_id": "cell-fff68871222788c1",
     "locked": false,
     "schema_version": 3,
     "solution": true,
     "task": false
    }
   },
   "outputs": [],
   "source": [
    "# Faca aqui sua função do Exercício 3.3\n",
    "def count_value(array, n):\n",
    "    \"\"\"retorne a quantidade de vezes que n ocorre \n",
    "    \"\"\"\n",
    "    # YOUR CODE HERE\n",
    "    raise NotImplementedError()"
   ]
  },
  {
   "cell_type": "code",
   "execution_count": null,
   "metadata": {
    "colab": {
     "base_uri": "https://localhost:8080/"
    },
    "executionInfo": {
     "elapsed": 1937,
     "status": "ok",
     "timestamp": 1625713941896,
     "user": {
      "displayName": "Alex Lopes",
      "photoUrl": "https://lh3.googleusercontent.com/a-/AOh14GiIodCIc3QmEkRc07ZdX1uDEU_3XpwbFfljE8IyIg=s64",
      "userId": "01606300887134833077"
     },
     "user_tz": 180
    },
    "id": "3Hjwr3giq9lf",
    "outputId": "8cf9e52a-bf81-4982-e4c3-ebefa0170f63"
   },
   "outputs": [],
   "source": [
    "# Faca aqui a validacao do Exercicio 3.3\n",
    "a1 = np.array([1,0,1,9,5,3,1,2,4,5,6,1,2,3,4,8,9,2,1])\n",
    "entradas = [[a1, 1]]\n",
    "saidas = [5]\n",
    "validate(count_value, entradas, lambda x: x, saidas, \"3.3\")"
   ]
  },
  {
   "cell_type": "markdown",
   "metadata": {
    "id": "vI4EVAm1q9lg"
   },
   "source": [
    "### 3.4 Crie uma função que recebe como argumento dois arrays de mesma dimensão e retorna as posições em que esses dois arrays possuem valores coincidentes.\n",
    "#### Exemplo: Para os arrays a e b abaixo\n",
    "```a = np.array([1,2,3,2,3,4,3,4,5,6])```\n",
    "\n",
    "```b = np.array([7,2,10,2,7,4,9,4,9,8])```\n",
    "#### Resultado esperado: \n",
    "```array([1, 3, 5, 7])```\n",
    "\n",
    "#### Dica: use a função ```np.nonzero```\n",
    "[https://numpy.org/doc/stable/reference/generated/numpy.nonzero.html#numpy.nonzero](https://numpy.org/doc/stable/reference/generated/numpy.nonzero.html#numpy.nonzero)"
   ]
  },
  {
   "cell_type": "code",
   "execution_count": null,
   "metadata": {
    "id": "_0q-ay8_q9lh"
   },
   "outputs": [],
   "source": [
    "# Faca aqui seus testes do Exercício 3.4\n",
    "a = np.array([1,2,3,2,3,4,3,4,5,6])\n",
    "b = np.array([7,2,10,2,7,4,9,4,9,8])\n"
   ]
  },
  {
   "cell_type": "code",
   "execution_count": null,
   "metadata": {
    "deletable": false,
    "executionInfo": {
     "elapsed": 330,
     "status": "ok",
     "timestamp": 1625713945297,
     "user": {
      "displayName": "Alex Lopes",
      "photoUrl": "https://lh3.googleusercontent.com/a-/AOh14GiIodCIc3QmEkRc07ZdX1uDEU_3XpwbFfljE8IyIg=s64",
      "userId": "01606300887134833077"
     },
     "user_tz": 180
    },
    "id": "lFU6v7hmq9lg",
    "nbgrader": {
     "cell_type": "code",
     "checksum": "c7ea399ee7531e47122c8591e69da6e5",
     "grade": false,
     "grade_id": "cell-ec64e19f54793d3c",
     "locked": false,
     "schema_version": 3,
     "solution": true,
     "task": false
    }
   },
   "outputs": [],
   "source": [
    "# Faca aqui sua função do Exercício 3.4\n",
    "def same_value(arr1, arr2):\n",
    "    \"\"\"retorne um array com a posição dos elementos coincidentes nos dois arrays.\n",
    "    \"\"\"\n",
    "    # YOUR CODE HERE\n",
    "    raise NotImplementedError()\n",
    "    \n"
   ]
  },
  {
   "cell_type": "code",
   "execution_count": null,
   "metadata": {
    "colab": {
     "base_uri": "https://localhost:8080/"
    },
    "executionInfo": {
     "elapsed": 2494,
     "status": "ok",
     "timestamp": 1625713948277,
     "user": {
      "displayName": "Alex Lopes",
      "photoUrl": "https://lh3.googleusercontent.com/a-/AOh14GiIodCIc3QmEkRc07ZdX1uDEU_3XpwbFfljE8IyIg=s64",
      "userId": "01606300887134833077"
     },
     "user_tz": 180
    },
    "id": "zLFS8zzOq9lh",
    "outputId": "f545f2a9-7ad8-40a6-d647-4418f2fbf812"
   },
   "outputs": [],
   "source": [
    "# Faca aqui a validacao do Exercicio 3.4\n",
    "a = np.array([1,2,3,2,3,4,3,4,5,6])\n",
    "b = np.array([7,2,10,2,7,4,9,4,9,8])\n",
    "np.nonzero(a == b)\n",
    "entradas = [[a, b]]\n",
    "saidas = [np.array([1, 3, 5, 7])]\n",
    "validate(same_value, entradas, lambda x: x, saidas, \"3.4\")"
   ]
  },
  {
   "cell_type": "markdown",
   "metadata": {
    "id": "NgBBmka2q9li"
   },
   "source": [
    "### 3.5 Escreva uma função Python para selecionar os elementos de um array que são ao mesmo tempo: maiores que 10, menores que 50 e multiplos de 3.\n",
    "#### Exemplo:  para um array([0, 12, 45, 34, 99])\n",
    "#### Resultado esperado: array([12, 45])\n",
    "#### Dica: Reveja a explicação dos slides 22 e 23 da aula 4. "
   ]
  },
  {
   "cell_type": "code",
   "execution_count": null,
   "metadata": {
    "id": "O90MAzF6q9lj"
   },
   "outputs": [],
   "source": [
    "# Faca aqui seus testes do Exercício 3.5\n",
    "inarr = np.array([0, 12, 45, 34, 99])\n",
    "\n"
   ]
  },
  {
   "cell_type": "code",
   "execution_count": null,
   "metadata": {
    "deletable": false,
    "executionInfo": {
     "elapsed": 542,
     "status": "ok",
     "timestamp": 1625713954887,
     "user": {
      "displayName": "Alex Lopes",
      "photoUrl": "https://lh3.googleusercontent.com/a-/AOh14GiIodCIc3QmEkRc07ZdX1uDEU_3XpwbFfljE8IyIg=s64",
      "userId": "01606300887134833077"
     },
     "user_tz": 180
    },
    "id": "vQpuptR8q9li",
    "nbgrader": {
     "cell_type": "code",
     "checksum": "9e7cf6680f9faf3eb07f2b08774b5578",
     "grade": false,
     "grade_id": "cell-fab4fd242cf2110b",
     "locked": false,
     "schema_version": 3,
     "solution": true,
     "task": false
    }
   },
   "outputs": [],
   "source": [
    "# Faca aqui sua função do Exercício 3.5\n",
    "\n",
    "def filter_array(arr):\n",
    "    \"\"\"retorne um array numpy contendo números maiores que 10, \n",
    "       menores que 50 e multiplos de 3\n",
    "    \"\"\"\n",
    "    # YOUR CODE HERE\n",
    "    raise NotImplementedError()"
   ]
  },
  {
   "cell_type": "code",
   "execution_count": null,
   "metadata": {
    "colab": {
     "base_uri": "https://localhost:8080/"
    },
    "executionInfo": {
     "elapsed": 2222,
     "status": "ok",
     "timestamp": 1625713957089,
     "user": {
      "displayName": "Alex Lopes",
      "photoUrl": "https://lh3.googleusercontent.com/a-/AOh14GiIodCIc3QmEkRc07ZdX1uDEU_3XpwbFfljE8IyIg=s64",
      "userId": "01606300887134833077"
     },
     "user_tz": 180
    },
    "id": "nUWwXxcHq9lj",
    "outputId": "baf2dcad-5fb4-47a3-c408-c3f1c87613de"
   },
   "outputs": [],
   "source": [
    "# Faca aqui a validacao do Exercicio 3.5\n",
    "inarr = np.array([0, 12, 45, 34, 99])\n",
    "outarr = np.array([12, 45])\n",
    "entradas = [[inarr]]\n",
    "saidas = [outarr]\n",
    "validate(filter_array, entradas, lambda x: x, saidas, \"3.5\")"
   ]
  },
  {
   "cell_type": "markdown",
   "metadata": {
    "id": "fCcnWPGCq9lk"
   },
   "source": [
    "### 3.6 Escreva uma função Python para criar um array numpy 2D com 1s nos elementos das bordas e com 0s no interior. O tamanho do array deve ser parametrizável.\n",
    "#### Exemplo:  para um n=3\n",
    "#### Resultado esperado: array([[1, 1, 1], [1, 0, 1], [1, 1, 1]])\n",
    "#### Dica: Crie um array bi-dimensional de zeros (com a função np.zeros) e preencha as bordas com 1s, ou crie um array de 1s (com a função np.ones) e preencha o interior com zeros."
   ]
  },
  {
   "cell_type": "code",
   "execution_count": null,
   "metadata": {
    "id": "3xHz4FbFq9lk"
   },
   "outputs": [],
   "source": [
    "# Faca aqui seus testes do Exercício 3.6\n",
    "\n"
   ]
  },
  {
   "cell_type": "code",
   "execution_count": null,
   "metadata": {
    "deletable": false,
    "executionInfo": {
     "elapsed": 394,
     "status": "ok",
     "timestamp": 1625713961807,
     "user": {
      "displayName": "Alex Lopes",
      "photoUrl": "https://lh3.googleusercontent.com/a-/AOh14GiIodCIc3QmEkRc07ZdX1uDEU_3XpwbFfljE8IyIg=s64",
      "userId": "01606300887134833077"
     },
     "user_tz": 180
    },
    "id": "lEzQkUNPq9lk",
    "nbgrader": {
     "cell_type": "code",
     "checksum": "fef7ecf32a93bb7c1671f4a068dc88a2",
     "grade": false,
     "grade_id": "cell-d6de26cba8fc1cf8",
     "locked": false,
     "schema_version": 3,
     "solution": true,
     "task": false
    }
   },
   "outputs": [],
   "source": [
    "# Faca aqui sua função do Exercício 3.6\n",
    "def create_array(n):\n",
    "    \"\"\"retorne um array 2d preenchido com 1s nas bordas e 0s no interior \n",
    "    \"\"\"\n",
    "    # YOUR CODE HERE\n",
    "    raise NotImplementedError()"
   ]
  },
  {
   "cell_type": "code",
   "execution_count": null,
   "metadata": {
    "colab": {
     "base_uri": "https://localhost:8080/"
    },
    "executionInfo": {
     "elapsed": 2589,
     "status": "ok",
     "timestamp": 1625713964913,
     "user": {
      "displayName": "Alex Lopes",
      "photoUrl": "https://lh3.googleusercontent.com/a-/AOh14GiIodCIc3QmEkRc07ZdX1uDEU_3XpwbFfljE8IyIg=s64",
      "userId": "01606300887134833077"
     },
     "user_tz": 180
    },
    "id": "nsHhg9xVq9ll",
    "outputId": "f8cd917d-8956-433a-f307-39122f6da9a4"
   },
   "outputs": [],
   "source": [
    "# Faca aqui a validacao do Exercicio 3.6\n",
    "a3 = np.array([[1, 1, 1], [1, 0, 1], [1, 1, 1]])\n",
    "a6 = np.array([[1., 1., 1., 1., 1., 1.],\n",
    "       [1., 0., 0., 0., 0., 1.],\n",
    "       [1., 0., 0., 0., 0., 1.],\n",
    "       [1., 0., 0., 0., 0., 1.],\n",
    "       [1., 0., 0., 0., 0., 1.],\n",
    "       [1., 1., 1., 1., 1., 1.]])\n",
    "\n",
    "entradas = [[3], [6]]\n",
    "saidas = [a3, a6]\n",
    "validate(create_array, entradas, lambda x: x, saidas, \"3.6\")"
   ]
  },
  {
   "cell_type": "markdown",
   "metadata": {
    "id": "rlCMGrp1q9lm"
   },
   "source": [
    "### 3.7 Escreva uma função Python para selecionar dentre os elementos de um array (```arr1``` passado como argumento)  aquele que mais se aproxima de um determinado valor N passado como argumento da função.\n",
    "#### Se houver dois elementos equidistantes de N e forem os mais próximos de N, retorne o menor. Ou seja, para ```[1, 3, 4]``` e ```N=2```, retorne ```1```.\n",
    "#### Não use laços (loops), use funções Numpy.\n",
    "#### Exemplo:  para um ```array([0, 12, 45, 34, 99])``` e ```N=20```\n",
    "#### Resultado esperado: ```12```\n",
    "#### Dica 1: Use as funções np.abs, ndarray.argmin e ndarray.sort \n",
    "[https://numpy.org/doc/stable/reference/generated/numpy.absolute.html?highlight=abs#numpy.absolute](https://numpy.org/doc/stable/reference/generated/numpy.absolute.html?highlight=abs#numpy.absolute)\n",
    "[https://numpy.org/doc/stable/reference/generated/numpy.argmin.html?highlight=argmin#numpy.argmin](https://numpy.org/doc/stable/reference/generated/numpy.argmin.html?highlight=argmin#numpy.argmin)\n",
    "[https://numpy.org/doc/stable/reference/generated/numpy.ndarray.sort.html?highlight=sort#numpy.ndarray.sort](https://numpy.org/doc/stable/reference/generated/numpy.ndarray.sort.html?highlight=sort#numpy.ndarray.sort)\n",
    "#### Dica 2: Comece ordenando o array com a função ndarray.sort \n",
    "#### Dica 3: Crie um array com a diferença entre cada elemento do array de entrada (```arr1```) e o número ```N```, e chame-o de ```dif```. \n",
    "#### Dica 4: Calcule o valor absoluto do array ```dif```, e armazene-o numa variável chamada ```absoluto```.\n",
    "#### Dica 5: De maneira genérica, use uma função numpy para retornar o índice do menor valor de um array, e guarde-o numa variavel chamada ```index```. Este é o índice do elemento do array que mais se aproxima de ```N```. Por que?\n",
    "#### Dica 6: Retorne o elemento do array ```arr1``` na posição guardada em ```index```.\n",
    "\n",
    "#### Curiosidade: Por que se faz necessário ordenar o array ```arr1``` ?\n"
   ]
  },
  {
   "cell_type": "code",
   "execution_count": null,
   "metadata": {
    "id": "nvGxjrKZq9lq"
   },
   "outputs": [],
   "source": [
    "# Faca aqui seus testes do Exercício 3.7\n",
    "inarr = np.array([3, 6, 1, 4])\n",
    "\n"
   ]
  },
  {
   "cell_type": "code",
   "execution_count": null,
   "metadata": {
    "deletable": false,
    "executionInfo": {
     "elapsed": 358,
     "status": "ok",
     "timestamp": 1625713970328,
     "user": {
      "displayName": "Alex Lopes",
      "photoUrl": "https://lh3.googleusercontent.com/a-/AOh14GiIodCIc3QmEkRc07ZdX1uDEU_3XpwbFfljE8IyIg=s64",
      "userId": "01606300887134833077"
     },
     "user_tz": 180
    },
    "id": "oFonm8Izq9lp",
    "nbgrader": {
     "cell_type": "code",
     "checksum": "c579ea67ae8a4706308134708e6b701a",
     "grade": false,
     "grade_id": "cell-e0a4e5deea9187c4",
     "locked": false,
     "schema_version": 3,
     "solution": true,
     "task": false
    }
   },
   "outputs": [],
   "source": [
    "# Faca aqui sua função do Exercício 3.7\n",
    "def get_closest(arr1, N):\n",
    "    \"\"\"retorne o elemento do array que mais se aproxima de N.\n",
    "       No caso de dois elementos equidistantes, retorne o menor.\n",
    "    \"\"\"\n",
    "    # YOUR CODE HERE\n",
    "    raise NotImplementedError()"
   ]
  },
  {
   "cell_type": "code",
   "execution_count": null,
   "metadata": {
    "colab": {
     "base_uri": "https://localhost:8080/"
    },
    "deletable": false,
    "editable": false,
    "executionInfo": {
     "elapsed": 2042,
     "status": "ok",
     "timestamp": 1625713972847,
     "user": {
      "displayName": "Alex Lopes",
      "photoUrl": "https://lh3.googleusercontent.com/a-/AOh14GiIodCIc3QmEkRc07ZdX1uDEU_3XpwbFfljE8IyIg=s64",
      "userId": "01606300887134833077"
     },
     "user_tz": 180
    },
    "id": "fPOs7wCOq9lr",
    "nbgrader": {
     "cell_type": "code",
     "checksum": "29278288f2b0bd3cef6c6c1f879ccb18",
     "grade": true,
     "grade_id": "cell-30d325468b6f6a67",
     "locked": true,
     "points": 1,
     "schema_version": 3,
     "solution": false,
     "task": false
    },
    "outputId": "3a33aea2-87b0-405f-f69b-182cac93c3d5"
   },
   "outputs": [],
   "source": [
    "# Faca aqui a validacao do Exercicio 3.7\n",
    "inarr = np.array([3, 6, 1, 4])\n",
    "entradas = [[inarr, 2]]\n",
    "saidas = [1]\n",
    "validate(get_closest, entradas, lambda x: x, saidas, \"3.7\")"
   ]
  }
 ],
 "metadata": {
  "colab": {
   "collapsed_sections": [],
   "name": "Aula3_Exercicio.ipynb",
   "provenance": []
  },
  "kernelspec": {
   "display_name": "Python 3",
   "language": "python",
   "name": "python3"
  },
  "language_info": {
   "codemirror_mode": {
    "name": "ipython",
    "version": 3
   },
   "file_extension": ".py",
   "mimetype": "text/x-python",
   "name": "python",
   "nbconvert_exporter": "python",
   "pygments_lexer": "ipython3",
   "version": "3.8.3"
  },
  "name": "_merged",
  "varInspector": {
   "cols": {
    "lenName": 16,
    "lenType": 16,
    "lenVar": 40
   },
   "kernels_config": {
    "python": {
     "delete_cmd_postfix": "",
     "delete_cmd_prefix": "del ",
     "library": "var_list.py",
     "varRefreshCmd": "print(var_dic_list())"
    },
    "r": {
     "delete_cmd_postfix": ") ",
     "delete_cmd_prefix": "rm(",
     "library": "var_list.r",
     "varRefreshCmd": "cat(var_dic_list()) "
    }
   },
   "types_to_exclude": [
    "module",
    "function",
    "builtin_function_or_method",
    "instance",
    "_Feature"
   ],
   "window_display": false
  }
 },
 "nbformat": 4,
 "nbformat_minor": 1
}

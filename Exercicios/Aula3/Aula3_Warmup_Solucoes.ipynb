{
 "cells": [
  {
   "cell_type": "markdown",
   "metadata": {
    "id": "6m7ce7tZZtrg"
   },
   "source": [
    "# Aula 3 - Warmup de Python e Numpy"
   ]
  },
  {
   "cell_type": "markdown",
   "metadata": {
    "id": "vCSvX3uWZtrl"
   },
   "source": [
    "### Treinando Funções Lambda (Anônima) (Slide 4)"
   ]
  },
  {
   "cell_type": "markdown",
   "metadata": {
    "id": "xd1Wddk0Ztrm"
   },
   "source": [
    "#### W3.1 Crie uma função lambda que retorne o valor do argumento multiplicado por ele mesmo. Armazene a função lambda numa variável de nome fq. Execute a função lambda criada, e imprima o resultado."
   ]
  },
  {
   "cell_type": "code",
   "execution_count": null,
   "metadata": {
    "colab": {
     "base_uri": "https://localhost:8080/"
    },
    "executionInfo": {
     "elapsed": 12,
     "status": "ok",
     "timestamp": 1625711938574,
     "user": {
      "displayName": "Alex Lopes",
      "photoUrl": "https://lh3.googleusercontent.com/a-/AOh14GiIodCIc3QmEkRc07ZdX1uDEU_3XpwbFfljE8IyIg=s64",
      "userId": "01606300887134833077"
     },
     "user_tz": 180
    },
    "id": "vQiplSH2Ztrm",
    "nbgrader": {
     "grade": false,
     "grade_id": "cell-e780bda297a92b19",
     "locked": false,
     "schema_version": 3,
     "solution": true,
     "task": false
    },
    "outputId": "1c932a5a-927b-46a0-8d7f-dbed1966f601"
   },
   "outputs": [
    {
     "name": "stdout",
     "output_type": "stream",
     "text": [
      "4\n"
     ]
    }
   ],
   "source": [
    "# Faça aqui\n",
    "# defina sua função lambda, começando assim: fq = lambda x: ... \n",
    "# Reescreva substituindo os 3 pontos pela sua solução do problema\n",
    "### BEGIN SOLUTION\n",
    "fq = lambda x: x*x\n",
    "### END SOLUTION\n",
    "# Código para executar a função lambda criada\n",
    "print(fq(2)) # Resultado esperado: 4"
   ]
  },
  {
   "cell_type": "markdown",
   "metadata": {
    "id": "6s674NRVZtrn"
   },
   "source": [
    "#### W3.2 Crie uma função lambda que retorne o último caracter de uma string passada como argumento. Armazena a função lambda numa variável de nome fs. Execute a função lambda criada, e imprima o resultado."
   ]
  },
  {
   "cell_type": "code",
   "execution_count": null,
   "metadata": {
    "id": "V3kznIljZtrn",
    "nbgrader": {
     "grade": false,
     "grade_id": "cell-fa76802c271b59b6",
     "locked": false,
     "schema_version": 3,
     "solution": true,
     "task": false
    }
   },
   "outputs": [],
   "source": [
    "# Faça aqui\n",
    "# defina sua função lambda, começando assim: f2 = lambda x: ... \n",
    "### BEGIN SOLUTION\n",
    "fs = lambda x: x[-1]\n",
    "### END SOLUTION\n",
    "# Código para executar a função lambda criada\n",
    "print(fs(\"meu teste!\"))\n",
    "print(fs(\"Hello World\"))"
   ]
  },
  {
   "cell_type": "markdown",
   "metadata": {
    "id": "tU2M124vZtrn"
   },
   "source": [
    "## NumPy Arrays\n"
   ]
  },
  {
   "cell_type": "code",
   "execution_count": null,
   "metadata": {
    "id": "V8ioICDzZtro"
   },
   "outputs": [],
   "source": [
    "# Importe a biblioteca numpy\n",
    "import numpy as np"
   ]
  },
  {
   "cell_type": "markdown",
   "metadata": {
    "id": "5UEgiUogZtro"
   },
   "source": [
    "### Treinando a criação de arrays numpy  (Slide 9)\n",
    "\n",
    "*   List item\n",
    "\n",
    "*   List item\n",
    "*   List item\n",
    "\n",
    "\n",
    "*   List item\n",
    "\n"
   ]
  },
  {
   "cell_type": "markdown",
   "metadata": {
    "id": "ndJ0FLJEZtro"
   },
   "source": [
    "#### W3.3 Execute as instruções da célula abaixo"
   ]
  },
  {
   "cell_type": "code",
   "execution_count": null,
   "metadata": {
    "colab": {
     "base_uri": "https://localhost:8080/"
    },
    "executionInfo": {
     "elapsed": 749,
     "status": "ok",
     "timestamp": 1620156764605,
     "user": {
      "displayName": "Rodrigo Dias Botelho",
      "photoUrl": "https://lh3.googleusercontent.com/a-/AOh14GjgTCvHxMnMBu2B5-g2VAM3j8PQUhXgqpsy81hnkA=s64",
      "userId": "15723687865298183300"
     },
     "user_tz": 180
    },
    "id": "BjhiWJ9SZtro",
    "nbgrader": {
     "grade": false,
     "grade_id": "cell-354f58b33bfcfdd9",
     "locked": false,
     "schema_version": 3,
     "solution": true,
     "task": false
    },
    "outputId": "7dbbb615-aa91-4331-d931-f0950c060f64"
   },
   "outputs": [
    {
     "name": "stdout",
     "output_type": "stream",
     "text": [
      "float64\n",
      "(2, 4)\n",
      "[0. 0. 0. 0. 0. 0. 0. 0. 0. 0.]\n"
     ]
    }
   ],
   "source": [
    "# 1) Crie um array unidimensional a partir da lista [6, 7.5, 8, 0, 1] e imprima o tipo do dado armazenado nele.\n",
    "### BEGIN SOLUTION\n",
    "ar = np.array([6, 7.5, 8, 0, 1])\n",
    "print(ar.dtype)\n",
    "### END SOLUTION\n",
    "\n",
    "\n",
    "# 2) Crie um array bidimensional a partir da lista [[1, 2, 3, 4], [5, 6, 7, 8]] e imprima o shape (forma) dele.\n",
    "### BEGIN SOLUTION\n",
    "ar2 = np.array([[1, 2, 3, 4], [5, 6, 7, 8]])\n",
    "print(ar2.shape)\n",
    "### END SOLUTION\n",
    "\n",
    "\n",
    "# 3) Crie um array unidimensional de zeros com 10 elementos.\n",
    "### BEGIN SOLUTION\n",
    "z = np.zeros(10)\n",
    "print(z)\n",
    "### END SOLUTION\n"
   ]
  },
  {
   "cell_type": "markdown",
   "metadata": {
    "id": "zOFI7XsfZtrp"
   },
   "source": [
    "### Treinando conversão de tipos (cast)  (Slide 12)"
   ]
  },
  {
   "cell_type": "markdown",
   "metadata": {
    "id": "KzDSDZNNZtrp"
   },
   "source": [
    "#### W3.4 Realize a conversão de tipos especificada na célula abaixo"
   ]
  },
  {
   "cell_type": "code",
   "execution_count": null,
   "metadata": {
    "id": "APfGYou1Ztrp",
    "nbgrader": {
     "grade": false,
     "grade_id": "cell-e3f0345aeb6af65e",
     "locked": false,
     "schema_version": 3,
     "solution": true,
     "task": false
    }
   },
   "outputs": [],
   "source": [
    "# Considere o seguinte array\n",
    "num_str = np.array(['1.25', '-9.6', '42'], dtype=np.string_)\n",
    "# 1) Converta os dados do array num_str para float\n",
    "### BEGIN SOLUTION\n",
    "arr_float = num_str.astype(float) \n",
    "print(arr_float)\n",
    "### END SOLUTION\n",
    "\n",
    "\n",
    "# 2) Converta os dados do array do item 1 para int\n",
    "### BEGIN SOLUTION\n",
    "arr_int = arr_float.astype(int) \n",
    "### END SOLUTION\n",
    "\n",
    "\n",
    "# 3) Imprima o tipo do dado do array que foi convertido para inteiro \n",
    "### BEGIN SOLUTION\n",
    "print(arr_int)\n",
    "### END SOLUTION\n"
   ]
  },
  {
   "cell_type": "markdown",
   "metadata": {
    "id": "sjbV9eKnZtrp"
   },
   "source": [
    "### Treinando operações vetorizadas em ndarrays  (Slide 14)\n",
    "#### W3.5 Sem utilizar laços (loops), execute as instruções da célula abaixo"
   ]
  },
  {
   "cell_type": "code",
   "execution_count": null,
   "metadata": {
    "id": "Rp-039wOZtrp",
    "nbgrader": {
     "grade": false,
     "grade_id": "cell-6153927da5043fba",
     "locked": false,
     "schema_version": 3,
     "solution": true,
     "task": false
    }
   },
   "outputs": [],
   "source": [
    "# Considere o seguinte array\n",
    "arr1 = np.array([[1, 2, 3, 4], [5, 6, 7, 8]])\n",
    "arr2 = np.array([[9, 12, 13, 14], [15, 16, 17, 18]])\n",
    "\n",
    "# 1) Multiplique todos os elementos do array arr1 por 10\n",
    "### BEGIN SOLUTION\n",
    "print(arr1 * 10)\n",
    "### END SOLUTION\n",
    "\n",
    "\n",
    "# 2) Eleve ao quadrado todos os elementos do arr1\n",
    "### BEGIN SOLUTION\n",
    "print(arr1 ** 2)\n",
    "### END SOLUTION\n",
    "\n",
    "\n",
    "# 3) Calcule a hipotenusa de triangulos cujos catetos estão definidos nos arrays arr1 e arr2.\n",
    "#    Ou seja, calcule a raiz quadrada da soma dos quadrados dos elementos de arr1 e arr2.\n",
    "### BEGIN SOLUTION\n",
    "print((arr1**2 + arr2**2)**0.5)\n",
    "### END SOLUTION\n",
    "\n"
   ]
  },
  {
   "cell_type": "markdown",
   "metadata": {
    "id": "ootkcPhxZtrq"
   },
   "source": [
    "### Treinando a seleção de elementos (slicing) em arrays numpy  (Slide 18)"
   ]
  },
  {
   "cell_type": "markdown",
   "metadata": {
    "id": "jzD6byfrZtrq"
   },
   "source": [
    "#### W3.6 Sem utilizar laços (loops), execute as instruções da célula abaixo"
   ]
  },
  {
   "cell_type": "code",
   "execution_count": null,
   "metadata": {
    "id": "rojYcMzQZtrq",
    "nbgrader": {
     "grade": false,
     "grade_id": "cell-32933a6db765c8a0",
     "locked": false,
     "schema_version": 3,
     "solution": true,
     "task": false
    }
   },
   "outputs": [],
   "source": [
    "# Considere o seguinte array\n",
    "arr3 = np.array([[1, 2, 3, 4, 10, 11, 12, 13], [5, 6, 7, 8, 10, 11, 12, 13],\n",
    "                [1, 2, 3, 4, 10, 11, 12, 13], [5, 6, 7, 8, 10, 11, 12, 13]])\n",
    "\n",
    "# 1) Selecione e imprima os elementos que estão nas colunas de índice 0 e 1 \n",
    "#    de todas as linhas desse array bidimensional\n",
    "### BEGIN SOLUTION\n",
    "print(arr3[:, [0,1]])\n",
    "### END SOLUTION\n",
    "\n",
    "\n",
    "# 2) Atribua o valor 1000 a todos os elementos que estão nas colunas de índice 0 e 1 \n",
    "#    de todas as linhas desse array bidimensional\n",
    "### BEGIN SOLUTION\n",
    "arr3[:, [0,1]] = 1000\n",
    "print(arr3)\n",
    "### END SOLUTION\n",
    "\n",
    "\n",
    "# 3) Selecione e imprima os elementos que estão nas colunas de índice 1 até a penúltima coluna\n",
    "# de todos os elementos desse array bidimensional\n",
    "### BEGIN SOLUTION\n",
    "print(arr3[:, 1:-1])\n",
    "### END SOLUTION\n",
    "\n",
    "\n",
    "# 4) Atribua zero para todos os elementos que estão nas linhas ímpares do array arr3\n",
    "### BEGIN SOLUTION\n",
    "arr3[1::2, :] = 0\n",
    "print(arr3)\n",
    "### END SOLUTION\n"
   ]
  },
  {
   "cell_type": "markdown",
   "metadata": {
    "id": "IweJY9VrZtrq"
   },
   "source": [
    "### Treinando outras funções numpy  (Slide 21)"
   ]
  },
  {
   "cell_type": "markdown",
   "metadata": {
    "id": "3rbYUy63Ztrr"
   },
   "source": [
    "#### W3.7 Usando a função np.sum, calcule a soma dos elementos de cada linha do array criado abaixo. "
   ]
  },
  {
   "cell_type": "code",
   "execution_count": null,
   "metadata": {
    "id": "lBPuzU4AZtrr",
    "nbgrader": {
     "grade": false,
     "grade_id": "cell-12700bcb8d0551b1",
     "locked": false,
     "schema_version": 3,
     "solution": true,
     "task": false
    }
   },
   "outputs": [],
   "source": [
    "arr2d = np.array([[1, 2, 3], [4, 5, 6], [7, 8, 9]])\n",
    "# Faça aqui\n",
    "### BEGIN SOLUTION\n",
    "np.sum(arr2d, axis=1)\n",
    "### END SOLUTION\n"
   ]
  },
  {
   "cell_type": "markdown",
   "metadata": {
    "id": "1vksrlGIZtrr"
   },
   "source": [
    "#### W3.8 Usando a função np.mean, calcule a média dos elementos de cada coluna do array criado abaixo. "
   ]
  },
  {
   "cell_type": "code",
   "execution_count": null,
   "metadata": {
    "id": "tbEHQ0lBZtrs",
    "nbgrader": {
     "grade": false,
     "grade_id": "cell-6834c0ccbeb9fcd2",
     "locked": false,
     "schema_version": 3,
     "solution": true,
     "task": false
    }
   },
   "outputs": [],
   "source": [
    "arr2d = np.array([[1, 2, 3], [4, 5, 6], [7, 8, 9]])\n",
    "# Faça aqui\n",
    "### BEGIN SOLUTION\n",
    "np.mean(arr2d, axis=0)\n",
    "### END SOLUTION\n"
   ]
  },
  {
   "cell_type": "markdown",
   "metadata": {
    "id": "UgaiJ5tnZtrs"
   },
   "source": [
    "#### W3.9 Usando a função np.any, mostre quais colunas do array criado abaixo possuem pelo menos um valor diferente de zero. "
   ]
  },
  {
   "cell_type": "code",
   "execution_count": null,
   "metadata": {
    "id": "87Lld3CcZtrs",
    "nbgrader": {
     "grade": false,
     "grade_id": "cell-1f17cbfcd0c973b9",
     "locked": false,
     "schema_version": 3,
     "solution": true,
     "task": false
    }
   },
   "outputs": [],
   "source": [
    "arr4 = np.array([[0, 0, 0], [0, -5, -6], [0, -8, -9]])\n",
    "# Faça aqui\n",
    "### BEGIN SOLUTION\n",
    "arr4.any(axis=0)\n",
    "### END SOLUTION\n"
   ]
  },
  {
   "cell_type": "markdown",
   "metadata": {
    "id": "znHoZfPPZtrs"
   },
   "source": [
    "#### W3.10 Usando a função np.argmax, retorne o índice das colunas que contém o valor máximo de cada linha do array criado abaixo. "
   ]
  },
  {
   "cell_type": "code",
   "execution_count": null,
   "metadata": {
    "id": "oBH3SltcZtrs",
    "nbgrader": {
     "grade": false,
     "grade_id": "cell-47e1ff4b477eb4ee",
     "locked": false,
     "schema_version": 3,
     "solution": true,
     "task": false
    }
   },
   "outputs": [],
   "source": [
    "arr2d = np.array([[10, 2, 3], [4, 5, 6], [7, 8, 9]])\n",
    "# Faça aqui\n",
    "### BEGIN SOLUTION\n",
    "arr2d.argmax(axis=1)\n",
    "### END SOLUTION\n"
   ]
  },
  {
   "cell_type": "markdown",
   "metadata": {
    "id": "MXmM3AjVZtrt"
   },
   "source": [
    "#### W3.11 Crie um array unidimensional de 120 elementos, cujos valores sejam sequenciais iniciando em 20 e terminando em 139. Guarde o array numa variável chamada arr5.\n",
    "#### Dica: use a função np.arange(). Ela tem a mesma sintaxe (argumentos) da função range do python estudada em aula."
   ]
  },
  {
   "cell_type": "code",
   "execution_count": null,
   "metadata": {
    "id": "-r5vB_FiZtrt",
    "nbgrader": {
     "grade": false,
     "grade_id": "cell-7c2ab577b23e1f68",
     "locked": false,
     "schema_version": 3,
     "solution": true,
     "task": false
    }
   },
   "outputs": [],
   "source": [
    "# Faça aqui\n",
    "### BEGIN SOLUTION\n",
    "arr5 = np.arange(20, 140)\n",
    "print(arr5)\n",
    "### END SOLUTION\n"
   ]
  },
  {
   "cell_type": "markdown",
   "metadata": {
    "id": "gKnv74HBZtrt"
   },
   "source": [
    "#### W3.12 Altere a estrutura do array do exercício anterior. Transformando-o num array bidimensional de 12 linhas e 10 colunas.\n",
    "#### Dica: Use o método (função) ndarray.reshape(), passando as dimensões (linhas e colunas) como argumento."
   ]
  },
  {
   "cell_type": "code",
   "execution_count": null,
   "metadata": {
    "id": "BclyvdQSZtrt",
    "nbgrader": {
     "grade": false,
     "grade_id": "cell-52a0f0f44b686234",
     "locked": false,
     "schema_version": 3,
     "solution": true,
     "task": false
    }
   },
   "outputs": [],
   "source": [
    "# Faça aqui\n",
    "### BEGIN SOLUTION\n",
    "arr5.reshape([12,10])\n",
    "### END SOLUTION\n"
   ]
  },
  {
   "cell_type": "markdown",
   "metadata": {
    "id": "qovYjh4wZtrt"
   },
   "source": [
    "#### W3.13 Selecione os numeros pares do array definido abaixo\n",
    "#### Dica: pra testar se um número é par, use a seguinte expressão: n % 2 == 0. Neste caso, se n for par o resultado a expressão é True, pois o operador porcentagem (%) retorna o resto da divisão."
   ]
  },
  {
   "cell_type": "code",
   "execution_count": null,
   "metadata": {
    "id": "kC03Oy3oZtrt",
    "nbgrader": {
     "grade": false,
     "grade_id": "cell-9cda068f04ed776d",
     "locked": false,
     "schema_version": 3,
     "solution": true,
     "task": false
    }
   },
   "outputs": [],
   "source": [
    "arr = np.arange(100)\n",
    "# Faça aqui\n",
    "### BEGIN SOLUTION\n",
    "arr[arr %2 == 0]\n",
    "### END SOLUTION\n"
   ]
  }
 ],
 "metadata": {
  "celltoolbar": "Create Assignment",
  "colab": {
   "collapsed_sections": [],
   "name": "Aula3_Warmup_Solucoes.ipynb",
   "provenance": []
  },
  "kernelspec": {
   "display_name": "Python 3",
   "language": "python",
   "name": "python3"
  },
  "language_info": {
   "codemirror_mode": {
    "name": "ipython",
    "version": 3
   },
   "file_extension": ".py",
   "mimetype": "text/x-python",
   "name": "python",
   "nbconvert_exporter": "python",
   "pygments_lexer": "ipython3",
   "version": "3.8.3"
  },
  "varInspector": {
   "cols": {
    "lenName": 16,
    "lenType": 16,
    "lenVar": 40
   },
   "kernels_config": {
    "python": {
     "delete_cmd_postfix": "",
     "delete_cmd_prefix": "del ",
     "library": "var_list.py",
     "varRefreshCmd": "print(var_dic_list())"
    },
    "r": {
     "delete_cmd_postfix": ") ",
     "delete_cmd_prefix": "rm(",
     "library": "var_list.r",
     "varRefreshCmd": "cat(var_dic_list()) "
    }
   },
   "types_to_exclude": [
    "module",
    "function",
    "builtin_function_or_method",
    "instance",
    "_Feature"
   ],
   "window_display": false
  }
 },
 "nbformat": 4,
 "nbformat_minor": 1
}

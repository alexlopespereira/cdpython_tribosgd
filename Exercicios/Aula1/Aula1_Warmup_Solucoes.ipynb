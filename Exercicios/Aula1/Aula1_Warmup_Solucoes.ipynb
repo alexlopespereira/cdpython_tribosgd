{
 "cells": [
  {
   "cell_type": "markdown",
   "metadata": {
    "id": "zXMphHZdjopE"
   },
   "source": [
    "# Aula 1 - Warm-up de sintaxe da linguagem Python"
   ]
  },
  {
   "cell_type": "markdown",
   "metadata": {
    "id": "c1Fm7iRkjopJ"
   },
   "source": [
    "### Ao resolver um exercício, apague o seguinte trecho do código:\n",
    "```# YOUR CODE HERE\n",
    "raise NotImplementedError()\n",
    "```"
   ]
  },
  {
   "cell_type": "markdown",
   "metadata": {
    "id": "p_iXlR50jopK"
   },
   "source": [
    "### Treinando sentenças com if e else (Slide 8)"
   ]
  },
  {
   "cell_type": "markdown",
   "metadata": {
    "id": "DWmQURXEjopK"
   },
   "source": [
    "#### W1.0 Traduza o seguinte pseudo-código para a linguagem python"
   ]
  },
  {
   "cell_type": "markdown",
   "metadata": {
    "id": "xNVyqb6njopK"
   },
   "source": [
    "```se 17*17 > 400 entao\n",
    "    imprima o texto \"Condição verdadeira\"\n",
    "se não\n",
    "    imprima o texto \"Condição falsa\"\n",
    "```"
   ]
  },
  {
   "cell_type": "code",
   "execution_count": null,
   "metadata": {
    "id": "t6FtTmtWjopL",
    "nbgrader": {
     "grade": false,
     "grade_id": "cell-20ce54267609ed5f",
     "locked": false,
     "schema_version": 3,
     "solution": true,
     "task": false
    }
   },
   "outputs": [],
   "source": [
    "# Faça aqui\n",
    "### BEGIN SOLUTION\n",
    "if 17*17 > 400:\n",
    "    print(\"Condição verdadeira\")\n",
    "else:\n",
    "    print(\"Condição falsa\")\n",
    "### END SOLUTION"
   ]
  },
  {
   "cell_type": "markdown",
   "metadata": {
    "id": "l45JOI5ijopL"
   },
   "source": [
    "### Importando modulos python  (Slide 13)"
   ]
  },
  {
   "cell_type": "markdown",
   "metadata": {
    "id": "t38mmQROjopL"
   },
   "source": [
    "#### W1.1 Importe as funções sqrt, ceil e floor do módulo math e aplique-as ao número 5.4"
   ]
  },
  {
   "cell_type": "code",
   "execution_count": null,
   "metadata": {
    "id": "LFy_pEFfjopM",
    "nbgrader": {
     "grade": false,
     "grade_id": "cell-2212b9c652677d91",
     "locked": false,
     "schema_version": 3,
     "solution": true,
     "task": false
    }
   },
   "outputs": [],
   "source": [
    "# Faça aqui\n",
    "### BEGIN SOLUTION\n",
    "from math import sqrt, ceil, floor\n",
    "print(sqrt(5.4))\n",
    "print(ceil(5.4))\n",
    "print(floor(5.4))\n",
    "### END SOLUTION"
   ]
  },
  {
   "cell_type": "markdown",
   "metadata": {
    "id": "f6vEpGnqjopM"
   },
   "source": [
    "### Criando uma função python (Slide 12)"
   ]
  },
  {
   "cell_type": "markdown",
   "metadata": {
    "id": "20L80HurjopM"
   },
   "source": [
    "#### W1.2 Crie uma função que retorne a raiz quadrada da soma dos quadrados de dois números passados como argumentos da função."
   ]
  },
  {
   "cell_type": "code",
   "execution_count": null,
   "metadata": {
    "id": "-z_U3iGojopM",
    "nbgrader": {
     "grade": false,
     "grade_id": "cell-51ec499bcd404415",
     "locked": false,
     "schema_version": 3,
     "solution": true,
     "task": false
    },
    "scrolled": true
   },
   "outputs": [],
   "source": [
    "# Faça aqui\n",
    "### BEGIN SOLUTION\n",
    "from math import sqrt\n",
    "def raiz_soma_quadrados(a, b):\n",
    "    return sqrt(a*a + b*b)\n",
    "raiz_soma_quadrados(3, 4)\n",
    "### END SOLUTION"
   ]
  },
  {
   "cell_type": "markdown",
   "metadata": {
    "id": "mZbfuKkSjopN"
   },
   "source": [
    "### Treinando conversão de Tipos (Slide 17)\n",
    "#### W1.3 Converta as seguintes variáveis para inteiro e realize as operações solicitadas a seguir."
   ]
  },
  {
   "cell_type": "code",
   "execution_count": null,
   "metadata": {
    "id": "DQmdmZp9jopN",
    "nbgrader": {
     "grade": false,
     "grade_id": "cell-bffcd87ea01692d7",
     "locked": false,
     "schema_version": 3,
     "solution": true,
     "task": false
    }
   },
   "outputs": [],
   "source": [
    "a = \"5\"\n",
    "b = \"6\"\n",
    "#Faça aqui\n",
    "### BEGIN SOLUTION\n",
    "a_int = int(a)\n",
    "b_int = int(b)\n",
    "### END SOLUTION"
   ]
  },
  {
   "cell_type": "code",
   "execution_count": null,
   "metadata": {
    "id": "End3ijXbjopN",
    "nbgrader": {
     "grade": false,
     "grade_id": "cell-f634eaf064f101a5",
     "locked": false,
     "schema_version": 3,
     "solution": true,
     "task": false
    }
   },
   "outputs": [],
   "source": [
    "# Multiplique os dois numeros que você converteu para inteiros na célula acima\n",
    "### BEGIN SOLUTION\n",
    "a_int * b_int\n",
    "### END SOLUTION"
   ]
  },
  {
   "cell_type": "code",
   "execution_count": null,
   "metadata": {
    "id": "eKmtHNmrjopN",
    "nbgrader": {
     "grade": false,
     "grade_id": "cell-cb9d7ce5b0540679",
     "locked": false,
     "schema_version": 3,
     "solution": true,
     "task": false
    }
   },
   "outputs": [],
   "source": [
    "# Converta a soma da célula acima para float\n",
    "### BEGIN SOLUTION\n",
    "float(a_int + b_int)\n",
    "### END SOLUTION"
   ]
  },
  {
   "cell_type": "markdown",
   "metadata": {
    "id": "XDpZCK8ujopN"
   },
   "source": [
    "### Treinando Laços (loops) do tipo while (Slide 18)"
   ]
  },
  {
   "cell_type": "code",
   "execution_count": null,
   "metadata": {
    "id": "lJyh3DccjopO"
   },
   "outputs": [],
   "source": [
    "# Considere a lista a a seguir:\n",
    "lista_str = [\"234sewerawe\", \"abasdreera\", \"rtydeaera\", \"agwdeaer\", \"nsedert\", \n",
    "         \"ab23ea\", \"qycde\", \"ajyd\", \"akm\", \"wb\", \"r\"]"
   ]
  },
  {
   "cell_type": "markdown",
   "metadata": {
    "id": "pvWFJMgOjopO"
   },
   "source": [
    "#### W1.4 Usando um laço do tipo while, percorra a lista_str imprimindo cada elemento da lista.\n"
   ]
  },
  {
   "cell_type": "code",
   "execution_count": null,
   "metadata": {
    "id": "HX924nwrjopO",
    "nbgrader": {
     "grade": false,
     "grade_id": "cell-a2e59729f62fae67",
     "locked": false,
     "schema_version": 3,
     "solution": true,
     "task": false
    }
   },
   "outputs": [],
   "source": [
    "# Faça aqui\n",
    "### BEGIN SOLUTION\n",
    "n = 0\n",
    "while n < len(lista_str):\n",
    "    print(lista_str[n])\n",
    "    n = n + 1\n",
    "### END SOLUTION"
   ]
  },
  {
   "cell_type": "markdown",
   "metadata": {
    "id": "9iouChO2jopO"
   },
   "source": [
    "#### W1.5 Usando um laço do tipo while, percorra a lista_str imprimindo cada elemento da lista cujo tamanho seja maior que 4.\n",
    "\n"
   ]
  },
  {
   "cell_type": "code",
   "execution_count": null,
   "metadata": {
    "id": "3GX2OP7qjopO",
    "nbgrader": {
     "grade": false,
     "grade_id": "cell-33a6e0ae982d0662",
     "locked": false,
     "schema_version": 3,
     "solution": true,
     "task": false
    }
   },
   "outputs": [],
   "source": [
    "# Faça aqui\n",
    "### BEGIN SOLUTION\n",
    "n = 0\n",
    "while n < len(lista_str):\n",
    "    if len(lista_str[n]) > 4:\n",
    "        print(lista_str[n])\n",
    "    n = n + 1\n",
    "### END SOLUTION"
   ]
  },
  {
   "cell_type": "markdown",
   "metadata": {
    "id": "SMJzz0pCjopP"
   },
   "source": [
    "#### W1.6 Usando um laço do tipo while, percorra a lista_str imprimindo cada elemento da lista cujo tamanho seja maior que 4 e comece com uma vogal.\n",
    "#### Dica1: para acessar o primeiro caracter de uma string s use a sintaxe: ```s[0]```\n",
    "#### Dica2: para acessar o primeiro caracter de uma string s que esteja numa lista use a sintaxe: ```lista[n][0]```, onde n é a posição da string dentro da lista que você deseja acessar.\n",
    "#### Dica3: teste se um caracter é uma vogal assim: ```charac in [\"a\", \"b\", \"c\", \"d\", \"e\", \"A\", \"B\", \"C\", \"D\", \"E\"]```\n",
    "\n"
   ]
  },
  {
   "cell_type": "code",
   "execution_count": null,
   "metadata": {
    "id": "3B3TCMU2jopP",
    "nbgrader": {
     "grade": false,
     "grade_id": "cell-439fb670d2a2deaa",
     "locked": false,
     "schema_version": 3,
     "solution": true,
     "task": false
    }
   },
   "outputs": [],
   "source": [
    "# Faça aqui\n",
    "### BEGIN SOLUTION\n",
    "n = 0\n",
    "while n < len(lista_str):\n",
    "    if len(lista_str[n]) > 4 and lista_str[n][0] in [\"a\", \"b\", \"c\", \"d\", \"e\", \"A\", \"B\", \"C\", \"D\", \"E\"]:\n",
    "        print(lista_str[n])\n",
    "    n = n + 1\n",
    "\n",
    "#Solução alternativa\n",
    "n=0\n",
    "while n < len(lista_str):\n",
    "    if len(lista_str[n]) > 4 and lista_str[n][0].lower() in [\"a\", \"b\", \"c\", \"d\", \"e\"]:\n",
    "        print(lista_str[n])\n",
    "    n = n + 1\n",
    "\n",
    "### END SOLUTION"
   ]
  },
  {
   "cell_type": "markdown",
   "metadata": {
    "id": "kwT1XMQ9jopP"
   },
   "source": [
    "#### W1.7 Usando um laço do tipo while, percorra a lista_str imprimindo cada elemento da lista cujo tamanho seja maior que 4 e não comece com uma vogal.\n",
    "#### Dica1: para acessar o primeiro caracter de uma string s use a sintaxe: ```s[0]```\n",
    "#### Dica2: teste se um caracter é uma vogal assim: charac not in ```[\"a\", \"b\", \"c\", \"d\", \"e\", \"A\", \"B\", \"C\", \"D\", \"E\"]```"
   ]
  },
  {
   "cell_type": "code",
   "execution_count": null,
   "metadata": {
    "id": "WgiMP1aljopP",
    "nbgrader": {
     "grade": false,
     "grade_id": "cell-fe85d64b82a21f9f",
     "locked": false,
     "schema_version": 3,
     "solution": true,
     "task": false
    }
   },
   "outputs": [],
   "source": [
    "# Faça aqui\n",
    "### BEGIN SOLUTION\n",
    "n = 0\n",
    "while n < len(lista_str):\n",
    "    if len(lista_str[n]) > 4 and lista_str[n][0] not in [\"a\", \"b\", \"c\", \"d\", \"e\", \"A\", \"B\", \"C\", \"D\", \"E\"]:\n",
    "        print(lista_str[n])\n",
    "    n = n + 1\n",
    "### END SOLUTION"
   ]
  },
  {
   "cell_type": "markdown",
   "metadata": {
    "id": "LAP3Ic1pjopQ"
   },
   "source": [
    "### Treinando Laços (loops) do tipo for (Slide 19)"
   ]
  },
  {
   "cell_type": "code",
   "execution_count": null,
   "metadata": {
    "id": "GGO1LC98jopQ"
   },
   "outputs": [],
   "source": [
    "# Considere a lista a a seguir:\n",
    "lista_str = [\"234sewerawe\", \"abasdreera\", \"rtydeaera\", \"agwdeaer\", \"nsedert\", \n",
    "         \"ab23ea\", \"qycde\", \"ajyd\", \"akm\", \"wb\", \"r\"]"
   ]
  },
  {
   "cell_type": "markdown",
   "metadata": {
    "id": "E6EdnjvljopQ"
   },
   "source": [
    "#### W1.8 Repita o exercício W1.4 mas dessa vez usando um laço do tipo for\n",
    "\n"
   ]
  },
  {
   "cell_type": "code",
   "execution_count": null,
   "metadata": {
    "id": "i3wgPgdwjopQ",
    "nbgrader": {
     "grade": false,
     "grade_id": "cell-be8a786e79aef915",
     "locked": false,
     "schema_version": 3,
     "solution": true,
     "task": false
    }
   },
   "outputs": [],
   "source": [
    "# Faça aqui\n",
    "### BEGIN SOLUTION\n",
    "for s in lista_str:\n",
    "    print(s)\n",
    "### END SOLUTION"
   ]
  },
  {
   "cell_type": "markdown",
   "metadata": {
    "id": "Ld7TMANujopQ"
   },
   "source": [
    "#### W1.9 Repita o exercício W1.5 mas dessa vez usando um laço do tipo for\n",
    "\n"
   ]
  },
  {
   "cell_type": "code",
   "execution_count": null,
   "metadata": {
    "id": "Zn2tpStjjopR",
    "nbgrader": {
     "grade": false,
     "grade_id": "cell-49898637f23f33ca",
     "locked": false,
     "schema_version": 3,
     "solution": true,
     "task": false
    }
   },
   "outputs": [],
   "source": [
    "# Faça aqui\n",
    "### BEGIN SOLUTION\n",
    "for s in lista_str:\n",
    "    if len(s) > 4:\n",
    "        print(s)\n",
    "### END SOLUTION"
   ]
  },
  {
   "cell_type": "markdown",
   "metadata": {
    "id": "ZoFqG58OjopR"
   },
   "source": [
    "#### W1.10 Repita o exercício W1.6 mas dessa vez usando um laço do tipo for\n",
    "\n"
   ]
  },
  {
   "cell_type": "code",
   "execution_count": null,
   "metadata": {
    "id": "ygH6w2hDjopR",
    "nbgrader": {
     "grade": false,
     "grade_id": "cell-5e92d9372a9ba56a",
     "locked": false,
     "schema_version": 3,
     "solution": true,
     "task": false
    },
    "outputId": "4b52ab24-dbaa-4d9b-a422-e1e08b9b5f42"
   },
   "outputs": [],
   "source": [
    "# Faça aqui\n",
    "### BEGIN SOLUTION\n",
    "for s in lista_str:\n",
    "    if len(s) > 4 and s[0].lower() in [\"a\", \"b\", \"c\", \"d\", \"e\"]:\n",
    "        print(s)\n",
    "### END SOLUTION"
   ]
  },
  {
   "cell_type": "markdown",
   "metadata": {
    "id": "9sxIob_DjopS"
   },
   "source": [
    "#### W1.11 Repita o exercício W1.7 mas dessa vez usando um laço do tipo for\n",
    "\n"
   ]
  },
  {
   "cell_type": "code",
   "execution_count": null,
   "metadata": {
    "id": "1PvNP3FNjopS",
    "nbgrader": {
     "grade": false,
     "grade_id": "cell-d50f2c4f05ae40d9",
     "locked": false,
     "schema_version": 3,
     "solution": true,
     "task": false
    }
   },
   "outputs": [],
   "source": [
    "# Faça aqui\n",
    "### BEGIN SOLUTION\n",
    "for s in lista_str:\n",
    "    if len(s) > 4 and s[0].lower() not in [\"a\", \"b\", \"c\", \"d\", \"e\"]:\n",
    "        print(s)\n",
    " \n",
    "### END SOLUTION"
   ]
  },
  {
   "cell_type": "markdown",
   "metadata": {
    "id": "DK3aOjRpjopT"
   },
   "source": [
    "### Formando uma string (Slide 21)"
   ]
  },
  {
   "cell_type": "markdown",
   "metadata": {
    "id": "YB7VUou2jopT"
   },
   "source": [
    "#### W1.12 Crie uma string genérica (parametrizável) que seja capaz de gerar a string apresentada abaixo"
   ]
  },
  {
   "cell_type": "markdown",
   "metadata": {
    "id": "URq_0-whjopT"
   },
   "source": [
    "```\"a=6, b=9, a+b=15, a*b=54\"\n",
    "```"
   ]
  },
  {
   "cell_type": "code",
   "execution_count": null,
   "metadata": {
    "id": "fLTwczzLjopT",
    "nbgrader": {
     "grade": false,
     "grade_id": "cell-0e3d193c7bddab25",
     "locked": false,
     "schema_version": 3,
     "solution": true,
     "task": false
    }
   },
   "outputs": [],
   "source": [
    "# Aplique a parametrização para os valores:\n",
    "# a=100 e b=80\n",
    "### BEGIN SOLUTION\n",
    "a=100 \n",
    "b=80\n",
    "print(f\"a={b}, b={b}, a+b={a+b}, a*b={a*b}\")\n",
    "### END SOLUTION\n",
    "\n",
    "# a=700 e b=860\n",
    "### BEGIN SOLUTION\n",
    "a=700 \n",
    "b=860\n",
    "print(f\"a={b}, b={b}, a+b={a+b}, a*b={a*b}\")\n",
    "### END SOLUTION"
   ]
  },
  {
   "cell_type": "markdown",
   "metadata": {
    "id": "l9EAGtzdjopT"
   },
   "source": [
    "### Treinando a função join de strings (Slide 30)"
   ]
  },
  {
   "cell_type": "markdown",
   "metadata": {
    "id": "VAzNXF3xjopT"
   },
   "source": [
    "#### W1.13 Crie uma string a partir de uma lista de strings, concatenando cada elemento da lista com um ponto e vírgula (;).\n",
    "#### Dica: use a função join"
   ]
  },
  {
   "cell_type": "code",
   "execution_count": null,
   "metadata": {
    "id": "iH-PsXQZjopU",
    "nbgrader": {
     "grade": false,
     "grade_id": "cell-5d2bf6fb04033a82",
     "locked": false,
     "schema_version": 3,
     "solution": true,
     "task": false
    }
   },
   "outputs": [],
   "source": [
    "# Considere esta lista de strings\n",
    "lista_nums = [\"1\", \"2\", \"3\", \"4\"]\n",
    "# Faça aqui\n",
    "### BEGIN SOLUTION\n",
    "\";\".join(lista_nums)\n",
    "### END SOLUTION"
   ]
  },
  {
   "cell_type": "markdown",
   "metadata": {
    "id": "ubrTJ7tFjopU"
   },
   "source": [
    "### Criando uma lista de strings a partir de uma string (Slide 23)"
   ]
  },
  {
   "cell_type": "markdown",
   "metadata": {
    "id": "iJGbofLojopU"
   },
   "source": [
    "#### W1.14 Crie uma lista a partir da string abaixo. Use o separador mais conveniente para esse caso.\n",
    "```test_str = \"aaaaa,bsas,eeee,890,2323,osososo\"\n",
    "```"
   ]
  },
  {
   "cell_type": "code",
   "execution_count": null,
   "metadata": {
    "id": "rJKDRbtAjopU",
    "nbgrader": {
     "grade": false,
     "grade_id": "cell-8de79d3fab95142d",
     "locked": false,
     "schema_version": 3,
     "solution": true,
     "task": false
    }
   },
   "outputs": [],
   "source": [
    "# Faça aqui\n",
    "### BEGIN SOLUTION\n",
    "test_str = \"aaaaa,bsas,eeee,890,2323,osososo\"\n",
    "test_str.split(\",\")\n",
    "### END SOLUTION"
   ]
  },
  {
   "cell_type": "markdown",
   "metadata": {
    "id": "DNMGoWbkjopU"
   },
   "source": [
    "# Estrutura de Dados em Python"
   ]
  },
  {
   "cell_type": "markdown",
   "metadata": {
    "id": "BQpf6lOujopV"
   },
   "source": [
    "### Treinando conceitos sobre listas em python (Slide 26)"
   ]
  },
  {
   "cell_type": "markdown",
   "metadata": {
    "id": "dGPbpYvijopV"
   },
   "source": [
    "#### W1.15 Crie as listas solicitadas a seguir"
   ]
  },
  {
   "cell_type": "code",
   "execution_count": null,
   "metadata": {
    "colab": {
     "base_uri": "https://localhost:8080/",
     "height": 248
    },
    "executionInfo": {
     "elapsed": 681,
     "status": "error",
     "timestamp": 1620050951731,
     "user": {
      "displayName": "Rodrigo Dias Botelho",
      "photoUrl": "https://lh3.googleusercontent.com/a-/AOh14GjgTCvHxMnMBu2B5-g2VAM3j8PQUhXgqpsy81hnkA=s64",
      "userId": "15723687865298183300"
     },
     "user_tz": 180
    },
    "id": "DmwiSYSKjopV",
    "nbgrader": {
     "grade": false,
     "grade_id": "cell-040f6fb0d88eba42",
     "locked": false,
     "schema_version": 3,
     "solution": true,
     "task": false
    },
    "outputId": "24d78d01-3d46-4607-fc60-a62a1216c7ea"
   },
   "outputs": [],
   "source": [
    "# 1) Crie uma lista de números inteiros\n",
    "### BEGIN SOLUTION\n",
    "print([1,2,3,4,5])\n",
    "### END SOLUTION\n",
    "# 2) Crie uma lista de booleanos\n",
    "### BEGIN SOLUTION\n",
    "print([True, True, False])\n",
    "### END SOLUTION\n",
    "# 3) Crie uma lista de strings\n",
    "### BEGIN SOLUTION\n",
    "print([\"a\", \"1\", \"b\"])\n",
    "### END SOLUTION\n",
    "\n"
   ]
  },
  {
   "cell_type": "markdown",
   "metadata": {
    "id": "21MxcFNGjopV"
   },
   "source": [
    "### Slicing (fatiar) (Slide 28)\n",
    "#### W1.16 Selecione os elementos da lista5 especificados a seguir"
   ]
  },
  {
   "cell_type": "code",
   "execution_count": null,
   "metadata": {
    "id": "vpE-jNnsjopV",
    "nbgrader": {
     "grade": false,
     "grade_id": "cell-6afec6bcef1e5b62",
     "locked": false,
     "schema_version": 3,
     "solution": true,
     "task": false
    }
   },
   "outputs": [],
   "source": [
    "# Considere a seguinte lista\n",
    "lista5 = [\"awerr\", \"aa\", \"sssaere\", False, True, None, 9., 0., 9., 104, 20, 1]\n",
    "# 1) Retorne o primeiro elemento da lista\n",
    "### BEGIN SOLUTION\n",
    "print(lista5[0])\n",
    "### END SOLUTION\n",
    "# 2) Retorne o último elemento da lista\n",
    "### BEGIN SOLUTION\n",
    "print(lista5[-1])\n",
    "### END SOLUTION\n",
    "# 3) Retorne os 3 ultimos elementos da lista\n",
    "### BEGIN SOLUTION\n",
    "print(lista5[-3:])\n",
    "### END SOLUTION\n",
    "# 4) Retorne elementos espaçados a cada 3 elementos, a partir do índice 0\n",
    "### BEGIN SOLUTION\n",
    "print(lista5[::3])\n",
    "### END SOLUTION\n",
    "# 5) Retorne a lista na ordem inversa\n",
    "### BEGIN SOLUTION\n",
    "print(lista5[::-1])\n",
    "### END SOLUTION\n"
   ]
  },
  {
   "cell_type": "markdown",
   "metadata": {
    "id": "dD-QVE_sjopV"
   },
   "source": [
    "#### W1.17 Faça um código python para encontrar os elementos de uma lista de strings cujo tamanho seja maior que 3 caracteres e os dois últimos sejam iguais."
   ]
  },
  {
   "cell_type": "code",
   "execution_count": null,
   "metadata": {
    "id": "acY3E9fGjopW",
    "nbgrader": {
     "grade": false,
     "grade_id": "cell-3cdee5304d323314",
     "locked": false,
     "schema_version": 3,
     "solution": true,
     "task": false
    }
   },
   "outputs": [],
   "source": [
    "lista = [\"awerr\", \"aa\", \"awyt\", \"g\", \"sssaeee\"]\n",
    "# Faça aqui\n",
    "### BEGIN SOLUTION\n",
    "for s in lista:\n",
    "    if len(s) > 3 and s[-1]==s[-2]:\n",
    "        print(s)\n",
    "### END SOLUTION\n"
   ]
  },
  {
   "cell_type": "markdown",
   "metadata": {
    "id": "6sfzIddPjopW"
   },
   "source": [
    "#### W1.18 Usando um loop do tipo for encontre a interseção entre duas listas"
   ]
  },
  {
   "cell_type": "code",
   "execution_count": null,
   "metadata": {
    "id": "S5zKchNxjopW",
    "nbgrader": {
     "grade": false,
     "grade_id": "cell-d853a8c8347d2f2e",
     "locked": false,
     "schema_version": 3,
     "solution": true,
     "task": false
    }
   },
   "outputs": [],
   "source": [
    "lista1 = [\"awerr\", \"aa\", \"awyt\", \"g\", \"sssaere\"]\n",
    "lista2 = [\"awerr\", \"aa\", \"sssaere\", \"aabb\", \"qwerttt\", \"12345\"]\n",
    "# Faça aqui\n",
    "### BEGIN SOLUTION\n",
    "for l1 in lista1:\n",
    "    if l1 in lista2:\n",
    "        print(l1)\n",
    "### END SOLUTION\n"
   ]
  },
  {
   "cell_type": "markdown",
   "metadata": {
    "id": "nWEHQGNcjopW"
   },
   "source": [
    "#### W1.19 Usando um loop do tipo for encontre os elementos que estão na lista1 mas não estão na lista 2."
   ]
  },
  {
   "cell_type": "code",
   "execution_count": null,
   "metadata": {
    "id": "GKcx4eDBjopW",
    "nbgrader": {
     "grade": false,
     "grade_id": "cell-736308676a1efddd",
     "locked": false,
     "schema_version": 3,
     "solution": true,
     "task": false
    }
   },
   "outputs": [],
   "source": [
    "lista1 = [\"awerr\", \"aa\", \"awyt\", \"g\", \"sssaere\"]\n",
    "lista2 = [\"awerr\", \"aa\", \"sssaere\", \"aabb\", \"qwerttt\", \"12345\"]\n",
    "# Faça aqui\n",
    "### BEGIN SOLUTION\n",
    "for l1 in lista1:\n",
    "    if l1 not in lista2:\n",
    "        print(l1)\n",
    "### END SOLUTION\n"
   ]
  },
  {
   "cell_type": "markdown",
   "metadata": {
    "id": "pGNTkQ75jopW"
   },
   "source": [
    "#### W1.20 Usando loops (laços), encontre os elementos que não estão na intersecção das duas listas.\n",
    "#### dica 1: cria a uniao das listas assim: ```lista1 + lista2```\n",
    "#### dica 2: crie a interseção das duas lista com um loop do tipo for\n",
    "#### dica 3: com um loop do tipo for, encontre os elementos que estão na união, mas não na interseção."
   ]
  },
  {
   "cell_type": "code",
   "execution_count": null,
   "metadata": {
    "id": "in0niqxCjopX",
    "nbgrader": {
     "grade": false,
     "grade_id": "cell-3d9e494d7d1da7ac",
     "locked": false,
     "schema_version": 3,
     "solution": true,
     "task": false
    }
   },
   "outputs": [],
   "source": [
    "lista1 = [\"awerr\", \"aa\", \"awyt\", \"g\", \"sssaere\"]\n",
    "lista2 = [\"awerr\", \"aa\", \"sssaere\", \"aabb\", \"qwerttt\", \"12345\"]\n",
    "# Faça aqui\n",
    "### BEGIN SOLUTION\n",
    "uniao = lista1 + lista2\n",
    "intersecao = []\n",
    "for l1 in lista1:\n",
    "    if l1 in lista2:\n",
    "        intersecao.append(l1)\n",
    "\n",
    "for u in uniao:\n",
    "    if u not in intersecao:\n",
    "        print(u)\n",
    "### END SOLUTION\n"
   ]
  },
  {
   "cell_type": "markdown",
   "metadata": {
    "id": "5WFEExGojopX"
   },
   "source": [
    "#### W1.21 Crie código python para inverter a ordem de duas palavras que aparecem em frases do tipo: \"pera e banana\""
   ]
  },
  {
   "cell_type": "code",
   "execution_count": null,
   "metadata": {
    "id": "TwjCYfO-jopX",
    "nbgrader": {
     "grade": false,
     "grade_id": "cell-686d547bc9fb7c3f",
     "locked": false,
     "schema_version": 3,
     "solution": true,
     "task": false
    }
   },
   "outputs": [],
   "source": [
    "# Exemplo: para a entrada \"pera e banana\", o resultado esperado é \"banana e pera\"\n",
    "frase = \"pera e banana\"\n",
    "### BEGIN SOLUTION\n",
    "lista = frase.split(\" e \")\n",
    "print(\" e \".join(lista[::-1]))\n",
    "### END SOLUTION"
   ]
  },
  {
   "cell_type": "markdown",
   "metadata": {
    "id": "3UuLIB4RjopX"
   },
   "source": [
    "## Treinando mais funções (Slide 12)"
   ]
  },
  {
   "cell_type": "markdown",
   "metadata": {
    "id": "FxEDDoMjjopY"
   },
   "source": [
    "#### W1.22 Escreva uma função para calcular o máximo de dois numeros"
   ]
  },
  {
   "cell_type": "code",
   "execution_count": null,
   "metadata": {
    "id": "G61FSQPpjopY",
    "nbgrader": {
     "grade": false,
     "grade_id": "cell-220e3da2db0b8d78",
     "locked": false,
     "schema_version": 3,
     "solution": true,
     "task": false
    }
   },
   "outputs": [],
   "source": [
    "def maximo(a, b):\n",
    "    #faca aqui\n",
    "    #retorne o valor maximo entre a e b\n",
    "    ### BEGIN SOLUTION\n",
    "    if a > b:\n",
    "        return a\n",
    "    else:\n",
    "        return b\n",
    "    ### END SOLUTION\n",
    "\n",
    "\n",
    "print(maximo(5, -3))\n",
    "print(maximo(-5, -3))"
   ]
  },
  {
   "cell_type": "markdown",
   "metadata": {
    "id": "_cgBDy87jopY"
   },
   "source": [
    "#### W1.23 Escreva uma função para calcular a velocidade de um objeto dado a distancia percorrida e o tempo. Considere as unidades de distância e tempo sendo respectivamente Km e hora."
   ]
  },
  {
   "cell_type": "code",
   "execution_count": null,
   "metadata": {
    "id": "YnWC_C7FjopY",
    "nbgrader": {
     "grade": false,
     "grade_id": "cell-007416219f9a975b",
     "locked": false,
     "schema_version": 3,
     "solution": true,
     "task": false
    }
   },
   "outputs": [],
   "source": [
    "def velocidade(distancia, tempo):\n",
    "    #faca aqui\n",
    "    #retorne a velocidade do objeto\n",
    "    ### BEGIN SOLUTION\n",
    "    return distancia/tempo\n",
    "    ### END SOLUTION\n",
    "\n",
    "\n",
    "print(velocidade(55, 0.5))"
   ]
  },
  {
   "cell_type": "markdown",
   "metadata": {
    "id": "AMsSn4MJjopY"
   },
   "source": [
    "#### W1.27 Escreva uma função para determinar se um objeto extrapolou um determinado limite de velocidade. O limite de velocidade deve ser parametrizável (um argumento da função), assim como a distância e o tempo. A função deve retornar True se o limite for excedido, e retornar False caso contrário."
   ]
  },
  {
   "cell_type": "code",
   "execution_count": null,
   "metadata": {
    "id": "v2jSX-5vjopY",
    "nbgrader": {
     "grade": false,
     "grade_id": "cell-7a14352be23d5b9e",
     "locked": false,
     "schema_version": 3,
     "solution": true,
     "task": false
    }
   },
   "outputs": [],
   "source": [
    "#faca aqui\n",
    "def excedeu_limite(distancia, tempo, limite):\n",
    "    #faca aqui\n",
    "    #retorne a velocidade do objeto\n",
    "    ### BEGIN SOLUTION\n",
    "    return distancia/tempo > limite\n",
    "    ### END SOLUTION\n",
    "\n",
    "\n",
    "print(excedeu_limite(55, 0.5, 100))"
   ]
  }
 ],
 "metadata": {
  "celltoolbar": "Create Assignment",
  "colab": {
   "name": "Aula2_Warmup_Solucoes.ipynb",
   "provenance": []
  },
  "kernelspec": {
   "display_name": "Python 3",
   "language": "python",
   "name": "python3"
  },
  "language_info": {
   "codemirror_mode": {
    "name": "ipython",
    "version": 3
   },
   "file_extension": ".py",
   "mimetype": "text/x-python",
   "name": "python",
   "nbconvert_exporter": "python",
   "pygments_lexer": "ipython3",
   "version": "3.8.3"
  },
  "varInspector": {
   "cols": {
    "lenName": 16,
    "lenType": 16,
    "lenVar": 40
   },
   "kernels_config": {
    "python": {
     "delete_cmd_postfix": "",
     "delete_cmd_prefix": "del ",
     "library": "var_list.py",
     "varRefreshCmd": "print(var_dic_list())"
    },
    "r": {
     "delete_cmd_postfix": ") ",
     "delete_cmd_prefix": "rm(",
     "library": "var_list.r",
     "varRefreshCmd": "cat(var_dic_list()) "
    }
   },
   "types_to_exclude": [
    "module",
    "function",
    "builtin_function_or_method",
    "instance",
    "_Feature"
   ],
   "window_display": false
  }
 },
 "nbformat": 4,
 "nbformat_minor": 1
}

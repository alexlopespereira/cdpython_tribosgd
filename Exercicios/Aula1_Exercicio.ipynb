{
 "cells": [
  {
   "cell_type": "markdown",
   "metadata": {
    "id": "7quZMulKmDgO"
   },
   "source": [
    "# Aula 1- Exercícios - Sintaxe de Python e NumPy Array"
   ]
  },
  {
   "cell_type": "code",
   "execution_count": null,
   "metadata": {
    "id": "2ptzvC2uXXqE"
   },
   "outputs": [],
   "source": [
    "# #@title Init Cell - Execute-me!!!\n",
    "!pip install ipynb_autograde==0.0.30\n",
    "from ipynb_autograde.main import init_log, validate\n",
    "init_log()\n",
    "email_result=!gcloud config get-value account\n",
    "if not email_result or 'unset' in email_result[0]:\n",
    "  !gcloud auth login\n"
   ]
  },
  {
   "cell_type": "markdown",
   "metadata": {
    "id": "T8QOSLHMmDgV"
   },
   "source": [
    "### Ao resolver um exercício, apague o seguinte trecho do código:\n",
    "```# YOUR CODE HERE\n",
    "raise NotImplementedError()\n",
    "```"
   ]
  },
  {
   "cell_type": "markdown",
   "metadata": {
    "id": "AR4-EPmXmDgV"
   },
   "source": [
    "### 1.1 Escreva uma função em Python que aceite um inteiro (n) de 1 a 9 e compute o valor de: n+nn+nnn\n",
    "#### Valide os valores de entrada. Para isso, use a instrução raise ValueError\n",
    "##### Exemplo: n=5. Então n + nn + nnn = 5 + 55 + 555 = 615"
   ]
  },
  {
   "cell_type": "code",
   "execution_count": null,
   "metadata": {
    "id": "DEfucVttmDgW"
   },
   "outputs": [],
   "source": [
    "# Faca aqui seus testes do Exercício 1.1\n"
   ]
  },
  {
   "cell_type": "code",
   "execution_count": null,
   "metadata": {
    "deletable": false,
    "id": "pGYynJKRmDgV",
    "nbgrader": {
     "cell_type": "code",
     "checksum": "a2fcc14466b1b83736cf0be324892c4d",
     "grade": false,
     "grade_id": "cell-a2f686fdd79e4f51",
     "locked": false,
     "schema_version": 3,
     "solution": true,
     "task": false
    }
   },
   "outputs": [],
   "source": [
    "# Faca aqui sua função do Exercício 1.1\n",
    "def calculo_n(n):\n",
    "    \"\"\"retorne o valor de: n+nn+nnn\n",
    "    \"\"\"\n",
    "    # YOUR CODE HERE\n",
    "    raise NotImplementedError()"
   ]
  },
  {
   "cell_type": "code",
   "execution_count": null,
   "metadata": {
    "colab": {
     "base_uri": "https://localhost:8080/"
    },
    "deletable": false,
    "editable": false,
    "id": "8AXVtXy8mDgW",
    "nbgrader": {
     "cell_type": "code",
     "checksum": "085e6010e375630edf2f566315a3f264",
     "grade": true,
     "grade_id": "cell-5412543179b17057",
     "locked": true,
     "points": 1,
     "schema_version": 3,
     "solution": false,
     "task": false
    },
    "outputId": "67259075-a2c2-446f-e3eb-eb9bcbfc515d"
   },
   "outputs": [],
   "source": [
    "# Faca aqui a validacao do Exercicio 1.1\n",
    "entradas = [[1], [2], [3], [9]]\n",
    "saidas = [123, 246, 369, 1107]\n",
    "validate(calculo_n, entradas, lambda x: x, saidas, \"1.1\")"
   ]
  },
  {
   "cell_type": "markdown",
   "metadata": {
    "id": "BLZ_R1pxmDgW"
   },
   "source": [
    "### 1.2 Escreva uma função para retornar o maior item de uma lista de inteiros"
   ]
  },
  {
   "cell_type": "code",
   "execution_count": null,
   "metadata": {
    "id": "MTAs3xXZmDgX"
   },
   "outputs": [],
   "source": [
    "# Faca aqui seus testes do Exercício 1.2\n"
   ]
  },
  {
   "cell_type": "code",
   "execution_count": null,
   "metadata": {
    "deletable": false,
    "id": "5RfQYoazmDgX",
    "nbgrader": {
     "cell_type": "code",
     "checksum": "247670c0df3dd3e4865a7de203c3fc93",
     "grade": false,
     "grade_id": "cell-2e044a5f0541da37",
     "locked": false,
     "schema_version": 3,
     "solution": true,
     "task": false
    }
   },
   "outputs": [],
   "source": [
    "# Faca aqui sua função do Exercício 1.2\n",
    "def maior(lista):\n",
    "    \"\"\"retorne o maior item da lista\n",
    "    \"\"\"\n",
    "    # YOUR CODE HERE\n",
    "    raise NotImplementedError()"
   ]
  },
  {
   "cell_type": "code",
   "execution_count": null,
   "metadata": {
    "deletable": false,
    "editable": false,
    "id": "NhXXi04amDgX",
    "nbgrader": {
     "cell_type": "code",
     "checksum": "7d1a9002688e22a484c8e0d77998c70e",
     "grade": true,
     "grade_id": "cell-5bd4079b37b6a7f3",
     "locked": true,
     "points": 1,
     "schema_version": 3,
     "solution": false,
     "task": false
    }
   },
   "outputs": [],
   "source": [
    "# Faca aqui a validacao do Exercicio 1.2\n",
    "entradas = [[1,0,-1,100,7], [-100,-1580,-1,-9100,-77]]\n",
    "saidas = [100, -1]\n",
    "validate(maior, entradas, lambda x: x, saidas, \"1.2\")"
   ]
  },
  {
   "cell_type": "markdown",
   "metadata": {
    "id": "27XW8uNSmDgX"
   },
   "source": [
    "### 1.3 Escreva uma função para contar a quantidade de strings, presentes numa lista, cujo tamanho é maior que 2 e o primeiro e último caracteres são os mesmos\n",
    "\n",
    "#### Exemplo:  ['abc', 'xyz', 'aba', '1221']\n",
    "#### Resultado esperado : 2\n",
    "\n",
    "#### Dica 1: A função len retorna o tamanho da string. Exemplo: len('abc'), retorna 3\n",
    "#### Dica 2: Uma string é uma lista de caracteres"
   ]
  },
  {
   "cell_type": "code",
   "execution_count": null,
   "metadata": {
    "id": "pKu5fwLZmDgY"
   },
   "outputs": [],
   "source": [
    "# Faca aqui seus testes do Exercício 1.3\n"
   ]
  },
  {
   "cell_type": "code",
   "execution_count": null,
   "metadata": {
    "deletable": false,
    "id": "unXT4sLHmDgY",
    "nbgrader": {
     "cell_type": "code",
     "checksum": "743558f1b37a38cdc31dc5545898b829",
     "grade": false,
     "grade_id": "cell-59d12cc6e067b728",
     "locked": false,
     "schema_version": 3,
     "solution": true,
     "task": false
    }
   },
   "outputs": [],
   "source": [
    "# Faca aqui sua função do Exercício 1.3\n",
    "def contagem(lista):\n",
    "    # YOUR CODE HERE\n",
    "    raise NotImplementedError()"
   ]
  },
  {
   "cell_type": "code",
   "execution_count": null,
   "metadata": {
    "id": "Vlf5_zo-mDgY"
   },
   "outputs": [],
   "source": [
    "# Faca aqui a validacao do Exercicio 1.3\n",
    "v1 = contagem(['abc', 'xyz', 'aba', '1221']) == 2\n",
    "v2 = contagem(['ac', '1111', 'aasdfsdfdda', '12ewwww21']) == 3\n",
    "v3 = contagem(['', 'xyzaaaaaaaaa', 'aa', 'babababa']) == 0\n",
    "current_question_output = v1 and v2 and v3\n",
    "assert current_question_output\n",
    "validate(current_question_output, \"2.3\", False)"
   ]
  },
  {
   "cell_type": "markdown",
   "metadata": {
    "id": "o-PYyaOFhJra"
   },
   "source": [
    "### 1.4 Crie um código python para imprimir o seguinte padrão. \n",
    "#### 1 \n",
    "#### 1 2 \n",
    "#### 1 2 3 \n",
    "#### 1 2 3 4 \n",
    "#### 1 2 3 4 5"
   ]
  },
  {
   "cell_type": "code",
   "execution_count": null,
   "metadata": {
    "deletable": false,
    "id": "ePg8q7KKhJra",
    "nbgrader": {
     "cell_type": "code",
     "checksum": "38d95bef1c514c77299b9d21545d6382",
     "grade": true,
     "grade_id": "cell-61d03fd9d1b0eb4e",
     "locked": false,
     "points": 1,
     "schema_version": 3,
     "solution": true,
     "task": false
    }
   },
   "outputs": [],
   "source": [
    "# Faca aqui seus testes do Exercício 1.4\n",
    "\n",
    "## Essa questão não tem assert.\n",
    "## Faça aqui\n",
    "# YOUR CODE HERE\n",
    "raise NotImplementedError()"
   ]
  },
  {
   "cell_type": "markdown",
   "metadata": {
    "id": "ef5gM-ZamDgY"
   },
   "source": [
    "### 1.5 Escreva uma função Python para percorrer uma lista e retornar os números multiplos de N. Pare a iteração no ponto em que encontrar um número maior do que K. Não retorne o 1o número maior do que K.\n",
    "#### Exemplo:  lista = [120, 115, 12, 32, 56, 200, 715, 152, 130, 155, 183, 300], N=5, K=200\n",
    "#### Resultado Esperado: [120, 115, 200]"
   ]
  },
  {
   "cell_type": "code",
   "execution_count": null,
   "metadata": {
    "id": "qepzVLvmmDgZ"
   },
   "outputs": [],
   "source": [
    "# Faca aqui seus testes do Exercício 1.5\n",
    "lista = [120, 115, 12, 32, 56, 200, 715, 152, 130, 155, 183, 300]\n",
    "N = 5\n",
    "K = 200"
   ]
  },
  {
   "cell_type": "code",
   "execution_count": null,
   "metadata": {
    "deletable": false,
    "id": "vQ1GviBkmDgY",
    "nbgrader": {
     "cell_type": "code",
     "checksum": "d265ba65b85bb6a1731c6ac8ef676cbd",
     "grade": false,
     "grade_id": "cell-c9aafbecc3672877",
     "locked": false,
     "schema_version": 3,
     "solution": true,
     "task": false
    }
   },
   "outputs": [],
   "source": [
    "# Faca aqui sua função do Exercício 1.5\n",
    "def filtra_lista(lista, N, K):\n",
    "    \"\"\"retorne uma lista com todos os números multiplos de N menores do que K, \n",
    "       até o primeiro número maior do que K, não inclua este número na lista de resultado.\n",
    "    \"\"\"\n",
    "    # YOUR CODE HERE\n",
    "    raise NotImplementedError()"
   ]
  },
  {
   "cell_type": "code",
   "execution_count": null,
   "metadata": {
    "id": "ryT40DtrmDgZ"
   },
   "outputs": [],
   "source": [
    "# Faca aqui a validacao do Exercicio 1.5\n",
    "v1 = filtra_lista([120, 115, 12, 32, 56, 200, 715, 152, 130, 155, 183, 300], 5, 200) == [120, 115, 200]\n",
    "current_question_output = v1\n",
    "assert current_question_output\n",
    "validate(current_question_output, \"2.5\", False)"
   ]
  },
  {
   "cell_type": "markdown",
   "metadata": {
    "id": "76Ps9uxVhJrb"
   },
   "source": [
    "### 1.6 Dado um número inteiro qualquer, escreva uma função python para retornar a quantidade de caracteres (dígitos) contida neste número.\n",
    "##### Exemplo:  qtd_digitos(2345653) deve retornar 7"
   ]
  },
  {
   "cell_type": "code",
   "execution_count": null,
   "metadata": {
    "id": "tEXFv-kIhJrb"
   },
   "outputs": [],
   "source": [
    "# Faca aqui seus testes do Exercício 1.6\n"
   ]
  },
  {
   "cell_type": "code",
   "execution_count": null,
   "metadata": {
    "deletable": false,
    "id": "PpRpN8I4hJrb",
    "nbgrader": {
     "cell_type": "code",
     "checksum": "bc50f1a23a6eab50737551de4457cf65",
     "grade": false,
     "grade_id": "cell-e69a127f71184645",
     "locked": false,
     "schema_version": 3,
     "solution": true,
     "task": false
    }
   },
   "outputs": [],
   "source": [
    "# Faca aqui sua função do Exercício 1.6\n",
    "def qtd_digitos(N):\n",
    "    \"\"\"retorne a quantidade de dígitos do número N.\n",
    "    \"\"\"\n",
    "    # YOUR CODE HERE\n",
    "    raise NotImplementedError()"
   ]
  },
  {
   "cell_type": "code",
   "execution_count": null,
   "metadata": {
    "deletable": false,
    "editable": false,
    "id": "JJMSYUU6hJrb",
    "nbgrader": {
     "cell_type": "code",
     "checksum": "186cb545407ea129573078f439e7bbbc",
     "grade": true,
     "grade_id": "cell-418c099df61d368b",
     "locked": true,
     "points": 1,
     "schema_version": 3,
     "solution": false,
     "task": false
    }
   },
   "outputs": [],
   "source": [
    "# Faca aqui a validacao do Exercicio 1.6\n",
    "v1 = qtd_digitos(2345653) == 7\n",
    "current_question_output = v1\n",
    "assert current_question_output\n",
    "validate(current_question_output, \"2.6\", True)"
   ]
  },
  {
   "cell_type": "markdown",
   "metadata": {
    "id": "9yyNkmazhJrc"
   },
   "source": [
    "### 1.7 Escreva uma função Python para somar os valores dos numeros presentes numa string de números separados por vírgula.\n",
    "#### Exemplo:  \"1.0,  4.0,  10.0,  8.0,  4.0,  20.0,  23.0\"\n",
    "#### Resultado esperado: 70"
   ]
  },
  {
   "cell_type": "code",
   "execution_count": null,
   "metadata": {
    "id": "eEJZBxzFhJrc"
   },
   "outputs": [],
   "source": [
    "# Faca aqui seus testes do Exercício 1.7\n"
   ]
  },
  {
   "cell_type": "code",
   "execution_count": null,
   "metadata": {
    "deletable": false,
    "id": "5Q6P9duvhJrc",
    "nbgrader": {
     "cell_type": "code",
     "checksum": "053d189f81c15d899473028c818a7200",
     "grade": false,
     "grade_id": "cell-f6c50b3e165db993",
     "locked": false,
     "schema_version": 3,
     "solution": true,
     "task": false
    }
   },
   "outputs": [],
   "source": [
    "# Faca aqui sua função do Exercício 1.7\n",
    "def soma_string(texto):\n",
    "    \"\"\"retorne a soma dos numeros presentes na variavel texto\n",
    "    \"\"\"\n",
    "    # YOUR CODE HERE\n",
    "    raise NotImplementedError()"
   ]
  },
  {
   "cell_type": "code",
   "execution_count": null,
   "metadata": {
    "deletable": false,
    "editable": false,
    "id": "cLhLw6WhhJrc",
    "nbgrader": {
     "cell_type": "code",
     "checksum": "17212775463bad3e4f5e606b7c1f7e10",
     "grade": true,
     "grade_id": "cell-401910203dadc4db",
     "locked": true,
     "points": 1,
     "schema_version": 3,
     "solution": false,
     "task": false
    }
   },
   "outputs": [],
   "source": [
    "# Faca aqui a validacao do Exercicio 1.7\n",
    "var = \"1.0,  4.0,  10.0,  8.0,  4.0,  20.0,  23.0\"\n",
    "v1 = soma_string(var) == 70.0\n",
    "current_question_output = v1\n",
    "assert current_question_output\n",
    "validate(current_question_output, \"2.7\", True)"
   ]
  },
  {
   "cell_type": "markdown",
   "metadata": {
    "id": "NRqc5THOhJrd"
   },
   "source": [
    "### 1.8 Crie um código python para imprimir o seguinte padrão. \n",
    "#### Dica: Use uma sintaxe de geração de números em ordem decrescente. Por exemplo ```range(5, 0, -1)``` gera um iterator para a sequência 5, 4, 3, 2, 1\n",
    "#### 5 4 3 2 1 \n",
    "#### 4 3 2 1 \n",
    "#### 3 2 1 \n",
    "#### 2 1 \n",
    "#### 1"
   ]
  },
  {
   "cell_type": "code",
   "execution_count": null,
   "metadata": {
    "deletable": false,
    "id": "uE7RGFC7hJrf",
    "nbgrader": {
     "cell_type": "code",
     "checksum": "60fa743f972089cff28c1218dd8ae169",
     "grade": false,
     "grade_id": "cell-fc8267fa2d7e4c7c",
     "locked": false,
     "schema_version": 3,
     "solution": true,
     "task": false
    }
   },
   "outputs": [],
   "source": [
    "# Faca aqui seus testes do Exercício 1.8\n",
    "\n",
    "### Este exercicio não tem assert\n",
    "## Faça aqui\n",
    "\n",
    "# YOUR CODE HERE\n",
    "raise NotImplementedError()"
   ]
  },
  {
   "cell_type": "markdown",
   "metadata": {
    "id": "6ekeJCJChJrf"
   },
   "source": [
    "### 1.9 Usando um loop do tipo for, crie uma função python para inverter uma lista.\n",
    "#### Exemplo:  inverter([120, 115, 12, 32, 56]) deve retornar [56, 32, 12, 115, 120]"
   ]
  },
  {
   "cell_type": "code",
   "execution_count": null,
   "metadata": {
    "id": "-ZGclThxhJrg"
   },
   "outputs": [],
   "source": [
    "# Faca aqui seus testes do Exercício 1.9\n",
    "\n"
   ]
  },
  {
   "cell_type": "code",
   "execution_count": null,
   "metadata": {
    "deletable": false,
    "id": "ZUDlckS9hJrg",
    "nbgrader": {
     "cell_type": "code",
     "checksum": "6dd9a69e778bfa0ce3cbe34b45ccaa7b",
     "grade": false,
     "grade_id": "cell-513f2b547866e072",
     "locked": false,
     "schema_version": 3,
     "solution": true,
     "task": false
    }
   },
   "outputs": [],
   "source": [
    "# Faca aqui sua função do Exercício 1.9\n",
    "def inverter(lista):\n",
    "    \"\"\"retorne uma versão invertida da lista passada como argumento\n",
    "    \"\"\"\n",
    "    # YOUR CODE HERE\n",
    "    raise NotImplementedError()"
   ]
  },
  {
   "cell_type": "code",
   "execution_count": null,
   "metadata": {
    "id": "HBJejP9XhJrg"
   },
   "outputs": [],
   "source": [
    "# Faca aqui a validacao do Exercicio 1.9\n",
    "v1 =  inverter([120, 115, 12, 32, 56]) == [56, 32, 12, 115, 120]\n",
    "current_question_output = v1\n",
    "v1 = current_question_output\n",
    "validate(current_question_output, \"2.9\", True)"
   ]
  },
  {
   "cell_type": "markdown",
   "metadata": {
    "id": "v_blOUNchJrg"
   },
   "source": [
    "### 1.10 Escreva uma função python para substituir vírgula por ponto numa string e depois converta os números para float. Retorne a lista de números.\n",
    "#### Dica: use a função replace: ```texto.replace(\",\" , \".\")``` Este código substitui as virgulas por pontos e retorna uma string com o resultado.\n",
    "#### Exemplo:  \"0,20 0,40 0,56 0,99\"\n",
    "#### Resultado esperado: [0.2, 0.4, 0.56, 0.99]"
   ]
  },
  {
   "cell_type": "code",
   "execution_count": null,
   "metadata": {
    "id": "k6oQ6AgbhJrh"
   },
   "outputs": [],
   "source": [
    "# Faca aqui seus testes do Exercício 1.10\n",
    "\n"
   ]
  },
  {
   "cell_type": "code",
   "execution_count": null,
   "metadata": {
    "deletable": false,
    "id": "HGGnJZDZhJrh",
    "nbgrader": {
     "cell_type": "code",
     "checksum": "9ed88646f207e95b55a9d4e6be026ab1",
     "grade": false,
     "grade_id": "cell-e0a4e5deea9187c4",
     "locked": false,
     "schema_version": 3,
     "solution": true,
     "task": false
    }
   },
   "outputs": [],
   "source": [
    "# Faca aqui sua função do Exercício 1.10\n",
    "def convert_to_float(texto):\n",
    "    \"\"\"retorne uma lista de numeros do tipo float\n",
    "    \"\"\"\n",
    "    # YOUR CODE HERE\n",
    "    raise NotImplementedError()"
   ]
  },
  {
   "cell_type": "code",
   "execution_count": null,
   "metadata": {
    "deletable": false,
    "editable": false,
    "id": "sh_svOuhhJrh",
    "nbgrader": {
     "cell_type": "code",
     "checksum": "4c538636d394f7ed982bbdbd9d5636cb",
     "grade": true,
     "grade_id": "cell-30d325468b6f6a67",
     "locked": true,
     "points": 1,
     "schema_version": 3,
     "solution": false,
     "task": false
    }
   },
   "outputs": [],
   "source": [
    "# Faca aqui a validacao do Exercicio 1.10\n",
    "text = \"0,20 0,40 0,56 0,99\"\n",
    "v1 = convert_to_float(text) == [0.2, 0.4, 0.56, 0.99]\n",
    "current_question_output = v1\n",
    "assert current_question_output\n",
    "validate(current_question_output, \"2.10\", True)"
   ]
  },
  {
   "cell_type": "markdown",
   "metadata": {
    "id": "UHO1Xg1phJrh"
   },
   "source": [
    "### 1.11 Escreva uma função em python para imprimir o padrão a seguir. A função deve aceitar como argumento o tamanho da maior string de asteriscos.\n",
    "#### Dica: Qual o resultado de se multiplicar uma string por um número em python?\n",
    "\n",
    "``` \n",
    " * \n",
    " * * \n",
    " * * * \n",
    " * * * * \n",
    " * * * * * \n",
    " * * * * \n",
    " * * * \n",
    " * * \n",
    " *\n",
    "```"
   ]
  },
  {
   "cell_type": "code",
   "execution_count": null,
   "metadata": {
    "deletable": false,
    "id": "Vqsyju3whJrh",
    "nbgrader": {
     "cell_type": "code",
     "checksum": "becca7e9e93afae3b39ce3fea2fb464f",
     "grade": false,
     "grade_id": "cell-cd8f3abd73a5fcc4",
     "locked": false,
     "schema_version": 3,
     "solution": true,
     "task": false
    }
   },
   "outputs": [],
   "source": [
    "# Faca aqui seus testes do Exercício 1.11\n",
    "\n",
    "### Este exercício não tem assert\n",
    "## Faça aqui\n",
    "\n",
    "# YOUR CODE HERE\n",
    "raise NotImplementedError()"
   ]
  },
  {
   "cell_type": "markdown",
   "metadata": {
    "id": "LJ11gYeYhJri"
   },
   "source": [
    "### 1.12 Escreva uma função que receba como entrada uma string conforme apresentada a seguir e retorne uma lista contendo a população dos 3 Estados brasileiros mais populosos.\n",
    "\n",
    "```\"\"\"Acre=881935; Alagoas=3337357; Amapá=845731; Amazonas=4144597; Ceará=9132078;\n",
    " Distrito Federal=3015268; Espírito Santo=4018650; Goiás=7018354; Maranhão=7075181;\n",
    " Mato Grosso=3484466; Mato Grosso do Sul=2778986; Minas Gerais=21168791;\n",
    " Paraíba=4018127; Paraná=11433957; Pernambuco=9557071; Piauí=3273227; Rio de Janeiro=17264943;\n",
    " Rio Grande do Norte=3506853; Rio Grande do Sul=11377239; Rondônia=1777225;\n",
    " Roraima=605761; Santa Catarina=7164788; São Paulo=45919049; Sergipe=2298696;\n",
    " Tocantins=1572866; Bahia=14873064; Pará=8602865\"\"\"```\n",
    "\n",
    "#### Dica 1: Nesta string, a informação de cada Estado está separada por um ;\n",
    "#### Dica 3: A função split quebra uma string numa lista baseado no caracter de separação especificado. \n",
    "####     Exemplo: ```'1,2,3'.split(',')``` retorna a lista ```['1','2','3']```\n",
    "#### Dica 4: a função built-in ```.sort``` de uma lista ordena a referida lista ordenada "
   ]
  },
  {
   "cell_type": "code",
   "execution_count": null,
   "metadata": {
    "id": "OFRjJ0kqhJri"
   },
   "outputs": [],
   "source": [
    "# Faca aqui seus testes do Exercício 1.12\n",
    "\n",
    "lista_estados=\"\"\"Acre=881935; Alagoas=3337357; Amapá=845731; Amazonas=4144597; Ceará=9132078;\\\n",
    " Distrito Federal=3015268; Espírito Santo=4018650; Goiás=7018354; Maranhão=7075181;\\\n",
    " Mato Grosso=3484466; Mato Grosso do Sul=2778986; Minas Gerais=21168791;\\\n",
    " Paraíba=4018127; Paraná=11433957; Pernambuco=9557071; Piauí=3273227; Rio de Janeiro=17264943;\\\n",
    " Rio Grande do Norte=3506853; Rio Grande do Sul=11377239; Rondônia=1777225;\\\n",
    " Roraima=605761; Santa Catarina=7164788; São Paulo=45919049; Sergipe=2298696;\\\n",
    " Tocantins=1572866; Bahia=14873064; Pará=8602865\"\"\"\n"
   ]
  },
  {
   "cell_type": "code",
   "execution_count": null,
   "metadata": {
    "deletable": false,
    "id": "e761-A0dhJri",
    "nbgrader": {
     "cell_type": "code",
     "checksum": "1055493098c3f1cd3ed10cf2026c0826",
     "grade": false,
     "grade_id": "cell-9e2eb40f94d9f5e4",
     "locked": false,
     "schema_version": 3,
     "solution": true,
     "task": false
    }
   },
   "outputs": [],
   "source": [
    "# Faca aqui sua função do Exercício 1.12\n",
    "def top3_estados(lista_texto):\n",
    "    \"\"\"retorne os 3 estados de maior população. O parâmetro de entrada deve ser uma string\n",
    "         conforme apresentado na descrição do exercício.\n",
    "    \"\"\"\n",
    "    # YOUR CODE HERE\n",
    "    raise NotImplementedError()"
   ]
  },
  {
   "cell_type": "code",
   "execution_count": null,
   "metadata": {
    "id": "eR1-BIJ_hJri"
   },
   "outputs": [],
   "source": [
    "# Faca aqui a validacao do Exercicio 1.12\n",
    "lista_estados=\"\"\"Acre=881935; Alagoas=3337357; Amapá=845731; Amazonas=4144597; Ceará=9132078;\\\n",
    " Distrito Federal=3015268; Espírito Santo=4018650; Goiás=7018354; Maranhão=7075181;\\\n",
    " Mato Grosso=3484466; Mato Grosso do Sul=2778986; Minas Gerais=21168791;\\\n",
    " Paraíba=4018127; Paraná=11433957; Pernambuco=9557071; Piauí=3273227; Rio de Janeiro=17264943;\\\n",
    " Rio Grande do Norte=3506853; Rio Grande do Sul=11377239; Rondônia=1777225;\\\n",
    " Roraima=605761; Santa Catarina=7164788; São Paulo=45919049; Sergipe=2298696;\\\n",
    " Tocantins=1572866; Bahia=14873064; Pará=8602865\"\"\"\n",
    "\n",
    "v1 = set(top3_estados(lista_estados)) == {45919049, 21168791, 17264943}\n",
    "current_question_output = v1\n",
    "assert current_question_output\n",
    "validate(current_question_output, \"2.12\", True)"
   ]
  },
  {
   "cell_type": "markdown",
   "metadata": {
    "id": "gqpnyyvOhJri"
   },
   "source": [
    "### 1.13 Escreva uma função Python que aceite como entrada uma string de palavras separadas por vírgula e retorne uma string com as palavras em ordem alfabética e separadas por vírgula. \n",
    "#### Exemplo:  Para t=\"hoje,nota,teste,bolsa\"\n",
    "#### Resultado Esperado: \"bolsa,hoje,nota,teste\"\n",
    "#### Dica: use as funções built-in ```.split``` e ```.join``` presente nas strings\n"
   ]
  },
  {
   "cell_type": "code",
   "execution_count": null,
   "metadata": {
    "id": "HN5R3l09hJrj"
   },
   "outputs": [],
   "source": [
    "# Faca aqui seus testes do Exercício 1.13\n",
    "\n"
   ]
  },
  {
   "cell_type": "code",
   "execution_count": null,
   "metadata": {
    "deletable": false,
    "id": "G5as5VRthJrj",
    "nbgrader": {
     "cell_type": "code",
     "checksum": "30e9c98f95c1e59e848503e455787417",
     "grade": false,
     "grade_id": "cell-3201ecbb117ca859",
     "locked": false,
     "schema_version": 3,
     "solution": true,
     "task": false
    }
   },
   "outputs": [],
   "source": [
    "# Faca aqui sua função do Exercício 1.13\n",
    "def sort_words(words):\n",
    "    \"\"\"retorne uma string ordenada de palavras separadas por vírgula\n",
    "    \"\"\"\n",
    "    # YOUR CODE HERE\n",
    "    raise NotImplementedError()"
   ]
  },
  {
   "cell_type": "code",
   "execution_count": null,
   "metadata": {
    "id": "9o63WvEDhJrj"
   },
   "outputs": [],
   "source": [
    "# Faca aqui a validacao do Exercicio 1.13\n",
    "v1 = sort_words(\"hoje,nota,teste,bolsa\") == \"bolsa,hoje,nota,teste\"\n",
    "current_question_output = v1\n",
    "assert current_question_output\n",
    "validate(current_question_output, \"2.13\", True)"
   ]
  }
 ],
 "metadata": {
  "colab": {
   "name": "Aula1_Exercicio_Solucoes.ipynb",
   "provenance": []
  },
  "kernelspec": {
   "display_name": "Python 3",
   "language": "python",
   "name": "python3"
  },
  "language_info": {
   "codemirror_mode": {
    "name": "ipython",
    "version": 3
   },
   "file_extension": ".py",
   "mimetype": "text/x-python",
   "name": "python",
   "nbconvert_exporter": "python",
   "pygments_lexer": "ipython3",
   "version": "3.8.3"
  },
  "name": "_merged",
  "varInspector": {
   "cols": {
    "lenName": 16,
    "lenType": 16,
    "lenVar": 40
   },
   "kernels_config": {
    "python": {
     "delete_cmd_postfix": "",
     "delete_cmd_prefix": "del ",
     "library": "var_list.py",
     "varRefreshCmd": "print(var_dic_list())"
    },
    "r": {
     "delete_cmd_postfix": ") ",
     "delete_cmd_prefix": "rm(",
     "library": "var_list.r",
     "varRefreshCmd": "cat(var_dic_list()) "
    }
   },
   "types_to_exclude": [
    "module",
    "function",
    "builtin_function_or_method",
    "instance",
    "_Feature"
   ],
   "window_display": false
  }
 },
 "nbformat": 4,
 "nbformat_minor": 0
}
